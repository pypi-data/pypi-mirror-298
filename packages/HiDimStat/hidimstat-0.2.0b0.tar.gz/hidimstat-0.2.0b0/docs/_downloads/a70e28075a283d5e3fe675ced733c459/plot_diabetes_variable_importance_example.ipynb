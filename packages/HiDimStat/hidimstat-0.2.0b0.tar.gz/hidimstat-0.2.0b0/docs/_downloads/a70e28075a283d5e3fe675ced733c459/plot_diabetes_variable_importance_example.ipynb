{
  "cells": [
    {
      "cell_type": "markdown",
      "metadata": {},
      "source": [
        "\n# Variable Importance on diabetes dataset\n\nVariable Importance estimates the influence of a given input variable to the\nprediction made by a model. To assess variable importance in a prediction\nproblem, :footcite:t:`breimanRandomForests2001` introduced the permutation\napproach where the values are shuffled for one variable/column at a time. This\npermutation breaks the relationship between the variable of interest and the\noutcome. Following, the loss score is checked before and after this\nsubstitution for any significant drop in the performance which reflects the\nsignificance of this variable to predict the outcome. This ease-to-use solution\nis demonstrated, in the work by\n:footcite:t:`stroblConditionalVariableImportance2008`, to be affected by the\ndegree of correlation between the variables, thus biased towards truly\nnon-significant variables highly correlated with the significant ones and\ncreating fake significant variables. They introduced a solution for the Random\nForest estimator based on conditional sampling by performing sub-groups\npermutation when bisecting the space using the conditioning variables of the\nbuiding process. However, this solution is exclusive to the Random Forest and is\ncostly with high-dimensional settings.\n:footcite:t:`Chamma_NeurIPS2023` introduced a new model-agnostic solution to\nbypass the limitations of the permutation approach under the use of the\nconditional schemes. The variable of interest does contain two types of\ninformation: 1) the relationship with the remaining variables and 2) the\nrelationship with the outcome. The standard permutation, while breaking the\nrelationship with the outcome, is also destroying the dependency with the\nremaining variables. Therefore, instead of directly permuting the variable of\ninterest, the variable of interest is predicted by the remaining\nvariables and the residuals of this prediction are permuted before\nreconstructing the new version of the variable. This solution preserves the\ndependency with the remaining variables.\n\nIn this example, we compare both the standard permutation and its conditional\nvariant approaches for variable importance on the diabetes dataset for the\nsingle-level case. The aim is to see if integrating the new\nstatistically-controlled solution has an impact on the results.\n\n## References\n.. footbibliography::\n"
      ]
    },
    {
      "cell_type": "markdown",
      "metadata": {},
      "source": [
        "## Imports needed for this script\n\n"
      ]
    },
    {
      "cell_type": "code",
      "execution_count": null,
      "metadata": {
        "collapsed": false
      },
      "outputs": [],
      "source": [
        "import matplotlib.pyplot as plt\nimport numpy as np\nfrom sklearn.datasets import load_diabetes\n\nfrom hidimstat.bbi import BlockBasedImportance\nfrom hidimstat import compute_loco\n\nplt.rcParams.update({\"font.size\": 14})\n\n# Fixing the random seed\nrng = np.random.RandomState(2024)\n\ndiabetes = load_diabetes()\nX, y = diabetes.data, diabetes.target\n\n# Use or not a cross-validation with the provided learner\nk_fold = 2\n# Identifying the categorical (nominal, binary & ordinal) variables\nvariables_categories = {}"
      ]
    },
    {
      "cell_type": "markdown",
      "metadata": {},
      "source": [
        "## Standard Variable Importance\nTo apply the standard permutation, we use the implementation introduced by (Mi\net al., Nature, 2021) where the significance is measured by the mean of\n-log10(p_value). For this example, the inference estimator is set to the\nRandom Forest learner.\n\n\n"
      ]
    },
    {
      "cell_type": "code",
      "execution_count": null,
      "metadata": {
        "collapsed": false
      },
      "outputs": [],
      "source": [
        "bbi_permutation = BlockBasedImportance(\n    estimator=\"RF\",\n    importance_estimator=\"residuals_RF\",\n    do_hypertuning=True,\n    dict_hypertuning=None,\n    conditional=False,\n    group_stacking=False,\n    problem_type=\"regression\",\n    k_fold=k_fold,\n    variables_categories=variables_categories,\n    n_jobs=2,\n    verbose=0,\n    n_permutations=100,\n)\nbbi_permutation.fit(X, y)\nprint(\"Computing the importance scores with standard permutation\")\nresults_permutation = bbi_permutation.compute_importance()\npvals_permutation = -np.log10(results_permutation[\"pval\"] + 1e-10)"
      ]
    },
    {
      "cell_type": "markdown",
      "metadata": {},
      "source": [
        "## Conditional Variable Importance\nFor the conditional permutation importance based on the two blocks (inference\n+ importance), the estimators are set to the Random Forest learner. The\nsignificance is measured by the mean of -log10(p_value).\n\n\n"
      ]
    },
    {
      "cell_type": "code",
      "execution_count": null,
      "metadata": {
        "collapsed": false
      },
      "outputs": [],
      "source": [
        "bbi_conditional = BlockBasedImportance(\n    estimator=\"RF\",\n    importance_estimator=\"residuals_RF\",\n    do_hypertuning=True,\n    dict_hypertuning=None,\n    conditional=True,\n    group_stacking=False,\n    problem_type=\"regression\",\n    k_fold=k_fold,\n    variables_categories=variables_categories,\n    n_jobs=2,\n    verbose=0,\n    n_permutations=100,\n)\nbbi_conditional.fit(X, y)\nprint(\"Computing the importance scores with conditional permutation\")\nresults_conditional = bbi_conditional.compute_importance()\npvals_conditional = -np.log10(results_conditional[\"pval\"] + 1e-5)"
      ]
    },
    {
      "cell_type": "markdown",
      "metadata": {},
      "source": [
        "## Leave-One-Covariate-Out (LOCO)\nWe compare the previous permutation-based approaches with a removal-based\napproach LOCO (Williamson et al., Journal of the American Statistical\nAssociation, 2021) where the variable of interest is removed and the inference\nestimator is retrained using the new features to compare the loss for any drop in the\nperformance.\n\n\n"
      ]
    },
    {
      "cell_type": "code",
      "execution_count": null,
      "metadata": {
        "collapsed": false
      },
      "outputs": [],
      "source": [
        "results_loco = compute_loco(X, y, use_dnn=False)\npvals_loco = -np.log10(results_loco[\"p_value\"] + 1e-5)"
      ]
    },
    {
      "cell_type": "markdown",
      "metadata": {},
      "source": [
        "## Plotting the comparison\n\n"
      ]
    },
    {
      "cell_type": "code",
      "execution_count": null,
      "metadata": {
        "collapsed": false
      },
      "outputs": [],
      "source": [
        "list_res = {\"Permutation\": [], \"Conditional\": [], \"LOCO\": []}\nfor index, _ in enumerate(diabetes.feature_names):\n    list_res[\"Permutation\"].append(pvals_permutation[index][0])\n    list_res[\"Conditional\"].append(pvals_conditional[index][0])\n    list_res[\"LOCO\"].append(pvals_loco[index])\n\nx = np.arange(len(diabetes.feature_names))\nwidth = 0.25  # the width of the bars\nmultiplier = 0\nfig, ax = plt.subplots(figsize=(10, 10), layout=\"constrained\")\n\nfor attribute, measurement in list_res.items():\n    offset = width * multiplier\n    rects = ax.bar(x + offset, measurement, width, label=attribute)\n    multiplier += 1\n\nax.set_ylabel(r\"$-log_{10}p_{val}$\")\nax.set_xticks(x + width / 2, diabetes.feature_names)\nax.legend(loc=\"upper left\", ncols=3)\nax.set_ylim(0, 3)\nax.axhline(y=-np.log10(0.05), color=\"r\", linestyle=\"-\")\nplt.show()"
      ]
    },
    {
      "cell_type": "markdown",
      "metadata": {},
      "source": [
        "## Analysis of the results\nWhile the standard permutation flags multiple variables to be significant for\nthis prediction, the conditional permutation (the controlled alternative)\nshows an agreement for \"bmi\", \"bp\" and \"s6\" but also highlights the importance\nof \"sex\" in this prediction, thus reducing the input space to four significant\nvariables. LOCO underlines the importance of one variable \"bp\" for this\nprediction problem.\n\n\n"
      ]
    }
  ],
  "metadata": {
    "kernelspec": {
      "display_name": "Python 3",
      "language": "python",
      "name": "python3"
    },
    "language_info": {
      "codemirror_mode": {
        "name": "ipython",
        "version": 3
      },
      "file_extension": ".py",
      "mimetype": "text/x-python",
      "name": "python",
      "nbconvert_exporter": "python",
      "pygments_lexer": "ipython3",
      "version": "3.12.6"
    }
  },
  "nbformat": 4,
  "nbformat_minor": 0
}
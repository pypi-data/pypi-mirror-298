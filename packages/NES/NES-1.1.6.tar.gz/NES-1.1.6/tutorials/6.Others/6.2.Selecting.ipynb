{
 "cells": [
  {
   "cell_type": "markdown",
   "metadata": {},
   "source": [
    "# Select function"
   ]
  },
  {
   "cell_type": "code",
   "execution_count": 1,
   "metadata": {},
   "outputs": [],
   "source": [
    "from nes import *"
   ]
  },
  {
   "cell_type": "code",
   "execution_count": 2,
   "metadata": {},
   "outputs": [],
   "source": [
    "# Original path: /esarchive/exp/monarch/a4dd/original_files/000/2022111512/MONARCH_d01_2022111512.nc\n",
    "# Rotated grid from MONARCH\n",
    "file_path = '/gpfs/projects/bsc32/models/NES_tutorial_data/MONARCH_d01_2022111512.nc'"
   ]
  },
  {
   "cell_type": "markdown",
   "metadata": {},
   "source": [
    "## 1. Select data by time"
   ]
  },
  {
   "cell_type": "code",
   "execution_count": 3,
   "metadata": {},
   "outputs": [
    {
     "name": "stdout",
     "output_type": "stream",
     "text": [
      "2022-11-15 12:00:00 37 2022-11-17 00:00:00\n",
      "CPU times: user 252 ms, sys: 1.42 s, total: 1.67 s\n",
      "Wall time: 7.32 s\n"
     ]
    }
   ],
   "source": [
    "nessy = open_netcdf(file_path)\n",
    "nessy.keep_vars('O3')\n",
    "\n",
    "print(nessy.time[0], len(nessy.time), nessy.time[-1])\n",
    "%time nessy.load()"
   ]
  },
  {
   "cell_type": "markdown",
   "metadata": {},
   "source": [
    "### Hours filter"
   ]
  },
  {
   "cell_type": "code",
   "execution_count": 4,
   "metadata": {},
   "outputs": [
    {
     "name": "stdout",
     "output_type": "stream",
     "text": [
      "2022-11-16 00:00:00 9 2022-11-16 08:00:00\n",
      "CPU times: user 66.3 ms, sys: 310 ms, total: 376 ms\n",
      "Wall time: 447 ms\n"
     ]
    }
   ],
   "source": [
    "nessy = open_netcdf(file_path)\n",
    "nessy.keep_vars('O3')\n",
    "\n",
    "nessy.sel(hours_start=12, hours_end=16)\n",
    "\n",
    "print(nessy.time[0], len(nessy.time), nessy.time[-1])\n",
    "%time nessy.load()"
   ]
  },
  {
   "cell_type": "markdown",
   "metadata": {},
   "source": [
    "### Time filter"
   ]
  },
  {
   "cell_type": "code",
   "execution_count": 5,
   "metadata": {},
   "outputs": [
    {
     "name": "stdout",
     "output_type": "stream",
     "text": [
      "2022-11-15 12:00:00 12 2022-11-15 23:00:00\n",
      "CPU times: user 82.7 ms, sys: 444 ms, total: 526 ms\n",
      "Wall time: 1.14 s\n"
     ]
    }
   ],
   "source": [
    "from datetime import datetime\n",
    "\n",
    "nessy = open_netcdf(file_path)\n",
    "nessy.keep_vars('O3')\n",
    "\n",
    "nessy.sel(time_min=datetime(year=2022, month=11, day=15, hour=0), \n",
    "          time_max=datetime(year=2022, month=11, day=15, hour=23))\n",
    "\n",
    "print(nessy.time[0], len(nessy.time), nessy.time[-1])\n",
    "%time nessy.load()"
   ]
  },
  {
   "cell_type": "markdown",
   "metadata": {},
   "source": [
    "## 2. Select data by level"
   ]
  },
  {
   "cell_type": "code",
   "execution_count": 6,
   "metadata": {},
   "outputs": [
    {
     "name": "stdout",
     "output_type": "stream",
     "text": [
      "1\n",
      "CPU times: user 14.6 ms, sys: 47.4 ms, total: 62 ms\n",
      "Wall time: 327 ms\n"
     ]
    }
   ],
   "source": [
    "nessy = open_netcdf(file_path)\n",
    "nessy.keep_vars('O3')\n",
    "\n",
    "nessy.sel(lev_min=23)\n",
    "\n",
    "print(len(nessy.lev['data']))\n",
    "%time nessy.load()"
   ]
  },
  {
   "cell_type": "markdown",
   "metadata": {},
   "source": [
    "## 3. Select data by coordinates"
   ]
  },
  {
   "cell_type": "code",
   "execution_count": 7,
   "metadata": {},
   "outputs": [
    {
     "name": "stdout",
     "output_type": "stream",
     "text": [
      "CPU times: user 1.66 ms, sys: 15.6 ms, total: 17.3 ms\n",
      "Wall time: 218 ms\n"
     ]
    }
   ],
   "source": [
    "nessy = open_netcdf(file_path)\n",
    "nessy.keep_vars('O3')\n",
    "\n",
    "nessy.sel(lat_min=30, lat_max=31, lon_min=-1, lon_max=1)\n",
    "%time nessy.load()"
   ]
  }
 ],
 "metadata": {
  "kernelspec": {
   "display_name": "Python 3",
   "language": "python",
   "name": "python3"
  },
  "language_info": {
   "codemirror_mode": {
    "name": "ipython",
    "version": 3
   },
   "file_extension": ".py",
   "mimetype": "text/x-python",
   "name": "python",
   "nbconvert_exporter": "python",
   "pygments_lexer": "ipython3",
   "version": "3.7.4"
  },
  "vscode": {
   "interpreter": {
    "hash": "31f2aee4e71d21fbe5cf8b01ff0e069b9275f58929596ceb00d14d90e3e16cd6"
   }
  }
 },
 "nbformat": 4,
 "nbformat_minor": 4
}

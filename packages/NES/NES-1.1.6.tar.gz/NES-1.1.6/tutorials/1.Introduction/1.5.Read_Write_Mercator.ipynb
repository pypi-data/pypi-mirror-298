{
 "cells": [
  {
   "cell_type": "markdown",
   "metadata": {},
   "source": [
    "# How to read and write Mercator grids"
   ]
  },
  {
   "cell_type": "code",
   "execution_count": 1,
   "metadata": {},
   "outputs": [],
   "source": [
    "from nes import *\n",
    "import matplotlib\n",
    "import matplotlib.pyplot as plt\n",
    "import geopandas as gpd"
   ]
  },
  {
   "cell_type": "code",
   "execution_count": 2,
   "metadata": {},
   "outputs": [],
   "source": [
    "%matplotlib inline"
   ]
  },
  {
   "cell_type": "markdown",
   "metadata": {},
   "source": [
    "## 1. Open dataset"
   ]
  },
  {
   "cell_type": "code",
   "execution_count": 3,
   "metadata": {},
   "outputs": [],
   "source": [
    "# Original path: None (generated with NES)\n",
    "# Mercator grid\n",
    "path = '/gpfs/projects/bsc32/models/NES_tutorial_data/mercator_grid.nc'"
   ]
  },
  {
   "cell_type": "code",
   "execution_count": 4,
   "metadata": {},
   "outputs": [
    {
     "data": {
      "text/plain": [
       "<nes.nc_projections.mercator_nes.MercatorNes at 0x7f79305784d0>"
      ]
     },
     "execution_count": 4,
     "metadata": {},
     "output_type": "execute_result"
    }
   ],
   "source": [
    "nessy = open_netcdf(path, info=True)\n",
    "nessy"
   ]
  },
  {
   "cell_type": "markdown",
   "metadata": {},
   "source": [
    "### Read projection"
   ]
  },
  {
   "cell_type": "code",
   "execution_count": 5,
   "metadata": {},
   "outputs": [
    {
     "data": {
      "text/plain": [
       "Proj('+proj=merc +lat_ts=-1.5 +lon_0=-18 +x_0=0 +y_0=0 +a=6378137 +b=6356752.3142 +units=m +no_defs', preserve_units=True)"
      ]
     },
     "execution_count": 5,
     "metadata": {},
     "output_type": "execute_result"
    }
   ],
   "source": [
    "nessy.projection"
   ]
  },
  {
   "cell_type": "code",
   "execution_count": 6,
   "metadata": {},
   "outputs": [
    {
     "data": {
      "text/plain": [
       "{'grid_mapping_name': 'mercator',\n",
       " 'standard_parallel': -1.5,\n",
       " 'longitude_of_projection_origin': -18.0}"
      ]
     },
     "execution_count": 6,
     "metadata": {},
     "output_type": "execute_result"
    }
   ],
   "source": [
    "nessy.projection_data"
   ]
  },
  {
   "cell_type": "markdown",
   "metadata": {},
   "source": [
    "### Read coordinates"
   ]
  },
  {
   "cell_type": "code",
   "execution_count": 7,
   "metadata": {},
   "outputs": [
    {
     "data": {
      "text/plain": [
       "[datetime.datetime(1996, 12, 31, 0, 0)]"
      ]
     },
     "execution_count": 7,
     "metadata": {},
     "output_type": "execute_result"
    }
   ],
   "source": [
    "nessy.time"
   ]
  },
  {
   "cell_type": "code",
   "execution_count": 8,
   "metadata": {},
   "outputs": [
    {
     "data": {
      "text/plain": [
       "{'data': masked_array(data=[0.],\n",
       "              mask=False,\n",
       "        fill_value=1e+20),\n",
       " 'dimensions': ('lev',),\n",
       " 'dtype': dtype('float64'),\n",
       " 'units': '1',\n",
       " 'positive': 'up'}"
      ]
     },
     "execution_count": 8,
     "metadata": {},
     "output_type": "execute_result"
    }
   ],
   "source": [
    "nessy.lev"
   ]
  },
  {
   "cell_type": "code",
   "execution_count": 9,
   "metadata": {},
   "outputs": [
    {
     "data": {
      "text/plain": [
       "{'data': masked_array(data=[-1.01017500e+05, -5.10175000e+04, -1.01750000e+03,\n",
       "                     4.89825000e+04,  9.89825000e+04,  1.48982500e+05,\n",
       "                     1.98982500e+05,  2.48982500e+05,  2.98982500e+05,\n",
       "                     3.48982500e+05,  3.98982500e+05,  4.48982500e+05,\n",
       "                     4.98982500e+05,  5.48982500e+05,  5.98982500e+05,\n",
       "                     6.48982500e+05,  6.98982500e+05,  7.48982500e+05,\n",
       "                     7.98982500e+05,  8.48982500e+05,  8.98982500e+05,\n",
       "                     9.48982500e+05,  9.98982500e+05,  1.04898250e+06,\n",
       "                     1.09898250e+06,  1.14898250e+06,  1.19898250e+06,\n",
       "                     1.24898250e+06,  1.29898250e+06,  1.34898250e+06,\n",
       "                     1.39898250e+06,  1.44898250e+06,  1.49898250e+06,\n",
       "                     1.54898250e+06,  1.59898250e+06,  1.64898250e+06,\n",
       "                     1.69898250e+06,  1.74898250e+06,  1.79898250e+06,\n",
       "                     1.84898250e+06,  1.89898250e+06,  1.94898250e+06,\n",
       "                     1.99898250e+06,  2.04898250e+06,  2.09898250e+06,\n",
       "                     2.14898250e+06,  2.19898250e+06,  2.24898250e+06,\n",
       "                     2.29898250e+06,  2.34898250e+06,  2.39898250e+06,\n",
       "                     2.44898250e+06,  2.49898250e+06,  2.54898250e+06,\n",
       "                     2.59898250e+06,  2.64898250e+06,  2.69898250e+06,\n",
       "                     2.74898250e+06,  2.79898250e+06,  2.84898250e+06,\n",
       "                     2.89898250e+06,  2.94898250e+06,  2.99898250e+06,\n",
       "                     3.04898250e+06,  3.09898250e+06,  3.14898250e+06,\n",
       "                     3.19898250e+06,  3.24898250e+06,  3.29898250e+06,\n",
       "                     3.34898250e+06,  3.39898250e+06,  3.44898250e+06,\n",
       "                     3.49898250e+06,  3.54898250e+06,  3.59898250e+06,\n",
       "                     3.64898250e+06,  3.69898250e+06,  3.74898250e+06,\n",
       "                     3.79898250e+06,  3.84898250e+06,  3.89898250e+06,\n",
       "                     3.94898250e+06,  3.99898250e+06,  4.04898250e+06,\n",
       "                     4.09898250e+06,  4.14898250e+06,  4.19898250e+06,\n",
       "                     4.24898250e+06,  4.29898250e+06,  4.34898250e+06,\n",
       "                     4.39898250e+06,  4.44898250e+06,  4.49898250e+06,\n",
       "                     4.54898250e+06,  4.59898250e+06,  4.64898250e+06,\n",
       "                     4.69898250e+06,  4.74898250e+06,  4.79898250e+06,\n",
       "                     4.84898250e+06,  4.89898250e+06,  4.94898250e+06,\n",
       "                     4.99898250e+06,  5.04898250e+06,  5.09898250e+06,\n",
       "                     5.14898250e+06,  5.19898250e+06,  5.24898250e+06,\n",
       "                     5.29898250e+06,  5.34898250e+06,  5.39898250e+06,\n",
       "                     5.44898250e+06,  5.49898250e+06,  5.54898250e+06,\n",
       "                     5.59898250e+06,  5.64898250e+06,  5.69898250e+06,\n",
       "                     5.74898250e+06,  5.79898250e+06,  5.84898250e+06,\n",
       "                     5.89898250e+06,  5.94898250e+06,  5.99898250e+06,\n",
       "                     6.04898250e+06,  6.09898250e+06,  6.14898250e+06,\n",
       "                     6.19898250e+06,  6.24898250e+06,  6.29898250e+06,\n",
       "                     6.34898250e+06,  6.39898250e+06,  6.44898250e+06,\n",
       "                     6.49898250e+06,  6.54898250e+06,  6.59898250e+06,\n",
       "                     6.64898250e+06,  6.69898250e+06,  6.74898250e+06,\n",
       "                     6.79898250e+06,  6.84898250e+06,  6.89898250e+06,\n",
       "                     6.94898250e+06,  6.99898250e+06,  7.04898250e+06,\n",
       "                     7.09898250e+06,  7.14898250e+06,  7.19898250e+06,\n",
       "                     7.24898250e+06,  7.29898250e+06,  7.34898250e+06,\n",
       "                     7.39898250e+06,  7.44898250e+06,  7.49898250e+06,\n",
       "                     7.54898250e+06,  7.59898250e+06,  7.64898250e+06,\n",
       "                     7.69898250e+06,  7.74898250e+06,  7.79898250e+06,\n",
       "                     7.84898250e+06,  7.89898250e+06,  7.94898250e+06,\n",
       "                     7.99898250e+06,  8.04898250e+06,  8.09898250e+06,\n",
       "                     8.14898250e+06,  8.19898250e+06,  8.24898250e+06,\n",
       "                     8.29898250e+06,  8.34898250e+06,  8.39898250e+06,\n",
       "                     8.44898250e+06,  8.49898250e+06,  8.54898250e+06,\n",
       "                     8.59898250e+06,  8.64898250e+06,  8.69898250e+06,\n",
       "                     8.74898250e+06,  8.79898250e+06,  8.84898250e+06,\n",
       "                     8.89898250e+06,  8.94898250e+06,  8.99898250e+06,\n",
       "                     9.04898250e+06,  9.09898250e+06,  9.14898250e+06,\n",
       "                     9.19898250e+06,  9.24898250e+06,  9.29898250e+06,\n",
       "                     9.34898250e+06,  9.39898250e+06,  9.44898250e+06,\n",
       "                     9.49898250e+06,  9.54898250e+06,  9.59898250e+06,\n",
       "                     9.64898250e+06,  9.69898250e+06,  9.74898250e+06,\n",
       "                     9.79898250e+06,  9.84898250e+06,  9.89898250e+06,\n",
       "                     9.94898250e+06,  9.99898250e+06,  1.00489825e+07,\n",
       "                     1.00989825e+07,  1.01489825e+07,  1.01989825e+07,\n",
       "                     1.02489825e+07,  1.02989825e+07,  1.03489825e+07],\n",
       "              mask=False,\n",
       "        fill_value=1e+20),\n",
       " 'dimensions': ('x',),\n",
       " 'dtype': dtype('float64'),\n",
       " 'long_name': 'x coordinate of projection',\n",
       " 'units': 'm',\n",
       " 'standard_name': 'projection_x_coordinate'}"
      ]
     },
     "execution_count": 9,
     "metadata": {},
     "output_type": "execute_result"
    }
   ],
   "source": [
    "nessy.x"
   ]
  },
  {
   "cell_type": "code",
   "execution_count": 10,
   "metadata": {},
   "outputs": [
    {
     "data": {
      "text/plain": [
       "{'data': masked_array(data=[-5382460., -5332460., -5282460., -5232460., -5182460.,\n",
       "                    -5132460., -5082460., -5032460., -4982460., -4932460.,\n",
       "                    -4882460., -4832460., -4782460., -4732460., -4682460.,\n",
       "                    -4632460., -4582460., -4532460., -4482460., -4432460.,\n",
       "                    -4382460., -4332460., -4282460., -4232460., -4182460.,\n",
       "                    -4132460., -4082460., -4032460., -3982460., -3932460.,\n",
       "                    -3882460., -3832460., -3782460., -3732460., -3682460.,\n",
       "                    -3632460., -3582460., -3532460., -3482460., -3432460.,\n",
       "                    -3382460., -3332460., -3282460., -3232460., -3182460.,\n",
       "                    -3132460., -3082460., -3032460., -2982460., -2932460.,\n",
       "                    -2882460., -2832460., -2782460., -2732460., -2682460.,\n",
       "                    -2632460., -2582460., -2532460., -2482460., -2432460.,\n",
       "                    -2382460., -2332460., -2282460., -2232460., -2182460.,\n",
       "                    -2132460., -2082460., -2032460., -1982460., -1932460.,\n",
       "                    -1882460., -1832460., -1782460., -1732460., -1682460.,\n",
       "                    -1632460., -1582460., -1532460., -1482460., -1432460.,\n",
       "                    -1382460., -1332460., -1282460., -1232460., -1182460.,\n",
       "                    -1132460., -1082460., -1032460.,  -982460.,  -932460.,\n",
       "                     -882460.,  -832460.,  -782460.,  -732460.,  -682460.,\n",
       "                     -632460.,  -582460.,  -532460.,  -482460.,  -432460.,\n",
       "                     -382460.,  -332460.,  -282460.,  -232460.,  -182460.,\n",
       "                     -132460.,   -82460.,   -32460.,    17540.,    67540.,\n",
       "                      117540.,   167540.,   217540.,   267540.,   317540.,\n",
       "                      367540.,   417540.,   467540.,   517540.,   567540.,\n",
       "                      617540.,   667540.,   717540.,   767540.,   817540.,\n",
       "                      867540.,   917540.,   967540.,  1017540.,  1067540.,\n",
       "                     1117540.,  1167540.,  1217540.,  1267540.,  1317540.,\n",
       "                     1367540.,  1417540.,  1467540.,  1517540.,  1567540.,\n",
       "                     1617540.,  1667540.,  1717540.,  1767540.,  1817540.,\n",
       "                     1867540.,  1917540.,  1967540.,  2017540.,  2067540.,\n",
       "                     2117540.,  2167540.,  2217540.,  2267540.,  2317540.,\n",
       "                     2367540.,  2417540.,  2467540.,  2517540.,  2567540.,\n",
       "                     2617540.,  2667540.,  2717540.,  2767540.,  2817540.,\n",
       "                     2867540.,  2917540.,  2967540.,  3017540.,  3067540.,\n",
       "                     3117540.,  3167540.,  3217540.,  3267540.,  3317540.,\n",
       "                     3367540.,  3417540.,  3467540.,  3517540.,  3567540.,\n",
       "                     3617540.,  3667540.,  3717540.,  3767540.,  3817540.,\n",
       "                     3867540.,  3917540.,  3967540.,  4017540.,  4067540.,\n",
       "                     4117540.,  4167540.,  4217540.,  4267540.,  4317540.,\n",
       "                     4367540.,  4417540.,  4467540.,  4517540.,  4567540.,\n",
       "                     4617540.,  4667540.,  4717540.,  4767540.,  4817540.,\n",
       "                     4867540.,  4917540.,  4967540.,  5017540.,  5067540.,\n",
       "                     5117540.,  5167540.,  5217540.,  5267540.,  5317540.,\n",
       "                     5367540.,  5417540.,  5467540.,  5517540.,  5567540.,\n",
       "                     5617540.,  5667540.,  5717540.,  5767540.,  5817540.,\n",
       "                     5867540.,  5917540.,  5967540.,  6017540.,  6067540.,\n",
       "                     6117540.,  6167540.,  6217540.,  6267540.,  6317540.,\n",
       "                     6367540.],\n",
       "              mask=False,\n",
       "        fill_value=1e+20),\n",
       " 'dimensions': ('y',),\n",
       " 'dtype': dtype('float64'),\n",
       " 'long_name': 'y coordinate of projection',\n",
       " 'units': 'm',\n",
       " 'standard_name': 'projection_y_coordinate'}"
      ]
     },
     "execution_count": 10,
     "metadata": {},
     "output_type": "execute_result"
    }
   ],
   "source": [
    "nessy.y"
   ]
  },
  {
   "cell_type": "markdown",
   "metadata": {},
   "source": [
    "Variables are built with `x`, `y`, `lev` and `time`as main dimensions, but the coordinates `lat` and `lon` remain accessible"
   ]
  },
  {
   "cell_type": "code",
   "execution_count": 11,
   "metadata": {},
   "outputs": [
    {
     "data": {
      "text/plain": [
       "{'data': masked_array(\n",
       "   data=[[-43.6653826 , -43.6653826 , -43.6653826 , ..., -43.6653826 ,\n",
       "          -43.6653826 , -43.6653826 ],\n",
       "         [-43.33831983, -43.33831983, -43.33831983, ..., -43.33831983,\n",
       "          -43.33831983, -43.33831983],\n",
       "         [-43.00947316, -43.00947316, -43.00947316, ..., -43.00947316,\n",
       "          -43.00947316, -43.00947316],\n",
       "         ...,\n",
       "         [ 49.15978847,  49.15978847,  49.15978847, ...,  49.15978847,\n",
       "           49.15978847,  49.15978847],\n",
       "         [ 49.45358158,  49.45358158,  49.45358158, ...,  49.45358158,\n",
       "           49.45358158,  49.45358158],\n",
       "         [ 49.74561434,  49.74561434,  49.74561434, ...,  49.74561434,\n",
       "           49.74561434,  49.74561434]],\n",
       "   mask=False,\n",
       "   fill_value=1e+20),\n",
       " 'dimensions': ('y', 'x'),\n",
       " 'dtype': dtype('float64'),\n",
       " 'units': 'degrees_north',\n",
       " 'axis': 'Y',\n",
       " 'long_name': 'latitude coordinate',\n",
       " 'standard_name': 'latitude'}"
      ]
     },
     "execution_count": 11,
     "metadata": {},
     "output_type": "execute_result"
    }
   ],
   "source": [
    "nessy.lat"
   ]
  },
  {
   "cell_type": "code",
   "execution_count": 12,
   "metadata": {},
   "outputs": [
    {
     "data": {
      "text/plain": [
       "{'data': masked_array(\n",
       "   data=[[-18.90776463, -18.45845405, -18.00914347, ...,  74.0995253 ,\n",
       "           74.54883588,  74.99814646],\n",
       "         [-18.90776463, -18.45845405, -18.00914347, ...,  74.0995253 ,\n",
       "           74.54883588,  74.99814646],\n",
       "         [-18.90776463, -18.45845405, -18.00914347, ...,  74.0995253 ,\n",
       "           74.54883588,  74.99814646],\n",
       "         ...,\n",
       "         [-18.90776463, -18.45845405, -18.00914347, ...,  74.0995253 ,\n",
       "           74.54883588,  74.99814646],\n",
       "         [-18.90776463, -18.45845405, -18.00914347, ...,  74.0995253 ,\n",
       "           74.54883588,  74.99814646],\n",
       "         [-18.90776463, -18.45845405, -18.00914347, ...,  74.0995253 ,\n",
       "           74.54883588,  74.99814646]],\n",
       "   mask=False,\n",
       "   fill_value=1e+20),\n",
       " 'dimensions': ('y', 'x'),\n",
       " 'dtype': dtype('float64'),\n",
       " 'units': 'degrees_east',\n",
       " 'axis': 'X',\n",
       " 'long_name': 'longitude coordinate',\n",
       " 'standard_name': 'longitude'}"
      ]
     },
     "execution_count": 12,
     "metadata": {},
     "output_type": "execute_result"
    }
   ],
   "source": [
    "nessy.lon"
   ]
  },
  {
   "cell_type": "markdown",
   "metadata": {},
   "source": [
    "### Read variables"
   ]
  },
  {
   "cell_type": "markdown",
   "metadata": {},
   "source": [
    "This dataset has no variables data"
   ]
  },
  {
   "cell_type": "code",
   "execution_count": 13,
   "metadata": {},
   "outputs": [
    {
     "data": {
      "text/plain": [
       "{}"
      ]
     },
     "execution_count": 13,
     "metadata": {},
     "output_type": "execute_result"
    }
   ],
   "source": [
    "nessy.variables"
   ]
  },
  {
   "cell_type": "markdown",
   "metadata": {},
   "source": [
    "## 2. Write dataset"
   ]
  },
  {
   "cell_type": "markdown",
   "metadata": {},
   "source": [
    "### Write NetCDF"
   ]
  },
  {
   "cell_type": "code",
   "execution_count": 14,
   "metadata": {},
   "outputs": [
    {
     "name": "stdout",
     "output_type": "stream",
     "text": [
      "Rank 000: Creating mercator_grid.nc\n",
      "Rank 000: NetCDF ready to write\n",
      "Rank 000: Dimensions done\n"
     ]
    }
   ],
   "source": [
    "nessy.to_netcdf('mercator_grid.nc', info=True)"
   ]
  },
  {
   "cell_type": "markdown",
   "metadata": {},
   "source": [
    "### Write shapefile"
   ]
  },
  {
   "cell_type": "code",
   "execution_count": 15,
   "metadata": {},
   "outputs": [
    {
     "name": "stderr",
     "output_type": "stream",
     "text": [
      "/esarchive/scratch/avilanova/software/NES/nes/nc_projections/default_nes.py:3058: UserWarning: No vertical level has been specified. The first one will be selected.\n",
      "  warnings.warn(msg)\n",
      "/esarchive/scratch/avilanova/software/NES/nes/nc_projections/default_nes.py:3069: UserWarning: No time has been specified. The first one will be selected.\n",
      "  warnings.warn(msg)\n"
     ]
    }
   ],
   "source": [
    "nessy.to_shapefile('mercator_grid_shp')"
   ]
  }
 ],
 "metadata": {
  "kernelspec": {
   "display_name": "Python 3",
   "language": "python",
   "name": "python3"
  },
  "language_info": {
   "codemirror_mode": {
    "name": "ipython",
    "version": 3
   },
   "file_extension": ".py",
   "mimetype": "text/x-python",
   "name": "python",
   "nbconvert_exporter": "python",
   "pygments_lexer": "ipython3",
   "version": "3.7.4"
  }
 },
 "nbformat": 4,
 "nbformat_minor": 4
}

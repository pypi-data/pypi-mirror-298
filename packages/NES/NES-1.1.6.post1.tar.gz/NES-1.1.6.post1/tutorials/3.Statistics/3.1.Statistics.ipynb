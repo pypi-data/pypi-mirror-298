{
 "cells": [
  {
   "cell_type": "markdown",
   "metadata": {},
   "source": [
    "# Calculate statistics"
   ]
  },
  {
   "cell_type": "code",
   "execution_count": 1,
   "metadata": {},
   "outputs": [],
   "source": [
    "from nes import *\n",
    "from datetime import datetime, timedelta\n",
    "import numpy as np\n",
    "import xarray as xr"
   ]
  },
  {
   "cell_type": "markdown",
   "metadata": {},
   "source": [
    "## 1. Read dataset"
   ]
  },
  {
   "cell_type": "code",
   "execution_count": 2,
   "metadata": {},
   "outputs": [
    {
     "name": "stdout",
     "output_type": "stream",
     "text": [
      "CPU times: user 587 ms, sys: 65.8 ms, total: 653 ms\n",
      "Wall time: 5.16 s\n"
     ]
    }
   ],
   "source": [
    "# Original path: /esarchive/exp/monarch/a4dd/original_files/000/2022111512/MONARCH_d01_2022111512.nc\n",
    "# Rotated grid from MONARCH\n",
    "cams_file = '/gpfs/projects/bsc32/models/NES_tutorial_data/MONARCH_d01_2022111512.nc'\n",
    "%time nessy = open_netcdf(path=cams_file, info=True)"
   ]
  },
  {
   "cell_type": "code",
   "execution_count": 3,
   "metadata": {},
   "outputs": [
    {
     "name": "stdout",
     "output_type": "stream",
     "text": [
      "2022-11-15 12:00:00 37 2022-11-17 00:00:00\n"
     ]
    }
   ],
   "source": [
    "print(nessy.time[0], len(nessy.time), nessy.time[-1])"
   ]
  },
  {
   "cell_type": "markdown",
   "metadata": {},
   "source": [
    "### 1.3. Variables"
   ]
  },
  {
   "cell_type": "code",
   "execution_count": 4,
   "metadata": {},
   "outputs": [
    {
     "data": {
      "text/plain": [
       "{'O3': {'data': None,\n",
       "  'dimensions': ('time', 'lm', 'rlat', 'rlon'),\n",
       "  'dtype': dtype('float32'),\n",
       "  'long_name': 'TRACERS_044',\n",
       "  'units': 'unknown',\n",
       "  'standard_name': 'TRACERS_044',\n",
       "  'coordinates': 'lon lat',\n",
       "  'grid_mapping': 'rotated_pole'}}"
      ]
     },
     "execution_count": 4,
     "metadata": {},
     "output_type": "execute_result"
    }
   ],
   "source": [
    "# Selecting only one variable and dismiss the rest\n",
    "nessy.keep_vars('O3')\n",
    "nessy.variables"
   ]
  },
  {
   "cell_type": "markdown",
   "metadata": {},
   "source": [
    "#### After load"
   ]
  },
  {
   "cell_type": "code",
   "execution_count": 5,
   "metadata": {},
   "outputs": [
    {
     "name": "stdout",
     "output_type": "stream",
     "text": [
      "Rank 000: Loading O3 var (1/1)\n",
      "Rank 000: Loaded O3 var ((37, 24, 271, 351))\n",
      "CPU times: user 294 ms, sys: 1.49 s, total: 1.78 s\n",
      "Wall time: 8.31 s\n"
     ]
    }
   ],
   "source": [
    "# Loading variable data from NetCDF file\n",
    "%time nessy.load()"
   ]
  },
  {
   "cell_type": "code",
   "execution_count": 6,
   "metadata": {},
   "outputs": [
    {
     "data": {
      "text/plain": [
       "(37, 24, 271, 351)"
      ]
     },
     "execution_count": 6,
     "metadata": {},
     "output_type": "execute_result"
    }
   ],
   "source": [
    "nessy.variables['O3']['data'].shape"
   ]
  },
  {
   "cell_type": "code",
   "execution_count": 7,
   "metadata": {},
   "outputs": [
    {
     "data": {
      "text/plain": [
       "('time', 'lm', 'rlat', 'rlon')"
      ]
     },
     "execution_count": 7,
     "metadata": {},
     "output_type": "execute_result"
    }
   ],
   "source": [
    "nessy.variables['O3']['dimensions']"
   ]
  },
  {
   "cell_type": "markdown",
   "metadata": {},
   "source": [
    "## 2. Calculate 8-hour rolling mean"
   ]
  },
  {
   "cell_type": "code",
   "execution_count": 8,
   "metadata": {},
   "outputs": [
    {
     "name": "stdout",
     "output_type": "stream",
     "text": [
      "Mean between 2022-11-15 05:00:00 and 2022-11-15 12:00:00 cannot be calculated because data for 2022-11-15 05:00:00 is not available.\n",
      "Mean between 2022-11-15 06:00:00 and 2022-11-15 13:00:00 cannot be calculated because data for 2022-11-15 06:00:00 is not available.\n",
      "Mean between 2022-11-15 07:00:00 and 2022-11-15 14:00:00 cannot be calculated because data for 2022-11-15 07:00:00 is not available.\n",
      "Mean between 2022-11-15 08:00:00 and 2022-11-15 15:00:00 cannot be calculated because data for 2022-11-15 08:00:00 is not available.\n",
      "Mean between 2022-11-15 09:00:00 and 2022-11-15 16:00:00 cannot be calculated because data for 2022-11-15 09:00:00 is not available.\n",
      "Mean between 2022-11-15 10:00:00 and 2022-11-15 17:00:00 cannot be calculated because data for 2022-11-15 10:00:00 is not available.\n",
      "Mean between 2022-11-15 11:00:00 and 2022-11-15 18:00:00 cannot be calculated because data for 2022-11-15 11:00:00 is not available.\n",
      "Calculating mean between 2022-11-15 12:00:00 and 2022-11-15 19:00:00.\n",
      "Calculating mean between 2022-11-15 13:00:00 and 2022-11-15 20:00:00.\n",
      "Calculating mean between 2022-11-15 14:00:00 and 2022-11-15 21:00:00.\n",
      "Calculating mean between 2022-11-15 15:00:00 and 2022-11-15 22:00:00.\n",
      "Calculating mean between 2022-11-15 16:00:00 and 2022-11-15 23:00:00.\n",
      "Calculating mean between 2022-11-15 17:00:00 and 2022-11-16 00:00:00.\n",
      "Calculating mean between 2022-11-15 18:00:00 and 2022-11-16 01:00:00.\n",
      "Calculating mean between 2022-11-15 19:00:00 and 2022-11-16 02:00:00.\n",
      "Calculating mean between 2022-11-15 20:00:00 and 2022-11-16 03:00:00.\n",
      "Calculating mean between 2022-11-15 21:00:00 and 2022-11-16 04:00:00.\n",
      "Calculating mean between 2022-11-15 22:00:00 and 2022-11-16 05:00:00.\n",
      "Calculating mean between 2022-11-15 23:00:00 and 2022-11-16 06:00:00.\n",
      "Calculating mean between 2022-11-16 00:00:00 and 2022-11-16 07:00:00.\n",
      "Calculating mean between 2022-11-16 01:00:00 and 2022-11-16 08:00:00.\n",
      "Calculating mean between 2022-11-16 02:00:00 and 2022-11-16 09:00:00.\n",
      "Calculating mean between 2022-11-16 03:00:00 and 2022-11-16 10:00:00.\n",
      "Calculating mean between 2022-11-16 04:00:00 and 2022-11-16 11:00:00.\n",
      "Calculating mean between 2022-11-16 05:00:00 and 2022-11-16 12:00:00.\n",
      "Calculating mean between 2022-11-16 06:00:00 and 2022-11-16 13:00:00.\n",
      "Calculating mean between 2022-11-16 07:00:00 and 2022-11-16 14:00:00.\n",
      "Calculating mean between 2022-11-16 08:00:00 and 2022-11-16 15:00:00.\n",
      "Calculating mean between 2022-11-16 09:00:00 and 2022-11-16 16:00:00.\n",
      "Calculating mean between 2022-11-16 10:00:00 and 2022-11-16 17:00:00.\n",
      "Calculating mean between 2022-11-16 11:00:00 and 2022-11-16 18:00:00.\n",
      "Calculating mean between 2022-11-16 12:00:00 and 2022-11-16 19:00:00.\n",
      "Calculating mean between 2022-11-16 13:00:00 and 2022-11-16 20:00:00.\n",
      "Calculating mean between 2022-11-16 14:00:00 and 2022-11-16 21:00:00.\n",
      "Calculating mean between 2022-11-16 15:00:00 and 2022-11-16 22:00:00.\n",
      "Calculating mean between 2022-11-16 16:00:00 and 2022-11-16 23:00:00.\n",
      "Calculating mean between 2022-11-16 17:00:00 and 2022-11-17 00:00:00.\n",
      "CPU times: user 430 ms, sys: 139 ms, total: 569 ms\n",
      "Wall time: 601 ms\n"
     ]
    },
    {
     "data": {
      "text/plain": [
       "<nes.nc_projections.rotated_nes.RotatedNes at 0x7f2d2e4df390>"
      ]
     },
     "execution_count": 8,
     "metadata": {},
     "output_type": "execute_result"
    }
   ],
   "source": [
    "%time rolling_mean = nessy.rolling_mean(var_list='O3', hours=8)\n",
    "rolling_mean"
   ]
  },
  {
   "cell_type": "code",
   "execution_count": 9,
   "metadata": {},
   "outputs": [
    {
     "data": {
      "text/plain": [
       "array([[[[       nan,        nan,        nan, ...,        nan,\n",
       "                 nan,        nan],\n",
       "         [       nan,        nan,        nan, ...,        nan,\n",
       "                 nan,        nan],\n",
       "         [       nan,        nan,        nan, ...,        nan,\n",
       "                 nan,        nan],\n",
       "         ...,\n",
       "         [       nan,        nan,        nan, ...,        nan,\n",
       "                 nan,        nan],\n",
       "         [       nan,        nan,        nan, ...,        nan,\n",
       "                 nan,        nan],\n",
       "         [       nan,        nan,        nan, ...,        nan,\n",
       "                 nan,        nan]],\n",
       "\n",
       "        [[       nan,        nan,        nan, ...,        nan,\n",
       "                 nan,        nan],\n",
       "         [       nan,        nan,        nan, ...,        nan,\n",
       "                 nan,        nan],\n",
       "         [       nan,        nan,        nan, ...,        nan,\n",
       "                 nan,        nan],\n",
       "         ...,\n",
       "         [       nan,        nan,        nan, ...,        nan,\n",
       "                 nan,        nan],\n",
       "         [       nan,        nan,        nan, ...,        nan,\n",
       "                 nan,        nan],\n",
       "         [       nan,        nan,        nan, ...,        nan,\n",
       "                 nan,        nan]],\n",
       "\n",
       "        [[       nan,        nan,        nan, ...,        nan,\n",
       "                 nan,        nan],\n",
       "         [       nan,        nan,        nan, ...,        nan,\n",
       "                 nan,        nan],\n",
       "         [       nan,        nan,        nan, ...,        nan,\n",
       "                 nan,        nan],\n",
       "         ...,\n",
       "         [       nan,        nan,        nan, ...,        nan,\n",
       "                 nan,        nan],\n",
       "         [       nan,        nan,        nan, ...,        nan,\n",
       "                 nan,        nan],\n",
       "         [       nan,        nan,        nan, ...,        nan,\n",
       "                 nan,        nan]],\n",
       "\n",
       "        ...,\n",
       "\n",
       "        [[       nan,        nan,        nan, ...,        nan,\n",
       "                 nan,        nan],\n",
       "         [       nan,        nan,        nan, ...,        nan,\n",
       "                 nan,        nan],\n",
       "         [       nan,        nan,        nan, ...,        nan,\n",
       "                 nan,        nan],\n",
       "         ...,\n",
       "         [       nan,        nan,        nan, ...,        nan,\n",
       "                 nan,        nan],\n",
       "         [       nan,        nan,        nan, ...,        nan,\n",
       "                 nan,        nan],\n",
       "         [       nan,        nan,        nan, ...,        nan,\n",
       "                 nan,        nan]],\n",
       "\n",
       "        [[       nan,        nan,        nan, ...,        nan,\n",
       "                 nan,        nan],\n",
       "         [       nan,        nan,        nan, ...,        nan,\n",
       "                 nan,        nan],\n",
       "         [       nan,        nan,        nan, ...,        nan,\n",
       "                 nan,        nan],\n",
       "         ...,\n",
       "         [       nan,        nan,        nan, ...,        nan,\n",
       "                 nan,        nan],\n",
       "         [       nan,        nan,        nan, ...,        nan,\n",
       "                 nan,        nan],\n",
       "         [       nan,        nan,        nan, ...,        nan,\n",
       "                 nan,        nan]],\n",
       "\n",
       "        [[       nan,        nan,        nan, ...,        nan,\n",
       "                 nan,        nan],\n",
       "         [       nan,        nan,        nan, ...,        nan,\n",
       "                 nan,        nan],\n",
       "         [       nan,        nan,        nan, ...,        nan,\n",
       "                 nan,        nan],\n",
       "         ...,\n",
       "         [       nan,        nan,        nan, ...,        nan,\n",
       "                 nan,        nan],\n",
       "         [       nan,        nan,        nan, ...,        nan,\n",
       "                 nan,        nan],\n",
       "         [       nan,        nan,        nan, ...,        nan,\n",
       "                 nan,        nan]]],\n",
       "\n",
       "\n",
       "       [[[       nan,        nan,        nan, ...,        nan,\n",
       "                 nan,        nan],\n",
       "         [       nan,        nan,        nan, ...,        nan,\n",
       "                 nan,        nan],\n",
       "         [       nan,        nan,        nan, ...,        nan,\n",
       "                 nan,        nan],\n",
       "         ...,\n",
       "         [       nan,        nan,        nan, ...,        nan,\n",
       "                 nan,        nan],\n",
       "         [       nan,        nan,        nan, ...,        nan,\n",
       "                 nan,        nan],\n",
       "         [       nan,        nan,        nan, ...,        nan,\n",
       "                 nan,        nan]],\n",
       "\n",
       "        [[       nan,        nan,        nan, ...,        nan,\n",
       "                 nan,        nan],\n",
       "         [       nan,        nan,        nan, ...,        nan,\n",
       "                 nan,        nan],\n",
       "         [       nan,        nan,        nan, ...,        nan,\n",
       "                 nan,        nan],\n",
       "         ...,\n",
       "         [       nan,        nan,        nan, ...,        nan,\n",
       "                 nan,        nan],\n",
       "         [       nan,        nan,        nan, ...,        nan,\n",
       "                 nan,        nan],\n",
       "         [       nan,        nan,        nan, ...,        nan,\n",
       "                 nan,        nan]],\n",
       "\n",
       "        [[       nan,        nan,        nan, ...,        nan,\n",
       "                 nan,        nan],\n",
       "         [       nan,        nan,        nan, ...,        nan,\n",
       "                 nan,        nan],\n",
       "         [       nan,        nan,        nan, ...,        nan,\n",
       "                 nan,        nan],\n",
       "         ...,\n",
       "         [       nan,        nan,        nan, ...,        nan,\n",
       "                 nan,        nan],\n",
       "         [       nan,        nan,        nan, ...,        nan,\n",
       "                 nan,        nan],\n",
       "         [       nan,        nan,        nan, ...,        nan,\n",
       "                 nan,        nan]],\n",
       "\n",
       "        ...,\n",
       "\n",
       "        [[       nan,        nan,        nan, ...,        nan,\n",
       "                 nan,        nan],\n",
       "         [       nan,        nan,        nan, ...,        nan,\n",
       "                 nan,        nan],\n",
       "         [       nan,        nan,        nan, ...,        nan,\n",
       "                 nan,        nan],\n",
       "         ...,\n",
       "         [       nan,        nan,        nan, ...,        nan,\n",
       "                 nan,        nan],\n",
       "         [       nan,        nan,        nan, ...,        nan,\n",
       "                 nan,        nan],\n",
       "         [       nan,        nan,        nan, ...,        nan,\n",
       "                 nan,        nan]],\n",
       "\n",
       "        [[       nan,        nan,        nan, ...,        nan,\n",
       "                 nan,        nan],\n",
       "         [       nan,        nan,        nan, ...,        nan,\n",
       "                 nan,        nan],\n",
       "         [       nan,        nan,        nan, ...,        nan,\n",
       "                 nan,        nan],\n",
       "         ...,\n",
       "         [       nan,        nan,        nan, ...,        nan,\n",
       "                 nan,        nan],\n",
       "         [       nan,        nan,        nan, ...,        nan,\n",
       "                 nan,        nan],\n",
       "         [       nan,        nan,        nan, ...,        nan,\n",
       "                 nan,        nan]],\n",
       "\n",
       "        [[       nan,        nan,        nan, ...,        nan,\n",
       "                 nan,        nan],\n",
       "         [       nan,        nan,        nan, ...,        nan,\n",
       "                 nan,        nan],\n",
       "         [       nan,        nan,        nan, ...,        nan,\n",
       "                 nan,        nan],\n",
       "         ...,\n",
       "         [       nan,        nan,        nan, ...,        nan,\n",
       "                 nan,        nan],\n",
       "         [       nan,        nan,        nan, ...,        nan,\n",
       "                 nan,        nan],\n",
       "         [       nan,        nan,        nan, ...,        nan,\n",
       "                 nan,        nan]]],\n",
       "\n",
       "\n",
       "       [[[       nan,        nan,        nan, ...,        nan,\n",
       "                 nan,        nan],\n",
       "         [       nan,        nan,        nan, ...,        nan,\n",
       "                 nan,        nan],\n",
       "         [       nan,        nan,        nan, ...,        nan,\n",
       "                 nan,        nan],\n",
       "         ...,\n",
       "         [       nan,        nan,        nan, ...,        nan,\n",
       "                 nan,        nan],\n",
       "         [       nan,        nan,        nan, ...,        nan,\n",
       "                 nan,        nan],\n",
       "         [       nan,        nan,        nan, ...,        nan,\n",
       "                 nan,        nan]],\n",
       "\n",
       "        [[       nan,        nan,        nan, ...,        nan,\n",
       "                 nan,        nan],\n",
       "         [       nan,        nan,        nan, ...,        nan,\n",
       "                 nan,        nan],\n",
       "         [       nan,        nan,        nan, ...,        nan,\n",
       "                 nan,        nan],\n",
       "         ...,\n",
       "         [       nan,        nan,        nan, ...,        nan,\n",
       "                 nan,        nan],\n",
       "         [       nan,        nan,        nan, ...,        nan,\n",
       "                 nan,        nan],\n",
       "         [       nan,        nan,        nan, ...,        nan,\n",
       "                 nan,        nan]],\n",
       "\n",
       "        [[       nan,        nan,        nan, ...,        nan,\n",
       "                 nan,        nan],\n",
       "         [       nan,        nan,        nan, ...,        nan,\n",
       "                 nan,        nan],\n",
       "         [       nan,        nan,        nan, ...,        nan,\n",
       "                 nan,        nan],\n",
       "         ...,\n",
       "         [       nan,        nan,        nan, ...,        nan,\n",
       "                 nan,        nan],\n",
       "         [       nan,        nan,        nan, ...,        nan,\n",
       "                 nan,        nan],\n",
       "         [       nan,        nan,        nan, ...,        nan,\n",
       "                 nan,        nan]],\n",
       "\n",
       "        ...,\n",
       "\n",
       "        [[       nan,        nan,        nan, ...,        nan,\n",
       "                 nan,        nan],\n",
       "         [       nan,        nan,        nan, ...,        nan,\n",
       "                 nan,        nan],\n",
       "         [       nan,        nan,        nan, ...,        nan,\n",
       "                 nan,        nan],\n",
       "         ...,\n",
       "         [       nan,        nan,        nan, ...,        nan,\n",
       "                 nan,        nan],\n",
       "         [       nan,        nan,        nan, ...,        nan,\n",
       "                 nan,        nan],\n",
       "         [       nan,        nan,        nan, ...,        nan,\n",
       "                 nan,        nan]],\n",
       "\n",
       "        [[       nan,        nan,        nan, ...,        nan,\n",
       "                 nan,        nan],\n",
       "         [       nan,        nan,        nan, ...,        nan,\n",
       "                 nan,        nan],\n",
       "         [       nan,        nan,        nan, ...,        nan,\n",
       "                 nan,        nan],\n",
       "         ...,\n",
       "         [       nan,        nan,        nan, ...,        nan,\n",
       "                 nan,        nan],\n",
       "         [       nan,        nan,        nan, ...,        nan,\n",
       "                 nan,        nan],\n",
       "         [       nan,        nan,        nan, ...,        nan,\n",
       "                 nan,        nan]],\n",
       "\n",
       "        [[       nan,        nan,        nan, ...,        nan,\n",
       "                 nan,        nan],\n",
       "         [       nan,        nan,        nan, ...,        nan,\n",
       "                 nan,        nan],\n",
       "         [       nan,        nan,        nan, ...,        nan,\n",
       "                 nan,        nan],\n",
       "         ...,\n",
       "         [       nan,        nan,        nan, ...,        nan,\n",
       "                 nan,        nan],\n",
       "         [       nan,        nan,        nan, ...,        nan,\n",
       "                 nan,        nan],\n",
       "         [       nan,        nan,        nan, ...,        nan,\n",
       "                 nan,        nan]]],\n",
       "\n",
       "\n",
       "       ...,\n",
       "\n",
       "\n",
       "       [[[1.29854178, 1.31015837, 1.32398117, ..., 1.13425529,\n",
       "          1.13152957, 1.13137448],\n",
       "         [1.30740237, 0.98123085, 0.65629387, ..., 0.41101581,\n",
       "          0.76499593, 1.12861729],\n",
       "         [1.31658065, 0.65106899, 0.67550975, ..., 0.3793425 ,\n",
       "          0.3888211 , 1.12668192],\n",
       "         ...,\n",
       "         [1.87833846, 1.49412072, 1.47343981, ..., 1.04673111,\n",
       "          1.05363691, 2.43560791],\n",
       "         [2.28306627, 1.78498054, 1.4913218 , ..., 1.07455862,\n",
       "          1.73233879, 2.28594065],\n",
       "         [1.87525213, 1.87141323, 1.86758006, ..., 2.58912444,\n",
       "          2.51521897, 2.45454621]],\n",
       "\n",
       "        [[0.80840558, 0.81161839, 0.81650686, ..., 0.65809524,\n",
       "          0.66410017, 0.67124498],\n",
       "         [0.81812078, 0.73046905, 0.64704901, ..., 0.40258333,\n",
       "          0.52903521, 0.66092545],\n",
       "         [0.82843119, 0.64508814, 0.6754598 , ..., 0.37896129,\n",
       "          0.38853186, 0.65027869],\n",
       "         ...,\n",
       "         [1.63060021, 1.48616636, 1.47344553, ..., 1.04691005,\n",
       "          1.05505478, 1.82051587],\n",
       "         [1.84355354, 1.59760475, 1.47839761, ..., 1.0752002 ,\n",
       "          1.43221939, 1.74805367],\n",
       "         [1.5893532 , 1.58230174, 1.57656932, ..., 1.88510585,\n",
       "          1.85056806, 1.8281157 ]],\n",
       "\n",
       "        [[0.57815617, 0.59089237, 0.61084896, ..., 0.36410683,\n",
       "          0.36854929, 0.37023404],\n",
       "         [0.59862477, 0.6184451 , 0.64345884, ..., 0.39966965,\n",
       "          0.37984779, 0.36916229],\n",
       "         [0.62249672, 0.64080441, 0.67612237, ..., 0.37880802,\n",
       "          0.38201007, 0.36838749],\n",
       "         ...,\n",
       "         [1.480425  , 1.47897613, 1.47297132, ..., 1.04691052,\n",
       "          1.05192661, 1.27464199],\n",
       "         [1.49443233, 1.48055923, 1.47238803, ..., 1.0715071 ,\n",
       "          1.20996988, 1.43494701],\n",
       "         [1.48054683, 1.47644019, 1.47224796, ..., 1.29982948,\n",
       "          1.28149879, 1.27385354]],\n",
       "\n",
       "        ...,\n",
       "\n",
       "        [[0.02869442, 0.02876731, 0.02885264, ..., 0.05503506,\n",
       "          0.0553513 , 0.05504015],\n",
       "         [0.02860601, 0.03127173, 0.03386573, ..., 0.05458459,\n",
       "          0.05476376, 0.05477995],\n",
       "         [0.02850545, 0.03384789, 0.03440624, ..., 0.05432913,\n",
       "          0.0543392 , 0.05448956],\n",
       "         ...,\n",
       "         [0.03835884, 0.03774025, 0.037614  , ..., 0.02364007,\n",
       "          0.01923269, 0.02035548],\n",
       "         [0.03778839, 0.03760003, 0.03746041, ..., 0.0233845 ,\n",
       "          0.02329169, 0.02662762],\n",
       "         [0.03775358, 0.03741108, 0.03737034, ..., 0.02648384,\n",
       "          0.02392194, 0.02173741]],\n",
       "\n",
       "        [[0.02780337, 0.02775429, 0.02777734, ..., 0.05352789,\n",
       "          0.0539673 , 0.05413141],\n",
       "         [0.02757636, 0.02827121, 0.02910217, ..., 0.0535218 ,\n",
       "          0.05365003, 0.05363914],\n",
       "         [0.02742327, 0.02865203, 0.02856876, ..., 0.05343894,\n",
       "          0.05347186, 0.05326553],\n",
       "         ...,\n",
       "         [0.0381183 , 0.03760983, 0.03756369, ..., 0.02312979,\n",
       "          0.01986529, 0.02278587],\n",
       "         [0.03753237, 0.03742671, 0.03738815, ..., 0.02330526,\n",
       "          0.02444199, 0.02789584],\n",
       "         [0.0372946 , 0.03717648, 0.03733015, ..., 0.02913875,\n",
       "          0.02670157, 0.02392381]],\n",
       "\n",
       "        [[0.02765905, 0.02761666, 0.02764649, ..., 0.05424896,\n",
       "          0.05461873, 0.05450705],\n",
       "         [0.02742626, 0.02520877, 0.02296445, ..., 0.05349676,\n",
       "          0.05373689, 0.05357135],\n",
       "         [0.02727422, 0.02282771, 0.02191793, ..., 0.05307287,\n",
       "          0.05326071, 0.05301408],\n",
       "         ...,\n",
       "         [0.03779193, 0.03748941, 0.0374724 , ..., 0.02280954,\n",
       "          0.01927338, 0.02296998],\n",
       "         [0.0371562 , 0.03717405, 0.03726939, ..., 0.02313424,\n",
       "          0.02427122, 0.02759723],\n",
       "         [0.03661698, 0.03678117, 0.03718687, ..., 0.02934089,\n",
       "          0.02708005, 0.02392631]]],\n",
       "\n",
       "\n",
       "       [[[1.28435171, 1.29601693, 1.31016409, ..., 1.14027464,\n",
       "          1.13592947, 1.13423944],\n",
       "         [1.29354775, 0.97237307, 0.6523965 , ..., 0.40809566,\n",
       "          0.7662639 , 1.13241553],\n",
       "         [1.30334365, 0.64753121, 0.66974783, ..., 0.37949342,\n",
       "          0.38861486, 1.13134599],\n",
       "         ...,\n",
       "         [1.85838127, 1.4820354 , 1.45864785, ..., 1.01327562,\n",
       "          1.02697802, 2.51408505],\n",
       "         [2.26595736, 1.77126908, 1.47472823, ..., 1.03661191,\n",
       "          1.75501657, 2.36603546],\n",
       "         [1.8653183 , 1.86235523, 1.85948217, ..., 2.65899658,\n",
       "          2.59044123, 2.53250265]],\n",
       "\n",
       "        [[0.79513633, 0.79873043, 0.80405778, ..., 0.66278821,\n",
       "          0.66856432, 0.6755361 ],\n",
       "         [0.80611563, 0.72233909, 0.64305466, ..., 0.39966771,\n",
       "          0.53061664, 0.66577685],\n",
       "         [0.81752461, 0.64145547, 0.66963005, ..., 0.37914807,\n",
       "          0.38845772, 0.65578979],\n",
       "         ...,\n",
       "         [1.58201897, 1.47326183, 1.45865822, ..., 1.01349425,\n",
       "          1.02904475, 1.90076125],\n",
       "         [1.81569266, 1.57050061, 1.46004212, ..., 1.03797972,\n",
       "          1.45670402, 1.82893205],\n",
       "         [1.54080212, 1.53300631, 1.52692723, ..., 1.96561217,\n",
       "          1.93085933, 1.906937  ]],\n",
       "\n",
       "        [[0.58091992, 0.59325665, 0.61224467, ..., 0.36490369,\n",
       "          0.36917505, 0.37052628],\n",
       "         [0.6010738 , 0.61771876, 0.63941425, ..., 0.39652291,\n",
       "          0.37925759, 0.36956057],\n",
       "         [0.6244573 , 0.63713026, 0.67028266, ..., 0.37903333,\n",
       "          0.38177174, 0.36898488],\n",
       "         ...,\n",
       "         [1.47460616, 1.4671011 , 1.45822811, ..., 1.01381707,\n",
       "          1.02508008, 1.33224428],\n",
       "         [1.48315442, 1.46663094, 1.45555806, ..., 1.03329754,\n",
       "          1.22145164, 1.48864162],\n",
       "         [1.46740782, 1.46071029, 1.454193  , ..., 1.35791504,\n",
       "          1.33878648, 1.32896316]],\n",
       "\n",
       "        ...,\n",
       "\n",
       "        [[0.02860847, 0.0287193 , 0.02884021, ..., 0.0552229 ,\n",
       "          0.05554568, 0.05520093],\n",
       "         [0.02848911, 0.03115404, 0.03371878, ..., 0.05465074,\n",
       "          0.05482761, 0.05481327],\n",
       "         [0.02834649, 0.03368897, 0.03429044, ..., 0.0543161 ,\n",
       "          0.05430075, 0.05435163],\n",
       "         ...,\n",
       "         [0.03811692, 0.03754768, 0.03750984, ..., 0.02515605,\n",
       "          0.02067216, 0.02160575],\n",
       "         [0.03769255, 0.03745845, 0.03737439, ..., 0.02493761,\n",
       "          0.02454149, 0.02719282],\n",
       "         [0.03746   , 0.0372192 , 0.03730713, ..., 0.02784498,\n",
       "          0.02536339, 0.02306198]],\n",
       "\n",
       "        [[0.0275538 , 0.02747322, 0.02750878, ..., 0.05358512,\n",
       "          0.05404793, 0.05419671],\n",
       "         [0.02730396, 0.02819499, 0.02919991, ..., 0.05339658,\n",
       "          0.05358685, 0.05364329],\n",
       "         [0.02712804, 0.02880288, 0.02864067, ..., 0.05316434,\n",
       "          0.05325959, 0.05311146],\n",
       "         ...,\n",
       "         [0.03785873, 0.03741212, 0.03745075, ..., 0.0249369 ,\n",
       "          0.02145594, 0.02418734],\n",
       "         [0.03738395, 0.03726116, 0.03728982, ..., 0.02512565,\n",
       "          0.02582127, 0.02848102],\n",
       "         [0.03694052, 0.03695876, 0.03726244, ..., 0.03053271,\n",
       "          0.02822248, 0.02540855]],\n",
       "\n",
       "        [[0.02740881, 0.02733335, 0.02737304, ..., 0.05426568,\n",
       "          0.05466345, 0.05454525],\n",
       "         [0.02715266, 0.0250837 , 0.02297565, ..., 0.05338996,\n",
       "          0.05366699, 0.05356648],\n",
       "         [0.02697729, 0.02287315, 0.02194677, ..., 0.05279499,\n",
       "          0.0530481 , 0.05285586],\n",
       "         ...,\n",
       "         [0.03751946, 0.03728687, 0.03735632, ..., 0.02467575,\n",
       "          0.0208389 , 0.02443987],\n",
       "         [0.03695789, 0.03698442, 0.037166  , ..., 0.02499765,\n",
       "          0.02568879, 0.0282693 ],\n",
       "         [0.03618747, 0.03652691, 0.03711196, ..., 0.0307685 ,\n",
       "          0.02864933, 0.02546946]]],\n",
       "\n",
       "\n",
       "       [[[1.2784425 , 1.28968489, 1.30331826, ..., 1.14892197,\n",
       "          1.14310455, 1.13998997],\n",
       "         [1.28755128, 0.9670974 , 0.64775342, ..., 0.40460929,\n",
       "          0.76864052, 1.13861692],\n",
       "         [1.29760277, 0.64339983, 0.66343421, ..., 0.37954411,\n",
       "          0.38823134, 1.13792968],\n",
       "         ...,\n",
       "         [1.84874153, 1.46730876, 1.44175804, ..., 1.0060811 ,\n",
       "          1.02113175, 2.6076138 ],\n",
       "         [2.25086474, 1.75897384, 1.45653439, ..., 1.01833165,\n",
       "          1.79458797, 2.46382499],\n",
       "         [1.86417711, 1.86118674, 1.85844862, ..., 2.73344302,\n",
       "          2.67506385, 2.62382388]],\n",
       "\n",
       "        [[0.78241956, 0.78631049, 0.79192829, ..., 0.66846818,\n",
       "          0.67414564, 0.68106425],\n",
       "         [0.79447496, 0.71404868, 0.63824832, ..., 0.39613977,\n",
       "          0.5325864 , 0.67192936],\n",
       "         [0.80679786, 0.63716078, 0.66327852, ..., 0.37925392,\n",
       "          0.38813069, 0.66272527],\n",
       "         ...,\n",
       "         [1.54232883, 1.45780337, 1.44177127, ..., 1.00624597,\n",
       "          1.02395809, 1.9991318 ],\n",
       "         [1.78523362, 1.54450393, 1.44029748, ..., 1.02063692,\n",
       "          1.50061035, 1.92890441],\n",
       "         [1.50327563, 1.494681  , 1.4881624 , ..., 2.06289625,\n",
       "          2.02894211, 2.00303626]],\n",
       "\n",
       "        [[0.5823397 , 0.59453583, 0.61269087, ..., 0.36513683,\n",
       "          0.36922416, 0.37030086],\n",
       "         [0.60236412, 0.61610925, 0.63465577, ..., 0.39253685,\n",
       "          0.37808377, 0.36943576],\n",
       "         [0.62542266, 0.6328811 , 0.66394663, ..., 0.37916636,\n",
       "          0.38113832, 0.36904883],\n",
       "         ...,\n",
       "         [1.46498203, 1.45243585, 1.44134736, ..., 1.00675941,\n",
       "          1.01872575, 1.40820503],\n",
       "         [1.46918988, 1.45036054, 1.43679214, ..., 1.01451838,\n",
       "          1.25147033, 1.55820394],\n",
       "         [1.45194185, 1.44302392, 1.43449628, ..., 1.43378806,\n",
       "          1.41443276, 1.40175247]],\n",
       "\n",
       "        ...,\n",
       "\n",
       "        [[0.02856354, 0.02871947, 0.02887096, ..., 0.05541828,\n",
       "          0.05572167, 0.05534676],\n",
       "         [0.02841754, 0.03108655, 0.03364924, ..., 0.05472515,\n",
       "          0.0548855 , 0.05482206],\n",
       "         [0.02823411, 0.03355997, 0.03417809, ..., 0.05430691,\n",
       "          0.05427311, 0.05420008],\n",
       "         ...,\n",
       "         [0.03792448, 0.03738475, 0.03744894, ..., 0.02625389,\n",
       "          0.02209541, 0.02293119],\n",
       "         [0.03757517, 0.03734322, 0.03733462, ..., 0.02610129,\n",
       "          0.02569483, 0.02796202],\n",
       "         [0.03720658, 0.03707833, 0.0372971 , ..., 0.02889115,\n",
       "          0.02662059, 0.0243883 ]],\n",
       "\n",
       "        [[0.02727165, 0.02715584, 0.02720465, ..., 0.05377459,\n",
       "          0.05423334, 0.05433375],\n",
       "         [0.0269985 , 0.02795687, 0.029016  , ..., 0.05340878,\n",
       "          0.05363261, 0.05371693],\n",
       "         [0.02679438, 0.02865714, 0.02840276, ..., 0.05302648,\n",
       "          0.05317137, 0.05304215],\n",
       "         ...,\n",
       "         [0.03763931, 0.03724349, 0.03738036, ..., 0.02637897,\n",
       "          0.02298057, 0.0255764 ],\n",
       "         [0.03720314, 0.03711754, 0.03723446, ..., 0.02659015,\n",
       "          0.02706061, 0.02925287],\n",
       "         [0.03662533, 0.03678911, 0.03724252, ..., 0.03148227,\n",
       "          0.02941887, 0.02681732]],\n",
       "\n",
       "        [[0.02712696, 0.02701419, 0.02706402, ..., 0.05436107,\n",
       "          0.05476492, 0.05462555],\n",
       "         [0.02684733, 0.02489376, 0.02289154, ..., 0.05340138,\n",
       "          0.05368813, 0.05363015],\n",
       "         [0.02664465, 0.02282199, 0.02188679, ..., 0.05264946,\n",
       "          0.05295609, 0.05278934],\n",
       "         ...,\n",
       "         [0.03728744, 0.03711296, 0.03728106, ..., 0.02617371,\n",
       "          0.02229152, 0.02590632],\n",
       "         [0.03671798, 0.0368133 , 0.03710368, ..., 0.02649892,\n",
       "          0.02695179, 0.02914437],\n",
       "         [0.03579334, 0.03631859, 0.03708439, ..., 0.03173029,\n",
       "          0.02987235, 0.02694446]]]])"
      ]
     },
     "execution_count": 9,
     "metadata": {},
     "output_type": "execute_result"
    }
   ],
   "source": [
    "# Observe the NaNs that appeared when data was not available\n",
    "rolling_mean.variables['O3']['data']"
   ]
  },
  {
   "cell_type": "code",
   "execution_count": 10,
   "metadata": {},
   "outputs": [
    {
     "data": {
      "text/plain": [
       "(37, 24, 271, 351)"
      ]
     },
     "execution_count": 10,
     "metadata": {},
     "output_type": "execute_result"
    }
   ],
   "source": [
    "rolling_mean.variables['O3']['data'].shape"
   ]
  },
  {
   "cell_type": "code",
   "execution_count": 11,
   "metadata": {},
   "outputs": [
    {
     "data": {
      "text/plain": [
       "('time', 'lm', 'rlat', 'rlon')"
      ]
     },
     "execution_count": 11,
     "metadata": {},
     "output_type": "execute_result"
    }
   ],
   "source": [
    "rolling_mean.variables['O3']['dimensions']"
   ]
  },
  {
   "cell_type": "markdown",
   "metadata": {},
   "source": [
    "## 3. Calculate daily statistics"
   ]
  },
  {
   "cell_type": "code",
   "execution_count": 12,
   "metadata": {},
   "outputs": [
    {
     "name": "stdout",
     "output_type": "stream",
     "text": [
      "CPU times: user 58.6 ms, sys: 5.01 ms, total: 63.6 ms\n",
      "Wall time: 63 ms\n"
     ]
    }
   ],
   "source": [
    "%time nessy.daily_statistic(op=\"mean\")"
   ]
  },
  {
   "cell_type": "code",
   "execution_count": 13,
   "metadata": {},
   "outputs": [
    {
     "data": {
      "text/plain": [
       "(2, 24, 271, 351)"
      ]
     },
     "execution_count": 13,
     "metadata": {},
     "output_type": "execute_result"
    }
   ],
   "source": [
    "nessy.variables['O3']['data'].shape"
   ]
  },
  {
   "cell_type": "code",
   "execution_count": 14,
   "metadata": {},
   "outputs": [
    {
     "data": {
      "text/plain": [
       "('time', 'lm', 'rlat', 'rlon')"
      ]
     },
     "execution_count": 14,
     "metadata": {},
     "output_type": "execute_result"
    }
   ],
   "source": [
    "nessy.variables['O3']['dimensions']"
   ]
  },
  {
   "cell_type": "code",
   "execution_count": 15,
   "metadata": {},
   "outputs": [
    {
     "data": {
      "text/plain": [
       "'time: mean (interval: 1hr)'"
      ]
     },
     "execution_count": 15,
     "metadata": {},
     "output_type": "execute_result"
    }
   ],
   "source": [
    "# See metadata\n",
    "nessy.variables['O3']['cell_methods']"
   ]
  },
  {
   "cell_type": "code",
   "execution_count": 16,
   "metadata": {},
   "outputs": [
    {
     "data": {
      "text/plain": [
       "[datetime.datetime(2022, 11, 15, 0, 0), datetime.datetime(2022, 11, 16, 0, 0)]"
      ]
     },
     "execution_count": 16,
     "metadata": {},
     "output_type": "execute_result"
    }
   ],
   "source": [
    "# See time\n",
    "nessy.time"
   ]
  },
  {
   "cell_type": "code",
   "execution_count": 17,
   "metadata": {},
   "outputs": [
    {
     "data": {
      "text/plain": [
       "[[datetime.datetime(2022, 11, 15, 12, 0),\n",
       "  datetime.datetime(2022, 11, 15, 23, 0)],\n",
       " [datetime.datetime(2022, 11, 16, 0, 0),\n",
       "  datetime.datetime(2022, 11, 16, 23, 0)]]"
      ]
     },
     "execution_count": 17,
     "metadata": {},
     "output_type": "execute_result"
    }
   ],
   "source": [
    "# See bounds\n",
    "nessy.time_bnds"
   ]
  }
 ],
 "metadata": {
  "kernelspec": {
   "display_name": "Python 3",
   "language": "python",
   "name": "python3"
  },
  "language_info": {
   "codemirror_mode": {
    "name": "ipython",
    "version": 3
   },
   "file_extension": ".py",
   "mimetype": "text/x-python",
   "name": "python",
   "nbconvert_exporter": "python",
   "pygments_lexer": "ipython3",
   "version": "3.7.4"
  }
 },
 "nbformat": 4,
 "nbformat_minor": 4
}

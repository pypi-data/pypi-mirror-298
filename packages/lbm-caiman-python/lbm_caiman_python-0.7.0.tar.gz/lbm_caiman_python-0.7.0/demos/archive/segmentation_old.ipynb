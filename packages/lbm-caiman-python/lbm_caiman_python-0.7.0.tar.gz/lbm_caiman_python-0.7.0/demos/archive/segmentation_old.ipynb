{
 "cells": [
  {
   "cell_type": "markdown",
   "metadata": {},
   "source": [
    "# LBM Step 3: Segmentation\n",
    "\n",
    "## Segmentation: Extract neuronal locations and planar time-traces.\n",
    "\n",
    "- Apply the constrained nonnegative matrix factorization (CNMF) source separation algorithm to extract initial estimates of neuronal spatial footprints and calcium traces.\n",
    "- Apply quality control metrics to evaluate the initial estimates, and narrow down to the final set of estimates."
   ]
  },
  {
   "cell_type": "markdown",
   "metadata": {},
   "source": [
    "# Caiman docs on component eval\n",
    "\n",
    "https://caiman.readthedocs.io/en/latest/Getting_Started.html#component-evaluation\n",
    "\n",
    "> The quality of detected components is evaluated with three parameters:\n",
    ">\n",
    "> Spatial footprint consistency (rval): The spatial footprint of the component is compared with the frames where this component is active. Other component’s signals are subtracted from these frames, and the resulting raw data is correlated against the spatial component. This ensures that the raw data at the spatial footprint aligns with the extracted trace.\n",
    ">\n",
    "> Trace signal-noise-ratio (SNR): Peak SNR is calculated from strong calcium transients and the noise estimate.\n",
    ">\n",
    "> CNN-based classifier (cnn): The shape of components is evaluated by a 4-layered convolutional neural network trained on a manually annotated dataset. The CNN assigns a value of 0-1 to each component depending on its resemblance to a neuronal soma.\n",
    "> \n",
    "> Each parameter has a low threshold:\n",
    "> - (rval_lowest (default -1), SNR_lowest (default 0.5), cnn_lowest (default 0.1))\n",
    ">\n",
    "> and high threshold\n",
    "> \n",
    "> - (rval_thr (default 0.8), min_SNR (default 2.5), min_cnn_thr (default 0.9))\n",
    "> \n",
    "> A component has to exceed ALL low thresholds as well as ONE high threshold to be accepted."
   ]
  },
  {
   "cell_type": "markdown",
   "metadata": {},
   "source": []
  },
  {
   "cell_type": "code",
   "execution_count": 2,
   "metadata": {},
   "outputs": [
    {
     "data": {
      "text/plain": [
       "PosixPath('/home/mbo/caiman_data')"
      ]
     },
     "execution_count": 2,
     "metadata": {},
     "output_type": "execute_result"
    }
   ],
   "source": [
    "import sys\n",
    "from pathlib import Path\n",
    "import os\n",
    "import numpy as np\n",
    "import zarr\n",
    "\n",
    "import logging\n",
    "import mesmerize_core as mc\n",
    "import matplotlib.pyplot as plt\n",
    "\n",
    "try:\n",
    "    import cv2\n",
    "    cv2.setNumThreads(0)\n",
    "except():\n",
    "    pass\n",
    "\n",
    "logging.basicConfig()\n",
    "\n",
    "from mesmerize_core.caiman_extensions.cnmf import cnmf_cache\n",
    "\n",
    "os.environ[\"CONDA_PREFIX_1\"] = \"\"\n",
    "if os.name == \"nt\":\n",
    "    # disable the cache on windows, this will be automatic in a future version\n",
    "    cnmf_cache.set_maxsize(0)\n",
    "\n",
    "raw_data_path = Path().home() / \"caiman_data\"\n",
    "movie_path = raw_data_path / 'animal_01' / \"session_01\" / 'save_gui.zarr'\n",
    "\n",
    "batch_path = raw_data_path / 'batch.pickle'\n",
    "mc.set_parent_raw_data_path(str(raw_data_path))"
   ]
  },
  {
   "cell_type": "code",
   "execution_count": 3,
   "metadata": {},
   "outputs": [
    {
     "data": {
      "text/html": [
       "<div>\n",
       "<style scoped>\n",
       "    .dataframe tbody tr th:only-of-type {\n",
       "        vertical-align: middle;\n",
       "    }\n",
       "\n",
       "    .dataframe tbody tr th {\n",
       "        vertical-align: top;\n",
       "    }\n",
       "\n",
       "    .dataframe thead th {\n",
       "        text-align: right;\n",
       "    }\n",
       "</style>\n",
       "<table border=\"1\" class=\"dataframe\">\n",
       "  <thead>\n",
       "    <tr style=\"text-align: right;\">\n",
       "      <th></th>\n",
       "      <th>algo</th>\n",
       "      <th>item_name</th>\n",
       "      <th>input_movie_path</th>\n",
       "      <th>params</th>\n",
       "      <th>outputs</th>\n",
       "      <th>added_time</th>\n",
       "      <th>ran_time</th>\n",
       "      <th>algo_duration</th>\n",
       "      <th>comments</th>\n",
       "      <th>uuid</th>\n",
       "    </tr>\n",
       "  </thead>\n",
       "  <tbody>\n",
       "    <tr>\n",
       "      <th>0</th>\n",
       "      <td>mcorr</td>\n",
       "      <td>save_gui</td>\n",
       "      <td>animal_01/session_01/save_gui.zarr</td>\n",
       "      <td>{'main': {'var_name_hdf5': 'plane_2', 'max_shi...</td>\n",
       "      <td>{'mean-projection-path': 9781250d-22cb-4ebc-9d...</td>\n",
       "      <td>2024-09-06T00:19:51</td>\n",
       "      <td>2024-09-06T00:33:05</td>\n",
       "      <td>764.98 sec</td>\n",
       "      <td>None</td>\n",
       "      <td>9781250d-22cb-4ebc-9de1-ad97e101ddee</td>\n",
       "    </tr>\n",
       "    <tr>\n",
       "      <th>1</th>\n",
       "      <td>mcorr</td>\n",
       "      <td>save_gui</td>\n",
       "      <td>animal_01/session_01/save_gui.zarr</td>\n",
       "      <td>{'main': {'var_name_hdf5': 'plane_2', 'max_shi...</td>\n",
       "      <td>{'mean-projection-path': 5ffcad60-5506-4243-93...</td>\n",
       "      <td>2024-09-06T00:19:51</td>\n",
       "      <td>2024-09-06T00:35:31</td>\n",
       "      <td>142.87 sec</td>\n",
       "      <td>None</td>\n",
       "      <td>5ffcad60-5506-4243-936c-f8473ff4ab50</td>\n",
       "    </tr>\n",
       "    <tr>\n",
       "      <th>2</th>\n",
       "      <td>mcorr</td>\n",
       "      <td>save_gui</td>\n",
       "      <td>animal_01/session_01/save_gui.zarr</td>\n",
       "      <td>{'main': {'var_name_hdf5': 'plane_2', 'max_shi...</td>\n",
       "      <td>{'mean-projection-path': 0a463c4f-985d-47a4-9e...</td>\n",
       "      <td>2024-09-06T00:19:51</td>\n",
       "      <td>2024-09-06T00:48:21</td>\n",
       "      <td>766.17 sec</td>\n",
       "      <td>None</td>\n",
       "      <td>0a463c4f-985d-47a4-9e95-cf776d98a1a3</td>\n",
       "    </tr>\n",
       "    <tr>\n",
       "      <th>3</th>\n",
       "      <td>mcorr</td>\n",
       "      <td>save_gui</td>\n",
       "      <td>animal_01/session_01/save_gui.zarr</td>\n",
       "      <td>{'main': {'var_name_hdf5': 'plane_2', 'max_shi...</td>\n",
       "      <td>{'mean-projection-path': 8cb260f3-ced8-4433-b9...</td>\n",
       "      <td>2024-09-06T00:19:51</td>\n",
       "      <td>2024-09-06T00:50:47</td>\n",
       "      <td>142.94 sec</td>\n",
       "      <td>None</td>\n",
       "      <td>8cb260f3-ced8-4433-b9bf-fd6116b20964</td>\n",
       "    </tr>\n",
       "  </tbody>\n",
       "</table>\n",
       "</div>"
      ],
      "text/plain": [
       "    algo item_name                    input_movie_path  \\\n",
       "0  mcorr  save_gui  animal_01/session_01/save_gui.zarr   \n",
       "1  mcorr  save_gui  animal_01/session_01/save_gui.zarr   \n",
       "2  mcorr  save_gui  animal_01/session_01/save_gui.zarr   \n",
       "3  mcorr  save_gui  animal_01/session_01/save_gui.zarr   \n",
       "\n",
       "                                              params  \\\n",
       "0  {'main': {'var_name_hdf5': 'plane_2', 'max_shi...   \n",
       "1  {'main': {'var_name_hdf5': 'plane_2', 'max_shi...   \n",
       "2  {'main': {'var_name_hdf5': 'plane_2', 'max_shi...   \n",
       "3  {'main': {'var_name_hdf5': 'plane_2', 'max_shi...   \n",
       "\n",
       "                                             outputs           added_time  \\\n",
       "0  {'mean-projection-path': 9781250d-22cb-4ebc-9d...  2024-09-06T00:19:51   \n",
       "1  {'mean-projection-path': 5ffcad60-5506-4243-93...  2024-09-06T00:19:51   \n",
       "2  {'mean-projection-path': 0a463c4f-985d-47a4-9e...  2024-09-06T00:19:51   \n",
       "3  {'mean-projection-path': 8cb260f3-ced8-4433-b9...  2024-09-06T00:19:51   \n",
       "\n",
       "              ran_time algo_duration comments  \\\n",
       "0  2024-09-06T00:33:05    764.98 sec     None   \n",
       "1  2024-09-06T00:35:31    142.87 sec     None   \n",
       "2  2024-09-06T00:48:21    766.17 sec     None   \n",
       "3  2024-09-06T00:50:47    142.94 sec     None   \n",
       "\n",
       "                                   uuid  \n",
       "0  9781250d-22cb-4ebc-9de1-ad97e101ddee  \n",
       "1  5ffcad60-5506-4243-936c-f8473ff4ab50  \n",
       "2  0a463c4f-985d-47a4-9e95-cf776d98a1a3  \n",
       "3  8cb260f3-ced8-4433-b9bf-fd6116b20964  "
      ]
     },
     "execution_count": 3,
     "metadata": {},
     "output_type": "execute_result"
    }
   ],
   "source": [
    "# create a new batch\n",
    "try:\n",
    "    df = mc.load_batch(batch_path)\n",
    "except (IsADirectoryError, FileNotFoundError):\n",
    "    df = mc.create_batch(batch_path)\n",
    "\n",
    "df=df.caiman.reload_from_disk()\n",
    "df"
   ]
  },
  {
   "cell_type": "markdown",
   "metadata": {},
   "source": [
    "# Optional, cleanup DataFrame\n",
    "\n",
    "Use the index that works best and all other items.\n",
    "\n",
    "Remove batch items (i.e. rows) using `df.caiman.remove_item(<item_uuid>)`. This also cleans up the output data in the batch directory."
   ]
  },
  {
   "cell_type": "code",
   "execution_count": null,
   "metadata": {},
   "outputs": [],
   "source": [
    "# make a list of rows we want to keep using the uuids\n",
    "rows_keep = [df.iloc[0].uuid]\n",
    "rows_keep"
   ]
  },
  {
   "cell_type": "code",
   "execution_count": null,
   "metadata": {},
   "outputs": [],
   "source": [
    "# CAUTION: remove all rows in in rows_keep\n",
    "erasing_all_non_keep_data_flag = False\n",
    "\n",
    "if erasing_all_non_keep_data_flag:\n",
    "    for i, row in df.iterrows():\n",
    "        if row.uuid not in rows_keep:\n",
    "            df.caiman.remove_item(row.uuid, safe_removal=False)\n",
    "\n",
    "df"
   ]
  },
  {
   "cell_type": "code",
   "execution_count": null,
   "metadata": {},
   "outputs": [],
   "source": [
    "# some params for CNMF\n",
    "params_cnmf = {\n",
    "    'main': # indicates that these are the \"main\" params for the CNMF algo\n",
    "        {\n",
    "            'fr': 10, # framerate, very important that this is correct!\n",
    "            'p': 1,\n",
    "            'nb': 2,\n",
    "            'merge_thr': 0.85,\n",
    "            'rf': 15,\n",
    "            'stride': 6, # \"stride\" for cnmf, \"strides\" for mcorr\n",
    "            'K': 4,\n",
    "            'gSig': [4, 4],\n",
    "            'ssub': 1,\n",
    "            'tsub': 1,\n",
    "            'method_init': 'greedy_roi',\n",
    "            'min_SNR': 1.5,\n",
    "            'rval_thr': 0.7,\n",
    "            'use_cnn': False,\n",
    "            'decay_time': 0.4,\n",
    "        },\n",
    "    'refit': True, # If `True`, run a second iteration of CNMF\n",
    "}"
   ]
  },
  {
   "cell_type": "code",
   "execution_count": null,
   "metadata": {},
   "outputs": [],
   "source": [
    "good_mcorr_index = 6\n",
    "\n",
    "# add a batch item\n",
    "df.caiman.add_item(\n",
    "    algo='cnmf', # algo is cnmf\n",
    "    input_movie_path=df.iloc[good_mcorr_index],  # use mcorr output from a completed batch item\n",
    "    params=params_cnmf,\n",
    "    item_name=df.iloc[good_mcorr_index][\"item_name\"], # use the same item name\n",
    ")"
   ]
  }
 ],
 "metadata": {
  "kernelspec": {
   "display_name": "mbo-caiman",
   "language": "python",
   "name": "python3"
  },
  "language_info": {
   "codemirror_mode": {
    "name": "ipython",
    "version": 3
   },
   "file_extension": ".py",
   "mimetype": "text/x-python",
   "name": "python",
   "nbconvert_exporter": "python",
   "pygments_lexer": "ipython3",
   "version": "3.11.9"
  }
 },
 "nbformat": 4,
 "nbformat_minor": 2
}

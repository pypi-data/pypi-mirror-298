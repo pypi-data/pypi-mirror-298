{
 "cells": [
  {
   "metadata": {},
   "cell_type": "code",
   "outputs": [],
   "execution_count": null,
   "source": [
    "import napari\n",
    "import pycudadecon\n",
    "from functools import partial\n",
    "from skimage import io\n",
    "from dask_image.imread import imread\n",
    "\n",
    "# load stacks with dask_image, and psf with skimage\n",
    "stack = imread(\"/path/to/experiment/*.tif\")\n",
    "psf = io.imread(\"/path/to/psf.tif\")\n",
    "\n",
    "# prepare some functions that accept a numpy array\n",
    "# and return a processed array\n",
    "\n",
    "def last3dims(f):\n",
    "    # this is just a wrapper because the pycudadecon function\n",
    "    # expects ndims==3 but our blocks will have ndim==4\n",
    "    def func(array):\n",
    "        return f(array[0])[None, ...]\n",
    "    return func\n",
    "\n",
    "\n",
    "def crop(array):\n",
    "    # simple cropping function\n",
    "    return array[:, 2:, 10:-20, :500]\n",
    "\n",
    "# https://docs.python.org/3.8/library/functools.html#functools.partial\n",
    "deskew = last3dims(partial(pycudadecon.deskew_gpu, angle=31.5))\n",
    "deconv = last3dims(partial(pycudadecon.decon, psf=psf, background=10))\n",
    "# note: this is done in two steps just as an example...\n",
    "# in reality pycudadecon.decon also has a deskew argument\n",
    "\n",
    "# map and chain those functions across all dask blocks\n",
    "deskewed = stack.map_blocks(deskew, dtype=\"uint16\")\n",
    "deconvolved = deskewed.map_blocks(deconv, dtype=\"float32\")\n",
    "cropped = deconvolved.map_blocks(crop, dtype=\"float32\")\n",
    "\n",
    "# put the resulting dask array into napari.\n",
    "# (don't forget the contrast limits and multiscale==False !)\n",
    "v = napari.view_image(\n",
    "    cropped,\n",
    "    contrast_limits=[90, 1500],\n",
    "    multiscale=False,\n",
    "    ndisplay=3,\n",
    "    scale=(3, 1, 1),\n",
    ")\n",
    "\n",
    "napari.run()"
   ],
   "id": "initial_id"
  }
 ],
 "metadata": {
  "kernelspec": {
   "display_name": "Python 3",
   "language": "python",
   "name": "python3"
  },
  "language_info": {
   "codemirror_mode": {
    "name": "ipython",
    "version": 2
   },
   "file_extension": ".py",
   "mimetype": "text/x-python",
   "name": "python",
   "nbconvert_exporter": "python",
   "pygments_lexer": "ipython2",
   "version": "2.7.6"
  }
 },
 "nbformat": 4,
 "nbformat_minor": 5
}

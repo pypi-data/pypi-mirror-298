{
 "cells": [
  {
   "cell_type": "markdown",
   "id": "0e4aef27-0625-40bd-87b4-da62c5342d71",
   "metadata": {},
   "source": [
    "# Testing how tiff libraries handle our ScanImage tiffs"
   ]
  },
  {
   "cell_type": "code",
   "execution_count": 1,
   "id": "3c4159e0-15ba-4459-95a6-1638aa24ee7f",
   "metadata": {
    "execution": {
     "iopub.execute_input": "2024-06-07T00:09:28.281869Z",
     "iopub.status.busy": "2024-06-07T00:09:28.281422Z",
     "iopub.status.idle": "2024-06-07T00:09:41.695475Z",
     "shell.execute_reply": "2024-06-07T00:09:41.694932Z",
     "shell.execute_reply.started": "2024-06-07T00:09:28.281827Z"
    }
   },
   "outputs": [],
   "source": [
    "import sys\n",
    "from pathlib import Path\n",
    "\n",
    "import numpy as np\n",
    "import pandas as pd"
   ]
  },
  {
   "cell_type": "code",
   "execution_count": 3,
   "id": "28728036-70bc-4f9f-8fe5-e8adedd21467",
   "metadata": {
    "execution": {
     "iopub.execute_input": "2024-06-07T00:19:26.992485Z",
     "iopub.status.busy": "2024-06-07T00:19:26.992080Z",
     "iopub.status.idle": "2024-06-07T00:19:26.997658Z",
     "shell.execute_reply": "2024-06-07T00:19:26.996806Z",
     "shell.execute_reply.started": "2024-06-07T00:19:26.992457Z"
    }
   },
   "outputs": [
    {
     "data": {
      "text/plain": [
       "WindowsPath('C:/Users/RBO/Documents/data/high_res/MH70_0p6mm_FOV_50_550um_depth_som_stim_199mW_3min_M1_00001_00001.tif')"
      ]
     },
     "execution_count": 3,
     "metadata": {},
     "output_type": "execute_result"
    }
   ],
   "source": [
    "datapath = Path().home() / 'Documents' / 'data' / 'high_res'\n",
    "files = [x for x in datapath.glob(\"*.tif*\")]\n",
    "file = files[0]\n",
    "file"
   ]
  },
  {
   "cell_type": "markdown",
   "id": "d0161f5e-eae0-4718-a400-b9e5f37cf1a6",
   "metadata": {
    "execution": {
     "iopub.execute_input": "2024-06-10T02:48:43.063390Z",
     "iopub.status.busy": "2024-06-10T02:48:43.062821Z",
     "iopub.status.idle": "2024-06-10T02:48:43.074354Z",
     "shell.execute_reply": "2024-06-10T02:48:43.073163Z",
     "shell.execute_reply.started": "2024-06-10T02:48:43.063350Z"
    }
   },
   "source": [
    "### Libaries tested:\n",
    "1. `rasterio`\n",
    "2. `tifffile`\n",
    "3. `pillow`\n",
    "4. `opencv`\n",
    "5. `imageio`"
   ]
  },
  {
   "cell_type": "markdown",
   "id": "9dd37cd5-abc1-45d4-85e9-f48777e5afb4",
   "metadata": {
    "execution": {
     "iopub.execute_input": "2024-06-10T02:49:06.572609Z",
     "iopub.status.busy": "2024-06-10T02:49:06.572217Z",
     "iopub.status.idle": "2024-06-10T02:49:06.578861Z",
     "shell.execute_reply": "2024-06-10T02:49:06.577537Z",
     "shell.execute_reply.started": "2024-06-10T02:49:06.572587Z"
    }
   },
   "source": [
    "## 1. rasterio"
   ]
  },
  {
   "cell_type": "code",
   "execution_count": 4,
   "id": "bccda407-bdea-4e6c-a2b6-097a6688568d",
   "metadata": {},
   "outputs": [
    {
     "name": "stdout",
     "output_type": "stream",
     "text": [
      "Collecting rasterio\n",
      "  Downloading rasterio-1.3.10-cp39-cp39-win_amd64.whl.metadata (15 kB)\n",
      "Collecting affine (from rasterio)\n",
      "  Downloading affine-2.4.0-py3-none-any.whl.metadata (4.0 kB)\n",
      "Requirement already satisfied: attrs in c:\\users\\rbo\\miniconda3\\envs\\mbo-py\\lib\\site-packages (from rasterio) (23.2.0)\n",
      "Requirement already satisfied: certifi in c:\\users\\rbo\\miniconda3\\envs\\mbo-py\\lib\\site-packages (from rasterio) (2024.7.4)\n",
      "Requirement already satisfied: click>=4.0 in c:\\users\\rbo\\miniconda3\\envs\\mbo-py\\lib\\site-packages (from rasterio) (8.1.7)\n",
      "Collecting cligj>=0.5 (from rasterio)\n",
      "  Downloading cligj-0.7.2-py3-none-any.whl.metadata (5.0 kB)\n",
      "Requirement already satisfied: numpy in c:\\users\\rbo\\miniconda3\\envs\\mbo-py\\lib\\site-packages (from rasterio) (1.26.4)\n",
      "Collecting snuggs>=1.4.1 (from rasterio)\n",
      "  Downloading snuggs-1.4.7-py3-none-any.whl.metadata (3.4 kB)\n",
      "Collecting click-plugins (from rasterio)\n",
      "  Downloading click_plugins-1.1.1-py2.py3-none-any.whl.metadata (6.4 kB)\n",
      "Requirement already satisfied: setuptools in c:\\users\\rbo\\miniconda3\\envs\\mbo-py\\lib\\site-packages (from rasterio) (70.3.0)\n",
      "Requirement already satisfied: importlib-metadata in c:\\users\\rbo\\miniconda3\\envs\\mbo-py\\lib\\site-packages (from rasterio) (8.0.0)\n",
      "Requirement already satisfied: colorama in c:\\users\\rbo\\miniconda3\\envs\\mbo-py\\lib\\site-packages (from click>=4.0->rasterio) (0.4.6)\n",
      "Requirement already satisfied: pyparsing>=2.1.6 in c:\\users\\rbo\\miniconda3\\envs\\mbo-py\\lib\\site-packages (from snuggs>=1.4.1->rasterio) (3.1.2)\n",
      "Requirement already satisfied: zipp>=0.5 in c:\\users\\rbo\\miniconda3\\envs\\mbo-py\\lib\\site-packages (from importlib-metadata->rasterio) (3.19.2)\n",
      "Downloading rasterio-1.3.10-cp39-cp39-win_amd64.whl (24.3 MB)\n",
      "   ---------------------------------------- 0.0/24.3 MB ? eta -:--:--\n",
      "   --- ------------------------------------ 2.1/24.3 MB 45.3 MB/s eta 0:00:01\n",
      "   ---------- ----------------------------- 6.1/24.3 MB 65.3 MB/s eta 0:00:01\n",
      "   ---------------- ----------------------- 9.9/24.3 MB 79.1 MB/s eta 0:00:01\n",
      "   ------------------------- -------------- 15.4/24.3 MB 73.1 MB/s eta 0:00:01\n",
      "   --------------------------------- ------ 20.2/24.3 MB 110.0 MB/s eta 0:00:01\n",
      "   ---------------------------------------  24.3/24.3 MB 108.8 MB/s eta 0:00:01\n",
      "   ---------------------------------------  24.3/24.3 MB 108.8 MB/s eta 0:00:01\n",
      "   ---------------------------------------  24.3/24.3 MB 108.8 MB/s eta 0:00:01\n",
      "   ---------------------------------------  24.3/24.3 MB 108.8 MB/s eta 0:00:01\n",
      "   ---------------------------------------  24.3/24.3 MB 108.8 MB/s eta 0:00:01\n",
      "   ---------------------------------------  24.3/24.3 MB 108.8 MB/s eta 0:00:01\n",
      "   ---------------------------------------- 24.3/24.3 MB 28.5 MB/s eta 0:00:00\n",
      "Downloading cligj-0.7.2-py3-none-any.whl (7.1 kB)\n",
      "Downloading snuggs-1.4.7-py3-none-any.whl (5.4 kB)\n",
      "Downloading affine-2.4.0-py3-none-any.whl (15 kB)\n",
      "Downloading click_plugins-1.1.1-py2.py3-none-any.whl (7.5 kB)\n",
      "Installing collected packages: snuggs, affine, cligj, click-plugins, rasterio\n",
      "Successfully installed affine-2.4.0 click-plugins-1.1.1 cligj-0.7.2 rasterio-1.3.10 snuggs-1.4.7\n"
     ]
    }
   ],
   "source": [
    "# nobody has this installed \n",
    "!pip install rasterio \n",
    "import rasterio"
   ]
  },
  {
   "cell_type": "code",
   "execution_count": 7,
   "id": "61156263",
   "metadata": {},
   "outputs": [
    {
     "name": "stdout",
     "output_type": "stream",
     "text": [
      "Collecting cloudmesh-cmd5\n",
      "  Using cached cloudmesh_cmd5-5.0.20-py2.py3-none-any.whl.metadata (11 kB)\n",
      "Requirement already satisfied: toml in c:\\users\\rbo\\miniconda3\\envs\\mbo-py\\lib\\site-packages (from cloudmesh-cmd5) (0.10.2)\n",
      "Collecting cloudmesh-common (from cloudmesh-cmd5)\n",
      "  Using cached cloudmesh_common-5.0.60-py2.py3-none-any.whl.metadata (9.4 kB)\n",
      "Requirement already satisfied: pyyaml in c:\\users\\rbo\\miniconda3\\envs\\mbo-py\\lib\\site-packages (from cloudmesh-cmd5) (6.0.1)\n",
      "Collecting docopt (from cloudmesh-cmd5)\n",
      "  Using cached docopt-0.6.2.tar.gz (25 kB)\n",
      "  Preparing metadata (setup.py): started\n",
      "  Preparing metadata (setup.py): finished with status 'done'\n",
      "Requirement already satisfied: requests in c:\\users\\rbo\\miniconda3\\envs\\mbo-py\\lib\\site-packages (from cloudmesh-cmd5) (2.32.3)\n",
      "Collecting md-toc (from cloudmesh-cmd5)\n",
      "  Using cached md_toc-9.0.0-py3-none-any.whl.metadata (9.9 kB)\n",
      "Requirement already satisfied: python-dateutil in c:\\users\\rbo\\miniconda3\\envs\\mbo-py\\lib\\site-packages (from cloudmesh-common->cloudmesh-cmd5) (2.9.0)\n",
      "Collecting rich (from cloudmesh-common->cloudmesh-cmd5)\n",
      "  Using cached rich-13.7.1-py3-none-any.whl.metadata (18 kB)\n",
      "Collecting humanize (from cloudmesh-common->cloudmesh-cmd5)\n",
      "  Using cached humanize-4.10.0-py3-none-any.whl.metadata (7.9 kB)\n",
      "Collecting oyaml (from cloudmesh-common->cloudmesh-cmd5)\n",
      "  Using cached oyaml-1.0-py2.py3-none-any.whl.metadata (1.2 kB)\n",
      "Collecting pyfiglet (from cloudmesh-common->cloudmesh-cmd5)\n",
      "  Using cached pyfiglet-1.0.2-py3-none-any.whl.metadata (7.1 kB)\n",
      "Collecting python-hostlist (from cloudmesh-common->cloudmesh-cmd5)\n",
      "  Using cached python-hostlist-1.23.0.tar.gz (36 kB)\n",
      "  Preparing metadata (setup.py): started\n",
      "  Preparing metadata (setup.py): finished with status 'done'\n",
      "Collecting simplejson (from cloudmesh-common->cloudmesh-cmd5)\n",
      "  Downloading simplejson-3.19.2-cp39-cp39-win_amd64.whl.metadata (3.2 kB)\n",
      "Collecting tabulate (from cloudmesh-common->cloudmesh-cmd5)\n",
      "  Using cached tabulate-0.9.0-py3-none-any.whl.metadata (34 kB)\n",
      "Requirement already satisfied: tqdm in c:\\users\\rbo\\miniconda3\\envs\\mbo-py\\lib\\site-packages (from cloudmesh-common->cloudmesh-cmd5) (4.66.4)\n",
      "Requirement already satisfied: psutil in c:\\users\\rbo\\miniconda3\\envs\\mbo-py\\lib\\site-packages (from cloudmesh-common->cloudmesh-cmd5) (6.0.0)\n",
      "Collecting tzlocal (from cloudmesh-common->cloudmesh-cmd5)\n",
      "  Using cached tzlocal-5.2-py3-none-any.whl.metadata (7.8 kB)\n",
      "Requirement already satisfied: pywin32 in c:\\users\\rbo\\miniconda3\\envs\\mbo-py\\lib\\site-packages (from cloudmesh-common->cloudmesh-cmd5) (306)\n",
      "Collecting pyuac (from cloudmesh-common->cloudmesh-cmd5)\n",
      "  Using cached pyuac-0.0.3-py2.py3-none-any.whl.metadata (6.4 kB)\n",
      "Collecting fpyutils<5,>=4.0.1 (from md-toc->cloudmesh-cmd5)\n",
      "  Using cached fpyutils-4.0.1-py3-none-any.whl.metadata (3.6 kB)\n",
      "Requirement already satisfied: charset-normalizer<4,>=2 in c:\\users\\rbo\\miniconda3\\envs\\mbo-py\\lib\\site-packages (from requests->cloudmesh-cmd5) (3.3.2)\n",
      "Requirement already satisfied: idna<4,>=2.5 in c:\\users\\rbo\\miniconda3\\envs\\mbo-py\\lib\\site-packages (from requests->cloudmesh-cmd5) (3.7)\n",
      "Requirement already satisfied: urllib3<3,>=1.21.1 in c:\\users\\rbo\\miniconda3\\envs\\mbo-py\\lib\\site-packages (from requests->cloudmesh-cmd5) (2.2.2)\n",
      "Requirement already satisfied: certifi>=2017.4.17 in c:\\users\\rbo\\miniconda3\\envs\\mbo-py\\lib\\site-packages (from requests->cloudmesh-cmd5) (2024.7.4)\n",
      "Requirement already satisfied: six>=1.5 in c:\\users\\rbo\\miniconda3\\envs\\mbo-py\\lib\\site-packages (from python-dateutil->cloudmesh-common->cloudmesh-cmd5) (1.16.0)\n",
      "Collecting tee (from pyuac->cloudmesh-common->cloudmesh-cmd5)\n",
      "  Using cached tee-0.0.3.tar.gz (3.1 kB)\n",
      "  Preparing metadata (setup.py): started\n",
      "  Preparing metadata (setup.py): finished with status 'done'\n",
      "Requirement already satisfied: decorator in c:\\users\\rbo\\miniconda3\\envs\\mbo-py\\lib\\site-packages (from pyuac->cloudmesh-common->cloudmesh-cmd5) (5.1.1)\n",
      "Requirement already satisfied: markdown-it-py>=2.2.0 in c:\\users\\rbo\\miniconda3\\envs\\mbo-py\\lib\\site-packages (from rich->cloudmesh-common->cloudmesh-cmd5) (3.0.0)\n",
      "Requirement already satisfied: pygments<3.0.0,>=2.13.0 in c:\\users\\rbo\\miniconda3\\envs\\mbo-py\\lib\\site-packages (from rich->cloudmesh-common->cloudmesh-cmd5) (2.18.0)\n",
      "Requirement already satisfied: colorama in c:\\users\\rbo\\miniconda3\\envs\\mbo-py\\lib\\site-packages (from tqdm->cloudmesh-common->cloudmesh-cmd5) (0.4.6)\n",
      "Requirement already satisfied: tzdata in c:\\users\\rbo\\miniconda3\\envs\\mbo-py\\lib\\site-packages (from tzlocal->cloudmesh-common->cloudmesh-cmd5) (2024.1)\n",
      "Requirement already satisfied: mdurl~=0.1 in c:\\users\\rbo\\miniconda3\\envs\\mbo-py\\lib\\site-packages (from markdown-it-py>=2.2.0->rich->cloudmesh-common->cloudmesh-cmd5) (0.1.2)\n",
      "Using cached cloudmesh_cmd5-5.0.20-py2.py3-none-any.whl (30 kB)\n",
      "Using cached cloudmesh_common-5.0.60-py2.py3-none-any.whl (112 kB)\n",
      "Using cached md_toc-9.0.0-py3-none-any.whl (78 kB)\n",
      "Using cached fpyutils-4.0.1-py3-none-any.whl (24 kB)\n",
      "Using cached humanize-4.10.0-py3-none-any.whl (126 kB)\n",
      "Using cached oyaml-1.0-py2.py3-none-any.whl (3.0 kB)\n",
      "Using cached pyfiglet-1.0.2-py3-none-any.whl (1.1 MB)\n",
      "Using cached pyuac-0.0.3-py2.py3-none-any.whl (11 kB)\n",
      "Using cached rich-13.7.1-py3-none-any.whl (240 kB)\n",
      "Downloading simplejson-3.19.2-cp39-cp39-win_amd64.whl (75 kB)\n",
      "   ---------------------------------------- 0.0/75.5 kB ? eta -:--:--\n",
      "   ---------------------------------------- 75.5/75.5 kB 4.1 MB/s eta 0:00:00\n",
      "Using cached tabulate-0.9.0-py3-none-any.whl (35 kB)\n",
      "Using cached tzlocal-5.2-py3-none-any.whl (17 kB)\n",
      "Building wheels for collected packages: docopt, python-hostlist, tee\n",
      "  Building wheel for docopt (setup.py): started\n",
      "  Building wheel for docopt (setup.py): finished with status 'done'\n",
      "  Created wheel for docopt: filename=docopt-0.6.2-py2.py3-none-any.whl size=13775 sha256=c96ce7bf057a218db116daf6737c21f2793819504ffc734af405d928ae5a7822\n",
      "  Stored in directory: c:\\users\\rbo\\appdata\\local\\pip\\cache\\wheels\\70\\4a\\46\\1309fc853b8d395e60bafaf1b6df7845bdd82c95fd59dd8d2b\n",
      "  Building wheel for python-hostlist (setup.py): started\n",
      "  Building wheel for python-hostlist (setup.py): finished with status 'done'\n",
      "  Created wheel for python-hostlist: filename=python_hostlist-1.23.0-py3-none-any.whl size=39859 sha256=11201d6daf0b182a52b7777749a9811e2298d983fdd3923288a0f13eed9af8cb\n",
      "  Stored in directory: c:\\users\\rbo\\appdata\\local\\pip\\cache\\wheels\\a0\\37\\86\\d330dfd9d5b2d65bf5a46faa97a92802a737554bf6c83e1e6b\n",
      "  Building wheel for tee (setup.py): started\n",
      "  Building wheel for tee (setup.py): finished with status 'done'\n",
      "  Created wheel for tee: filename=tee-0.0.3-py3-none-any.whl size=3072 sha256=bf644b9f4cd2451fa9dde248786750d61a27f5f6de4b76daf7733707bcbac7fa\n",
      "  Stored in directory: c:\\users\\rbo\\appdata\\local\\pip\\cache\\wheels\\e4\\36\\2c\\89ade6c328a62bdeac8cf9f75d9f5dfd1b583c1ca0f3ee9428\n",
      "Successfully built docopt python-hostlist tee\n",
      "Installing collected packages: tee, python-hostlist, docopt, tzlocal, tabulate, simplejson, pyuac, pyfiglet, oyaml, humanize, fpyutils, rich, md-toc, cloudmesh-common, cloudmesh-cmd5\n",
      "Successfully installed cloudmesh-cmd5-5.0.20 cloudmesh-common-5.0.60 docopt-0.6.2 fpyutils-4.0.1 humanize-4.10.0 md-toc-9.0.0 oyaml-1.0 pyfiglet-1.0.2 python-hostlist-1.23.0 pyuac-0.0.3 rich-13.7.1 simplejson-3.19.2 tabulate-0.9.0 tee-0.0.3 tzlocal-5.2\n",
      "*** No help on # dont forget to call it after the install as it sets some defaults\n",
      "+------------------+------------------------------------------------------------------------------------------------+\n",
      "| Attribute        | Value                                                                                          |\n",
      "+------------------+------------------------------------------------------------------------------------------------+\n",
      "| cpu              |                                                                                                |\n",
      "| cpu_cores        | 24                                                                                             |\n",
      "| cpu_count        | 32                                                                                             |\n",
      "| cpu_threads      | 32                                                                                             |\n",
      "| date             | 2024-07-13 15:21:05.708434                                                                     |\n",
      "| frequency        | scpufreq(current=3200.0, min=0.0, max=3200.0)                                                  |\n",
      "| mem.available    | 71.1 GiB                                                                                       |\n",
      "| mem.free         | 71.1 GiB                                                                                       |\n",
      "| mem.percent      | 44.4 %                                                                                         |\n",
      "| mem.total        | 127.8 GiB                                                                                      |\n",
      "| mem.used         | 56.7 GiB                                                                                       |\n",
      "| platform.version | ('10', '10.0.19041', 'SP0', 'Multiprocessor Free')                                             |\n",
      "| python           | 3.9.0 | packaged by conda-forge | (default, Nov 26 2020, 07:53:15) [MSC v.1916 64 bit (AMD64)] |\n",
      "| python.pip       | 24.0                                                                                           |\n",
      "| python.version   | 3.9.0                                                                                          |\n",
      "| sys.platform     | win32                                                                                          |\n",
      "| uname.machine    | AMD64                                                                                          |\n",
      "| uname.node       | RBO-C2                                                                                         |\n",
      "| uname.processor  | Intel64 Family 6 Model 183 Stepping 1, GenuineIntel                                            |\n",
      "| uname.release    | 10                                                                                             |\n",
      "| uname.system     | Windows                                                                                        |\n",
      "| uname.version    | 10.0.19041                                                                                     |\n",
      "| user             | RBO                                                                                            |\n",
      "+------------------+------------------------------------------------------------------------------------------------+\n"
     ]
    }
   ],
   "source": [
    "!pip install cloudmesh-cmd5\n",
    "!cms help # dont forget to call it after the install as it sets some defaults\n",
    "!cms sysinfo"
   ]
  },
  {
   "cell_type": "markdown",
   "id": "6157e9f1-b37a-48ec-a3f7-5c9d589fb45b",
   "metadata": {},
   "source": [
    "2. tifffile"
   ]
  },
  {
   "cell_type": "code",
   "execution_count": 5,
   "id": "14dfd2fb-d2a7-4670-b16a-49e7e74f4ac7",
   "metadata": {
    "execution": {
     "iopub.execute_input": "2024-06-07T00:16:21.286937Z",
     "iopub.status.busy": "2024-06-07T00:16:21.286321Z",
     "iopub.status.idle": "2024-06-07T00:16:47.138202Z",
     "shell.execute_reply": "2024-06-07T00:16:47.137088Z",
     "shell.execute_reply.started": "2024-06-07T00:16:21.286884Z"
    }
   },
   "outputs": [
    {
     "data": {
      "text/plain": [
       "(1730, 30, 2478, 145)"
      ]
     },
     "execution_count": 5,
     "metadata": {},
     "output_type": "execute_result"
    }
   ],
   "source": [
    "import tifffile\n",
    "data = tifffile.imread(file)\n",
    "data.shape"
   ]
  },
  {
   "cell_type": "code",
   "execution_count": 24,
   "id": "46efb29e-2ab1-40b3-871d-cf6f2795cdf8",
   "metadata": {
    "execution": {
     "iopub.execute_input": "2024-06-07T00:21:17.878860Z",
     "iopub.status.busy": "2024-06-07T00:21:17.877168Z",
     "iopub.status.idle": "2024-06-07T00:21:17.904573Z",
     "shell.execute_reply": "2024-06-07T00:21:17.902986Z",
     "shell.execute_reply.started": "2024-06-07T00:21:17.878695Z"
    }
   },
   "outputs": [],
   "source": [
    "from PIL import` Image\n",
    "data = np.array(Image.open(file))\n",
    "data.shape"
   ]
  },
  {
   "cell_type": "code",
   "execution_count": 16,
   "id": "79110c6d-3829-4f9d-817f-29fa13ea09e5",
   "metadata": {
    "execution": {
     "iopub.execute_input": "2024-06-07T00:17:55.636650Z",
     "iopub.status.busy": "2024-06-07T00:17:55.635293Z",
     "iopub.status.idle": "2024-06-07T00:17:58.149442Z",
     "shell.execute_reply": "2024-06-07T00:17:58.148846Z",
     "shell.execute_reply.started": "2024-06-07T00:17:55.636574Z"
    }
   },
   "outputs": [],
   "source": [
    "import cv2\n",
    "data = cv2.imread(str(files[0]))\n",
    "data.shape"
   ]
  },
  {
   "cell_type": "code",
   "execution_count": null,
   "id": "918b9331-d38b-4209-8869-ba25d601fe07",
   "metadata": {
    "execution": {
     "iopub.execute_input": "2024-06-07T00:22:32.559538Z",
     "iopub.status.busy": "2024-06-07T00:22:32.558604Z",
     "iopub.status.idle": "2024-06-07T00:23:00.831781Z",
     "shell.execute_reply": "2024-06-07T00:23:00.830711Z",
     "shell.execute_reply.started": "2024-06-07T00:22:32.559475Z"
    }
   },
   "outputs": [],
   "source": [
    "import imageio\n",
    "data = imageio.v2.imread(file)\n",
    "data.shape"
   ]
  },
  {
   "cell_type": "code",
   "execution_count": 29,
   "id": "57e4a510-ab9f-4a93-9a08-30a34df30695",
   "metadata": {
    "execution": {
     "iopub.execute_input": "2024-06-07T00:23:08.023660Z",
     "iopub.status.busy": "2024-06-07T00:23:08.023020Z",
     "iopub.status.idle": "2024-06-07T00:25:27.189207Z",
     "shell.execute_reply": "2024-06-07T00:25:27.188488Z",
     "shell.execute_reply.started": "2024-06-07T00:23:08.023587Z"
    }
   },
   "outputs": [
    {
     "data": {
      "text/plain": [
       "(1730, 30, 2478, 145)"
      ]
     },
     "execution_count": 29,
     "metadata": {},
     "output_type": "execute_result"
    }
   ],
   "source": [
    "data = np.array(data)\n",
    "data.shape"
   ]
  }
 ],
 "metadata": {
  "kernelspec": {
   "display_name": "Python 3 (ipykernel)",
   "language": "python",
   "name": "python3"
  },
  "language_info": {
   "codemirror_mode": {
    "name": "ipython",
    "version": 3
   },
   "file_extension": ".py",
   "mimetype": "text/x-python",
   "name": "python",
   "nbconvert_exporter": "python",
   "pygments_lexer": "ipython3",
   "version": "3.9.0"
  },
  "widgets": {
   "application/vnd.jupyter.widget-state+json": {
    "state": {},
    "version_major": 2,
    "version_minor": 0
   }
  }
 },
 "nbformat": 4,
 "nbformat_minor": 5
}

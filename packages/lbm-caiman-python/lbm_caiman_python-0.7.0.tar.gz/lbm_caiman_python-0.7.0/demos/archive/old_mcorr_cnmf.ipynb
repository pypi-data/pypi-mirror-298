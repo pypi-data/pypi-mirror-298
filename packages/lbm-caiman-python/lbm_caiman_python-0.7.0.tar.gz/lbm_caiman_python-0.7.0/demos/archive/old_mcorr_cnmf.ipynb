{
 "cells": [
  {
   "cell_type": "markdown",
   "id": "1acd06e5",
   "metadata": {},
   "source": [
    "# LBM Step 3: Segmentation\n",
    "\n",
    "## Segmentation: Extract neuronal locations and planar time-traces.\n",
    "\n",
    "- Apply the constrained nonnegative matrix factorization (CNMF) source separation algorithm to extract initial estimates of neuronal spatial footprints and calcium traces.\n",
    "- Apply quality control metrics to evaluate the initial estimates, and narrow down to the final set of estimates."
   ]
  },
  {
   "cell_type": "markdown",
   "id": "ffcdc48d",
   "metadata": {},
   "source": [
    "# Caiman docs on component eval\n",
    "\n",
    "https://caiman.readthedocs.io/en/latest/Getting_Started.html#component-evaluation\n",
    "\n",
    "> The quality of detected components is evaluated with three parameters:\n",
    ">\n",
    "> Spatial footprint consistency (rval): The spatial footprint of the component is compared with the frames where this component is active. Other component’s signals are subtracted from these frames, and the resulting raw data is correlated against the spatial component. This ensures that the raw data at the spatial footprint aligns with the extracted trace.\n",
    ">\n",
    "> Trace signal-noise-ratio (SNR): Peak SNR is calculated from strong calcium transients and the noise estimate.\n",
    ">\n",
    "> CNN-based classifier (cnn): The shape of components is evaluated by a 4-layered convolutional neural network trained on a manually annotated dataset. The CNN assigns a value of 0-1 to each component depending on its resemblance to a neuronal soma.\n",
    "> \n",
    "> Each parameter has a low threshold:\n",
    "> - (rval_lowest (default -1), SNR_lowest (default 0.5), cnn_lowest (default 0.1))\n",
    ">\n",
    "> and high threshold\n",
    "> \n",
    "> - (rval_thr (default 0.8), min_SNR (default 2.5), min_cnn_thr (default 0.9))\n",
    "> \n",
    "> A component has to exceed ALL low thresholds as well as ONE high threshold to be accepted."
   ]
  },
  {
   "cell_type": "code",
   "execution_count": null,
   "id": "09288483",
   "metadata": {},
   "outputs": [
    {
     "data": {
      "text/plain": [
       "PosixPath('/home/mbo/caiman_data')"
      ]
     },
     "metadata": {},
     "output_type": "display_data"
    }
   ],
   "source": [
    "import sys\n",
    "from pathlib import Path\n",
    "import os\n",
    "import numpy as np\n",
    "import zarr\n",
    "\n",
    "import logging\n",
    "import mesmerize_core as mc\n",
    "import matplotlib.pyplot as plt\n",
    "\n",
    "try:\n",
    "    import cv2\n",
    "    cv2.setNumThreads(0)\n",
    "except():\n",
    "    pass\n",
    "\n",
    "logging.basicConfig()\n",
    "\n",
    "from mesmerize_core.caiman_extensions.cnmf import cnmf_cache\n",
    "\n",
    "os.environ[\"CONDA_PREFIX_1\"] = \"\"\n",
    "if os.name == \"nt\":\n",
    "    # disable the cache on windows, this will be automatic in a future version\n",
    "    cnmf_cache.set_maxsize(0)\n",
    "\n",
    "raw_data_path = Path().home() / \"caiman_data\"\n",
    "movie_path = raw_data_path / 'animal_01' / \"session_01\" / 'save_gui.zarr'\n",
    "\n",
    "batch_path = raw_data_path / 'batch.pickle'\n",
    "mc.set_parent_raw_data_path(str(raw_data_path))"
   ]
  },
  {
   "cell_type": "markdown",
   "id": "c16f235f-703b-4004-9cde-46794cafcf4a",
   "metadata": {
    "pycharm": {
     "name": "#%% md\n"
    },
    "tags": []
   },
   "source": [
    "# Paths (TODO)\n",
    "\n",
    "```\n",
    "/\n",
    "    └── \n",
    "        ├── a\n",
    "        │   ├── \n",
    "        │   │   ├── \n",
    "        │   │   ├── \n",
    "        │   │   └── \n",
    "        │   ├── \n",
    "        │   │   ├── \n",
    "        │   │   └── \n",
    "        │   └── \n",
    "        └── \n",
    "            ├──\n",
    "            │   ├── \n",
    "            │   ├── \n",
    "            │   └── \n",
    "            ├── \n",
    "            └── \n",
    "```\n",
    "\n",
    "**For this demo set the `caiman_data` dir as the parent raw data path**"
   ]
  },
  {
   "cell_type": "markdown",
   "id": "af643600-187a-4812-8fab-d277542aae45",
   "metadata": {},
   "source": [
    "### Batch path, this is where caiman outputs will be organized, same as the previous step\n",
    "\n",
    "This can be anywhere, it does not need to be under the parent raw data path."
   ]
  },
  {
   "cell_type": "code",
   "execution_count": null,
   "id": "d65b3a8e",
   "metadata": {},
   "outputs": [
    {
     "data": {
      "text/html": [
       "<div>\n",
       "<style scoped>\n",
       "    .dataframe tbody tr th:only-of-type {\n",
       "        vertical-align: middle;\n",
       "    }\n",
       "\n",
       "    .dataframe tbody tr th {\n",
       "        vertical-align: top;\n",
       "    }\n",
       "\n",
       "    .dataframe thead th {\n",
       "        text-align: right;\n",
       "    }\n",
       "</style>\n",
       "<table border=\"1\" class=\"dataframe\">\n",
       "  <thead>\n",
       "    <tr style=\"text-align: right;\">\n",
       "      <th></th>\n",
       "      <th>algo</th>\n",
       "      <th>item_name</th>\n",
       "      <th>input_movie_path</th>\n",
       "      <th>params</th>\n",
       "      <th>outputs</th>\n",
       "      <th>added_time</th>\n",
       "      <th>ran_time</th>\n",
       "      <th>algo_duration</th>\n",
       "      <th>comments</th>\n",
       "      <th>uuid</th>\n",
       "    </tr>\n",
       "  </thead>\n",
       "  <tbody>\n",
       "    <tr>\n",
       "      <th>0</th>\n",
       "      <td>mcorr</td>\n",
       "      <td>save_gui</td>\n",
       "      <td>animal_01/session_01/save_gui.zarr</td>\n",
       "      <td>{'main': {'var_name_hdf5': 'plane_2', 'max_shi...</td>\n",
       "      <td>{'mean-projection-path': 9781250d-22cb-4ebc-9d...</td>\n",
       "      <td>2024-09-06T00:19:51</td>\n",
       "      <td>2024-09-06T00:33:05</td>\n",
       "      <td>764.98 sec</td>\n",
       "      <td>None</td>\n",
       "      <td>9781250d-22cb-4ebc-9de1-ad97e101ddee</td>\n",
       "    </tr>\n",
       "    <tr>\n",
       "      <th>1</th>\n",
       "      <td>mcorr</td>\n",
       "      <td>save_gui</td>\n",
       "      <td>animal_01/session_01/save_gui.zarr</td>\n",
       "      <td>{'main': {'var_name_hdf5': 'plane_2', 'max_shi...</td>\n",
       "      <td>{'mean-projection-path': 5ffcad60-5506-4243-93...</td>\n",
       "      <td>2024-09-06T00:19:51</td>\n",
       "      <td>2024-09-06T00:35:31</td>\n",
       "      <td>142.87 sec</td>\n",
       "      <td>None</td>\n",
       "      <td>5ffcad60-5506-4243-936c-f8473ff4ab50</td>\n",
       "    </tr>\n",
       "    <tr>\n",
       "      <th>2</th>\n",
       "      <td>mcorr</td>\n",
       "      <td>save_gui</td>\n",
       "      <td>animal_01/session_01/save_gui.zarr</td>\n",
       "      <td>{'main': {'var_name_hdf5': 'plane_2', 'max_shi...</td>\n",
       "      <td>{'mean-projection-path': 0a463c4f-985d-47a4-9e...</td>\n",
       "      <td>2024-09-06T00:19:51</td>\n",
       "      <td>2024-09-06T00:48:21</td>\n",
       "      <td>766.17 sec</td>\n",
       "      <td>None</td>\n",
       "      <td>0a463c4f-985d-47a4-9e95-cf776d98a1a3</td>\n",
       "    </tr>\n",
       "    <tr>\n",
       "      <th>3</th>\n",
       "      <td>mcorr</td>\n",
       "      <td>save_gui</td>\n",
       "      <td>animal_01/session_01/save_gui.zarr</td>\n",
       "      <td>{'main': {'var_name_hdf5': 'plane_2', 'max_shi...</td>\n",
       "      <td>{'mean-projection-path': 8cb260f3-ced8-4433-b9...</td>\n",
       "      <td>2024-09-06T00:19:51</td>\n",
       "      <td>2024-09-06T00:50:47</td>\n",
       "      <td>142.94 sec</td>\n",
       "      <td>None</td>\n",
       "      <td>8cb260f3-ced8-4433-b9bf-fd6116b20964</td>\n",
       "    </tr>\n",
       "  </tbody>\n",
       "</table>\n",
       "</div>"
      ],
      "text/plain": [
       "    algo item_name                    input_movie_path  \\\n",
       "0  mcorr  save_gui  animal_01/session_01/save_gui.zarr   \n",
       "1  mcorr  save_gui  animal_01/session_01/save_gui.zarr   \n",
       "2  mcorr  save_gui  animal_01/session_01/save_gui.zarr   \n",
       "3  mcorr  save_gui  animal_01/session_01/save_gui.zarr   \n",
       "\n",
       "                                              params  \\\n",
       "0  {'main': {'var_name_hdf5': 'plane_2', 'max_shi...   \n",
       "1  {'main': {'var_name_hdf5': 'plane_2', 'max_shi...   \n",
       "2  {'main': {'var_name_hdf5': 'plane_2', 'max_shi...   \n",
       "3  {'main': {'var_name_hdf5': 'plane_2', 'max_shi...   \n",
       "\n",
       "                                             outputs           added_time  \\\n",
       "0  {'mean-projection-path': 9781250d-22cb-4ebc-9d...  2024-09-06T00:19:51   \n",
       "1  {'mean-projection-path': 5ffcad60-5506-4243-93...  2024-09-06T00:19:51   \n",
       "2  {'mean-projection-path': 0a463c4f-985d-47a4-9e...  2024-09-06T00:19:51   \n",
       "3  {'mean-projection-path': 8cb260f3-ced8-4433-b9...  2024-09-06T00:19:51   \n",
       "\n",
       "              ran_time algo_duration comments  \\\n",
       "0  2024-09-06T00:33:05    764.98 sec     None   \n",
       "1  2024-09-06T00:35:31    142.87 sec     None   \n",
       "2  2024-09-06T00:48:21    766.17 sec     None   \n",
       "3  2024-09-06T00:50:47    142.94 sec     None   \n",
       "\n",
       "                                   uuid  \n",
       "0  9781250d-22cb-4ebc-9de1-ad97e101ddee  \n",
       "1  5ffcad60-5506-4243-936c-f8473ff4ab50  \n",
       "2  0a463c4f-985d-47a4-9e95-cf776d98a1a3  \n",
       "3  8cb260f3-ced8-4433-b9bf-fd6116b20964  "
      ]
     },
     "metadata": {},
     "output_type": "display_data"
    }
   ],
   "source": [
    "# create a new batch\n",
    "try:\n",
    "    df = mc.load_batch(batch_path)\n",
    "except (IsADirectoryError, FileNotFoundError):\n",
    "    df = mc.create_batch(batch_path)\n",
    "\n",
    "df=df.caiman.reload_from_disk()\n",
    "df"
   ]
  },
  {
   "cell_type": "code",
   "execution_count": 8,
   "id": "97455d84-91d8-4b3b-88d8-c8772d03c736",
   "metadata": {
    "pycharm": {
     "name": "#%%\n"
    }
   },
   "outputs": [],
   "source": [
    "batch_path = mc.get_parent_raw_data_path().joinpath(\"batch/reg\")\n",
    "batch_path"
   ]
  },
  {
   "cell_type": "markdown",
   "id": "c78dbc4e-fda3-48b5-a736-3777ab727648",
   "metadata": {},
   "source": [
    "# Create a new batch\n",
    "\n",
    "This creates a new pandas `DataFrame` with the columns that are necessary for mesmerize. In mesmerize we call this the **batch DataFrame**. You can add additional columns relevant to your experiment, but do not modify columns used by mesmerize.\n",
    "\n",
    "Note that when you create a DataFrame you will need to use `load_batch()` to load it later. You cannot use `create_batch()` to overwrite an existing batch DataFrame"
   ]
  },
  {
   "cell_type": "code",
   "execution_count": 9,
   "id": "ee720c3f-6eab-4552-bee4-01357d38e3cd",
   "metadata": {
    "pycharm": {
     "name": "#%%\n"
    }
   },
   "outputs": [],
   "source": [
    "# create a new batch\n",
    "#df = mc.create_batch(batch_path)\n",
    "\n",
    "# to load existing batches use `load_batch()`\n",
    "df = mc.load_batch(batch_path)"
   ]
  },
  {
   "cell_type": "markdown",
   "id": "e32d04e0-1068-4583-a5d8-952db01e989b",
   "metadata": {
    "pycharm": {
     "name": "#%% md\n"
    }
   },
   "source": [
    "We can now see that there is one item in the DataFrame. What we called a \"item\" in `mesmerize-core` DataFrames is technically called a pandas `Series` or row."
   ]
  },
  {
   "cell_type": "markdown",
   "id": "7c8891f9-83a9-4c5b-bb73-8031afad9087",
   "metadata": {},
   "source": [
    "# Outputs\n",
    "\n",
    "We can see that the outputs column has been populated. The entries in this column do not have to be accessed directly. The `mesmerize-core` API allows you to fetch these outputs."
   ]
  },
  {
   "cell_type": "code",
   "execution_count": 48,
   "id": "85708edb-fafa-42ff-b3bb-ce046d5528db",
   "metadata": {
    "tags": []
   },
   "outputs": [
    {
     "data": {
      "text/plain": [
       "(583, 544)"
      ]
     },
     "execution_count": 48,
     "metadata": {},
     "output_type": "execute_result"
    }
   ],
   "source": [
    "# mean projection, max and std projections are also available\n",
    "mean_proj = df.iloc[0].caiman.get_projection(\"mean\")\n",
    "mean_proj.shape"
   ]
  },
  {
   "cell_type": "code",
   "execution_count": 49,
   "id": "f82e27e1-a566-4693-91fc-da04606f2159",
   "metadata": {
    "tags": []
   },
   "outputs": [
    {
     "data": {
      "text/plain": [
       "(800, 583, 544)"
      ]
     },
     "execution_count": 49,
     "metadata": {},
     "output_type": "execute_result"
    }
   ],
   "source": [
    "# the input movie, note that we use `.caiman` here instead of `.mcorr`\n",
    "input_movie = df.iloc[0].caiman.get_input_movie()\n",
    "input_movie.shape"
   ]
  },
  {
   "cell_type": "code",
   "execution_count": 62,
   "id": "da9d27a4",
   "metadata": {},
   "outputs": [],
   "source": [
    "df.drop(0, inplace=True)"
   ]
  },
  {
   "cell_type": "markdown",
   "id": "4f0316b3-770c-44a5-994a-e3aca6c26939",
   "metadata": {
    "tags": []
   },
   "source": [
    "## Note on input movies\n",
    "\n",
    "`get_input_movie()` will automatically work with most tiff files and memmaps. If you want to load other file types, you will need to pass it a function (see examples below) that returns a lazy-loadable array, or a numpy array if you have enough RAM. \n",
    "\n",
    "\n",
    "### tiff files\n",
    "\n",
    "`get_input_movie()` wil try to use `tifffile.memmap` to lazy-load tiff files. This works for some tiff files. If `tifffile.memmap` fails, `mesmerize-core` has its own `LazyTiff` implementation that it will try to fallback on. However, some not every tiff file can be lazy-loaded so it is not gaurenteed that `LazyTiff` will work. The implementation of `LazyTiff` is quite simple and you might be able to subclass it for your specific type of tiff file: https://github.com/nel-lab/mesmerize-core/blob/master/mesmerize_core/arrays/_tiff.py \n",
    "\n",
    "### hdf5 files\n",
    "\n",
    "```python\n",
    "import h5py\n",
    "\n",
    "def hdf5_reader(path):\n",
    "    f = h5py.File(path)\n",
    "    return f[\"your-key\"]\n",
    "\n",
    "input_movie = df.iloc[index].caiman.get_input_movie(hdf5_reader)\n",
    "```\n",
    "\n",
    "### avi files\n",
    "    \n",
    "```python\n",
    "from mesmerize_core.arrays import LazyVideo\n",
    "\n",
    "def video_reader(path):\n",
    "    a = LazyVideo(path)  # you can use the other args if you want\n",
    "    return a\n",
    "\n",
    "input_movie = df.iloc[index].caiman.get_input_movie(video_reader)\n",
    "```"
   ]
  },
  {
   "cell_type": "markdown",
   "id": "b44371ad-f0e8-4958-bec4-fb84a8ea43ed",
   "metadata": {},
   "source": [
    "# Visualize with mesmerize-viz!\n",
    "\n",
    "- Random-access frames\n",
    "- Slider for frame averaging over a window - useful for quality control\n",
    "- adjust cmap, vmin vmax, etc."
   ]
  },
  {
   "cell_type": "code",
   "execution_count": 43,
   "id": "6820a07d-5632-474e-9fae-eb7825a9cfce",
   "metadata": {
    "scrolled": true,
    "tags": []
   },
   "outputs": [
    {
     "name": "stderr",
     "output_type": "stream",
     "text": [
      "/home/mbo/miniconda3/envs/mescore/lib/python3.11/site-packages/ipydatagrid/datagrid.py:512: UserWarning: Index name of 'index' is not round-trippable.\n",
      "  schema = pd.io.json.build_table_schema(dataframe)\n"
     ]
    },
    {
     "data": {
      "application/vnd.jupyter.widget-view+json": {
       "model_id": "01c7ab2641d14b07b81fa7f4e4fa21c8",
       "version_major": 2,
       "version_minor": 0
      },
      "text/plain": [
       "RFBOutputContext()"
      ]
     },
     "metadata": {},
     "output_type": "display_data"
    },
    {
     "name": "stderr",
     "output_type": "stream",
     "text": [
      "/home/mbo/miniconda3/envs/mescore/lib/python3.11/site-packages/fastplotlib/graphics/_features/_base.py:34: UserWarning: converting float64 array to float32\n",
      "  warn(f\"converting {array.dtype} array to float32\")\n"
     ]
    },
    {
     "data": {
      "application/vnd.jupyter.widget-view+json": {
       "model_id": "6d0cb6341e394601a6db38dd42e956b1",
       "version_major": 2,
       "version_minor": 0
      },
      "text/plain": [
       "VBox(children=(HBox(children=(DataGrid(auto_fit_params={'area': 'all', 'padding': 30, 'numCols': None}, base_r…"
      ]
     },
     "execution_count": 43,
     "metadata": {},
     "output_type": "execute_result"
    }
   ],
   "source": [
    "viz = df.mcorr.viz()\n",
    "viz.show()"
   ]
  },
  {
   "cell_type": "code",
   "execution_count": 53,
   "id": "f22162f4-c57d-4086-bd60-25cec9a34e5d",
   "metadata": {
    "tags": []
   },
   "outputs": [],
   "source": [
    "viz.close()"
   ]
  },
  {
   "cell_type": "markdown",
   "id": "df5fd794-0337-48dc-a205-a13051ab3c9a",
   "metadata": {},
   "source": [
    "# Visualizations are customizable\n",
    "\n",
    "Hint: use `Shift` + `Tab` to bring up the docstring for `mcorr.viz()`."
   ]
  },
  {
   "cell_type": "code",
   "execution_count": 15,
   "id": "15745885-4933-4379-b9ff-5da580143b77",
   "metadata": {
    "collapsed": true,
    "jupyter": {
     "outputs_hidden": true
    },
    "scrolled": true,
    "tags": []
   },
   "outputs": [
    {
     "name": "stderr",
     "output_type": "stream",
     "text": [
      "/home/mbo/miniconda3/envs/mestest/lib/python3.11/site-packages/ipydatagrid/datagrid.py:512: UserWarning: Index name of 'index' is not round-trippable.\n",
      "  schema = pd.io.json.build_table_schema(dataframe)\n"
     ]
    },
    {
     "data": {
      "application/vnd.jupyter.widget-view+json": {
       "model_id": "464838e82b3e4511ba94a8105f137c6b",
       "version_major": 2,
       "version_minor": 0
      },
      "text/plain": [
       "RFBOutputContext()"
      ]
     },
     "metadata": {},
     "output_type": "display_data"
    },
    {
     "name": "stderr",
     "output_type": "stream",
     "text": [
      "/home/mbo/miniconda3/envs/mestest/lib/python3.11/site-packages/fastplotlib/graphics/_features/_base.py:34: UserWarning: converting float64 array to float32\n",
      "  warn(f\"converting {array.dtype} array to float32\")\n"
     ]
    },
    {
     "ename": "AttributeError",
     "evalue": "'GlyphSlot' object has no attribute 'render'",
     "output_type": "error",
     "traceback": [
      "\u001b[0;31m---------------------------------------------------------------------------\u001b[0m",
      "\u001b[0;31mAttributeError\u001b[0m                            Traceback (most recent call last)",
      "Cell \u001b[0;32mIn[15], line 1\u001b[0m\n\u001b[0;32m----> 1\u001b[0m viz \u001b[38;5;241m=\u001b[39m \u001b[43mdf\u001b[49m\u001b[38;5;241;43m.\u001b[39;49m\u001b[43mmcorr\u001b[49m\u001b[38;5;241;43m.\u001b[39;49m\u001b[43mviz\u001b[49m\u001b[43m(\u001b[49m\n\u001b[1;32m      2\u001b[0m \u001b[43m    \u001b[49m\u001b[43mdata_options\u001b[49m\u001b[38;5;241;43m=\u001b[39;49m\u001b[43m[\u001b[49m\u001b[38;5;124;43m\"\u001b[39;49m\u001b[38;5;124;43minput\u001b[39;49m\u001b[38;5;124;43m\"\u001b[39;49m\u001b[43m,\u001b[49m\u001b[43m \u001b[49m\u001b[38;5;124;43m\"\u001b[39;49m\u001b[38;5;124;43mmcorr\u001b[39;49m\u001b[38;5;124;43m\"\u001b[39;49m\u001b[43m]\u001b[49m\u001b[43m,\u001b[49m\n\u001b[1;32m      3\u001b[0m \u001b[43m    \u001b[49m\u001b[43mimage_widget_kwargs\u001b[49m\u001b[38;5;241;43m=\u001b[39;49m\u001b[43m{\u001b[49m\u001b[38;5;124;43m\"\u001b[39;49m\u001b[38;5;124;43mgrid_plot_kwargs\u001b[39;49m\u001b[38;5;124;43m\"\u001b[39;49m\u001b[43m:\u001b[49m\u001b[43m \u001b[49m\u001b[43m{\u001b[49m\u001b[38;5;124;43m\"\u001b[39;49m\u001b[38;5;124;43msize\u001b[39;49m\u001b[38;5;124;43m\"\u001b[39;49m\u001b[43m:\u001b[49m\u001b[43m \u001b[49m\u001b[43m(\u001b[49m\u001b[38;5;241;43m800\u001b[39;49m\u001b[43m,\u001b[49m\u001b[43m \u001b[49m\u001b[38;5;241;43m400\u001b[39;49m\u001b[43m)\u001b[49m\u001b[43m}\u001b[49m\u001b[43m}\u001b[49m\u001b[43m,\u001b[49m\n\u001b[1;32m      4\u001b[0m \u001b[43m)\u001b[49m\n\u001b[1;32m      5\u001b[0m viz\u001b[38;5;241m.\u001b[39mshow(sidecar\u001b[38;5;241m=\u001b[39m\u001b[38;5;28;01mTrue\u001b[39;00m)  \u001b[38;5;66;03m# show in sidecar\u001b[39;00m\n",
      "File \u001b[0;32m~/miniconda3/envs/mestest/lib/python3.11/site-packages/mesmerize_viz/_mcorr.py:446\u001b[0m, in \u001b[0;36mMCorrDataFrameVizExtension.viz\u001b[0;34m(self, data_options, start_index, reset_timepoint_on_change, input_movie_kwargs, image_widget_kwargs, data_grid_kwargs)\u001b[0m\n\u001b[1;32m    396\u001b[0m \u001b[38;5;28;01mdef\u001b[39;00m \u001b[38;5;21mviz\u001b[39m(\n\u001b[1;32m    397\u001b[0m         \u001b[38;5;28mself\u001b[39m,\n\u001b[1;32m    398\u001b[0m         data_options: List[\u001b[38;5;28mstr\u001b[39m] \u001b[38;5;241m=\u001b[39m \u001b[38;5;28;01mNone\u001b[39;00m,\n\u001b[0;32m   (...)\u001b[0m\n\u001b[1;32m    403\u001b[0m         data_grid_kwargs: \u001b[38;5;28mdict\u001b[39m \u001b[38;5;241m=\u001b[39m \u001b[38;5;28;01mNone\u001b[39;00m,\n\u001b[1;32m    404\u001b[0m ):\n\u001b[1;32m    405\u001b[0m \u001b[38;5;250m    \u001b[39m\u001b[38;5;124;03m\"\"\"\u001b[39;00m\n\u001b[1;32m    406\u001b[0m \u001b[38;5;124;03m    Visualize motion correction output.\u001b[39;00m\n\u001b[1;32m    407\u001b[0m \n\u001b[0;32m   (...)\u001b[0m\n\u001b[1;32m    443\u001b[0m \u001b[38;5;124;03m        widget that contains the DataGrid, params text box and ImageWidget\u001b[39;00m\n\u001b[1;32m    444\u001b[0m \u001b[38;5;124;03m    \"\"\"\u001b[39;00m\n\u001b[0;32m--> 446\u001b[0m     container \u001b[38;5;241m=\u001b[39m \u001b[43mMcorrVizContainer\u001b[49m\u001b[43m(\u001b[49m\n\u001b[1;32m    447\u001b[0m \u001b[43m        \u001b[49m\u001b[43mdataframe\u001b[49m\u001b[38;5;241;43m=\u001b[39;49m\u001b[38;5;28;43mself\u001b[39;49m\u001b[38;5;241;43m.\u001b[39;49m\u001b[43m_dataframe\u001b[49m\u001b[43m,\u001b[49m\n\u001b[1;32m    448\u001b[0m \u001b[43m        \u001b[49m\u001b[43mdata_options\u001b[49m\u001b[38;5;241;43m=\u001b[39;49m\u001b[43mdata_options\u001b[49m\u001b[43m,\u001b[49m\n\u001b[1;32m    449\u001b[0m \u001b[43m        \u001b[49m\u001b[43mstart_index\u001b[49m\u001b[38;5;241;43m=\u001b[39;49m\u001b[43mstart_index\u001b[49m\u001b[43m,\u001b[49m\n\u001b[1;32m    450\u001b[0m \u001b[43m        \u001b[49m\u001b[43mreset_timepoint_on_change\u001b[49m\u001b[38;5;241;43m=\u001b[39;49m\u001b[43mreset_timepoint_on_change\u001b[49m\u001b[43m,\u001b[49m\n\u001b[1;32m    451\u001b[0m \u001b[43m        \u001b[49m\u001b[43minput_movie_kwargs\u001b[49m\u001b[38;5;241;43m=\u001b[39;49m\u001b[43minput_movie_kwargs\u001b[49m\u001b[43m,\u001b[49m\n\u001b[1;32m    452\u001b[0m \u001b[43m        \u001b[49m\u001b[43mimage_widget_kwargs\u001b[49m\u001b[38;5;241;43m=\u001b[39;49m\u001b[43mimage_widget_kwargs\u001b[49m\u001b[43m,\u001b[49m\n\u001b[1;32m    453\u001b[0m \u001b[43m        \u001b[49m\u001b[43mdata_grid_kwargs\u001b[49m\u001b[38;5;241;43m=\u001b[39;49m\u001b[43mdata_grid_kwargs\u001b[49m\n\u001b[1;32m    454\u001b[0m \u001b[43m    \u001b[49m\u001b[43m)\u001b[49m\n\u001b[1;32m    456\u001b[0m     \u001b[38;5;28;01mreturn\u001b[39;00m container\n",
      "File \u001b[0;32m~/miniconda3/envs/mestest/lib/python3.11/site-packages/mesmerize_viz/_mcorr.py:218\u001b[0m, in \u001b[0;36mMcorrVizContainer.__init__\u001b[0;34m(self, dataframe, data_options, start_index, reset_timepoint_on_change, input_movie_kwargs, image_widget_kwargs, data_grid_kwargs)\u001b[0m\n\u001b[1;32m    215\u001b[0m \u001b[38;5;66;03m# set the initial widget state with the start index\u001b[39;00m\n\u001b[1;32m    216\u001b[0m data_arrays \u001b[38;5;241m=\u001b[39m \u001b[38;5;28mself\u001b[39m\u001b[38;5;241m.\u001b[39m_get_row_data(index\u001b[38;5;241m=\u001b[39mstart_index)\n\u001b[0;32m--> 218\u001b[0m \u001b[38;5;28mself\u001b[39m\u001b[38;5;241m.\u001b[39m_image_widget \u001b[38;5;241m=\u001b[39m \u001b[43mImageWidget\u001b[49m\u001b[43m(\u001b[49m\n\u001b[1;32m    219\u001b[0m \u001b[43m    \u001b[49m\u001b[43mdata\u001b[49m\u001b[38;5;241;43m=\u001b[39;49m\u001b[43mdata_arrays\u001b[49m\u001b[43m,\u001b[49m\n\u001b[1;32m    220\u001b[0m \u001b[43m    \u001b[49m\u001b[43mnames\u001b[49m\u001b[38;5;241;43m=\u001b[39;49m\u001b[38;5;28;43mself\u001b[39;49m\u001b[38;5;241;43m.\u001b[39;49m\u001b[43m_data_options\u001b[49m\u001b[43m,\u001b[49m\n\u001b[1;32m    221\u001b[0m \u001b[43m    \u001b[49m\u001b[38;5;241;43m*\u001b[39;49m\u001b[38;5;241;43m*\u001b[39;49m\u001b[38;5;28;43mself\u001b[39;49m\u001b[38;5;241;43m.\u001b[39;49m\u001b[43mimage_widget_kwargs\u001b[49m\n\u001b[1;32m    222\u001b[0m \u001b[43m\u001b[49m\u001b[43m)\u001b[49m\n\u001b[1;32m    224\u001b[0m \u001b[38;5;66;03m# mean window slider\u001b[39;00m\n\u001b[1;32m    225\u001b[0m \u001b[38;5;28mself\u001b[39m\u001b[38;5;241m.\u001b[39m_slider_mean_window \u001b[38;5;241m=\u001b[39m IntSlider(\n\u001b[1;32m    226\u001b[0m     \u001b[38;5;28mmin\u001b[39m\u001b[38;5;241m=\u001b[39m\u001b[38;5;241m1\u001b[39m,\n\u001b[1;32m    227\u001b[0m     step\u001b[38;5;241m=\u001b[39m\u001b[38;5;241m2\u001b[39m,\n\u001b[0;32m   (...)\u001b[0m\n\u001b[1;32m    231\u001b[0m     description_tooltip\u001b[38;5;241m=\u001b[39m\u001b[38;5;124m\"\u001b[39m\u001b[38;5;124mset a mean rolling window\u001b[39m\u001b[38;5;124m\"\u001b[39m\n\u001b[1;32m    232\u001b[0m )\n",
      "File \u001b[0;32m~/miniconda3/envs/mestest/lib/python3.11/site-packages/fastplotlib/widgets/image.py:573\u001b[0m, in \u001b[0;36mImageWidget.__init__\u001b[0;34m(self, data, dims_order, slider_dims, window_funcs, frame_apply, grid_shape, names, grid_plot_kwargs, histogram_widget, **kwargs)\u001b[0m\n\u001b[1;32m    571\u001b[0m ig \u001b[38;5;241m=\u001b[39m ImageGraphic(frame, name\u001b[38;5;241m=\u001b[39m\u001b[38;5;124m\"\u001b[39m\u001b[38;5;124mimage_widget_managed\u001b[39m\u001b[38;5;124m\"\u001b[39m, \u001b[38;5;241m*\u001b[39m\u001b[38;5;241m*\u001b[39mkwargs)\n\u001b[1;32m    572\u001b[0m subplot\u001b[38;5;241m.\u001b[39madd_graphic(ig)\n\u001b[0;32m--> 573\u001b[0m \u001b[43msubplot\u001b[49m\u001b[38;5;241;43m.\u001b[39;49m\u001b[43mname\u001b[49m \u001b[38;5;241m=\u001b[39m name\n\u001b[1;32m    574\u001b[0m subplot\u001b[38;5;241m.\u001b[39mset_title(name)\n\u001b[1;32m    576\u001b[0m \u001b[38;5;28;01mif\u001b[39;00m histogram_widget:\n",
      "File \u001b[0;32m~/miniconda3/envs/mestest/lib/python3.11/site-packages/fastplotlib/layouts/_subplot.py:121\u001b[0m, in \u001b[0;36mSubplot.name\u001b[0;34m(self, name)\u001b[0m\n\u001b[1;32m    118\u001b[0m \u001b[38;5;129m@name\u001b[39m\u001b[38;5;241m.\u001b[39msetter\n\u001b[1;32m    119\u001b[0m \u001b[38;5;28;01mdef\u001b[39;00m \u001b[38;5;21mname\u001b[39m(\u001b[38;5;28mself\u001b[39m, name: Any):\n\u001b[1;32m    120\u001b[0m     \u001b[38;5;28mself\u001b[39m\u001b[38;5;241m.\u001b[39m_name \u001b[38;5;241m=\u001b[39m name\n\u001b[0;32m--> 121\u001b[0m     \u001b[38;5;28;43mself\u001b[39;49m\u001b[38;5;241;43m.\u001b[39;49m\u001b[43mset_title\u001b[49m\u001b[43m(\u001b[49m\u001b[43mname\u001b[49m\u001b[43m)\u001b[49m\n",
      "File \u001b[0;32m~/miniconda3/envs/mestest/lib/python3.11/site-packages/fastplotlib/layouts/_subplot.py:147\u001b[0m, in \u001b[0;36mSubplot.set_title\u001b[0;34m(self, text)\u001b[0m\n\u001b[1;32m    145\u001b[0m     \u001b[38;5;28mself\u001b[39m\u001b[38;5;241m.\u001b[39m_title_graphic\u001b[38;5;241m.\u001b[39mtext \u001b[38;5;241m=\u001b[39m text\n\u001b[1;32m    146\u001b[0m \u001b[38;5;28;01melse\u001b[39;00m:\n\u001b[0;32m--> 147\u001b[0m     tg \u001b[38;5;241m=\u001b[39m \u001b[43mTextGraphic\u001b[49m\u001b[43m(\u001b[49m\u001b[43mtext\u001b[49m\u001b[38;5;241;43m=\u001b[39;49m\u001b[43mtext\u001b[49m\u001b[43m,\u001b[49m\u001b[43m \u001b[49m\u001b[43msize\u001b[49m\u001b[38;5;241;43m=\u001b[39;49m\u001b[38;5;241;43m18\u001b[39;49m\u001b[43m)\u001b[49m\n\u001b[1;32m    148\u001b[0m     \u001b[38;5;28mself\u001b[39m\u001b[38;5;241m.\u001b[39m_title_graphic \u001b[38;5;241m=\u001b[39m tg\n\u001b[1;32m    150\u001b[0m     \u001b[38;5;28mself\u001b[39m\u001b[38;5;241m.\u001b[39mdocks[\u001b[38;5;124m\"\u001b[39m\u001b[38;5;124mtop\u001b[39m\u001b[38;5;124m\"\u001b[39m]\u001b[38;5;241m.\u001b[39msize \u001b[38;5;241m=\u001b[39m \u001b[38;5;241m35\u001b[39m\n",
      "File \u001b[0;32m~/miniconda3/envs/mestest/lib/python3.11/site-packages/fastplotlib/graphics/text.py:63\u001b[0m, in \u001b[0;36mTextGraphic.__init__\u001b[0;34m(self, text, position, size, face_color, outline_color, outline_thickness, screen_space, anchor, *args, **kwargs)\u001b[0m\n\u001b[1;32m     58\u001b[0m \u001b[38;5;28msuper\u001b[39m(TextGraphic, \u001b[38;5;28mself\u001b[39m)\u001b[38;5;241m.\u001b[39m\u001b[38;5;21m__init__\u001b[39m(\u001b[38;5;241m*\u001b[39margs, \u001b[38;5;241m*\u001b[39m\u001b[38;5;241m*\u001b[39mkwargs)\n\u001b[1;32m     60\u001b[0m \u001b[38;5;28mself\u001b[39m\u001b[38;5;241m.\u001b[39m_text \u001b[38;5;241m=\u001b[39m text\n\u001b[1;32m     62\u001b[0m world_object \u001b[38;5;241m=\u001b[39m pygfx\u001b[38;5;241m.\u001b[39mText(\n\u001b[0;32m---> 63\u001b[0m     \u001b[43mpygfx\u001b[49m\u001b[38;5;241;43m.\u001b[39;49m\u001b[43mTextGeometry\u001b[49m\u001b[43m(\u001b[49m\n\u001b[1;32m     64\u001b[0m \u001b[43m        \u001b[49m\u001b[43mtext\u001b[49m\u001b[38;5;241;43m=\u001b[39;49m\u001b[38;5;28;43mstr\u001b[39;49m\u001b[43m(\u001b[49m\u001b[43mtext\u001b[49m\u001b[43m)\u001b[49m\u001b[43m,\u001b[49m\n\u001b[1;32m     65\u001b[0m \u001b[43m        \u001b[49m\u001b[43mfont_size\u001b[49m\u001b[38;5;241;43m=\u001b[39;49m\u001b[43msize\u001b[49m\u001b[43m,\u001b[49m\n\u001b[1;32m     66\u001b[0m \u001b[43m        \u001b[49m\u001b[43mscreen_space\u001b[49m\u001b[38;5;241;43m=\u001b[39;49m\u001b[43mscreen_space\u001b[49m\u001b[43m,\u001b[49m\n\u001b[1;32m     67\u001b[0m \u001b[43m        \u001b[49m\u001b[43manchor\u001b[49m\u001b[38;5;241;43m=\u001b[39;49m\u001b[43manchor\u001b[49m\u001b[43m,\u001b[49m\n\u001b[1;32m     68\u001b[0m \u001b[43m    \u001b[49m\u001b[43m)\u001b[49m,\n\u001b[1;32m     69\u001b[0m     pygfx\u001b[38;5;241m.\u001b[39mTextMaterial(\n\u001b[1;32m     70\u001b[0m         color\u001b[38;5;241m=\u001b[39mface_color,\n\u001b[1;32m     71\u001b[0m         outline_color\u001b[38;5;241m=\u001b[39moutline_color,\n\u001b[1;32m     72\u001b[0m         outline_thickness\u001b[38;5;241m=\u001b[39moutline_thickness,\n\u001b[1;32m     73\u001b[0m     ),\n\u001b[1;32m     74\u001b[0m )\n\u001b[1;32m     76\u001b[0m \u001b[38;5;28mself\u001b[39m\u001b[38;5;241m.\u001b[39m_set_world_object(world_object)\n\u001b[1;32m     78\u001b[0m \u001b[38;5;28mself\u001b[39m\u001b[38;5;241m.\u001b[39mworld_object\u001b[38;5;241m.\u001b[39mposition \u001b[38;5;241m=\u001b[39m position\n",
      "File \u001b[0;32m~/miniconda3/envs/mestest/lib/python3.11/site-packages/pygfx/geometries/_text.py:213\u001b[0m, in \u001b[0;36mTextGeometry.__init__\u001b[0;34m(self, text, markdown, screen_space, font_size, anchor, max_width, line_height, text_align, family, direction)\u001b[0m\n\u001b[1;32m    211\u001b[0m \u001b[38;5;66;03m# Process input\u001b[39;00m\n\u001b[1;32m    212\u001b[0m \u001b[38;5;28;01mif\u001b[39;00m text \u001b[38;5;129;01mis\u001b[39;00m \u001b[38;5;129;01mnot\u001b[39;00m \u001b[38;5;28;01mNone\u001b[39;00m:\n\u001b[0;32m--> 213\u001b[0m     \u001b[38;5;28;43mself\u001b[39;49m\u001b[38;5;241;43m.\u001b[39;49m\u001b[43mset_text\u001b[49m\u001b[43m(\u001b[49m\u001b[43mtext\u001b[49m\u001b[43m,\u001b[49m\u001b[43m \u001b[49m\u001b[43mfamily\u001b[49m\u001b[38;5;241;43m=\u001b[39;49m\u001b[43mfamily\u001b[49m\u001b[43m)\u001b[49m\n\u001b[1;32m    214\u001b[0m \u001b[38;5;28;01melif\u001b[39;00m markdown \u001b[38;5;129;01mis\u001b[39;00m \u001b[38;5;129;01mnot\u001b[39;00m \u001b[38;5;28;01mNone\u001b[39;00m:\n\u001b[1;32m    215\u001b[0m     \u001b[38;5;28mself\u001b[39m\u001b[38;5;241m.\u001b[39mset_markdown(markdown, family\u001b[38;5;241m=\u001b[39mfamily)\n",
      "File \u001b[0;32m~/miniconda3/envs/mestest/lib/python3.11/site-packages/pygfx/geometries/_text.py:403\u001b[0m, in \u001b[0;36mTextGeometry.set_text\u001b[0;34m(self, text, family, style, weight)\u001b[0m\n\u001b[1;32m    400\u001b[0m \u001b[38;5;28;01mif\u001b[39;00m items \u001b[38;5;129;01mand\u001b[39;00m pending_whitespace:\n\u001b[1;32m    401\u001b[0m     items[\u001b[38;5;241m0\u001b[39m]\u001b[38;5;241m.\u001b[39m_ws_before \u001b[38;5;241m+\u001b[39m\u001b[38;5;241m=\u001b[39m pending_whitespace\n\u001b[0;32m--> 403\u001b[0m \u001b[38;5;28;43mself\u001b[39;49m\u001b[38;5;241;43m.\u001b[39;49m\u001b[43mset_text_items\u001b[49m\u001b[43m(\u001b[49m\u001b[43mitems\u001b[49m\u001b[43m)\u001b[49m\n\u001b[1;32m    404\u001b[0m \u001b[38;5;28;01mreturn\u001b[39;00m \u001b[38;5;28mself\u001b[39m\n",
      "File \u001b[0;32m~/miniconda3/envs/mestest/lib/python3.11/site-packages/pygfx/geometries/_text.py:289\u001b[0m, in \u001b[0;36mTextGeometry.set_text_items\u001b[0;34m(self, text_items)\u001b[0m\n\u001b[1;32m    287\u001b[0m \u001b[38;5;28;01mfor\u001b[39;00m text, font \u001b[38;5;129;01min\u001b[39;00m text_pieces:\n\u001b[1;32m    288\u001b[0m     glyph_indices, positions, meta \u001b[38;5;241m=\u001b[39m \u001b[38;5;28mself\u001b[39m\u001b[38;5;241m.\u001b[39m_shape_text(text, font\u001b[38;5;241m.\u001b[39mfilename)\n\u001b[0;32m--> 289\u001b[0m     atlas_indices \u001b[38;5;241m=\u001b[39m \u001b[38;5;28;43mself\u001b[39;49m\u001b[38;5;241;43m.\u001b[39;49m\u001b[43m_generate_glyph\u001b[49m\u001b[43m(\u001b[49m\u001b[43mglyph_indices\u001b[49m\u001b[43m,\u001b[49m\u001b[43m \u001b[49m\u001b[43mfont\u001b[49m\u001b[38;5;241;43m.\u001b[39;49m\u001b[43mfilename\u001b[49m\u001b[43m)\u001b[49m\n\u001b[1;32m    290\u001b[0m     \u001b[38;5;28mself\u001b[39m\u001b[38;5;241m.\u001b[39m_encode_font_props_in_atlas_indices(\n\u001b[1;32m    291\u001b[0m         atlas_indices, item\u001b[38;5;241m.\u001b[39mfont_props, font\n\u001b[1;32m    292\u001b[0m     )\n\u001b[1;32m    293\u001b[0m     glyph_items\u001b[38;5;241m.\u001b[39mappend(GlyphItem(positions, atlas_indices, meta))\n",
      "File \u001b[0;32m~/miniconda3/envs/mestest/lib/python3.11/site-packages/pygfx/geometries/_text.py:530\u001b[0m, in \u001b[0;36mTextGeometry._generate_glyph\u001b[0;34m(self, glyph_indices, font_filename)\u001b[0m\n\u001b[1;32m    526\u001b[0m \u001b[38;5;28;01mdef\u001b[39;00m \u001b[38;5;21m_generate_glyph\u001b[39m(\u001b[38;5;28mself\u001b[39m, glyph_indices, font_filename):\n\u001b[1;32m    527\u001b[0m \u001b[38;5;250m    \u001b[39m\u001b[38;5;124;03m\"\"\"The glyph generation step. Returns an array with atlas indices.\u001b[39;00m\n\u001b[1;32m    528\u001b[0m \u001b[38;5;124;03m    Can be overloaded for custom behavior.\u001b[39;00m\n\u001b[1;32m    529\u001b[0m \u001b[38;5;124;03m    \"\"\"\u001b[39;00m\n\u001b[0;32m--> 530\u001b[0m     \u001b[38;5;28;01mreturn\u001b[39;00m \u001b[43mtextmodule\u001b[49m\u001b[38;5;241;43m.\u001b[39;49m\u001b[43mgenerate_glyph\u001b[49m\u001b[43m(\u001b[49m\u001b[43mglyph_indices\u001b[49m\u001b[43m,\u001b[49m\u001b[43m \u001b[49m\u001b[43mfont_filename\u001b[49m\u001b[43m)\u001b[49m\n",
      "File \u001b[0;32m~/miniconda3/envs/mestest/lib/python3.11/site-packages/pygfx/utils/text/_sdf.py:53\u001b[0m, in \u001b[0;36mgenerate_glyph\u001b[0;34m(glyph_indices, font_filename)\u001b[0m\n\u001b[1;32m     51\u001b[0m index \u001b[38;5;241m=\u001b[39m glyph_atlas\u001b[38;5;241m.\u001b[39mget_index_from_hash(glyph_hash)\n\u001b[1;32m     52\u001b[0m \u001b[38;5;28;01mif\u001b[39;00m index \u001b[38;5;129;01mis\u001b[39;00m \u001b[38;5;28;01mNone\u001b[39;00m:\n\u001b[0;32m---> 53\u001b[0m     glyph, offset \u001b[38;5;241m=\u001b[39m \u001b[43m_generate_sdf\u001b[49m\u001b[43m(\u001b[49m\u001b[43mface\u001b[49m\u001b[43m,\u001b[49m\u001b[43m \u001b[49m\u001b[43mglyph_index\u001b[49m\u001b[43m)\u001b[49m\n\u001b[1;32m     54\u001b[0m     index \u001b[38;5;241m=\u001b[39m glyph_atlas\u001b[38;5;241m.\u001b[39mstore_region_with_hash(glyph_hash, glyph, offset)\n\u001b[1;32m     55\u001b[0m atlas_indices[i] \u001b[38;5;241m=\u001b[39m index\n",
      "File \u001b[0;32m~/miniconda3/envs/mestest/lib/python3.11/site-packages/pygfx/utils/text/_sdf.py:86\u001b[0m, in \u001b[0;36m_generate_sdf\u001b[0;34m(face, glyph_index)\u001b[0m\n\u001b[1;32m     83\u001b[0m face\u001b[38;5;241m.\u001b[39mload_glyph(glyph_index, freetype\u001b[38;5;241m.\u001b[39mFT_LOAD_DEFAULT)\n\u001b[1;32m     85\u001b[0m \u001b[38;5;66;03m# Render bitmap. This forces the SDF to be based off the bitmap, being more stable\u001b[39;00m\n\u001b[0;32m---> 86\u001b[0m \u001b[43mface\u001b[49m\u001b[38;5;241;43m.\u001b[39;49m\u001b[43mglyph\u001b[49m\u001b[38;5;241;43m.\u001b[39;49m\u001b[43mrender\u001b[49m(freetype\u001b[38;5;241m.\u001b[39mFT_RENDER_MODE_NORMAL)\n\u001b[1;32m     88\u001b[0m \u001b[38;5;66;03m# Render SDF\u001b[39;00m\n\u001b[1;32m     89\u001b[0m \u001b[38;5;28;01mtry\u001b[39;00m:\n",
      "\u001b[0;31mAttributeError\u001b[0m: 'GlyphSlot' object has no attribute 'render'"
     ]
    }
   ],
   "source": [
    "viz = df.mcorr.viz(\n",
    "    data_options=[\"input\", \"mcorr\"],\n",
    "    image_widget_kwargs={\"grid_plot_kwargs\": {\"size\": (800, 400)}},\n",
    ")\n",
    "viz.show(sidecar=True)  # show in sidecar"
   ]
  },
  {
   "cell_type": "markdown",
   "id": "e99bd8cd-c3fd-400e-9adc-ca24114e2efa",
   "metadata": {},
   "source": [
    "# Customization\n",
    "\n",
    "We call `viz` a \"Viz Container\". The `McorrVizContainer` has a fastplotlib `ImageWidget` that you can access."
   ]
  },
  {
   "cell_type": "code",
   "execution_count": 21,
   "id": "aa1e1764-1bb1-4ce1-98e1-9240fbb853cb",
   "metadata": {},
   "outputs": [
    {
     "data": {
      "text/plain": [
       "<mesmerize_viz._mcorr.McorrVizContainer at 0x7f6909b7a050>"
      ]
     },
     "execution_count": 21,
     "metadata": {},
     "output_type": "execute_result"
    }
   ],
   "source": [
    "viz"
   ]
  },
  {
   "cell_type": "markdown",
   "id": "ff9587b8-c0bf-41a5-a580-bd61fb8118fd",
   "metadata": {},
   "source": [
    "**Use tab completion to see public methods and attributes**\n",
    "\n",
    "``viz.<Tab>``"
   ]
  },
  {
   "cell_type": "code",
   "execution_count": 22,
   "id": "9b2b6224-9a5e-40a0-ac60-459260e9eb83",
   "metadata": {
    "tags": []
   },
   "outputs": [
    {
     "data": {
      "text/plain": [
       "<fastplotlib.widgets.image.ImageWidget at 0x7f6909bc16d0>"
      ]
     },
     "execution_count": 22,
     "metadata": {},
     "output_type": "execute_result"
    }
   ],
   "source": [
    "viz.image_widget"
   ]
  },
  {
   "cell_type": "markdown",
   "id": "33b8dce5-0164-4b4c-8bfd-5d3b64507af5",
   "metadata": {},
   "source": [
    "Access subplots, graphics, etc. The full suite of the `fastplotlib` API"
   ]
  },
  {
   "cell_type": "markdown",
   "id": "c3b1329a-56e0-4a18-bf8e-7570371d77e4",
   "metadata": {},
   "source": [
    "# Parameter variants - this is the purpose of mesmerize-core!\n",
    "\n",
    "Let's add another row to the DataFrame. We will use the same input movie but different parameters. This is the basis of how we can perform a _parameter gridsearch_."
   ]
  },
  {
   "cell_type": "code",
   "execution_count": null,
   "id": "5f5d0785-da70-41ed-b31c-418a407ef6ad",
   "metadata": {},
   "outputs": [],
   "source": [
    "mcorr_params2 =\\\n",
    "{\n",
    "  'main':\n",
    "    {\n",
    "        'max_shifts': [4, 4],\n",
    "        'strides': [48, 48],\n",
    "        'overlaps': [24, 24],\n",
    "        'max_deviation_rigid': 3,\n",
    "        'border_nan': 'copy',\n",
    "        'pw_rigid': True,\n",
    "        'gSig_filt': None\n",
    "    },\n",
    "}\n",
    "\n",
    "# add other param variant to the batch\n",
    "df.caiman.add_item(\n",
    "  algo='mcorr',\n",
    "  item_name=movie_path.stem,\n",
    "  input_movie_path=movie_path,\n",
    "  params=mcorr_params2\n",
    ")\n",
    "\n",
    "df"
   ]
  },
  {
   "cell_type": "markdown",
   "id": "1e5bf8fd-bda7-45b5-9cd7-00ea6c0bac38",
   "metadata": {},
   "source": [
    "# Run multiple batch items.\n",
    "\n",
    "`df.iterrows()` iterates through rows and returns the numerical index and row for each iteration"
   ]
  },
  {
   "cell_type": "code",
   "execution_count": null,
   "id": "406aa80b-ea16-4e0b-8447-1c091cabde68",
   "metadata": {
    "tags": []
   },
   "outputs": [],
   "source": [
    "for i, row in df.iterrows():\n",
    "    if row[\"outputs\"] is not None: # item has already been run\n",
    "        continue # skip\n",
    "        \n",
    "    process = row.caiman.run()\n",
    "    \n",
    "    # on Windows you MUST reload the batch dataframe after every iteration because it uses the `local` backend.\n",
    "    # this is unnecessary on Linux & Mac\n",
    "    # \"DummyProcess\" is used for local backend so this is automatic\n",
    "    if process.__class__.__name__ == \"DummyProcess\":\n",
    "        df = df.caiman.reload_from_disk()"
   ]
  },
  {
   "cell_type": "markdown",
   "id": "ffc9a52c-eae1-49f1-a8ba-a79b92e897e4",
   "metadata": {
    "pycharm": {
     "name": "#%% md\n"
    },
    "tags": []
   },
   "source": [
    "# Outputs\n",
    "\n",
    "Load the output information into the DataFrame"
   ]
  },
  {
   "cell_type": "code",
   "execution_count": 38,
   "id": "ab1bfbb4-2737-4aea-9e2f-673cf539279d",
   "metadata": {},
   "outputs": [],
   "source": [
    "df = df.caiman.reload_from_disk()"
   ]
  },
  {
   "cell_type": "code",
   "execution_count": 39,
   "id": "fc41f7a8-e80b-4262-890a-58cfb621f017",
   "metadata": {
    "pycharm": {
     "name": "#%%\n"
    }
   },
   "outputs": [
    {
     "data": {
      "text/html": [
       "<div>\n",
       "<style scoped>\n",
       "    .dataframe tbody tr th:only-of-type {\n",
       "        vertical-align: middle;\n",
       "    }\n",
       "\n",
       "    .dataframe tbody tr th {\n",
       "        vertical-align: top;\n",
       "    }\n",
       "\n",
       "    .dataframe thead th {\n",
       "        text-align: right;\n",
       "    }\n",
       "</style>\n",
       "<table border=\"1\" class=\"dataframe\">\n",
       "  <thead>\n",
       "    <tr style=\"text-align: right;\">\n",
       "      <th></th>\n",
       "      <th>algo</th>\n",
       "      <th>item_name</th>\n",
       "      <th>input_movie_path</th>\n",
       "      <th>params</th>\n",
       "      <th>outputs</th>\n",
       "      <th>added_time</th>\n",
       "      <th>ran_time</th>\n",
       "      <th>algo_duration</th>\n",
       "      <th>comments</th>\n",
       "      <th>uuid</th>\n",
       "    </tr>\n",
       "  </thead>\n",
       "  <tbody>\n",
       "    <tr>\n",
       "      <th>0</th>\n",
       "      <td>mcorr</td>\n",
       "      <td>extracted_plane_1</td>\n",
       "      <td>extracted_plane_1.tif</td>\n",
       "      <td>{'main': {'max_shifts': (4, 4), 'strides': (48, 48), 'overlaps': (24, 24), 'max_deviation_rigid': 3, 'border_nan': '...</td>\n",
       "      <td>{'mean-projection-path': 56dfceb9-059b-46c7-a656-f0bea5d93b65/56dfceb9-059b-46c7-a656-f0bea5d93b65_mean_projection.n...</td>\n",
       "      <td>2024-08-16T11:45:16</td>\n",
       "      <td>2024-08-16T11:45:54</td>\n",
       "      <td>22.55 sec</td>\n",
       "      <td>None</td>\n",
       "      <td>56dfceb9-059b-46c7-a656-f0bea5d93b65</td>\n",
       "    </tr>\n",
       "  </tbody>\n",
       "</table>\n",
       "</div>"
      ],
      "text/plain": [
       "    algo          item_name       input_movie_path  \\\n",
       "0  mcorr  extracted_plane_1  extracted_plane_1.tif   \n",
       "\n",
       "                                                                                                                    params  \\\n",
       "0  {'main': {'max_shifts': (4, 4), 'strides': (48, 48), 'overlaps': (24, 24), 'max_deviation_rigid': 3, 'border_nan': '...   \n",
       "\n",
       "                                                                                                                   outputs  \\\n",
       "0  {'mean-projection-path': 56dfceb9-059b-46c7-a656-f0bea5d93b65/56dfceb9-059b-46c7-a656-f0bea5d93b65_mean_projection.n...   \n",
       "\n",
       "            added_time             ran_time algo_duration comments  \\\n",
       "0  2024-08-16T11:45:16  2024-08-16T11:45:54     22.55 sec     None   \n",
       "\n",
       "                                   uuid  \n",
       "0  56dfceb9-059b-46c7-a656-f0bea5d93b65  "
      ]
     },
     "execution_count": 39,
     "metadata": {},
     "output_type": "execute_result"
    }
   ],
   "source": [
    "df"
   ]
  },
  {
   "cell_type": "markdown",
   "id": "069ddc1e-50fc-4e67-bd68-ef1faf439e6e",
   "metadata": {},
   "source": [
    "# Visualization using `mesmerize-viz` "
   ]
  },
  {
   "cell_type": "code",
   "execution_count": 40,
   "id": "78708874-f58f-4508-b1f5-b07cce0203f8",
   "metadata": {
    "tags": []
   },
   "outputs": [
    {
     "name": "stderr",
     "output_type": "stream",
     "text": [
      "/home/mbo/miniconda3/envs/mescore/lib/python3.11/site-packages/ipydatagrid/datagrid.py:512: UserWarning: Index name of 'index' is not round-trippable.\n",
      "  schema = pd.io.json.build_table_schema(dataframe)\n"
     ]
    },
    {
     "data": {
      "application/vnd.jupyter.widget-view+json": {
       "model_id": "1ddda7de47294c029a546d9f8ef10b2c",
       "version_major": 2,
       "version_minor": 0
      },
      "text/plain": [
       "RFBOutputContext()"
      ]
     },
     "metadata": {},
     "output_type": "display_data"
    },
    {
     "name": "stderr",
     "output_type": "stream",
     "text": [
      "/home/mbo/miniconda3/envs/mescore/lib/python3.11/site-packages/fastplotlib/graphics/_features/_base.py:34: UserWarning: converting float64 array to float32\n",
      "  warn(f\"converting {array.dtype} array to float32\")\n"
     ]
    },
    {
     "data": {
      "application/vnd.jupyter.widget-view+json": {
       "model_id": "8349ef3928654901a866cead91dc2b8d",
       "version_major": 2,
       "version_minor": 0
      },
      "text/plain": [
       "VBox(children=(HBox(children=(DataGrid(auto_fit_params={'area': 'all', 'padding': 30, 'numCols': None}, base_r…"
      ]
     },
     "execution_count": 40,
     "metadata": {},
     "output_type": "execute_result"
    }
   ],
   "source": [
    "mcorr_viz = df.mcorr.viz(\n",
    "    data_options=[\"input\", \"mcorr\"], \n",
    "    image_widget_kwargs={\"grid_plot_kwargs\": {\"size\": (1000, 500)}}  # you can also pass kwargs to the ImageWidget that is created\n",
    ")\n",
    "mcorr_viz.show()"
   ]
  },
  {
   "cell_type": "code",
   "execution_count": 41,
   "id": "390fe3a8-27bd-4710-b6ec-5419c13a4611",
   "metadata": {},
   "outputs": [],
   "source": [
    "# close when done\n",
    "mcorr_viz.close()"
   ]
  },
  {
   "attachments": {},
   "cell_type": "markdown",
   "id": "bdbf763e-8aed-4513-834b-a9b5cb361a65",
   "metadata": {},
   "source": [
    "# Build your own visualizations using `fastplotlib`\n",
    "\n",
    "# Use `ImageWidget` to view multiple mcorr results simultaneously\n",
    "\n",
    "This type of visualization usually requires your files to be lazy-loadble, and the performance will depend on your hard drive's capabilities."
   ]
  },
  {
   "cell_type": "code",
   "execution_count": 37,
   "id": "d0351fcd-58ef-47cf-9f72-6a6a116da929",
   "metadata": {},
   "outputs": [
    {
     "ename": "KeyError",
     "evalue": "'max_shifts'",
     "output_type": "error",
     "traceback": [
      "\u001b[0;31m---------------------------------------------------------------------------\u001b[0m",
      "\u001b[0;31mKeyError\u001b[0m                                  Traceback (most recent call last)",
      "File \u001b[0;32m~/miniconda3/envs/mescore/lib/python3.11/site-packages/pandas/core/indexes/base.py:3805\u001b[0m, in \u001b[0;36mIndex.get_loc\u001b[0;34m(self, key)\u001b[0m\n\u001b[1;32m   3804\u001b[0m \u001b[38;5;28;01mtry\u001b[39;00m:\n\u001b[0;32m-> 3805\u001b[0m     \u001b[38;5;28;01mreturn\u001b[39;00m \u001b[38;5;28;43mself\u001b[39;49m\u001b[38;5;241;43m.\u001b[39;49m\u001b[43m_engine\u001b[49m\u001b[38;5;241;43m.\u001b[39;49m\u001b[43mget_loc\u001b[49m\u001b[43m(\u001b[49m\u001b[43mcasted_key\u001b[49m\u001b[43m)\u001b[49m\n\u001b[1;32m   3806\u001b[0m \u001b[38;5;28;01mexcept\u001b[39;00m \u001b[38;5;167;01mKeyError\u001b[39;00m \u001b[38;5;28;01mas\u001b[39;00m err:\n",
      "File \u001b[0;32mindex.pyx:167\u001b[0m, in \u001b[0;36mpandas._libs.index.IndexEngine.get_loc\u001b[0;34m()\u001b[0m\n",
      "File \u001b[0;32mindex.pyx:196\u001b[0m, in \u001b[0;36mpandas._libs.index.IndexEngine.get_loc\u001b[0;34m()\u001b[0m\n",
      "File \u001b[0;32mpandas/_libs/hashtable_class_helper.pxi:7081\u001b[0m, in \u001b[0;36mpandas._libs.hashtable.PyObjectHashTable.get_item\u001b[0;34m()\u001b[0m\n",
      "File \u001b[0;32mpandas/_libs/hashtable_class_helper.pxi:7089\u001b[0m, in \u001b[0;36mpandas._libs.hashtable.PyObjectHashTable.get_item\u001b[0;34m()\u001b[0m\n",
      "\u001b[0;31mKeyError\u001b[0m: 'max_shifts'",
      "\nThe above exception was the direct cause of the following exception:\n",
      "\u001b[0;31mKeyError\u001b[0m                                  Traceback (most recent call last)",
      "Cell \u001b[0;32mIn[37], line 18\u001b[0m\n\u001b[1;32m     14\u001b[0m \u001b[38;5;28;01mfor\u001b[39;00m i, row \u001b[38;5;129;01min\u001b[39;00m df\u001b[38;5;241m.\u001b[39miterrows():\n\u001b[1;32m     15\u001b[0m     \u001b[38;5;66;03m# add to the list of movies to plot\u001b[39;00m\n\u001b[1;32m     16\u001b[0m     movies\u001b[38;5;241m.\u001b[39mappend(row\u001b[38;5;241m.\u001b[39mmcorr\u001b[38;5;241m.\u001b[39mget_output())\n\u001b[0;32m---> 18\u001b[0m     max_shifts \u001b[38;5;241m=\u001b[39m \u001b[43mparam_diffs\u001b[49m\u001b[38;5;241;43m.\u001b[39;49m\u001b[43miloc\u001b[49m\u001b[43m[\u001b[49m\u001b[43mi\u001b[49m\u001b[43m]\u001b[49m\u001b[43m[\u001b[49m\u001b[38;5;124;43m\"\u001b[39;49m\u001b[38;5;124;43mmax_shifts\u001b[39;49m\u001b[38;5;124;43m\"\u001b[39;49m\u001b[43m]\u001b[49m[\u001b[38;5;241m0\u001b[39m]\n\u001b[1;32m     19\u001b[0m     strides \u001b[38;5;241m=\u001b[39m param_diffs\u001b[38;5;241m.\u001b[39miloc[i][\u001b[38;5;124m\"\u001b[39m\u001b[38;5;124mstrides\u001b[39m\u001b[38;5;124m\"\u001b[39m][\u001b[38;5;241m0\u001b[39m]\n\u001b[1;32m     20\u001b[0m     overlaps \u001b[38;5;241m=\u001b[39m param_diffs\u001b[38;5;241m.\u001b[39miloc[i][\u001b[38;5;124m\"\u001b[39m\u001b[38;5;124moverlaps\u001b[39m\u001b[38;5;124m\"\u001b[39m][\u001b[38;5;241m0\u001b[39m]\n",
      "File \u001b[0;32m~/miniconda3/envs/mescore/lib/python3.11/site-packages/pandas/core/series.py:1121\u001b[0m, in \u001b[0;36mSeries.__getitem__\u001b[0;34m(self, key)\u001b[0m\n\u001b[1;32m   1118\u001b[0m     \u001b[38;5;28;01mreturn\u001b[39;00m \u001b[38;5;28mself\u001b[39m\u001b[38;5;241m.\u001b[39m_values[key]\n\u001b[1;32m   1120\u001b[0m \u001b[38;5;28;01melif\u001b[39;00m key_is_scalar:\n\u001b[0;32m-> 1121\u001b[0m     \u001b[38;5;28;01mreturn\u001b[39;00m \u001b[38;5;28;43mself\u001b[39;49m\u001b[38;5;241;43m.\u001b[39;49m\u001b[43m_get_value\u001b[49m\u001b[43m(\u001b[49m\u001b[43mkey\u001b[49m\u001b[43m)\u001b[49m\n\u001b[1;32m   1123\u001b[0m \u001b[38;5;66;03m# Convert generator to list before going through hashable part\u001b[39;00m\n\u001b[1;32m   1124\u001b[0m \u001b[38;5;66;03m# (We will iterate through the generator there to check for slices)\u001b[39;00m\n\u001b[1;32m   1125\u001b[0m \u001b[38;5;28;01mif\u001b[39;00m is_iterator(key):\n",
      "File \u001b[0;32m~/miniconda3/envs/mescore/lib/python3.11/site-packages/pandas/core/series.py:1237\u001b[0m, in \u001b[0;36mSeries._get_value\u001b[0;34m(self, label, takeable)\u001b[0m\n\u001b[1;32m   1234\u001b[0m     \u001b[38;5;28;01mreturn\u001b[39;00m \u001b[38;5;28mself\u001b[39m\u001b[38;5;241m.\u001b[39m_values[label]\n\u001b[1;32m   1236\u001b[0m \u001b[38;5;66;03m# Similar to Index.get_value, but we do not fall back to positional\u001b[39;00m\n\u001b[0;32m-> 1237\u001b[0m loc \u001b[38;5;241m=\u001b[39m \u001b[38;5;28;43mself\u001b[39;49m\u001b[38;5;241;43m.\u001b[39;49m\u001b[43mindex\u001b[49m\u001b[38;5;241;43m.\u001b[39;49m\u001b[43mget_loc\u001b[49m\u001b[43m(\u001b[49m\u001b[43mlabel\u001b[49m\u001b[43m)\u001b[49m\n\u001b[1;32m   1239\u001b[0m \u001b[38;5;28;01mif\u001b[39;00m is_integer(loc):\n\u001b[1;32m   1240\u001b[0m     \u001b[38;5;28;01mreturn\u001b[39;00m \u001b[38;5;28mself\u001b[39m\u001b[38;5;241m.\u001b[39m_values[loc]\n",
      "File \u001b[0;32m~/miniconda3/envs/mescore/lib/python3.11/site-packages/pandas/core/indexes/base.py:3812\u001b[0m, in \u001b[0;36mIndex.get_loc\u001b[0;34m(self, key)\u001b[0m\n\u001b[1;32m   3807\u001b[0m     \u001b[38;5;28;01mif\u001b[39;00m \u001b[38;5;28misinstance\u001b[39m(casted_key, \u001b[38;5;28mslice\u001b[39m) \u001b[38;5;129;01mor\u001b[39;00m (\n\u001b[1;32m   3808\u001b[0m         \u001b[38;5;28misinstance\u001b[39m(casted_key, abc\u001b[38;5;241m.\u001b[39mIterable)\n\u001b[1;32m   3809\u001b[0m         \u001b[38;5;129;01mand\u001b[39;00m \u001b[38;5;28many\u001b[39m(\u001b[38;5;28misinstance\u001b[39m(x, \u001b[38;5;28mslice\u001b[39m) \u001b[38;5;28;01mfor\u001b[39;00m x \u001b[38;5;129;01min\u001b[39;00m casted_key)\n\u001b[1;32m   3810\u001b[0m     ):\n\u001b[1;32m   3811\u001b[0m         \u001b[38;5;28;01mraise\u001b[39;00m InvalidIndexError(key)\n\u001b[0;32m-> 3812\u001b[0m     \u001b[38;5;28;01mraise\u001b[39;00m \u001b[38;5;167;01mKeyError\u001b[39;00m(key) \u001b[38;5;28;01mfrom\u001b[39;00m \u001b[38;5;21;01merr\u001b[39;00m\n\u001b[1;32m   3813\u001b[0m \u001b[38;5;28;01mexcept\u001b[39;00m \u001b[38;5;167;01mTypeError\u001b[39;00m:\n\u001b[1;32m   3814\u001b[0m     \u001b[38;5;66;03m# If we have a listlike key, _check_indexing_error will raise\u001b[39;00m\n\u001b[1;32m   3815\u001b[0m     \u001b[38;5;66;03m#  InvalidIndexError. Otherwise we fall through and re-raise\u001b[39;00m\n\u001b[1;32m   3816\u001b[0m     \u001b[38;5;66;03m#  the TypeError.\u001b[39;00m\n\u001b[1;32m   3817\u001b[0m     \u001b[38;5;28mself\u001b[39m\u001b[38;5;241m.\u001b[39m_check_indexing_error(key)\n",
      "\u001b[0;31mKeyError\u001b[0m: 'max_shifts'"
     ]
    }
   ],
   "source": [
    "# first item is just the raw movie\n",
    "movies = [df.iloc[0].caiman.get_input_movie()]\n",
    "\n",
    "# subplot titles\n",
    "subplot_names = [\"raw\"]\n",
    "\n",
    "# we will use the mean images later\n",
    "means = [df.iloc[0].caiman.get_projection(\"mean\")]\n",
    "\n",
    "# get the param diffs to set plot titles\n",
    "param_diffs = df.caiman.get_params_diffs(\"mcorr\", item_name=df.iloc[0][\"item_name\"])\n",
    "\n",
    "# add all the mcorr outputs to the list\n",
    "for i, row in df.iterrows():\n",
    "    # add to the list of movies to plot\n",
    "    movies.append(row.mcorr.get_output())\n",
    "\n",
    "    max_shifts = param_diffs.iloc[i][\"max_shifts\"][0]\n",
    "    strides = param_diffs.iloc[i][\"strides\"][0]\n",
    "    overlaps = param_diffs.iloc[i][\"overlaps\"][0]\n",
    "    \n",
    "    # subplot title to show dataframe index\n",
    "    subplot_names.append(f\"ix {i}: max_sh: {max_shifts}, str: {strides}, ove: {overlaps}\")\n",
    "    \n",
    "    # mean images which we'll use later\n",
    "    means.append(row.caiman.get_projection(\"mean\"))\n",
    "\n",
    "# create the widget\n",
    "mcorr_iw_multiple = fpl.ImageWidget(\n",
    "    data=movies,  # list of movies\n",
    "    window_funcs={\"t\": (np.mean, 17)}, # window functions as a kwarg, this is what the slider was used for in the ready-made viz\n",
    "    grid_plot_kwargs={\"size\": (900, 700)},\n",
    "    names=subplot_names,  # subplot names used for titles\n",
    "    cmap=\"gnuplot2\"\n",
    ")\n",
    "\n",
    "mcorr_iw_multiple.show()"
   ]
  },
  {
   "cell_type": "markdown",
   "id": "fae7e4f4-76a4-4fd9-a717-cd4deb901fb0",
   "metadata": {},
   "source": [
    "Optionally hide the histogram LUT tool"
   ]
  },
  {
   "cell_type": "code",
   "execution_count": null,
   "id": "a374e83e-16e3-49bc-ab26-2f158c1cefa6",
   "metadata": {},
   "outputs": [],
   "source": [
    "for subplot in mcorr_iw_multiple.gridplot:\n",
    "    subplot.docks[\"right\"].size = 0"
   ]
  },
  {
   "cell_type": "markdown",
   "id": "0f0f40f5-3f92-4d6d-a372-667e8bfb5672",
   "metadata": {},
   "source": [
    "Modify the `window_funcs` at any time. This is what the slider in `mesmerize-viz` does."
   ]
  },
  {
   "cell_type": "code",
   "execution_count": null,
   "id": "cec3c2bf-e211-49fb-b7c8-bae5ceca99eb",
   "metadata": {},
   "outputs": [],
   "source": [
    "mcorr_iw_multiple.window_funcs[\"t\"].window_size = 43"
   ]
  },
  {
   "cell_type": "code",
   "execution_count": null,
   "id": "0016f010-2f47-4e13-8b4a-574aadb2b525",
   "metadata": {},
   "outputs": [],
   "source": [
    "mcorr_iw_multiple.close()"
   ]
  },
  {
   "cell_type": "markdown",
   "id": "de6b4f8f-b168-486a-9237-f31412b19ca8",
   "metadata": {},
   "source": [
    "# Optional, cleanup DataFrame\n",
    "\n",
    "ix `6` seems to work the best so we will cleanup the DataFrame and remove all other items.\n",
    "\n",
    "Remove batch items (i.e. rows) using `df.caiman.remove_item(<item_uuid>)`. This also cleans up the output data in the batch directory."
   ]
  },
  {
   "cell_type": "code",
   "execution_count": 34,
   "id": "cc1fb4fd-4cb3-41ca-9ec1-a62c15711afa",
   "metadata": {},
   "outputs": [
    {
     "data": {
      "text/plain": [
       "['56dfceb9-059b-46c7-a656-f0bea5d93b65']"
      ]
     },
     "execution_count": 34,
     "metadata": {},
     "output_type": "execute_result"
    }
   ],
   "source": [
    "# make a list of rows we want to keep using the uuids\n",
    "rows_keep = [df.iloc[0].uuid]\n",
    "rows_keep"
   ]
  },
  {
   "cell_type": "markdown",
   "id": "820304a4-a1bb-4719-9ae7-a69f6752f329",
   "metadata": {},
   "source": [
    "**Note:** On windows calling `remove_item()` will raise a `PermissionError` if you have the memmap file open. The workaround is to shutdown the current kernel and then use `df.caiman.remove_item()`. For example, you can keep another notebook that you use just for cleaning unwanted mcorr items.\n",
    "\n",
    "There is currently no way to close a `numpy.memmap`: https://github.com/numpy/numpy/issues/13510"
   ]
  },
  {
   "cell_type": "code",
   "execution_count": 36,
   "id": "0985f784-9ef1-4718-91ee-61c6c5b931c0",
   "metadata": {},
   "outputs": [
    {
     "data": {
      "text/html": [
       "<div>\n",
       "<style scoped>\n",
       "    .dataframe tbody tr th:only-of-type {\n",
       "        vertical-align: middle;\n",
       "    }\n",
       "\n",
       "    .dataframe tbody tr th {\n",
       "        vertical-align: top;\n",
       "    }\n",
       "\n",
       "    .dataframe thead th {\n",
       "        text-align: right;\n",
       "    }\n",
       "</style>\n",
       "<table border=\"1\" class=\"dataframe\">\n",
       "  <thead>\n",
       "    <tr style=\"text-align: right;\">\n",
       "      <th></th>\n",
       "      <th>algo</th>\n",
       "      <th>item_name</th>\n",
       "      <th>input_movie_path</th>\n",
       "      <th>params</th>\n",
       "      <th>outputs</th>\n",
       "      <th>added_time</th>\n",
       "      <th>ran_time</th>\n",
       "      <th>algo_duration</th>\n",
       "      <th>comments</th>\n",
       "      <th>uuid</th>\n",
       "    </tr>\n",
       "  </thead>\n",
       "  <tbody>\n",
       "    <tr>\n",
       "      <th>0</th>\n",
       "      <td>mcorr</td>\n",
       "      <td>extracted_plane_1</td>\n",
       "      <td>extracted_plane_1.tif</td>\n",
       "      <td>{'main': {'max_shifts': (4, 4), 'strides': (48, 48), 'overlaps': (24, 24), 'max_deviation_rigid': 3, 'border_nan': '...</td>\n",
       "      <td>{'mean-projection-path': 56dfceb9-059b-46c7-a656-f0bea5d93b65/56dfceb9-059b-46c7-a656-f0bea5d93b65_mean_projection.n...</td>\n",
       "      <td>2024-08-16T11:45:16</td>\n",
       "      <td>2024-08-16T11:45:54</td>\n",
       "      <td>22.55 sec</td>\n",
       "      <td>None</td>\n",
       "      <td>56dfceb9-059b-46c7-a656-f0bea5d93b65</td>\n",
       "    </tr>\n",
       "  </tbody>\n",
       "</table>\n",
       "</div>"
      ],
      "text/plain": [
       "    algo          item_name       input_movie_path  \\\n",
       "0  mcorr  extracted_plane_1  extracted_plane_1.tif   \n",
       "\n",
       "                                                                                                                    params  \\\n",
       "0  {'main': {'max_shifts': (4, 4), 'strides': (48, 48), 'overlaps': (24, 24), 'max_deviation_rigid': 3, 'border_nan': '...   \n",
       "\n",
       "                                                                                                                   outputs  \\\n",
       "0  {'mean-projection-path': 56dfceb9-059b-46c7-a656-f0bea5d93b65/56dfceb9-059b-46c7-a656-f0bea5d93b65_mean_projection.n...   \n",
       "\n",
       "            added_time             ran_time algo_duration comments  \\\n",
       "0  2024-08-16T11:45:16  2024-08-16T11:45:54     22.55 sec     None   \n",
       "\n",
       "                                   uuid  \n",
       "0  56dfceb9-059b-46c7-a656-f0bea5d93b65  "
      ]
     },
     "execution_count": 36,
     "metadata": {},
     "output_type": "execute_result"
    }
   ],
   "source": [
    "for i, row in df.iterrows():\n",
    "    if row.uuid not in rows_keep:\n",
    "        df.caiman.remove_item(row.uuid, safe_removal=False)\n",
    "\n",
    "df"
   ]
  },
  {
   "cell_type": "markdown",
   "id": "147fe036-370c-4b40-ad74-c74cc62fb380",
   "metadata": {},
   "source": [
    "Indices are always reset when you use `caiman.remove_item()`. UUIDs are always preserved."
   ]
  },
  {
   "cell_type": "markdown",
   "id": "6dc1260b-634c-49cc-b99b-10c44b3af72d",
   "metadata": {
    "pycharm": {
     "name": "#%% md\n"
    }
   },
   "source": [
    "# CNMF\n",
    "\n",
    "Perform CNMF using the mcorr output.\n",
    "\n",
    "Similar to mcorr, put the CNMF params within the `main` key. The `refit` key will perform a second iteration, as shown in the `caiman` `demo_pipeline.ipynb` notebook."
   ]
  },
  {
   "cell_type": "code",
   "execution_count": 3,
   "id": "cc283595-b82a-4270-a51b-f1d9cdc78d19",
   "metadata": {
    "pycharm": {
     "name": "#%%\n"
    }
   },
   "outputs": [],
   "source": [
    "# some params for CNMF\n",
    "params_cnmf = {\n",
    "    'main': # indicates that these are the \"main\" params for the CNMF algo\n",
    "        {\n",
    "            'fr': 30, # framerate, very important!\n",
    "            'p': 1,\n",
    "            'nb': 2,\n",
    "            'merge_thr': 0.85,\n",
    "            'rf': 15,\n",
    "            'stride': 6, # \"stride\" for cnmf, \"strides\" for mcorr\n",
    "            'K': 4,\n",
    "            'gSig': [4, 4],\n",
    "            'ssub': 1,\n",
    "            'tsub': 1,\n",
    "            'method_init': 'greedy_roi',\n",
    "            'min_SNR': 2.0,\n",
    "            'rval_thr': 0.7,\n",
    "            'use_cnn': True,\n",
    "            'min_cnn_thr': 0.8,\n",
    "            'cnn_lowest': 0.1,\n",
    "            'decay_time': 0.4,\n",
    "        },\n",
    "    'refit': True, # If `True`, run a second iteration of CNMF\n",
    "}"
   ]
  },
  {
   "cell_type": "markdown",
   "id": "31ba4f19-8764-446f-895d-7ff59912f604",
   "metadata": {},
   "source": [
    "# Add CNMF item\n",
    "\n",
    "You can provide the mcorr item row to `input_movie_path` and it will resolve the path of the input movie from the entry in the DataFrame."
   ]
  },
  {
   "cell_type": "code",
   "execution_count": null,
   "id": "29c48dd1-0eb5-48e5-96ab-0b2633983b88",
   "metadata": {
    "pycharm": {
     "name": "#%%\n"
    }
   },
   "outputs": [],
   "source": [
    "good_mcorr_index = 6\n",
    "\n",
    "# add a batch item\n",
    "df.caiman.add_item(\n",
    "    algo='cnmf', # algo is cnmf\n",
    "    input_movie_path=df.iloc[good_mcorr_index],  # use mcorr output from a completed batch item\n",
    "    params=params_cnmf,\n",
    "    item_name=df.iloc[good_mcorr_index][\"item_name\"], # use the same item name\n",
    ")"
   ]
  },
  {
   "cell_type": "markdown",
   "id": "0d34b4eb-e6da-46e8-9899-e322cd64b5f1",
   "metadata": {
    "tags": []
   },
   "source": [
    "See the cnmf item at the bottom of the dataframe"
   ]
  },
  {
   "cell_type": "code",
   "execution_count": null,
   "id": "10308894-6c71-4471-8cb9-d585a8adf0ea",
   "metadata": {},
   "outputs": [],
   "source": [
    "df"
   ]
  },
  {
   "cell_type": "markdown",
   "id": "2b2c7c16-24a1-4893-976e-e52e7430a9c7",
   "metadata": {},
   "source": [
    "# Run CNMF\n",
    "\n",
    "The API is identical to running mcorr"
   ]
  },
  {
   "cell_type": "code",
   "execution_count": null,
   "id": "ba02626d-c9cc-4313-93d6-5ea84dc6b6e5",
   "metadata": {},
   "outputs": [],
   "source": [
    "index = -1  # most recently added item\n",
    "df.iloc[index].caiman.run()"
   ]
  },
  {
   "cell_type": "markdown",
   "id": "bc44542f-d653-40b1-821e-6ba68df6826e",
   "metadata": {},
   "source": [
    "# Reload dataframe"
   ]
  },
  {
   "cell_type": "code",
   "execution_count": null,
   "id": "83bcc946-d5b1-4986-86df-b67d15ed9102",
   "metadata": {},
   "outputs": [],
   "source": [
    "df = df.caiman.reload_from_disk()\n",
    "df"
   ]
  },
  {
   "cell_type": "markdown",
   "id": "c1128142-282d-43f7-83c2-0408066b5f66",
   "metadata": {},
   "source": [
    "# CNMF outputs\n",
    "\n",
    "Similar to mcorr, you can use the `mesmerize-core` API to fetch the outputs. The API reference for CNMF is here: https://mesmerize-core.readthedocs.io/en/latest/api/cnmf.html"
   ]
  },
  {
   "cell_type": "code",
   "execution_count": null,
   "id": "34e7f7de-6a70-4d5d-b999-611509953437",
   "metadata": {},
   "outputs": [],
   "source": [
    "index = -1  # index of the cnmf item, last item in the dataframe\n",
    "\n",
    "# temporal components\n",
    "temporal = df.iloc[index].cnmf.get_temporal()"
   ]
  },
  {
   "cell_type": "code",
   "execution_count": null,
   "id": "9f46abe9-ddcf-4a72-b7b2-3664cb3cbccb",
   "metadata": {},
   "outputs": [],
   "source": [
    "temporal.shape"
   ]
  },
  {
   "cell_type": "markdown",
   "id": "75e4d6de-f397-4142-a152-26cb63bf8b55",
   "metadata": {},
   "source": [
    "Many of the cnmf functions take a rich set of arguments"
   ]
  },
  {
   "cell_type": "code",
   "execution_count": null,
   "id": "1e3a23d5-e26d-49b2-962c-fc3eefc5a80f",
   "metadata": {},
   "outputs": [],
   "source": [
    "# get accepted or rejected components\n",
    "temporal_good = df.iloc[index].cnmf.get_temporal(\"good\")\n",
    "\n",
    "# shape is [n_components, n_frames]\n",
    "temporal_good.shape"
   ]
  },
  {
   "cell_type": "code",
   "execution_count": null,
   "id": "f23f01a8-45c4-4dc6-8e58-f50ef534f035",
   "metadata": {},
   "outputs": [],
   "source": [
    "# get specific components\n",
    "df.iloc[index].cnmf.get_temporal(np.array([1, 5, 9]))"
   ]
  },
  {
   "cell_type": "code",
   "execution_count": null,
   "id": "48b6cad9-f7f4-498b-81b7-856dd1b97613",
   "metadata": {},
   "outputs": [],
   "source": [
    "# get temporal with the residuals, i.e. C + YrA\n",
    "temporal_with_residuals = df.iloc[index].cnmf.get_temporal(add_residuals=True)"
   ]
  },
  {
   "cell_type": "code",
   "execution_count": null,
   "id": "0a6963c9-81f8-4922-8bc3-a2ce468052a4",
   "metadata": {},
   "outputs": [],
   "source": [
    "# get contours\n",
    "contours = df.iloc[index].cnmf.get_contours()"
   ]
  },
  {
   "cell_type": "markdown",
   "id": "cff3ce6e-78ce-4a54-85e5-45caaeb9476f",
   "metadata": {},
   "source": [
    "Returns: `(list of np.ndarray of contour coordinates, list of center of mass)`"
   ]
  },
  {
   "cell_type": "code",
   "execution_count": null,
   "id": "f3d1f01a-7366-4073-9f50-051ee38e0097",
   "metadata": {},
   "outputs": [],
   "source": [
    "print(f\"contour 0 coordinates:\\n\\n{contours[0][0]}\\n\\n com: {contours[1][0]}\")"
   ]
  },
  {
   "cell_type": "code",
   "execution_count": null,
   "id": "67f45923-e273-4c54-8a36-5d609e04c880",
   "metadata": {},
   "outputs": [],
   "source": [
    "len(contours)"
   ]
  },
  {
   "cell_type": "code",
   "execution_count": null,
   "id": "3543a94a-5c07-4ff5-b117-cdbf12fc3b6b",
   "metadata": {},
   "outputs": [],
   "source": [
    "# get_contours() also takes arguments\n",
    "contours_good = df.iloc[index].cnmf.get_contours(\"good\")"
   ]
  },
  {
   "cell_type": "code",
   "execution_count": null,
   "id": "fce4858e-d632-4a98-99f4-d10d67dfb94c",
   "metadata": {},
   "outputs": [],
   "source": [
    "len(contours_good[0]) # number of contours"
   ]
  },
  {
   "cell_type": "markdown",
   "id": "1e0af648-f80c-4b71-9164-4aca607e09da",
   "metadata": {},
   "source": [
    "swap_dim"
   ]
  },
  {
   "cell_type": "code",
   "execution_count": null,
   "id": "0bba44b2-644b-4691-a0af-bd820fdac683",
   "metadata": {
    "tags": []
   },
   "outputs": [],
   "source": [
    "# get the first contour using swap_dim=True (default)\n",
    "swap_dim_true = df.iloc[index].cnmf.get_contours()[0][0]"
   ]
  },
  {
   "cell_type": "code",
   "execution_count": null,
   "id": "286bf44b-7b5d-43b5-9741-7ac0e5e21852",
   "metadata": {},
   "outputs": [],
   "source": [
    "# get the first contour  with swap_dim=False\n",
    "swap_dim_false = df.iloc[index].cnmf.get_contours(swap_dim=False)[0][0]"
   ]
  },
  {
   "cell_type": "code",
   "execution_count": null,
   "id": "9231593d-7069-455f-b0d1-409a61d26ccb",
   "metadata": {},
   "outputs": [],
   "source": [
    "plt.plot(\n",
    "    swap_dim_true[:, 0], \n",
    "    swap_dim_true[:, 1], \n",
    "    label=\"swap_dim=True\"\n",
    ")\n",
    "plt.plot(\n",
    "    swap_dim_false[:, 0], \n",
    "    swap_dim_false[:, 1], \n",
    "    label=\"swap_dim=False\"\n",
    ")\n",
    "plt.legend()"
   ]
  },
  {
   "cell_type": "code",
   "execution_count": null,
   "id": "944252d3-d654-4394-acb7-c620ccb01f85",
   "metadata": {},
   "outputs": [],
   "source": [
    "# swap_dim swaps the x and y dims\n",
    "plt.plot(\n",
    "    swap_dim_true[:, 0], \n",
    "    swap_dim_true[:, 1], \n",
    "    linewidth=30\n",
    ")\n",
    "plt.plot(\n",
    "    swap_dim_false[:, 1], \n",
    "    swap_dim_false[:, 0], \n",
    "    linewidth=10\n",
    ")"
   ]
  },
  {
   "cell_type": "markdown",
   "id": "5c6c8e98-13fd-45c6-9afe-7fc3193ed3de",
   "metadata": {},
   "source": [
    "# Reconstructed movie - `A * C`\n",
    "# Reconstructed background - `b * f`\n",
    "# Residuals - `Y - AC - bf` \n",
    "\n",
    "Mesmerize-core provides these outputs as lazy arrays. This allows you to work with arrays that would otherwise be hundreds of gigabytes or terabytes in size."
   ]
  },
  {
   "cell_type": "code",
   "execution_count": null,
   "id": "c58ce87d-4e75-4026-840c-81b826245ba3",
   "metadata": {},
   "outputs": [],
   "source": [
    "rcm = df.iloc[index].cnmf.get_rcm()\n",
    "rcm"
   ]
  },
  {
   "cell_type": "markdown",
   "id": "2722d48c-e433-4a73-8eec-9e37e053f651",
   "metadata": {},
   "source": [
    "LazyArrays behave like numpy arrays"
   ]
  },
  {
   "cell_type": "code",
   "execution_count": null,
   "id": "1b3de689-d734-4534-b36b-4ffb7f061d7a",
   "metadata": {},
   "outputs": [],
   "source": [
    "rcm[42]"
   ]
  },
  {
   "cell_type": "code",
   "execution_count": null,
   "id": "980b03b1-c2d3-44dc-a741-d43dd689abca",
   "metadata": {},
   "outputs": [],
   "source": [
    "rcm[10:20].shape"
   ]
  },
  {
   "cell_type": "markdown",
   "id": "c6fe2ca3-0255-43fd-9ae2-c635b2d0355a",
   "metadata": {},
   "source": [
    "# Using LazyArrays"
   ]
  },
  {
   "cell_type": "code",
   "execution_count": null,
   "id": "cf4f70d3-badc-4339-92f8-1ac0351e64b6",
   "metadata": {},
   "outputs": [],
   "source": [
    "rcm_accepted = df.iloc[index].cnmf.get_rcm(\"good\")\n",
    "rcm_rejected = df.iloc[index].cnmf.get_rcm(\"bad\")"
   ]
  },
  {
   "cell_type": "code",
   "execution_count": null,
   "id": "96b638ee-ce7e-4c58-a2e5-3d46b986d04a",
   "metadata": {},
   "outputs": [],
   "source": [
    "iw_max = fpl.ImageWidget(\n",
    "    data=[rcm_accepted.max_image, rcm_rejected.max_image],\n",
    "    names=[\"accepted\", \"rejected\"],\n",
    "    grid_plot_kwargs={\"size\": (900, 450)},\n",
    "    cmap=\"gnuplot2\"\n",
    ")\n",
    "iw_max.show()"
   ]
  },
  {
   "cell_type": "code",
   "execution_count": null,
   "id": "0517f807-bb71-4152-b1ad-ad785d4108cc",
   "metadata": {},
   "outputs": [],
   "source": [
    "iw_rcm_separated = fpl.ImageWidget(\n",
    "    data=[rcm_accepted, rcm_rejected],\n",
    "    names=[\"accepted\", \"rejected\"],\n",
    "    grid_plot_kwargs={\"size\": (900, 450)},\n",
    "    cmap=\"gnuplot2\"\n",
    ")\n",
    "iw_rcm_separated.show()"
   ]
  },
  {
   "cell_type": "markdown",
   "id": "934dc203-fa0c-4c1e-b8e9-0c6dba91ef3d",
   "metadata": {},
   "source": [
    "# All CNMF LazyArrays"
   ]
  },
  {
   "cell_type": "code",
   "execution_count": null,
   "id": "6e2acd69-bd4b-455e-85fd-b55c588e3057",
   "metadata": {},
   "outputs": [],
   "source": [
    "rcb = df.iloc[index].cnmf.get_rcb()\n",
    "residuals = df.iloc[index].cnmf.get_residuals()\n",
    "input_movie = df.iloc[index].caiman.get_input_movie()"
   ]
  },
  {
   "cell_type": "markdown",
   "id": "fe635528-550a-43cd-b343-931a9a0410b8",
   "metadata": {},
   "source": [
    "`ImageWidget` accepts arrays that are sufficiently numpy-like"
   ]
  },
  {
   "cell_type": "code",
   "execution_count": null,
   "id": "9b3efeec-3578-4863-bff4-0100cc489ccb",
   "metadata": {},
   "outputs": [],
   "source": [
    "iw_rcm = fpl.ImageWidget(\n",
    "    data=[input_movie, rcm, rcb, residuals], \n",
    "    grid_plot_kwargs={\"size\": (800, 600)}, \n",
    "    cmap=\"gnuplot2\"\n",
    ")\n",
    "iw_rcm.show()"
   ]
  },
  {
   "cell_type": "code",
   "execution_count": null,
   "id": "0cbc13a6-11a0-4f98-bc4d-a3c7bb25fc53",
   "metadata": {},
   "outputs": [],
   "source": [
    "iw_rcm.close()"
   ]
  },
  {
   "cell_type": "markdown",
   "id": "d449a312-2af9-423e-94c2-a3ab4fa374e7",
   "metadata": {},
   "source": [
    "# Visualize everything with `mesmerize-viz`"
   ]
  },
  {
   "cell_type": "code",
   "execution_count": null,
   "id": "d4ec1b2f-e992-42b7-902c-14cc78ba8d99",
   "metadata": {},
   "outputs": [],
   "source": [
    "viz_cnmf = df.cnmf.viz()\n",
    "viz_cnmf.show()"
   ]
  },
  {
   "cell_type": "code",
   "execution_count": null,
   "id": "db8c98a1-2d21-400c-9bba-fcd3e450e5da",
   "metadata": {},
   "outputs": [],
   "source": [
    "viz_cnmf.close()"
   ]
  },
  {
   "cell_type": "markdown",
   "id": "ae1b2d80-1d6f-403b-b98a-3471c96f57d6",
   "metadata": {},
   "source": [
    "# Parameter Gridsearch\n",
    "\n",
    "As shown for motion correction, the purpose of `mesmerize-core` is to perform parameter searches"
   ]
  },
  {
   "cell_type": "code",
   "execution_count": null,
   "id": "fc7684d2-3d2c-43ac-9064-ba3997f7a1c8",
   "metadata": {},
   "outputs": [],
   "source": [
    "# itertools.product makes it easy to loop through parameter variants\n",
    "# basically, it's easier to read that deeply nested for loops\n",
    "from itertools import product\n",
    "\n",
    "# variants of several parameters\n",
    "gSig_variants = [4, 6]\n",
    "K_variants = [4, 8]\n",
    "merge_thr_variants = [0.8, 0.95]\n",
    "\n",
    "# always use deepcopy like before\n",
    "new_params_cnmf = deepcopy(params_cnmf)\n",
    "\n",
    "# create a parameter grid\n",
    "parameter_grid = product(gSig_variants, K_variants, merge_thr_variants)\n",
    "\n",
    "# a single for loop to go through all the various parameter combinations\n",
    "for gSig, K, merge_thr in parameter_grid:\n",
    "    # deep copy params dict just like before\n",
    "    new_params_cnmf = deepcopy(new_params_cnmf)\n",
    "    \n",
    "    new_params_cnmf[\"main\"][\"gSig\"] = [gSig, gSig]\n",
    "    new_params_cnmf[\"main\"][\"K\"] = K\n",
    "    new_params_cnmf[\"main\"][\"merge_thr\"] = merge_thr\n",
    "    \n",
    "    # add param combination variant to batch\n",
    "    df.caiman.add_item(\n",
    "        algo=\"cnmf\",\n",
    "        item_name=df.iloc[good_mcorr_index][\"item_name\"],  # good mcorr item\n",
    "        input_movie_path=df.iloc[good_mcorr_index],\n",
    "        params=new_params_cnmf\n",
    "    )"
   ]
  },
  {
   "cell_type": "markdown",
   "id": "5cb21a8e-709d-4888-bbd9-42653f700240",
   "metadata": {},
   "source": [
    "We now have lot of cnmf items"
   ]
  },
  {
   "cell_type": "code",
   "execution_count": null,
   "id": "0fb3f94d-34d2-4eef-ad2d-b4f6db89fa72",
   "metadata": {},
   "outputs": [],
   "source": [
    "df"
   ]
  },
  {
   "cell_type": "markdown",
   "id": "9bf8dce3-b0f7-43b0-b719-774673b6cb25",
   "metadata": {},
   "source": [
    "View the diffs"
   ]
  },
  {
   "cell_type": "code",
   "execution_count": null,
   "id": "80b98249-b3b5-4481-a4e2-dbdcbf8d1ed9",
   "metadata": {},
   "outputs": [],
   "source": [
    "df.caiman.get_params_diffs(algo=\"cnmf\", item_name=df.iloc[-1][\"item_name\"])"
   ]
  },
  {
   "cell_type": "markdown",
   "id": "628a194f-39c3-45a7-a029-53925763cc1e",
   "metadata": {},
   "source": [
    "# Run the `cnmf` batch items"
   ]
  },
  {
   "cell_type": "code",
   "execution_count": null,
   "id": "ee0b9ac5-f66d-4370-842c-8655f5469286",
   "metadata": {},
   "outputs": [],
   "source": [
    "for i, row in df.iterrows():\n",
    "    if row[\"outputs\"] is not None: # item has already been run\n",
    "        continue # skip\n",
    "        \n",
    "    process = row.caiman.run()\n",
    "    \n",
    "    # on Windows you MUST reload the batch dataframe after every iteration because it uses the `local` backend.\n",
    "    # this is unnecessary on Linux & Mac\n",
    "    # \"DummyProcess\" is used for local backend so this is automatic\n",
    "    if process.__class__.__name__ == \"DummyProcess\":\n",
    "        df = df.caiman.reload_from_disk()"
   ]
  },
  {
   "cell_type": "markdown",
   "id": "348d0757-675d-4a2d-a024-559507830e31",
   "metadata": {},
   "source": [
    "# Load outputs"
   ]
  },
  {
   "cell_type": "code",
   "execution_count": null,
   "id": "80f3eca7-916a-4e4e-a109-5906b4c91c7d",
   "metadata": {},
   "outputs": [],
   "source": [
    "df = df.caiman.reload_from_disk()"
   ]
  },
  {
   "cell_type": "code",
   "execution_count": null,
   "id": "c2981938-0583-4407-8035-12d11d1535bc",
   "metadata": {},
   "outputs": [],
   "source": [
    "df"
   ]
  },
  {
   "cell_type": "markdown",
   "id": "597b900e-e47a-4e48-b101-63f9ebf909cd",
   "metadata": {},
   "source": [
    "# Visualize with `mesmerize-viz`"
   ]
  },
  {
   "cell_type": "code",
   "execution_count": null,
   "id": "d4fb527d-0444-4fb4-a703-e9d12f03cfd9",
   "metadata": {},
   "outputs": [],
   "source": [
    "viz_cnmf = df.cnmf.viz()\n",
    "viz_cnmf.show(sidecar=True)"
   ]
  },
  {
   "cell_type": "markdown",
   "id": "b3df8f51-dcc7-4e45-b968-f38147e1e415",
   "metadata": {},
   "source": [
    "# Caiman docs on component eval\n",
    "\n",
    "https://caiman.readthedocs.io/en/latest/Getting_Started.html#component-evaluation\n",
    "\n",
    "> The quality of detected components is evaluated with three parameters:\n",
    ">\n",
    "> Spatial footprint consistency (rval): The spatial footprint of the component is compared with the frames where this component is active. Other component’s signals are subtracted from these frames, and the resulting raw data is correlated against the spatial component. This ensures that the raw data at the spatial footprint aligns with the extracted trace.\n",
    ">\n",
    "> Trace signal-noise-ratio (SNR): Peak SNR is calculated from strong calcium transients and the noise estimate.\n",
    ">\n",
    "> CNN-based classifier (cnn): The shape of components is evaluated by a 4-layered convolutional neural network trained on a manually annotated dataset. The CNN assigns a value of 0-1 to each component depending on its resemblance to a neuronal soma.\n",
    "> \n",
    "> Each parameter has a low threshold:\n",
    "> - (rval_lowest (default -1), SNR_lowest (default 0.5), cnn_lowest (default 0.1))\n",
    ">\n",
    "> and high threshold\n",
    "> \n",
    "> - (rval_thr (default 0.8), min_SNR (default 2.5), min_cnn_thr (default 0.9))\n",
    "> \n",
    "> A component has to exceed ALL low thresholds as well as ONE high threshold to be accepted."
   ]
  },
  {
   "cell_type": "markdown",
   "id": "97566a87-2182-496d-9dfb-83ede10ab95f",
   "metadata": {},
   "source": [
    "# This rich visualization is still customizable!\n",
    "\n",
    "Public attributes:\n",
    "\n",
    "- `image_widget`: the `ImageWidget` in the visualization\n",
    "- `plot_temporal`: the `Plot` with the temporal\n",
    "- `plot_heatmap`: the `Plot` with the heatmap\n",
    "- `cnmf_obj`: The cnmf object currently being visualized. This object gets saved to disk when you click the \"Save Eval to disk\" button.\n",
    "- `component_index`: current component index, `int`\n",
    "\n",
    "A few public methods:\n",
    "- `show()` show the visualization\n",
    "- `set_component_index(index: int)` manually set the component index"
   ]
  },
  {
   "cell_type": "code",
   "execution_count": null,
   "id": "6d8d70d0-eaa4-4ce2-a9f4-e5c0fc9474ed",
   "metadata": {},
   "outputs": [],
   "source": [
    "viz_cnmf.image_widget.cmap = \"gray\""
   ]
  },
  {
   "cell_type": "code",
   "execution_count": null,
   "id": "778a211b-a4a3-4b36-b441-32c9b367a5ce",
   "metadata": {},
   "outputs": [],
   "source": [
    "viz_cnmf.plot_heatmap"
   ]
  },
  {
   "cell_type": "code",
   "execution_count": null,
   "id": "e53a507c-a274-4b41-be16-99530de5006d",
   "metadata": {},
   "outputs": [],
   "source": [
    "viz_cnmf.plot_heatmap[\"heatmap\"].cmap = \"viridis\""
   ]
  },
  {
   "cell_type": "code",
   "execution_count": null,
   "id": "bb2db848-272d-4001-92cc-369e9d2d62b6",
   "metadata": {},
   "outputs": [],
   "source": [
    "viz_cnmf.plot_heatmap[\"heatmap\"].cmap.vmax"
   ]
  },
  {
   "cell_type": "code",
   "execution_count": null,
   "id": "33758ab0-b355-450f-8edc-dc9fa5b7364f",
   "metadata": {},
   "outputs": [],
   "source": [
    "viz_cnmf.plot_heatmap[\"heatmap\"].cmap.vmax = 2_000"
   ]
  },
  {
   "cell_type": "markdown",
   "id": "b60a5224-9945-4f15-9ecb-99d448745942",
   "metadata": {},
   "source": [
    "Customize contours"
   ]
  },
  {
   "cell_type": "code",
   "execution_count": null,
   "id": "7668b133-0431-464e-af1d-0ce353628e6e",
   "metadata": {},
   "outputs": [],
   "source": [
    "for subplot in viz_cnmf.image_widget.gridplot:\n",
    "    subplot[\"contours\"][:].thickness = 1.0"
   ]
  },
  {
   "cell_type": "code",
   "execution_count": null,
   "id": "4e238b53-9f20-44b3-ab99-94332f93b949",
   "metadata": {},
   "outputs": [],
   "source": [
    "for subplot in viz_cnmf.image_widget.gridplot:\n",
    "    subplot[\"contours\"].visible = False"
   ]
  },
  {
   "cell_type": "code",
   "execution_count": null,
   "id": "61508674-8ed6-4ae2-a232-44a55bd4c646",
   "metadata": {},
   "outputs": [],
   "source": [
    "for subplot in viz_cnmf.image_widget.gridplot:\n",
    "    subplot[\"contours\"].visible = True"
   ]
  },
  {
   "cell_type": "code",
   "execution_count": null,
   "id": "29abcc5a-7ecc-4e95-8532-f1a4dcc3e1f2",
   "metadata": {},
   "outputs": [],
   "source": [
    "viz_cnmf.plot_temporal[\"line\"].thickness()"
   ]
  },
  {
   "cell_type": "code",
   "execution_count": null,
   "id": "14ae170b-096c-421d-b47d-13042ab8e4cf",
   "metadata": {},
   "outputs": [],
   "source": [
    "viz_cnmf.plot_temporal[\"line\"].thickness = 1"
   ]
  },
  {
   "cell_type": "markdown",
   "id": "31dd4191-9781-45b4-84cb-35a62597fb6c",
   "metadata": {},
   "source": [
    "# Visualize fewer things"
   ]
  },
  {
   "cell_type": "code",
   "execution_count": null,
   "id": "6581e60e-8827-490d-af5f-3ff8b5308680",
   "metadata": {},
   "outputs": [],
   "source": [
    "viz_simple = df.cnmf.viz(\n",
    "    image_data_options=[\"input\", \"rcm\"],\n",
    ")\n",
    "viz_simple.show(sidecar=True)"
   ]
  },
  {
   "cell_type": "markdown",
   "id": "a5479abd-2f34-4e6e-bd64-702720e25ff4",
   "metadata": {},
   "source": [
    "# More customization of kwargs"
   ]
  },
  {
   "cell_type": "code",
   "execution_count": null,
   "id": "20845bb1-5f27-4c60-8638-2d17a03cff99",
   "metadata": {
    "tags": []
   },
   "outputs": [],
   "source": [
    "viz_more_custom = df.cnmf.viz(\n",
    "    image_data_options=[\"input\", \"rcm\", \"rcm-max\", \"corr\"],\n",
    "    temporal_kwargs={\"add_residuals\": True},\n",
    ")"
   ]
  },
  {
   "cell_type": "code",
   "execution_count": null,
   "id": "1e8f57c5-9f9e-495a-aa44-86f18c886eed",
   "metadata": {},
   "outputs": [],
   "source": [
    "viz_more_custom.show(sidecar=True)"
   ]
  }
 ],
 "metadata": {
  "kernelspec": {
   "display_name": "Python 3 (ipykernel)",
   "language": "python",
   "name": "python3"
  },
  "language_info": {
   "codemirror_mode": {
    "name": "ipython",
    "version": 3
   },
   "file_extension": ".py",
   "mimetype": "text/x-python",
   "name": "python",
   "nbconvert_exporter": "python",
   "pygments_lexer": "ipython3",
   "version": "3.11.9"
  }
 },
 "nbformat": 4,
 "nbformat_minor": 5
}

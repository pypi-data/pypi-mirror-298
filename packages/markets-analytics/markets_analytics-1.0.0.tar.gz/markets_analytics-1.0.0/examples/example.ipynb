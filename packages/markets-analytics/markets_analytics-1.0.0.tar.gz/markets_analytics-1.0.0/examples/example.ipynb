{
 "cells": [
  {
   "cell_type": "code",
   "execution_count": 1,
   "id": "33364fb1",
   "metadata": {
    "ExecuteTime": {
     "end_time": "2024-07-10T14:52:43.673999Z",
     "start_time": "2024-07-10T14:52:41.853528Z"
    }
   },
   "outputs": [],
   "source": [
    "import pandas as pd\n",
    "import datetime as dt\n",
    "\n",
    "from markets_analytics import redshift, exasol, datalake, etl, dateutil, GSheetHelper"
   ]
  },
  {
   "cell_type": "markdown",
   "id": "2237440f",
   "metadata": {},
   "source": [
    "# 1. Database Connectors"
   ]
  },
  {
   "cell_type": "markdown",
   "id": "ef3b0658",
   "metadata": {},
   "source": [
    "## Redshift Connector"
   ]
  },
  {
   "cell_type": "code",
   "execution_count": 2,
   "id": "08e5b582",
   "metadata": {
    "ExecuteTime": {
     "end_time": "2024-07-10T14:52:43.679355Z",
     "start_time": "2024-07-10T14:52:43.676479Z"
    }
   },
   "outputs": [],
   "source": [
    "schema = 'sales_and_supply'\n",
    "table = 'library_test'"
   ]
  },
  {
   "cell_type": "code",
   "execution_count": 3,
   "id": "0b7d09d9",
   "metadata": {
    "ExecuteTime": {
     "end_time": "2024-07-10T14:52:44.549757Z",
     "start_time": "2024-07-10T14:52:43.680992Z"
    }
   },
   "outputs": [
    {
     "name": "stdout",
     "output_type": "stream",
     "text": [
      "Username `sales_and_supply_user` connected to Redshift host: lounge-dwh-production.cotnm1vpt3gw.eu-central-1.redshift.amazonaws.com:5439\n"
     ]
    }
   ],
   "source": [
    "redshift.test_connection()"
   ]
  },
  {
   "cell_type": "code",
   "execution_count": 4,
   "id": "830f3c53",
   "metadata": {
    "ExecuteTime": {
     "end_time": "2024-07-10T14:52:44.931427Z",
     "start_time": "2024-07-10T14:52:44.552329Z"
    }
   },
   "outputs": [
    {
     "name": "stdout",
     "output_type": "stream",
     "text": [
      "[2024-07-10 16:52:44.553393] Creating Table\n",
      "[2024-07-10 16:52:44.929802] Table Created Successfully\n"
     ]
    }
   ],
   "source": [
    "query = '''\n",
    "    DROP TABLE IF EXISTS {schema}.{table};\n",
    "    \n",
    "    CREATE TABLE IF NOT EXISTS {schema}.{table} (\n",
    "        name VARCHAR(10),\n",
    "        age INT\n",
    "    );\n",
    "'''.format(schema=schema, table=table)\n",
    "\n",
    "redshift.create(query)"
   ]
  },
  {
   "cell_type": "code",
   "execution_count": 5,
   "id": "bbbc914b",
   "metadata": {
    "ExecuteTime": {
     "end_time": "2024-07-10T14:52:45.849127Z",
     "start_time": "2024-07-10T14:52:44.933233Z"
    }
   },
   "outputs": [
    {
     "name": "stdout",
     "output_type": "stream",
     "text": [
      "[2024-07-10 16:52:44.936306] Inserting data to sales_and_supply.library_test\n",
      "[2024-07-10 16:52:45.754446] Data Inserted Successfully\n",
      "[2024-07-10 16:52:45.754792] Executing Query\n",
      "[2024-07-10 16:52:45.837780] Query Executed Successfully\n"
     ]
    },
    {
     "data": {
      "text/html": [
       "<div>\n",
       "<style scoped>\n",
       "    .dataframe tbody tr th:only-of-type {\n",
       "        vertical-align: middle;\n",
       "    }\n",
       "\n",
       "    .dataframe tbody tr th {\n",
       "        vertical-align: top;\n",
       "    }\n",
       "\n",
       "    .dataframe thead th {\n",
       "        text-align: right;\n",
       "    }\n",
       "</style>\n",
       "<table border=\"1\" class=\"dataframe\">\n",
       "  <thead>\n",
       "    <tr style=\"text-align: right;\">\n",
       "      <th></th>\n",
       "      <th>name</th>\n",
       "      <th>age</th>\n",
       "    </tr>\n",
       "  </thead>\n",
       "  <tbody>\n",
       "    <tr>\n",
       "      <th>0</th>\n",
       "      <td>X</td>\n",
       "      <td>31</td>\n",
       "    </tr>\n",
       "    <tr>\n",
       "      <th>1</th>\n",
       "      <td>Y</td>\n",
       "      <td>29</td>\n",
       "    </tr>\n",
       "    <tr>\n",
       "      <th>2</th>\n",
       "      <td>Z</td>\n",
       "      <td>20</td>\n",
       "    </tr>\n",
       "  </tbody>\n",
       "</table>\n",
       "</div>"
      ],
      "text/plain": [
       "  name  age\n",
       "0    X   31\n",
       "1    Y   29\n",
       "2    Z   20"
      ]
     },
     "execution_count": 5,
     "metadata": {},
     "output_type": "execute_result"
    }
   ],
   "source": [
    "df = pd.DataFrame({\n",
    "    'name': ['X', 'Y', 'Z'],\n",
    "    'age': [31, 29, 20]\n",
    "})\n",
    "\n",
    "redshift.insert(df, schema, table)\n",
    "\n",
    "query = '''\n",
    "    SELECT * FROM {}.{}\n",
    "'''.format(schema, table)\n",
    "\n",
    "redshift.execute(query)"
   ]
  },
  {
   "cell_type": "code",
   "execution_count": 6,
   "id": "5ee983df",
   "metadata": {
    "ExecuteTime": {
     "end_time": "2024-07-10T14:52:46.652168Z",
     "start_time": "2024-07-10T14:52:45.851083Z"
    }
   },
   "outputs": [
    {
     "name": "stdout",
     "output_type": "stream",
     "text": [
      "[2024-07-10 16:52:45.852042] Deleting data from sales_and_supply.library_test\n",
      "[2024-07-10 16:52:46.560052] Deleted Data Successfully\n",
      "[2024-07-10 16:52:46.560411] Executing Query\n",
      "[2024-07-10 16:52:46.647078] Query Executed Successfully\n"
     ]
    },
    {
     "data": {
      "text/html": [
       "<div>\n",
       "<style scoped>\n",
       "    .dataframe tbody tr th:only-of-type {\n",
       "        vertical-align: middle;\n",
       "    }\n",
       "\n",
       "    .dataframe tbody tr th {\n",
       "        vertical-align: top;\n",
       "    }\n",
       "\n",
       "    .dataframe thead th {\n",
       "        text-align: right;\n",
       "    }\n",
       "</style>\n",
       "<table border=\"1\" class=\"dataframe\">\n",
       "  <thead>\n",
       "    <tr style=\"text-align: right;\">\n",
       "      <th></th>\n",
       "      <th>name</th>\n",
       "      <th>age</th>\n",
       "    </tr>\n",
       "  </thead>\n",
       "  <tbody>\n",
       "    <tr>\n",
       "      <th>0</th>\n",
       "      <td>Y</td>\n",
       "      <td>29</td>\n",
       "    </tr>\n",
       "    <tr>\n",
       "      <th>1</th>\n",
       "      <td>Z</td>\n",
       "      <td>20</td>\n",
       "    </tr>\n",
       "  </tbody>\n",
       "</table>\n",
       "</div>"
      ],
      "text/plain": [
       "  name  age\n",
       "0    Y   29\n",
       "1    Z   20"
      ]
     },
     "execution_count": 6,
     "metadata": {},
     "output_type": "execute_result"
    }
   ],
   "source": [
    "redshift.delete(schema, table, 'age=31')\n",
    "\n",
    "query = '''\n",
    "    SELECT * FROM {}.{}\n",
    "'''.format(schema, table)\n",
    "\n",
    "redshift.execute(query)"
   ]
  },
  {
   "cell_type": "code",
   "execution_count": 7,
   "id": "a7cad0dd",
   "metadata": {
    "ExecuteTime": {
     "end_time": "2024-07-10T14:52:47.140927Z",
     "start_time": "2024-07-10T14:52:46.654051Z"
    }
   },
   "outputs": [
    {
     "name": "stdout",
     "output_type": "stream",
     "text": [
      "[2024-07-10 16:52:46.655101] Updating data for sales_and_supply.library_test\n",
      "[2024-07-10 16:52:47.058560] Updated Data Successfully\n",
      "[2024-07-10 16:52:47.058850] Executing Query\n",
      "[2024-07-10 16:52:47.136448] Query Executed Successfully\n"
     ]
    },
    {
     "data": {
      "text/html": [
       "<div>\n",
       "<style scoped>\n",
       "    .dataframe tbody tr th:only-of-type {\n",
       "        vertical-align: middle;\n",
       "    }\n",
       "\n",
       "    .dataframe tbody tr th {\n",
       "        vertical-align: top;\n",
       "    }\n",
       "\n",
       "    .dataframe thead th {\n",
       "        text-align: right;\n",
       "    }\n",
       "</style>\n",
       "<table border=\"1\" class=\"dataframe\">\n",
       "  <thead>\n",
       "    <tr style=\"text-align: right;\">\n",
       "      <th></th>\n",
       "      <th>name</th>\n",
       "      <th>age</th>\n",
       "    </tr>\n",
       "  </thead>\n",
       "  <tbody>\n",
       "    <tr>\n",
       "      <th>0</th>\n",
       "      <td>Y</td>\n",
       "      <td>29</td>\n",
       "    </tr>\n",
       "    <tr>\n",
       "      <th>1</th>\n",
       "      <td>A</td>\n",
       "      <td>20</td>\n",
       "    </tr>\n",
       "  </tbody>\n",
       "</table>\n",
       "</div>"
      ],
      "text/plain": [
       "  name  age\n",
       "0    Y   29\n",
       "1    A   20"
      ]
     },
     "execution_count": 7,
     "metadata": {},
     "output_type": "execute_result"
    }
   ],
   "source": [
    "values = \"name='A'\"\n",
    "redshift.update(schema, table, values, \"age=20 AND name='Z'\")\n",
    "\n",
    "query = '''\n",
    "    SELECT * FROM {}.{}\n",
    "'''.format(schema, table)\n",
    "\n",
    "redshift.execute(query)"
   ]
  },
  {
   "cell_type": "markdown",
   "id": "dbb52f33",
   "metadata": {},
   "source": [
    "## Datalake Connector"
   ]
  },
  {
   "cell_type": "code",
   "execution_count": 8,
   "id": "ecd37965",
   "metadata": {
    "ExecuteTime": {
     "end_time": "2024-07-10T14:52:47.238584Z",
     "start_time": "2024-07-10T14:52:47.142191Z"
    }
   },
   "outputs": [
    {
     "name": "stdout",
     "output_type": "stream",
     "text": [
      "Username `dimran` connected to Datalake host: interactive.starburst.zalando.net:443\n"
     ]
    }
   ],
   "source": [
    "datalake.test_connection()"
   ]
  },
  {
   "cell_type": "code",
   "execution_count": 9,
   "id": "68d7cf6b",
   "metadata": {
    "ExecuteTime": {
     "end_time": "2024-07-10T14:52:49.070765Z",
     "start_time": "2024-07-10T14:52:47.240446Z"
    }
   },
   "outputs": [
    {
     "name": "stdout",
     "output_type": "stream",
     "text": [
      "[2024-07-10 16:52:47.241211] Executing Query\n",
      "[2024-07-10 16:52:49.056775] Query Executed Successfully\n"
     ]
    },
    {
     "data": {
      "text/html": [
       "<div>\n",
       "<style scoped>\n",
       "    .dataframe tbody tr th:only-of-type {\n",
       "        vertical-align: middle;\n",
       "    }\n",
       "\n",
       "    .dataframe tbody tr th {\n",
       "        vertical-align: top;\n",
       "    }\n",
       "\n",
       "    .dataframe thead th {\n",
       "        text-align: right;\n",
       "    }\n",
       "</style>\n",
       "<table border=\"1\" class=\"dataframe\">\n",
       "  <thead>\n",
       "    <tr style=\"text-align: right;\">\n",
       "      <th></th>\n",
       "      <th>sk_order_date</th>\n",
       "      <th>order_position_number</th>\n",
       "      <th>order_date</th>\n",
       "      <th>order_year</th>\n",
       "      <th>order_rank_overall</th>\n",
       "      <th>partner_flag</th>\n",
       "      <th>flag_coupon_used</th>\n",
       "      <th>flag_cancelled_order</th>\n",
       "      <th>cancellation_date</th>\n",
       "      <th>financial_date</th>\n",
       "      <th>...</th>\n",
       "      <th>flag_delivery_is_missing</th>\n",
       "      <th>cancellation_status</th>\n",
       "      <th>locale</th>\n",
       "      <th>commission_type</th>\n",
       "      <th>fee_category</th>\n",
       "      <th>partner_commission_revenue_aret</th>\n",
       "      <th>net_zfs_incentive_aret</th>\n",
       "      <th>net_sus_incentive_aret</th>\n",
       "      <th>net_lch_incentive_aret</th>\n",
       "      <th>net_aut_incentive_aret</th>\n",
       "    </tr>\n",
       "  </thead>\n",
       "  <tbody>\n",
       "    <tr>\n",
       "      <th>0</th>\n",
       "      <td>20090107</td>\n",
       "      <td>1.0</td>\n",
       "      <td>2009-01-07</td>\n",
       "      <td>2009.0</td>\n",
       "      <td>3.0</td>\n",
       "      <td>0.0</td>\n",
       "      <td>0.0</td>\n",
       "      <td>1.0</td>\n",
       "      <td>2012-05-06</td>\n",
       "      <td>None</td>\n",
       "      <td>...</td>\n",
       "      <td>None</td>\n",
       "      <td>None</td>\n",
       "      <td>None</td>\n",
       "      <td>None</td>\n",
       "      <td>None</td>\n",
       "      <td>None</td>\n",
       "      <td>None</td>\n",
       "      <td>None</td>\n",
       "      <td>None</td>\n",
       "      <td>None</td>\n",
       "    </tr>\n",
       "    <tr>\n",
       "      <th>1</th>\n",
       "      <td>20081002</td>\n",
       "      <td>1.0</td>\n",
       "      <td>2008-10-02</td>\n",
       "      <td>2008.0</td>\n",
       "      <td>1.0</td>\n",
       "      <td>0.0</td>\n",
       "      <td>0.0</td>\n",
       "      <td>0.0</td>\n",
       "      <td>NaT</td>\n",
       "      <td>None</td>\n",
       "      <td>...</td>\n",
       "      <td>None</td>\n",
       "      <td>None</td>\n",
       "      <td>None</td>\n",
       "      <td>None</td>\n",
       "      <td>None</td>\n",
       "      <td>None</td>\n",
       "      <td>None</td>\n",
       "      <td>None</td>\n",
       "      <td>None</td>\n",
       "      <td>None</td>\n",
       "    </tr>\n",
       "    <tr>\n",
       "      <th>2</th>\n",
       "      <td>20081011</td>\n",
       "      <td>2.0</td>\n",
       "      <td>2008-10-11</td>\n",
       "      <td>2008.0</td>\n",
       "      <td>1.0</td>\n",
       "      <td>0.0</td>\n",
       "      <td>0.0</td>\n",
       "      <td>0.0</td>\n",
       "      <td>NaT</td>\n",
       "      <td>None</td>\n",
       "      <td>...</td>\n",
       "      <td>None</td>\n",
       "      <td>None</td>\n",
       "      <td>None</td>\n",
       "      <td>None</td>\n",
       "      <td>None</td>\n",
       "      <td>None</td>\n",
       "      <td>None</td>\n",
       "      <td>None</td>\n",
       "      <td>None</td>\n",
       "      <td>None</td>\n",
       "    </tr>\n",
       "    <tr>\n",
       "      <th>3</th>\n",
       "      <td>20080930</td>\n",
       "      <td>1.0</td>\n",
       "      <td>2008-09-30</td>\n",
       "      <td>2008.0</td>\n",
       "      <td>1.0</td>\n",
       "      <td>0.0</td>\n",
       "      <td>0.0</td>\n",
       "      <td>1.0</td>\n",
       "      <td>2012-05-06</td>\n",
       "      <td>None</td>\n",
       "      <td>...</td>\n",
       "      <td>None</td>\n",
       "      <td>None</td>\n",
       "      <td>None</td>\n",
       "      <td>None</td>\n",
       "      <td>None</td>\n",
       "      <td>None</td>\n",
       "      <td>None</td>\n",
       "      <td>None</td>\n",
       "      <td>None</td>\n",
       "      <td>None</td>\n",
       "    </tr>\n",
       "    <tr>\n",
       "      <th>4</th>\n",
       "      <td>20081002</td>\n",
       "      <td>1.0</td>\n",
       "      <td>2008-10-02</td>\n",
       "      <td>2008.0</td>\n",
       "      <td>1.0</td>\n",
       "      <td>0.0</td>\n",
       "      <td>0.0</td>\n",
       "      <td>0.0</td>\n",
       "      <td>NaT</td>\n",
       "      <td>None</td>\n",
       "      <td>...</td>\n",
       "      <td>None</td>\n",
       "      <td>None</td>\n",
       "      <td>None</td>\n",
       "      <td>None</td>\n",
       "      <td>None</td>\n",
       "      <td>None</td>\n",
       "      <td>None</td>\n",
       "      <td>None</td>\n",
       "      <td>None</td>\n",
       "      <td>None</td>\n",
       "    </tr>\n",
       "  </tbody>\n",
       "</table>\n",
       "<p>5 rows × 222 columns</p>\n",
       "</div>"
      ],
      "text/plain": [
       "   sk_order_date  order_position_number order_date  order_year   \n",
       "0       20090107                    1.0 2009-01-07      2009.0  \\\n",
       "1       20081002                    1.0 2008-10-02      2008.0   \n",
       "2       20081011                    2.0 2008-10-11      2008.0   \n",
       "3       20080930                    1.0 2008-09-30      2008.0   \n",
       "4       20081002                    1.0 2008-10-02      2008.0   \n",
       "\n",
       "   order_rank_overall  partner_flag  flag_coupon_used  flag_cancelled_order   \n",
       "0                 3.0           0.0               0.0                   1.0  \\\n",
       "1                 1.0           0.0               0.0                   0.0   \n",
       "2                 1.0           0.0               0.0                   0.0   \n",
       "3                 1.0           0.0               0.0                   1.0   \n",
       "4                 1.0           0.0               0.0                   0.0   \n",
       "\n",
       "  cancellation_date financial_date  ... flag_delivery_is_missing   \n",
       "0        2012-05-06           None  ...                     None  \\\n",
       "1               NaT           None  ...                     None   \n",
       "2               NaT           None  ...                     None   \n",
       "3        2012-05-06           None  ...                     None   \n",
       "4               NaT           None  ...                     None   \n",
       "\n",
       "  cancellation_status locale commission_type fee_category   \n",
       "0                None   None            None         None  \\\n",
       "1                None   None            None         None   \n",
       "2                None   None            None         None   \n",
       "3                None   None            None         None   \n",
       "4                None   None            None         None   \n",
       "\n",
       "  partner_commission_revenue_aret net_zfs_incentive_aret   \n",
       "0                            None                   None  \\\n",
       "1                            None                   None   \n",
       "2                            None                   None   \n",
       "3                            None                   None   \n",
       "4                            None                   None   \n",
       "\n",
       "  net_sus_incentive_aret  net_lch_incentive_aret  net_aut_incentive_aret  \n",
       "0                   None                    None                    None  \n",
       "1                   None                    None                    None  \n",
       "2                   None                    None                    None  \n",
       "3                   None                    None                    None  \n",
       "4                   None                    None                    None  \n",
       "\n",
       "[5 rows x 222 columns]"
      ]
     },
     "execution_count": 9,
     "metadata": {},
     "output_type": "execute_result"
    }
   ],
   "source": [
    "query = '''\n",
    "    SELECT\n",
    "        *\n",
    "    FROM dwh_insider.f_salesorder_position\n",
    "    LIMIT 5\n",
    "'''\n",
    "\n",
    "datalake.execute(query)"
   ]
  },
  {
   "cell_type": "markdown",
   "id": "20801d7c",
   "metadata": {},
   "source": [
    "## Exasol Connector"
   ]
  },
  {
   "cell_type": "code",
   "execution_count": 10,
   "id": "5342952b",
   "metadata": {
    "ExecuteTime": {
     "end_time": "2024-07-10T14:52:49.206470Z",
     "start_time": "2024-07-10T14:52:49.073970Z"
    }
   },
   "outputs": [
    {
     "name": "stdout",
     "output_type": "stream",
     "text": [
      "Username `ROBOT_OFFPRICE_SALES` connected to Exasol host: bi-prod.exasol.zalando.net:8563\n"
     ]
    }
   ],
   "source": [
    "exasol.test_connection()"
   ]
  },
  {
   "cell_type": "code",
   "execution_count": 11,
   "id": "f86cb9b2",
   "metadata": {
    "ExecuteTime": {
     "end_time": "2024-07-10T14:52:50.964323Z",
     "start_time": "2024-07-10T14:52:49.208128Z"
    }
   },
   "outputs": [
    {
     "name": "stdout",
     "output_type": "stream",
     "text": [
      "[2024-07-10 16:52:49.208848] Executing Query\n",
      "[2024-07-10 16:52:50.952195] Query Executed Successfully\n"
     ]
    },
    {
     "data": {
      "text/html": [
       "<div>\n",
       "<style scoped>\n",
       "    .dataframe tbody tr th:only-of-type {\n",
       "        vertical-align: middle;\n",
       "    }\n",
       "\n",
       "    .dataframe tbody tr th {\n",
       "        vertical-align: top;\n",
       "    }\n",
       "\n",
       "    .dataframe thead th {\n",
       "        text-align: right;\n",
       "    }\n",
       "</style>\n",
       "<table border=\"1\" class=\"dataframe\">\n",
       "  <thead>\n",
       "    <tr style=\"text-align: right;\">\n",
       "      <th></th>\n",
       "      <th>SK_CUSTOMER</th>\n",
       "      <th>CUSTOMER_ORIGIN</th>\n",
       "      <th>LAST_ORDER_DATE_LOUNGE</th>\n",
       "      <th>TOTAL_ORDERS_SHOP</th>\n",
       "      <th>TOTAL_ORDERS_LOUNGE</th>\n",
       "      <th>LOGIN_ALL_DEVICES_LAST_7_DAYS</th>\n",
       "      <th>LOGIN_ALL_DEVICES_LAST_30_DAYS</th>\n",
       "      <th>LOGIN_ALL_DEVICES_LAST_90_DAYS</th>\n",
       "      <th>SIGNUP_DATE</th>\n",
       "      <th>SIGNUP_COUNTRY</th>\n",
       "      <th>...</th>\n",
       "      <th>CUSTOMER_VALUE_SEGMENT</th>\n",
       "      <th>IS_LOUNGE_SIGNUP</th>\n",
       "      <th>LOUNGE_SIGNUP_TIME</th>\n",
       "      <th>IS_TEST_USER</th>\n",
       "      <th>CREATED_AT</th>\n",
       "      <th>LAST_MODIFIED</th>\n",
       "      <th>EXA_INSERTED_AT</th>\n",
       "      <th>IS_DELETED_USER</th>\n",
       "      <th>REGISTRATION_COUNTRY</th>\n",
       "      <th>CUSTOMER_GENDER</th>\n",
       "    </tr>\n",
       "  </thead>\n",
       "  <tbody>\n",
       "    <tr>\n",
       "      <th>0</th>\n",
       "      <td>228756625</td>\n",
       "      <td>SHOP</td>\n",
       "      <td>NaN</td>\n",
       "      <td>3.0</td>\n",
       "      <td>0.0</td>\n",
       "      <td>0</td>\n",
       "      <td>0</td>\n",
       "      <td>0</td>\n",
       "      <td>NaN</td>\n",
       "      <td>NaN</td>\n",
       "      <td>...</td>\n",
       "      <td>Passive D</td>\n",
       "      <td>0</td>\n",
       "      <td>NaN</td>\n",
       "      <td>0</td>\n",
       "      <td>2023-11-07 15:55:15.672000</td>\n",
       "      <td>2024-05-24 06:27:31.661000</td>\n",
       "      <td>2024-05-26 08:26:10.302000</td>\n",
       "      <td>1</td>\n",
       "      <td>FR</td>\n",
       "      <td>OTHER</td>\n",
       "    </tr>\n",
       "    <tr>\n",
       "      <th>1</th>\n",
       "      <td>202979079</td>\n",
       "      <td>SHOP</td>\n",
       "      <td>NaN</td>\n",
       "      <td>12.0</td>\n",
       "      <td>0.0</td>\n",
       "      <td>0</td>\n",
       "      <td>0</td>\n",
       "      <td>0</td>\n",
       "      <td>NaN</td>\n",
       "      <td>NaN</td>\n",
       "      <td>...</td>\n",
       "      <td>Passive C</td>\n",
       "      <td>0</td>\n",
       "      <td>NaN</td>\n",
       "      <td>0</td>\n",
       "      <td>2023-11-07 15:55:15.672000</td>\n",
       "      <td>2024-03-11 11:16:19.733000</td>\n",
       "      <td>2024-03-13 10:26:03.116000</td>\n",
       "      <td>0</td>\n",
       "      <td>NO</td>\n",
       "      <td>FEMALE</td>\n",
       "    </tr>\n",
       "    <tr>\n",
       "      <th>2</th>\n",
       "      <td>1190647287</td>\n",
       "      <td>SHOP</td>\n",
       "      <td>NaN</td>\n",
       "      <td>NaN</td>\n",
       "      <td>NaN</td>\n",
       "      <td>0</td>\n",
       "      <td>0</td>\n",
       "      <td>0</td>\n",
       "      <td>NaN</td>\n",
       "      <td>NaN</td>\n",
       "      <td>...</td>\n",
       "      <td>NaN</td>\n",
       "      <td>0</td>\n",
       "      <td>NaN</td>\n",
       "      <td>0</td>\n",
       "      <td>2023-11-07 15:55:15.672000</td>\n",
       "      <td>2023-11-07 15:55:15.672000</td>\n",
       "      <td>2023-11-09 10:20:02.084000</td>\n",
       "      <td>0</td>\n",
       "      <td>AT</td>\n",
       "      <td>MALE</td>\n",
       "    </tr>\n",
       "  </tbody>\n",
       "</table>\n",
       "<p>3 rows × 27 columns</p>\n",
       "</div>"
      ],
      "text/plain": [
       "   SK_CUSTOMER CUSTOMER_ORIGIN  LAST_ORDER_DATE_LOUNGE  TOTAL_ORDERS_SHOP   \n",
       "0    228756625            SHOP                     NaN                3.0  \\\n",
       "1    202979079            SHOP                     NaN               12.0   \n",
       "2   1190647287            SHOP                     NaN                NaN   \n",
       "\n",
       "   TOTAL_ORDERS_LOUNGE  LOGIN_ALL_DEVICES_LAST_7_DAYS   \n",
       "0                  0.0                              0  \\\n",
       "1                  0.0                              0   \n",
       "2                  NaN                              0   \n",
       "\n",
       "   LOGIN_ALL_DEVICES_LAST_30_DAYS  LOGIN_ALL_DEVICES_LAST_90_DAYS   \n",
       "0                               0                               0  \\\n",
       "1                               0                               0   \n",
       "2                               0                               0   \n",
       "\n",
       "   SIGNUP_DATE  SIGNUP_COUNTRY  ...  CUSTOMER_VALUE_SEGMENT  IS_LOUNGE_SIGNUP   \n",
       "0          NaN             NaN  ...               Passive D                 0  \\\n",
       "1          NaN             NaN  ...               Passive C                 0   \n",
       "2          NaN             NaN  ...                     NaN                 0   \n",
       "\n",
       "   LOUNGE_SIGNUP_TIME  IS_TEST_USER                  CREATED_AT   \n",
       "0                 NaN             0  2023-11-07 15:55:15.672000  \\\n",
       "1                 NaN             0  2023-11-07 15:55:15.672000   \n",
       "2                 NaN             0  2023-11-07 15:55:15.672000   \n",
       "\n",
       "                LAST_MODIFIED             EXA_INSERTED_AT IS_DELETED_USER   \n",
       "0  2024-05-24 06:27:31.661000  2024-05-26 08:26:10.302000               1  \\\n",
       "1  2024-03-11 11:16:19.733000  2024-03-13 10:26:03.116000               0   \n",
       "2  2023-11-07 15:55:15.672000  2023-11-09 10:20:02.084000               0   \n",
       "\n",
       "   REGISTRATION_COUNTRY  CUSTOMER_GENDER  \n",
       "0                    FR            OTHER  \n",
       "1                    NO           FEMALE  \n",
       "2                    AT             MALE  \n",
       "\n",
       "[3 rows x 27 columns]"
      ]
     },
     "execution_count": 11,
     "metadata": {},
     "output_type": "execute_result"
    }
   ],
   "source": [
    "query = '''\n",
    "    SELECT\n",
    "        *\n",
    "    FROM ZALANDO_LOUNGE_ANALYSE.D_CUSTOMER_LOUNGE\n",
    "    LIMIT 3\n",
    "'''\n",
    "\n",
    "exasol.execute(query)"
   ]
  },
  {
   "cell_type": "markdown",
   "id": "f29d2f68",
   "metadata": {},
   "source": [
    "# 2. ETL Pipelines"
   ]
  },
  {
   "cell_type": "markdown",
   "id": "eaeed703",
   "metadata": {},
   "source": [
    "## Pipeline Status"
   ]
  },
  {
   "cell_type": "code",
   "execution_count": 12,
   "id": "9c630008",
   "metadata": {
    "ExecuteTime": {
     "end_time": "2024-07-10T14:52:51.037861Z",
     "start_time": "2024-07-10T14:52:50.966155Z"
    }
   },
   "outputs": [
    {
     "data": {
      "text/plain": [
       "177651"
      ]
     },
     "execution_count": 12,
     "metadata": {},
     "output_type": "execute_result"
    }
   ],
   "source": [
    "etl.get_source_count('reporting', 'f_lounge_sales_order_position', 'order_date')"
   ]
  },
  {
   "cell_type": "code",
   "execution_count": 13,
   "id": "87fe99ad",
   "metadata": {
    "ExecuteTime": {
     "end_time": "2024-07-10T14:52:51.101988Z",
     "start_time": "2024-07-10T14:52:51.039569Z"
    }
   },
   "outputs": [
    {
     "data": {
      "text/plain": [
       "True"
      ]
     },
     "execution_count": 13,
     "metadata": {},
     "output_type": "execute_result"
    }
   ],
   "source": [
    "etl.get_source_status('reporting', 'f_lounge_sales_order_position', 'order_date', 50000)"
   ]
  },
  {
   "cell_type": "code",
   "execution_count": 14,
   "id": "e6188582",
   "metadata": {
    "ExecuteTime": {
     "end_time": "2024-07-10T14:52:51.197699Z",
     "start_time": "2024-07-10T14:52:51.103658Z"
    }
   },
   "outputs": [
    {
     "data": {
      "text/plain": [
       "'Not Executed Yet'"
      ]
     },
     "execution_count": 14,
     "metadata": {},
     "output_type": "execute_result"
    }
   ],
   "source": [
    "etl.get_pipeline_status('customer_orders_daily')"
   ]
  },
  {
   "cell_type": "code",
   "execution_count": 15,
   "id": "786ba815",
   "metadata": {
    "ExecuteTime": {
     "end_time": "2024-07-10T14:52:51.294164Z",
     "start_time": "2024-07-10T14:52:51.199577Z"
    }
   },
   "outputs": [
    {
     "data": {
      "text/plain": [
       "0"
      ]
     },
     "execution_count": 15,
     "metadata": {},
     "output_type": "execute_result"
    }
   ],
   "source": [
    "etl.get_pipeline_runs('customer_orders_daily')"
   ]
  },
  {
   "cell_type": "markdown",
   "id": "659e6426",
   "metadata": {},
   "source": [
    "## Pipeline Design"
   ]
  },
  {
   "cell_type": "code",
   "execution_count": 42,
   "id": "252d6bc3",
   "metadata": {
    "ExecuteTime": {
     "end_time": "2024-07-10T14:55:46.132639Z",
     "start_time": "2024-07-10T14:55:44.495751Z"
    }
   },
   "outputs": [
    {
     "data": {
      "text/html": [
       "<div>\n",
       "<style scoped>\n",
       "    .dataframe tbody tr th:only-of-type {\n",
       "        vertical-align: middle;\n",
       "    }\n",
       "\n",
       "    .dataframe tbody tr th {\n",
       "        vertical-align: top;\n",
       "    }\n",
       "\n",
       "    .dataframe thead th {\n",
       "        text-align: right;\n",
       "    }\n",
       "</style>\n",
       "<table border=\"1\" class=\"dataframe\">\n",
       "  <thead>\n",
       "    <tr style=\"text-align: right;\">\n",
       "      <th></th>\n",
       "      <th>name</th>\n",
       "      <th>team</th>\n",
       "    </tr>\n",
       "  </thead>\n",
       "  <tbody>\n",
       "    <tr>\n",
       "      <th>0</th>\n",
       "      <td>Viktor</td>\n",
       "      <td>Markets Analytics</td>\n",
       "    </tr>\n",
       "    <tr>\n",
       "      <th>1</th>\n",
       "      <td>Franzi</td>\n",
       "      <td>Market Research</td>\n",
       "    </tr>\n",
       "    <tr>\n",
       "      <th>2</th>\n",
       "      <td>Gosia</td>\n",
       "      <td>Demand PSPM</td>\n",
       "    </tr>\n",
       "    <tr>\n",
       "      <th>3</th>\n",
       "      <td>Kashyap</td>\n",
       "      <td>Markets Analytics</td>\n",
       "    </tr>\n",
       "    <tr>\n",
       "      <th>4</th>\n",
       "      <td>Mounav</td>\n",
       "      <td>Pricing</td>\n",
       "    </tr>\n",
       "    <tr>\n",
       "      <th>5</th>\n",
       "      <td>Bruno</td>\n",
       "      <td>CP&amp;S</td>\n",
       "    </tr>\n",
       "  </tbody>\n",
       "</table>\n",
       "</div>"
      ],
      "text/plain": [
       "      name               team\n",
       "0   Viktor  Markets Analytics\n",
       "1   Franzi    Market Research\n",
       "2    Gosia        Demand PSPM\n",
       "3  Kashyap  Markets Analytics\n",
       "4   Mounav            Pricing\n",
       "5    Bruno               CP&S"
      ]
     },
     "execution_count": 42,
     "metadata": {},
     "output_type": "execute_result"
    }
   ],
   "source": [
    "schema = 'sales_and_supply'\n",
    "table = 'pipeline_example'\n",
    "\n",
    "query = '''\n",
    "    DROP TABLE IF EXISTS {schema}.{table};\n",
    "    \n",
    "    CREATE TABLE IF NOT EXISTS {schema}.{table} (\n",
    "        name VARCHAR(16),\n",
    "        team VARCHAR(32)\n",
    "    );\n",
    "'''.format(schema=schema, table=table)\n",
    "\n",
    "redshift.create(query, log=False)\n",
    "\n",
    "df = pd.DataFrame({\n",
    "    'name': ['Viktor', 'Franzi', 'Gosia', 'Kashyap', 'Mounav', 'Bruno'],\n",
    "    'team': ['Markets Analytics', 'Market Research', 'Demand PSPM', 'Markets Analytics', 'Pricing', 'CP&S']\n",
    "})\n",
    "\n",
    "redshift.insert(df, schema, table, log=False)\n",
    "\n",
    "query = 'SELECT * FROM {}.{}'.format(schema, table)\n",
    "\n",
    "redshift.execute(query, log=False)"
   ]
  },
  {
   "cell_type": "code",
   "execution_count": 43,
   "id": "367f8f10",
   "metadata": {
    "ExecuteTime": {
     "end_time": "2024-07-10T14:55:56.774261Z",
     "start_time": "2024-07-10T14:55:46.134775Z"
    }
   },
   "outputs": [
    {
     "data": {
      "text/html": [
       "<div>\n",
       "<style scoped>\n",
       "    .dataframe tbody tr th:only-of-type {\n",
       "        vertical-align: middle;\n",
       "    }\n",
       "\n",
       "    .dataframe tbody tr th {\n",
       "        vertical-align: top;\n",
       "    }\n",
       "\n",
       "    .dataframe thead th {\n",
       "        text-align: right;\n",
       "    }\n",
       "</style>\n",
       "<table border=\"1\" class=\"dataframe\">\n",
       "  <thead>\n",
       "    <tr style=\"text-align: right;\">\n",
       "      <th></th>\n",
       "      <th>process_name</th>\n",
       "      <th>start_time</th>\n",
       "      <th>end_time</th>\n",
       "      <th>status</th>\n",
       "      <th>message</th>\n",
       "    </tr>\n",
       "  </thead>\n",
       "  <tbody>\n",
       "  </tbody>\n",
       "</table>\n",
       "</div>"
      ],
      "text/plain": [
       "Empty DataFrame\n",
       "Columns: [process_name, start_time, end_time, status, message]\n",
       "Index: []"
      ]
     },
     "execution_count": 43,
     "metadata": {},
     "output_type": "execute_result"
    }
   ],
   "source": [
    "# with exception\n",
    "import random \n",
    "\n",
    "try:\n",
    "    is_src_updated = etl.get_source_status('reporting', 'd_customer_lounge', 'created_at', threshold=10000)\n",
    "    is_pipeline_exec = etl.get_pipeline_runs('pipeline_example') >= 1\n",
    "    \n",
    "    etl.start_pipeline(table)\n",
    "    \n",
    "    raise Exception()\n",
    "\n",
    "    print('Is Source Updated: {}\\nDid Pipeline Execute?: {}'.format(is_src_updated, is_pipeline_exec))\n",
    "\n",
    "    names = ['Minh', 'Ghada', 'Patrick', 'Danyal', 'Tamara', 'Eugenia', 'Tommi', 'Nick']\n",
    "    department = ['Markets Analytics', 'Demand', 'Pricing', 'Supply', 'PMO', 'Market Research', 'Finance', 'LMT']\n",
    "\n",
    "    if is_src_updated and not is_pipeline_exec:\n",
    "        rand = random.randint(0, 7)\n",
    "\n",
    "        df = pd.DataFrame({\n",
    "            'name': [names[rand]],\n",
    "            'team': [department[rand]]\n",
    "        })\n",
    "\n",
    "        redshift.insert(df, schema, table, log=False)\n",
    "        etl.end_pipeline(table)\n",
    "except:\n",
    "    etl.delete_run(table)\n",
    "    \n",
    "redshift.execute('SELECT * FROM sales_and_supply.pipeline_status', log=False)"
   ]
  },
  {
   "cell_type": "code",
   "execution_count": 44,
   "id": "11733873",
   "metadata": {
    "ExecuteTime": {
     "end_time": "2024-07-10T14:56:00.658379Z",
     "start_time": "2024-07-10T14:55:56.775719Z"
    }
   },
   "outputs": [
    {
     "name": "stdout",
     "output_type": "stream",
     "text": [
      "Is Source Updated: True\n",
      "Did Pipeline Execute?: False\n"
     ]
    },
    {
     "data": {
      "text/html": [
       "<div>\n",
       "<style scoped>\n",
       "    .dataframe tbody tr th:only-of-type {\n",
       "        vertical-align: middle;\n",
       "    }\n",
       "\n",
       "    .dataframe tbody tr th {\n",
       "        vertical-align: top;\n",
       "    }\n",
       "\n",
       "    .dataframe thead th {\n",
       "        text-align: right;\n",
       "    }\n",
       "</style>\n",
       "<table border=\"1\" class=\"dataframe\">\n",
       "  <thead>\n",
       "    <tr style=\"text-align: right;\">\n",
       "      <th></th>\n",
       "      <th>process_name</th>\n",
       "      <th>start_time</th>\n",
       "      <th>end_time</th>\n",
       "      <th>status</th>\n",
       "      <th>message</th>\n",
       "    </tr>\n",
       "  </thead>\n",
       "  <tbody>\n",
       "    <tr>\n",
       "      <th>0</th>\n",
       "      <td>pipeline_example</td>\n",
       "      <td>2024-07-10 16:55:56.945528</td>\n",
       "      <td>2024-07-10 16:55:58.943156</td>\n",
       "      <td>Completed</td>\n",
       "      <td></td>\n",
       "    </tr>\n",
       "  </tbody>\n",
       "</table>\n",
       "</div>"
      ],
      "text/plain": [
       "       process_name                 start_time                   end_time   \n",
       "0  pipeline_example 2024-07-10 16:55:56.945528 2024-07-10 16:55:58.943156  \\\n",
       "\n",
       "      status message  \n",
       "0  Completed          "
      ]
     },
     "execution_count": 44,
     "metadata": {},
     "output_type": "execute_result"
    }
   ],
   "source": [
    "# without exception\n",
    "import random \n",
    "\n",
    "try:\n",
    "    is_src_updated = etl.get_source_status('reporting', 'd_customer_lounge', 'created_at', threshold=10000)\n",
    "    is_pipeline_exec = etl.get_pipeline_runs('pipeline_example') >= 1\n",
    "    \n",
    "    etl.start_pipeline(table)\n",
    "\n",
    "    print('Is Source Updated: {}\\nDid Pipeline Execute?: {}'.format(is_src_updated, is_pipeline_exec))\n",
    "\n",
    "    names = ['Minh', 'Ghada', 'Patrick', 'Danyal', 'Tamara', 'Eugenia', 'Tommi', 'Nick']\n",
    "    department = ['Markets Analytics', 'Demand', 'Pricing', 'Supply', 'PMO', 'Market Research', 'Finance', 'LMT']\n",
    "\n",
    "    if is_src_updated and not is_pipeline_exec:\n",
    "        rand = random.randint(0, 7)\n",
    "\n",
    "        df = pd.DataFrame({\n",
    "            'name': [names[rand]],\n",
    "            'team': [department[rand]]\n",
    "        })\n",
    "\n",
    "        redshift.insert(df, schema, table, log=False)\n",
    "        etl.end_pipeline(table)\n",
    "except:\n",
    "    etl.delete_run(table)\n",
    "    \n",
    "redshift.execute('SELECT * FROM sales_and_supply.pipeline_status', log=False)"
   ]
  },
  {
   "cell_type": "code",
   "execution_count": 45,
   "id": "1990f30b",
   "metadata": {
    "ExecuteTime": {
     "end_time": "2024-07-10T14:56:00.749944Z",
     "start_time": "2024-07-10T14:56:00.661231Z"
    }
   },
   "outputs": [
    {
     "data": {
      "text/html": [
       "<div>\n",
       "<style scoped>\n",
       "    .dataframe tbody tr th:only-of-type {\n",
       "        vertical-align: middle;\n",
       "    }\n",
       "\n",
       "    .dataframe tbody tr th {\n",
       "        vertical-align: top;\n",
       "    }\n",
       "\n",
       "    .dataframe thead th {\n",
       "        text-align: right;\n",
       "    }\n",
       "</style>\n",
       "<table border=\"1\" class=\"dataframe\">\n",
       "  <thead>\n",
       "    <tr style=\"text-align: right;\">\n",
       "      <th></th>\n",
       "      <th>name</th>\n",
       "      <th>team</th>\n",
       "    </tr>\n",
       "  </thead>\n",
       "  <tbody>\n",
       "    <tr>\n",
       "      <th>0</th>\n",
       "      <td>Viktor</td>\n",
       "      <td>Markets Analytics</td>\n",
       "    </tr>\n",
       "    <tr>\n",
       "      <th>1</th>\n",
       "      <td>Franzi</td>\n",
       "      <td>Market Research</td>\n",
       "    </tr>\n",
       "    <tr>\n",
       "      <th>2</th>\n",
       "      <td>Gosia</td>\n",
       "      <td>Demand PSPM</td>\n",
       "    </tr>\n",
       "    <tr>\n",
       "      <th>3</th>\n",
       "      <td>Kashyap</td>\n",
       "      <td>Markets Analytics</td>\n",
       "    </tr>\n",
       "    <tr>\n",
       "      <th>4</th>\n",
       "      <td>Mounav</td>\n",
       "      <td>Pricing</td>\n",
       "    </tr>\n",
       "    <tr>\n",
       "      <th>5</th>\n",
       "      <td>Bruno</td>\n",
       "      <td>CP&amp;S</td>\n",
       "    </tr>\n",
       "    <tr>\n",
       "      <th>6</th>\n",
       "      <td>Ghada</td>\n",
       "      <td>Demand</td>\n",
       "    </tr>\n",
       "  </tbody>\n",
       "</table>\n",
       "</div>"
      ],
      "text/plain": [
       "      name               team\n",
       "0   Viktor  Markets Analytics\n",
       "1   Franzi    Market Research\n",
       "2    Gosia        Demand PSPM\n",
       "3  Kashyap  Markets Analytics\n",
       "4   Mounav            Pricing\n",
       "5    Bruno               CP&S\n",
       "6    Ghada             Demand"
      ]
     },
     "execution_count": 45,
     "metadata": {},
     "output_type": "execute_result"
    }
   ],
   "source": [
    "query = 'SELECT * FROM {}.{}'.format(schema, table)\n",
    "\n",
    "redshift.execute(query, log=False)"
   ]
  },
  {
   "cell_type": "markdown",
   "id": "b95b0d5a",
   "metadata": {},
   "source": [
    "# 3. Google Sheets"
   ]
  },
  {
   "cell_type": "code",
   "execution_count": 20,
   "id": "28ef278c",
   "metadata": {
    "ExecuteTime": {
     "end_time": "2024-07-10T14:53:04.988296Z",
     "start_time": "2024-07-10T14:52:56.015430Z"
    }
   },
   "outputs": [],
   "source": [
    "gsheet = GSheetHelper('Intra-Week Tool v2.2')"
   ]
  },
  {
   "cell_type": "markdown",
   "id": "c8645735",
   "metadata": {
    "ExecuteTime": {
     "end_time": "2024-07-10T06:59:28.323280Z",
     "start_time": "2024-07-10T06:59:28.318485Z"
    }
   },
   "source": [
    "## Read"
   ]
  },
  {
   "cell_type": "code",
   "execution_count": 21,
   "id": "d641b229",
   "metadata": {
    "ExecuteTime": {
     "end_time": "2024-07-10T14:53:05.409550Z",
     "start_time": "2024-07-10T14:53:04.990937Z"
    }
   },
   "outputs": [
    {
     "name": "stdout",
     "output_type": "stream",
     "text": [
      "[2024-07-10 16:53:04.991914] Reading from Tab: Report - CW\n"
     ]
    },
    {
     "data": {
      "text/plain": [
       "'The tool did not update at all since 10.07.2023'"
      ]
     },
     "execution_count": 21,
     "metadata": {},
     "output_type": "execute_result"
    }
   ],
   "source": [
    "gsheet.read('Report - CW', 'I4')"
   ]
  },
  {
   "cell_type": "code",
   "execution_count": 22,
   "id": "f1213a40",
   "metadata": {
    "ExecuteTime": {
     "end_time": "2024-07-10T14:53:05.846923Z",
     "start_time": "2024-07-10T14:53:05.411278Z"
    }
   },
   "outputs": [
    {
     "name": "stdout",
     "output_type": "stream",
     "text": [
      "[2024-07-10 16:53:05.412147] Reading from Tab: Report - CW\n"
     ]
    },
    {
     "data": {
      "text/html": [
       "<div>\n",
       "<style scoped>\n",
       "    .dataframe tbody tr th:only-of-type {\n",
       "        vertical-align: middle;\n",
       "    }\n",
       "\n",
       "    .dataframe tbody tr th {\n",
       "        vertical-align: top;\n",
       "    }\n",
       "\n",
       "    .dataframe thead th {\n",
       "        text-align: right;\n",
       "    }\n",
       "</style>\n",
       "<table border=\"1\" class=\"dataframe\">\n",
       "  <thead>\n",
       "    <tr style=\"text-align: right;\">\n",
       "      <th></th>\n",
       "      <th>0</th>\n",
       "      <th>1</th>\n",
       "      <th>2</th>\n",
       "      <th>3</th>\n",
       "      <th>4</th>\n",
       "      <th>5</th>\n",
       "      <th>6</th>\n",
       "      <th>7</th>\n",
       "      <th>8</th>\n",
       "    </tr>\n",
       "  </thead>\n",
       "  <tbody>\n",
       "    <tr>\n",
       "      <th>0</th>\n",
       "      <td>Orders bCanc</td>\n",
       "      <td>CW Act. + Cherry + FC</td>\n",
       "      <td>72,335</td>\n",
       "      <td>72,393</td>\n",
       "      <td>68,919</td>\n",
       "      <td>90,203</td>\n",
       "      <td>105,017</td>\n",
       "      <td>107,610</td>\n",
       "      <td>111,847</td>\n",
       "    </tr>\n",
       "    <tr>\n",
       "      <th>1</th>\n",
       "      <td></td>\n",
       "      <td>vs FC %</td>\n",
       "      <td>-13.54%</td>\n",
       "      <td>-12.32%</td>\n",
       "      <td>-20.45%</td>\n",
       "      <td>0.00%</td>\n",
       "      <td>0.00%</td>\n",
       "      <td>0.00%</td>\n",
       "      <td>0.00%</td>\n",
       "    </tr>\n",
       "    <tr>\n",
       "      <th>2</th>\n",
       "      <td></td>\n",
       "      <td>Forecast</td>\n",
       "      <td>83,667</td>\n",
       "      <td>82,565</td>\n",
       "      <td>86,633</td>\n",
       "      <td>90,203</td>\n",
       "      <td>105,017</td>\n",
       "      <td>107,610</td>\n",
       "      <td>111,847</td>\n",
       "    </tr>\n",
       "    <tr>\n",
       "      <th>3</th>\n",
       "      <td></td>\n",
       "      <td>vs Case %</td>\n",
       "      <td>-18.93%</td>\n",
       "      <td>-16.83%</td>\n",
       "      <td>-25.36%</td>\n",
       "      <td>-15.01%</td>\n",
       "      <td>-1.65%</td>\n",
       "      <td>4.75%</td>\n",
       "      <td>-0.76%</td>\n",
       "    </tr>\n",
       "    <tr>\n",
       "      <th>4</th>\n",
       "      <td></td>\n",
       "      <td>Case</td>\n",
       "      <td>89,224</td>\n",
       "      <td>87,046</td>\n",
       "      <td>92,330</td>\n",
       "      <td>106,131</td>\n",
       "      <td>106,781</td>\n",
       "      <td>102,729</td>\n",
       "      <td>112,706</td>\n",
       "    </tr>\n",
       "    <tr>\n",
       "      <th>5</th>\n",
       "      <td></td>\n",
       "      <td>vs YoY %</td>\n",
       "      <td>-16.08%</td>\n",
       "      <td>-9.82%</td>\n",
       "      <td>-17.15%</td>\n",
       "      <td>-10.85%</td>\n",
       "      <td>30.61%</td>\n",
       "      <td>39.84%</td>\n",
       "      <td>40.98%</td>\n",
       "    </tr>\n",
       "    <tr>\n",
       "      <th>6</th>\n",
       "      <td></td>\n",
       "      <td>LY - Actuals</td>\n",
       "      <td>86,194</td>\n",
       "      <td>80,277</td>\n",
       "      <td>83,181</td>\n",
       "      <td>101,176</td>\n",
       "      <td>80,406</td>\n",
       "      <td>76,954</td>\n",
       "      <td>79,333</td>\n",
       "    </tr>\n",
       "    <tr>\n",
       "      <th>7</th>\n",
       "      <td></td>\n",
       "      <td>vs WoW %</td>\n",
       "      <td>-21.03%</td>\n",
       "      <td>-25.19%</td>\n",
       "      <td>-29.87%</td>\n",
       "      <td>6.29%</td>\n",
       "      <td>26.03%</td>\n",
       "      <td>47.38%</td>\n",
       "      <td>39.16%</td>\n",
       "    </tr>\n",
       "    <tr>\n",
       "      <th>8</th>\n",
       "      <td></td>\n",
       "      <td>LW - Actuals</td>\n",
       "      <td>91,600</td>\n",
       "      <td>96,775</td>\n",
       "      <td>98,276</td>\n",
       "      <td>84,866</td>\n",
       "      <td>83,327</td>\n",
       "      <td>73,015</td>\n",
       "      <td>80,376</td>\n",
       "    </tr>\n",
       "  </tbody>\n",
       "</table>\n",
       "</div>"
      ],
      "text/plain": [
       "              0                      1        2        3        4        5   \n",
       "0  Orders bCanc  CW Act. + Cherry + FC   72,335   72,393   68,919   90,203  \\\n",
       "1                              vs FC %  -13.54%  -12.32%  -20.45%    0.00%   \n",
       "2                             Forecast   83,667   82,565   86,633   90,203   \n",
       "3                            vs Case %  -18.93%  -16.83%  -25.36%  -15.01%   \n",
       "4                                 Case   89,224   87,046   92,330  106,131   \n",
       "5                             vs YoY %  -16.08%   -9.82%  -17.15%  -10.85%   \n",
       "6                         LY - Actuals   86,194   80,277   83,181  101,176   \n",
       "7                             vs WoW %  -21.03%  -25.19%  -29.87%    6.29%   \n",
       "8                         LW - Actuals   91,600   96,775   98,276   84,866   \n",
       "\n",
       "         6        7        8  \n",
       "0  105,017  107,610  111,847  \n",
       "1    0.00%    0.00%    0.00%  \n",
       "2  105,017  107,610  111,847  \n",
       "3   -1.65%    4.75%   -0.76%  \n",
       "4  106,781  102,729  112,706  \n",
       "5   30.61%   39.84%   40.98%  \n",
       "6   80,406   76,954   79,333  \n",
       "7   26.03%   47.38%   39.16%  \n",
       "8   83,327   73,015   80,376  "
      ]
     },
     "execution_count": 22,
     "metadata": {},
     "output_type": "execute_result"
    }
   ],
   "source": [
    "gsheet.read('Report - CW', 'I275:Q283', False)"
   ]
  },
  {
   "cell_type": "code",
   "execution_count": 23,
   "id": "d4fbec61",
   "metadata": {
    "ExecuteTime": {
     "end_time": "2024-07-10T14:53:06.328004Z",
     "start_time": "2024-07-10T14:53:05.848876Z"
    }
   },
   "outputs": [
    {
     "name": "stdout",
     "output_type": "stream",
     "text": [
      "[2024-07-10 16:53:05.849672] Reading from Tab: Report - CW\n"
     ]
    },
    {
     "data": {
      "text/html": [
       "<div>\n",
       "<style scoped>\n",
       "    .dataframe tbody tr th:only-of-type {\n",
       "        vertical-align: middle;\n",
       "    }\n",
       "\n",
       "    .dataframe tbody tr th {\n",
       "        vertical-align: top;\n",
       "    }\n",
       "\n",
       "    .dataframe thead th {\n",
       "        text-align: right;\n",
       "    }\n",
       "</style>\n",
       "<table border=\"1\" class=\"dataframe\">\n",
       "  <thead>\n",
       "    <tr style=\"text-align: right;\">\n",
       "      <th></th>\n",
       "      <th>GMV bCanc eSC (M)</th>\n",
       "      <th>CW Act. + Cherry + FC</th>\n",
       "      <th>€6.127</th>\n",
       "      <th>€6.258</th>\n",
       "      <th>€5.904</th>\n",
       "      <th>€7.947</th>\n",
       "      <th>€8.904</th>\n",
       "      <th>€9.099</th>\n",
       "      <th>€9.533</th>\n",
       "    </tr>\n",
       "  </thead>\n",
       "  <tbody>\n",
       "    <tr>\n",
       "      <th>0</th>\n",
       "      <td></td>\n",
       "      <td>vs FC %</td>\n",
       "      <td>-17.16%</td>\n",
       "      <td>-15.28%</td>\n",
       "      <td>-23.36%</td>\n",
       "      <td>0.00%</td>\n",
       "      <td>0.00%</td>\n",
       "      <td>0.00%</td>\n",
       "      <td>0.00%</td>\n",
       "    </tr>\n",
       "    <tr>\n",
       "      <th>1</th>\n",
       "      <td></td>\n",
       "      <td>Forecast</td>\n",
       "      <td>€7.396</td>\n",
       "      <td>€7.387</td>\n",
       "      <td>€7.703</td>\n",
       "      <td>€7.947</td>\n",
       "      <td>€8.904</td>\n",
       "      <td>€9.099</td>\n",
       "      <td>€9.533</td>\n",
       "    </tr>\n",
       "    <tr>\n",
       "      <th>2</th>\n",
       "      <td></td>\n",
       "      <td>vs Case %</td>\n",
       "      <td>-19.72%</td>\n",
       "      <td>-16.88%</td>\n",
       "      <td>-26.64%</td>\n",
       "      <td>-13.79%</td>\n",
       "      <td>-4.50%</td>\n",
       "      <td>1.03%</td>\n",
       "      <td>-2.71%</td>\n",
       "    </tr>\n",
       "    <tr>\n",
       "      <th>3</th>\n",
       "      <td></td>\n",
       "      <td>Case</td>\n",
       "      <td>€7.632</td>\n",
       "      <td>€7.530</td>\n",
       "      <td>€8.048</td>\n",
       "      <td>€9.218</td>\n",
       "      <td>€9.323</td>\n",
       "      <td>€9.006</td>\n",
       "      <td>€9.799</td>\n",
       "    </tr>\n",
       "    <tr>\n",
       "      <th>4</th>\n",
       "      <td></td>\n",
       "      <td>vs YoY %</td>\n",
       "      <td>-6.12%</td>\n",
       "      <td>-3.33%</td>\n",
       "      <td>-11.13%</td>\n",
       "      <td>2.44%</td>\n",
       "      <td>39.53%</td>\n",
       "      <td>21.03%</td>\n",
       "      <td>32.11%</td>\n",
       "    </tr>\n",
       "    <tr>\n",
       "      <th>5</th>\n",
       "      <td></td>\n",
       "      <td>LY - Actuals</td>\n",
       "      <td>€6.527</td>\n",
       "      <td>€6.474</td>\n",
       "      <td>€6.643</td>\n",
       "      <td>€7.757</td>\n",
       "      <td>€6.381</td>\n",
       "      <td>€7.518</td>\n",
       "      <td>€7.216</td>\n",
       "    </tr>\n",
       "    <tr>\n",
       "      <th>6</th>\n",
       "      <td></td>\n",
       "      <td>vs WoW %</td>\n",
       "      <td>-22.52%</td>\n",
       "      <td>-27.04%</td>\n",
       "      <td>-30.67%</td>\n",
       "      <td>7.82%</td>\n",
       "      <td>23.46%</td>\n",
       "      <td>44.74%</td>\n",
       "      <td>21.88%</td>\n",
       "    </tr>\n",
       "    <tr>\n",
       "      <th>7</th>\n",
       "      <td></td>\n",
       "      <td>LW - Actuals</td>\n",
       "      <td>€7.908</td>\n",
       "      <td>€8.577</td>\n",
       "      <td>€8.516</td>\n",
       "      <td>€7.370</td>\n",
       "      <td>€7.212</td>\n",
       "      <td>€6.286</td>\n",
       "      <td>€7.822</td>\n",
       "    </tr>\n",
       "  </tbody>\n",
       "</table>\n",
       "</div>"
      ],
      "text/plain": [
       "  GMV bCanc eSC (M) CW Act. + Cherry + FC   €6.127   €6.258   €5.904   €7.947   \n",
       "0                                 vs FC %  -17.16%  -15.28%  -23.36%    0.00%  \\\n",
       "1                                Forecast   €7.396   €7.387   €7.703   €7.947   \n",
       "2                               vs Case %  -19.72%  -16.88%  -26.64%  -13.79%   \n",
       "3                                    Case   €7.632   €7.530   €8.048   €9.218   \n",
       "4                                vs YoY %   -6.12%   -3.33%  -11.13%    2.44%   \n",
       "5                            LY - Actuals   €6.527   €6.474   €6.643   €7.757   \n",
       "6                                vs WoW %  -22.52%  -27.04%  -30.67%    7.82%   \n",
       "7                            LW - Actuals   €7.908   €8.577   €8.516   €7.370   \n",
       "\n",
       "   €8.904  €9.099  €9.533  \n",
       "0   0.00%   0.00%   0.00%  \n",
       "1  €8.904  €9.099  €9.533  \n",
       "2  -4.50%   1.03%  -2.71%  \n",
       "3  €9.323  €9.006  €9.799  \n",
       "4  39.53%  21.03%  32.11%  \n",
       "5  €6.381  €7.518  €7.216  \n",
       "6  23.46%  44.74%  21.88%  \n",
       "7  €7.212  €6.286  €7.822  "
      ]
     },
     "execution_count": 23,
     "metadata": {},
     "output_type": "execute_result"
    }
   ],
   "source": [
    "gsheet.read('Report - CW', 'I14:Q22')"
   ]
  },
  {
   "cell_type": "code",
   "execution_count": 24,
   "id": "c1088fa4",
   "metadata": {
    "ExecuteTime": {
     "end_time": "2024-07-10T14:53:07.170595Z",
     "start_time": "2024-07-10T14:53:06.329516Z"
    }
   },
   "outputs": [
    {
     "name": "stdout",
     "output_type": "stream",
     "text": [
      "[2024-07-10 16:53:06.330314] Reading from Tab: Report - CW\n"
     ]
    },
    {
     "data": {
      "text/html": [
       "<div>\n",
       "<style scoped>\n",
       "    .dataframe tbody tr th:only-of-type {\n",
       "        vertical-align: middle;\n",
       "    }\n",
       "\n",
       "    .dataframe tbody tr th {\n",
       "        vertical-align: top;\n",
       "    }\n",
       "\n",
       "    .dataframe thead tr th {\n",
       "        text-align: left;\n",
       "    }\n",
       "</style>\n",
       "<table border=\"1\" class=\"dataframe\">\n",
       "  <thead>\n",
       "    <tr>\n",
       "      <th></th>\n",
       "      <th></th>\n",
       "      <th></th>\n",
       "      <th>2024-07-08</th>\n",
       "      <th>2024-07-09</th>\n",
       "      <th>2024-07-10</th>\n",
       "      <th>2024-07-11</th>\n",
       "      <th>2024-07-12</th>\n",
       "      <th>2024-07-13</th>\n",
       "      <th>2024-07-14</th>\n",
       "    </tr>\n",
       "  </thead>\n",
       "  <tbody>\n",
       "    <tr>\n",
       "      <th>0</th>\n",
       "      <td>GMV bCanc eSC (M)</td>\n",
       "      <td>CW Act. + Cherry + FC</td>\n",
       "      <td>€6.127</td>\n",
       "      <td>€6.258</td>\n",
       "      <td>€5.904</td>\n",
       "      <td>€7.947</td>\n",
       "      <td>€8.904</td>\n",
       "      <td>€9.099</td>\n",
       "      <td>€9.533</td>\n",
       "    </tr>\n",
       "    <tr>\n",
       "      <th>1</th>\n",
       "      <td></td>\n",
       "      <td>vs FC %</td>\n",
       "      <td>-17.16%</td>\n",
       "      <td>-15.28%</td>\n",
       "      <td>-23.36%</td>\n",
       "      <td>0.00%</td>\n",
       "      <td>0.00%</td>\n",
       "      <td>0.00%</td>\n",
       "      <td>0.00%</td>\n",
       "    </tr>\n",
       "    <tr>\n",
       "      <th>2</th>\n",
       "      <td></td>\n",
       "      <td>Forecast</td>\n",
       "      <td>€7.396</td>\n",
       "      <td>€7.387</td>\n",
       "      <td>€7.703</td>\n",
       "      <td>€7.947</td>\n",
       "      <td>€8.904</td>\n",
       "      <td>€9.099</td>\n",
       "      <td>€9.533</td>\n",
       "    </tr>\n",
       "    <tr>\n",
       "      <th>3</th>\n",
       "      <td></td>\n",
       "      <td>vs Case %</td>\n",
       "      <td>-19.72%</td>\n",
       "      <td>-16.88%</td>\n",
       "      <td>-26.64%</td>\n",
       "      <td>-13.79%</td>\n",
       "      <td>-4.50%</td>\n",
       "      <td>1.03%</td>\n",
       "      <td>-2.71%</td>\n",
       "    </tr>\n",
       "    <tr>\n",
       "      <th>4</th>\n",
       "      <td></td>\n",
       "      <td>Case</td>\n",
       "      <td>€7.632</td>\n",
       "      <td>€7.530</td>\n",
       "      <td>€8.048</td>\n",
       "      <td>€9.218</td>\n",
       "      <td>€9.323</td>\n",
       "      <td>€9.006</td>\n",
       "      <td>€9.799</td>\n",
       "    </tr>\n",
       "    <tr>\n",
       "      <th>5</th>\n",
       "      <td></td>\n",
       "      <td>vs YoY %</td>\n",
       "      <td>-6.12%</td>\n",
       "      <td>-3.33%</td>\n",
       "      <td>-11.13%</td>\n",
       "      <td>2.44%</td>\n",
       "      <td>39.53%</td>\n",
       "      <td>21.03%</td>\n",
       "      <td>32.11%</td>\n",
       "    </tr>\n",
       "    <tr>\n",
       "      <th>6</th>\n",
       "      <td></td>\n",
       "      <td>LY - Actuals</td>\n",
       "      <td>€6.527</td>\n",
       "      <td>€6.474</td>\n",
       "      <td>€6.643</td>\n",
       "      <td>€7.757</td>\n",
       "      <td>€6.381</td>\n",
       "      <td>€7.518</td>\n",
       "      <td>€7.216</td>\n",
       "    </tr>\n",
       "    <tr>\n",
       "      <th>7</th>\n",
       "      <td></td>\n",
       "      <td>vs WoW %</td>\n",
       "      <td>-22.52%</td>\n",
       "      <td>-27.04%</td>\n",
       "      <td>-30.67%</td>\n",
       "      <td>7.82%</td>\n",
       "      <td>23.46%</td>\n",
       "      <td>44.74%</td>\n",
       "      <td>21.88%</td>\n",
       "    </tr>\n",
       "    <tr>\n",
       "      <th>8</th>\n",
       "      <td></td>\n",
       "      <td>LW - Actuals</td>\n",
       "      <td>€7.908</td>\n",
       "      <td>€8.577</td>\n",
       "      <td>€8.516</td>\n",
       "      <td>€7.370</td>\n",
       "      <td>€7.212</td>\n",
       "      <td>€6.286</td>\n",
       "      <td>€7.822</td>\n",
       "    </tr>\n",
       "  </tbody>\n",
       "</table>\n",
       "</div>"
      ],
      "text/plain": [
       "                                            2024-07-08 2024-07-09 2024-07-10   \n",
       "0  GMV bCanc eSC (M)  CW Act. + Cherry + FC     €6.127     €6.258     €5.904  \\\n",
       "1                                   vs FC %    -17.16%    -15.28%    -23.36%   \n",
       "2                                  Forecast     €7.396     €7.387     €7.703   \n",
       "3                                 vs Case %    -19.72%    -16.88%    -26.64%   \n",
       "4                                      Case     €7.632     €7.530     €8.048   \n",
       "5                                  vs YoY %     -6.12%     -3.33%    -11.13%   \n",
       "6                              LY - Actuals     €6.527     €6.474     €6.643   \n",
       "7                                  vs WoW %    -22.52%    -27.04%    -30.67%   \n",
       "8                              LW - Actuals     €7.908     €8.577     €8.516   \n",
       "\n",
       "  2024-07-11 2024-07-12 2024-07-13 2024-07-14  \n",
       "0     €7.947     €8.904     €9.099     €9.533  \n",
       "1      0.00%      0.00%      0.00%      0.00%  \n",
       "2     €7.947     €8.904     €9.099     €9.533  \n",
       "3    -13.79%     -4.50%      1.03%     -2.71%  \n",
       "4     €9.218     €9.323     €9.006     €9.799  \n",
       "5      2.44%     39.53%     21.03%     32.11%  \n",
       "6     €7.757     €6.381     €7.518     €7.216  \n",
       "7      7.82%     23.46%     44.74%     21.88%  \n",
       "8     €7.370     €7.212     €6.286     €7.822  "
      ]
     },
     "execution_count": 24,
     "metadata": {},
     "output_type": "execute_result"
    }
   ],
   "source": [
    "gsheet.read('Report - CW', 'I14:Q22', header=True, header_range='I7:Q7')"
   ]
  },
  {
   "cell_type": "markdown",
   "id": "ad2decc3",
   "metadata": {},
   "source": [
    "## Write"
   ]
  },
  {
   "cell_type": "code",
   "execution_count": 25,
   "id": "3d09f6fd",
   "metadata": {
    "ExecuteTime": {
     "end_time": "2024-07-10T14:53:07.791399Z",
     "start_time": "2024-07-10T14:53:07.172397Z"
    }
   },
   "outputs": [
    {
     "name": "stdout",
     "output_type": "stream",
     "text": [
      "[2024-07-10 16:53:07.173161] Writing to Tab: Report - CW\n",
      "[2024-07-10 16:53:07.789003] Data Written Successful\n"
     ]
    }
   ],
   "source": [
    "gsheet.write('Report - CW', 'The tool did not update at all since 10.07.2023', 'I4')"
   ]
  },
  {
   "cell_type": "code",
   "execution_count": 26,
   "id": "17ba2393",
   "metadata": {
    "ExecuteTime": {
     "end_time": "2024-07-10T14:53:08.377189Z",
     "start_time": "2024-07-10T14:53:07.793456Z"
    },
    "code_folding": []
   },
   "outputs": [
    {
     "name": "stdout",
     "output_type": "stream",
     "text": [
      "[2024-07-10 16:53:07.795002] Writing to Tab: Test\n",
      "[2024-07-10 16:53:08.374932] Data Written Successful\n"
     ]
    }
   ],
   "source": [
    "df = pd.DataFrame({\n",
    "    'name': ['X', 'Y', 'Z'],\n",
    "    'age': [31, 29, 20]\n",
    "})\n",
    "\n",
    "gsheet.write('Test', df, 'B2')"
   ]
  },
  {
   "cell_type": "markdown",
   "id": "10c0813a",
   "metadata": {},
   "source": [
    "## Delete"
   ]
  },
  {
   "cell_type": "code",
   "execution_count": 27,
   "id": "3ae50b2e",
   "metadata": {
    "ExecuteTime": {
     "end_time": "2024-07-10T14:53:09.972845Z",
     "start_time": "2024-07-10T14:53:08.379851Z"
    }
   },
   "outputs": [
    {
     "name": "stdout",
     "output_type": "stream",
     "text": [
      "[2024-07-10 16:53:08.380708] Delete from Tab: Test\n",
      "[2024-07-10 16:53:09.970369] Data Deleted Successful\n"
     ]
    }
   ],
   "source": [
    "gsheet.delete('Test', 'B2:D4')"
   ]
  },
  {
   "cell_type": "markdown",
   "id": "f040753e",
   "metadata": {},
   "source": [
    "# 4. Date Utility"
   ]
  },
  {
   "cell_type": "markdown",
   "id": "d9e8175a",
   "metadata": {},
   "source": [
    "## Date Ranges"
   ]
  },
  {
   "cell_type": "code",
   "execution_count": 28,
   "id": "cffaf91d",
   "metadata": {
    "ExecuteTime": {
     "end_time": "2024-07-10T14:53:09.980895Z",
     "start_time": "2024-07-10T14:53:09.977300Z"
    }
   },
   "outputs": [
    {
     "name": "stdout",
     "output_type": "stream",
     "text": [
      "(datetime.date(2024, 7, 8), datetime.date(2024, 7, 14))\n",
      "(datetime.date(2022, 12, 26), datetime.date(2023, 1, 1))\n"
     ]
    }
   ],
   "source": [
    "print(dateutil.get_isoweek_range(28))\n",
    "print(dateutil.get_isoweek_range(1, 2023))"
   ]
  },
  {
   "cell_type": "code",
   "execution_count": 29,
   "id": "cd45973a",
   "metadata": {
    "ExecuteTime": {
     "end_time": "2024-07-10T14:53:09.991630Z",
     "start_time": "2024-07-10T14:53:09.982315Z"
    }
   },
   "outputs": [
    {
     "name": "stdout",
     "output_type": "stream",
     "text": [
      "2024-05-06\n",
      "2024-05-01\n",
      "2024-04-01\n",
      "2024-01-01\n"
     ]
    }
   ],
   "source": [
    "date = '2024-05-09'\n",
    "print(dateutil.get_start_of_timeframe(date, 'week'))\n",
    "print(dateutil.get_start_of_timeframe(date, 'month'))\n",
    "print(dateutil.get_start_of_timeframe(date, 'quarter'))\n",
    "print(dateutil.get_start_of_timeframe(date, 'year'))"
   ]
  },
  {
   "cell_type": "code",
   "execution_count": 30,
   "id": "89a44779",
   "metadata": {
    "ExecuteTime": {
     "end_time": "2024-07-10T14:53:10.000290Z",
     "start_time": "2024-07-10T14:53:09.992929Z"
    }
   },
   "outputs": [
    {
     "name": "stdout",
     "output_type": "stream",
     "text": [
      "2015-01-04\n",
      "2014-12-31\n",
      "2014-12-31\n",
      "2014-12-31\n"
     ]
    }
   ],
   "source": [
    "date = '2014-12-30'\n",
    "print(dateutil.get_end_of_timeframe(date, 'week'))\n",
    "print(dateutil.get_end_of_timeframe(date, 'month'))\n",
    "print(dateutil.get_end_of_timeframe(date, 'quarter'))\n",
    "print(dateutil.get_end_of_timeframe(date, 'year'))"
   ]
  },
  {
   "cell_type": "code",
   "execution_count": 31,
   "id": "a1acf8e3",
   "metadata": {
    "ExecuteTime": {
     "end_time": "2024-07-10T14:53:10.012526Z",
     "start_time": "2024-07-10T14:53:10.001609Z"
    }
   },
   "outputs": [
    {
     "name": "stdout",
     "output_type": "stream",
     "text": [
      "(datetime.date(2019, 12, 30), datetime.date(2020, 1, 5))\n",
      "(datetime.date(2020, 1, 1), datetime.date(2021, 1, 31))\n",
      "(datetime.date(2020, 1, 1), datetime.date(2020, 3, 31))\n",
      "(datetime.date(2020, 1, 1), datetime.date(2020, 12, 31))\n"
     ]
    }
   ],
   "source": [
    "date = '2020-01-02'\n",
    "print(dateutil.get_start_and_end_of_timeframe(date, 'week'))\n",
    "print(dateutil.get_start_and_end_of_timeframe(date, 'month'))\n",
    "print(dateutil.get_start_and_end_of_timeframe(date, 'quarter'))\n",
    "print(dateutil.get_start_and_end_of_timeframe(date, 'year'))"
   ]
  },
  {
   "cell_type": "markdown",
   "id": "d5bb7379",
   "metadata": {},
   "source": [
    "## Till Date and Outlook"
   ]
  },
  {
   "cell_type": "code",
   "execution_count": 32,
   "id": "8952c92c",
   "metadata": {
    "ExecuteTime": {
     "end_time": "2024-07-10T14:53:10.099458Z",
     "start_time": "2024-07-10T14:53:10.014133Z"
    }
   },
   "outputs": [
    {
     "name": "stdout",
     "output_type": "stream",
     "text": [
      "[2024-07-10 16:53:10.017000] Executing Query\n",
      "[2024-07-10 16:53:10.090906] Query Executed Successfully\n"
     ]
    },
    {
     "data": {
      "text/html": [
       "<div>\n",
       "<style scoped>\n",
       "    .dataframe tbody tr th:only-of-type {\n",
       "        vertical-align: middle;\n",
       "    }\n",
       "\n",
       "    .dataframe tbody tr th {\n",
       "        vertical-align: top;\n",
       "    }\n",
       "\n",
       "    .dataframe thead th {\n",
       "        text-align: right;\n",
       "    }\n",
       "</style>\n",
       "<table border=\"1\" class=\"dataframe\">\n",
       "  <thead>\n",
       "    <tr style=\"text-align: right;\">\n",
       "      <th></th>\n",
       "      <th>order_date</th>\n",
       "      <th>weekday</th>\n",
       "      <th>gmv</th>\n",
       "    </tr>\n",
       "  </thead>\n",
       "  <tbody>\n",
       "    <tr>\n",
       "      <th>0</th>\n",
       "      <td>2024-01-01</td>\n",
       "      <td>1</td>\n",
       "      <td>7.758236e+06</td>\n",
       "    </tr>\n",
       "    <tr>\n",
       "      <th>1</th>\n",
       "      <td>2024-01-02</td>\n",
       "      <td>2</td>\n",
       "      <td>8.606549e+06</td>\n",
       "    </tr>\n",
       "    <tr>\n",
       "      <th>2</th>\n",
       "      <td>2024-01-03</td>\n",
       "      <td>3</td>\n",
       "      <td>8.683049e+06</td>\n",
       "    </tr>\n",
       "    <tr>\n",
       "      <th>3</th>\n",
       "      <td>2024-01-04</td>\n",
       "      <td>4</td>\n",
       "      <td>9.756538e+06</td>\n",
       "    </tr>\n",
       "    <tr>\n",
       "      <th>4</th>\n",
       "      <td>2024-01-05</td>\n",
       "      <td>5</td>\n",
       "      <td>9.236966e+06</td>\n",
       "    </tr>\n",
       "    <tr>\n",
       "      <th>5</th>\n",
       "      <td>2024-01-06</td>\n",
       "      <td>6</td>\n",
       "      <td>1.183327e+07</td>\n",
       "    </tr>\n",
       "    <tr>\n",
       "      <th>6</th>\n",
       "      <td>2024-01-07</td>\n",
       "      <td>0</td>\n",
       "      <td>1.187348e+07</td>\n",
       "    </tr>\n",
       "    <tr>\n",
       "      <th>7</th>\n",
       "      <td>2024-01-08</td>\n",
       "      <td>1</td>\n",
       "      <td>9.264072e+06</td>\n",
       "    </tr>\n",
       "    <tr>\n",
       "      <th>8</th>\n",
       "      <td>2024-01-09</td>\n",
       "      <td>2</td>\n",
       "      <td>1.013480e+07</td>\n",
       "    </tr>\n",
       "    <tr>\n",
       "      <th>9</th>\n",
       "      <td>2024-01-10</td>\n",
       "      <td>3</td>\n",
       "      <td>9.443912e+06</td>\n",
       "    </tr>\n",
       "    <tr>\n",
       "      <th>10</th>\n",
       "      <td>2024-01-11</td>\n",
       "      <td>4</td>\n",
       "      <td>8.719715e+06</td>\n",
       "    </tr>\n",
       "    <tr>\n",
       "      <th>11</th>\n",
       "      <td>2024-01-12</td>\n",
       "      <td>5</td>\n",
       "      <td>1.160118e+07</td>\n",
       "    </tr>\n",
       "    <tr>\n",
       "      <th>12</th>\n",
       "      <td>2024-01-13</td>\n",
       "      <td>6</td>\n",
       "      <td>1.152512e+07</td>\n",
       "    </tr>\n",
       "    <tr>\n",
       "      <th>13</th>\n",
       "      <td>2024-01-14</td>\n",
       "      <td>0</td>\n",
       "      <td>1.222412e+07</td>\n",
       "    </tr>\n",
       "    <tr>\n",
       "      <th>14</th>\n",
       "      <td>2024-01-15</td>\n",
       "      <td>1</td>\n",
       "      <td>8.828302e+06</td>\n",
       "    </tr>\n",
       "    <tr>\n",
       "      <th>15</th>\n",
       "      <td>2024-01-16</td>\n",
       "      <td>2</td>\n",
       "      <td>8.822254e+06</td>\n",
       "    </tr>\n",
       "    <tr>\n",
       "      <th>16</th>\n",
       "      <td>2024-01-17</td>\n",
       "      <td>3</td>\n",
       "      <td>9.554627e+06</td>\n",
       "    </tr>\n",
       "    <tr>\n",
       "      <th>17</th>\n",
       "      <td>2024-01-18</td>\n",
       "      <td>4</td>\n",
       "      <td>9.056814e+06</td>\n",
       "    </tr>\n",
       "    <tr>\n",
       "      <th>18</th>\n",
       "      <td>2024-01-19</td>\n",
       "      <td>5</td>\n",
       "      <td>8.214310e+06</td>\n",
       "    </tr>\n",
       "    <tr>\n",
       "      <th>19</th>\n",
       "      <td>2024-01-20</td>\n",
       "      <td>6</td>\n",
       "      <td>1.038267e+07</td>\n",
       "    </tr>\n",
       "    <tr>\n",
       "      <th>20</th>\n",
       "      <td>2024-01-21</td>\n",
       "      <td>0</td>\n",
       "      <td>9.782504e+06</td>\n",
       "    </tr>\n",
       "    <tr>\n",
       "      <th>21</th>\n",
       "      <td>2024-01-22</td>\n",
       "      <td>1</td>\n",
       "      <td>7.732312e+06</td>\n",
       "    </tr>\n",
       "    <tr>\n",
       "      <th>22</th>\n",
       "      <td>2024-01-23</td>\n",
       "      <td>2</td>\n",
       "      <td>8.706859e+06</td>\n",
       "    </tr>\n",
       "    <tr>\n",
       "      <th>23</th>\n",
       "      <td>2024-01-24</td>\n",
       "      <td>3</td>\n",
       "      <td>8.523159e+06</td>\n",
       "    </tr>\n",
       "    <tr>\n",
       "      <th>24</th>\n",
       "      <td>2024-01-25</td>\n",
       "      <td>4</td>\n",
       "      <td>8.901123e+06</td>\n",
       "    </tr>\n",
       "    <tr>\n",
       "      <th>25</th>\n",
       "      <td>2024-01-26</td>\n",
       "      <td>5</td>\n",
       "      <td>8.378175e+06</td>\n",
       "    </tr>\n",
       "    <tr>\n",
       "      <th>26</th>\n",
       "      <td>2024-01-27</td>\n",
       "      <td>6</td>\n",
       "      <td>9.222703e+06</td>\n",
       "    </tr>\n",
       "    <tr>\n",
       "      <th>27</th>\n",
       "      <td>2024-01-28</td>\n",
       "      <td>0</td>\n",
       "      <td>1.059849e+07</td>\n",
       "    </tr>\n",
       "    <tr>\n",
       "      <th>28</th>\n",
       "      <td>2024-01-29</td>\n",
       "      <td>1</td>\n",
       "      <td>8.286465e+06</td>\n",
       "    </tr>\n",
       "    <tr>\n",
       "      <th>29</th>\n",
       "      <td>2024-01-30</td>\n",
       "      <td>2</td>\n",
       "      <td>7.869913e+06</td>\n",
       "    </tr>\n",
       "    <tr>\n",
       "      <th>30</th>\n",
       "      <td>2024-01-31</td>\n",
       "      <td>3</td>\n",
       "      <td>8.733522e+06</td>\n",
       "    </tr>\n",
       "  </tbody>\n",
       "</table>\n",
       "</div>"
      ],
      "text/plain": [
       "    order_date  weekday           gmv\n",
       "0   2024-01-01        1  7.758236e+06\n",
       "1   2024-01-02        2  8.606549e+06\n",
       "2   2024-01-03        3  8.683049e+06\n",
       "3   2024-01-04        4  9.756538e+06\n",
       "4   2024-01-05        5  9.236966e+06\n",
       "5   2024-01-06        6  1.183327e+07\n",
       "6   2024-01-07        0  1.187348e+07\n",
       "7   2024-01-08        1  9.264072e+06\n",
       "8   2024-01-09        2  1.013480e+07\n",
       "9   2024-01-10        3  9.443912e+06\n",
       "10  2024-01-11        4  8.719715e+06\n",
       "11  2024-01-12        5  1.160118e+07\n",
       "12  2024-01-13        6  1.152512e+07\n",
       "13  2024-01-14        0  1.222412e+07\n",
       "14  2024-01-15        1  8.828302e+06\n",
       "15  2024-01-16        2  8.822254e+06\n",
       "16  2024-01-17        3  9.554627e+06\n",
       "17  2024-01-18        4  9.056814e+06\n",
       "18  2024-01-19        5  8.214310e+06\n",
       "19  2024-01-20        6  1.038267e+07\n",
       "20  2024-01-21        0  9.782504e+06\n",
       "21  2024-01-22        1  7.732312e+06\n",
       "22  2024-01-23        2  8.706859e+06\n",
       "23  2024-01-24        3  8.523159e+06\n",
       "24  2024-01-25        4  8.901123e+06\n",
       "25  2024-01-26        5  8.378175e+06\n",
       "26  2024-01-27        6  9.222703e+06\n",
       "27  2024-01-28        0  1.059849e+07\n",
       "28  2024-01-29        1  8.286465e+06\n",
       "29  2024-01-30        2  7.869913e+06\n",
       "30  2024-01-31        3  8.733522e+06"
      ]
     },
     "execution_count": 32,
     "metadata": {},
     "output_type": "execute_result"
    }
   ],
   "source": [
    "query = '''\n",
    "    SELECT\n",
    "        order_date,\n",
    "        EXTRACT(WEEKDAY FROM order_date) AS weekday,\n",
    "        SUM(gmv_bef_cancellation) AS gmv\n",
    "    FROM reporting.f_lounge_sales_order_position\n",
    "    WHERE order_date BETWEEN '2024-01-01' AND '2024-01-31'\n",
    "    GROUP BY order_date\n",
    "    ORDER BY order_date\n",
    "'''\n",
    "\n",
    "df = redshift.execute(query)\n",
    "df"
   ]
  },
  {
   "cell_type": "code",
   "execution_count": 33,
   "id": "648f0373",
   "metadata": {
    "ExecuteTime": {
     "end_time": "2024-07-10T14:53:10.108116Z",
     "start_time": "2024-07-10T14:53:10.101039Z"
    }
   },
   "outputs": [
    {
     "data": {
      "text/html": [
       "<div>\n",
       "<style scoped>\n",
       "    .dataframe tbody tr th:only-of-type {\n",
       "        vertical-align: middle;\n",
       "    }\n",
       "\n",
       "    .dataframe tbody tr th {\n",
       "        vertical-align: top;\n",
       "    }\n",
       "\n",
       "    .dataframe thead th {\n",
       "        text-align: right;\n",
       "    }\n",
       "</style>\n",
       "<table border=\"1\" class=\"dataframe\">\n",
       "  <thead>\n",
       "    <tr style=\"text-align: right;\">\n",
       "      <th></th>\n",
       "      <th>order_date</th>\n",
       "      <th>weekday</th>\n",
       "      <th>gmv</th>\n",
       "    </tr>\n",
       "  </thead>\n",
       "  <tbody>\n",
       "    <tr>\n",
       "      <th>14</th>\n",
       "      <td>2024-01-15</td>\n",
       "      <td>1</td>\n",
       "      <td>8.828302e+06</td>\n",
       "    </tr>\n",
       "    <tr>\n",
       "      <th>15</th>\n",
       "      <td>2024-01-16</td>\n",
       "      <td>2</td>\n",
       "      <td>8.822254e+06</td>\n",
       "    </tr>\n",
       "    <tr>\n",
       "      <th>16</th>\n",
       "      <td>2024-01-17</td>\n",
       "      <td>3</td>\n",
       "      <td>9.554627e+06</td>\n",
       "    </tr>\n",
       "  </tbody>\n",
       "</table>\n",
       "</div>"
      ],
      "text/plain": [
       "    order_date  weekday           gmv\n",
       "14  2024-01-15        1  8.828302e+06\n",
       "15  2024-01-16        2  8.822254e+06\n",
       "16  2024-01-17        3  9.554627e+06"
      ]
     },
     "execution_count": 33,
     "metadata": {},
     "output_type": "execute_result"
    }
   ],
   "source": [
    "dateutil.get_till_date_df(df, 'order_date', date_today='2024-01-17')"
   ]
  },
  {
   "cell_type": "code",
   "execution_count": 34,
   "id": "c9731489",
   "metadata": {
    "ExecuteTime": {
     "end_time": "2024-07-10T14:53:10.119613Z",
     "start_time": "2024-07-10T14:53:10.109546Z"
    }
   },
   "outputs": [
    {
     "data": {
      "text/html": [
       "<div>\n",
       "<style scoped>\n",
       "    .dataframe tbody tr th:only-of-type {\n",
       "        vertical-align: middle;\n",
       "    }\n",
       "\n",
       "    .dataframe tbody tr th {\n",
       "        vertical-align: top;\n",
       "    }\n",
       "\n",
       "    .dataframe thead th {\n",
       "        text-align: right;\n",
       "    }\n",
       "</style>\n",
       "<table border=\"1\" class=\"dataframe\">\n",
       "  <thead>\n",
       "    <tr style=\"text-align: right;\">\n",
       "      <th></th>\n",
       "      <th>order_date</th>\n",
       "      <th>weekday</th>\n",
       "      <th>gmv</th>\n",
       "    </tr>\n",
       "  </thead>\n",
       "  <tbody>\n",
       "    <tr>\n",
       "      <th>14</th>\n",
       "      <td>2024-01-15</td>\n",
       "      <td>1</td>\n",
       "      <td>8.828302e+06</td>\n",
       "    </tr>\n",
       "    <tr>\n",
       "      <th>15</th>\n",
       "      <td>2024-01-16</td>\n",
       "      <td>2</td>\n",
       "      <td>8.822254e+06</td>\n",
       "    </tr>\n",
       "    <tr>\n",
       "      <th>16</th>\n",
       "      <td>2024-01-17</td>\n",
       "      <td>3</td>\n",
       "      <td>9.554627e+06</td>\n",
       "    </tr>\n",
       "    <tr>\n",
       "      <th>17</th>\n",
       "      <td>2024-01-18</td>\n",
       "      <td>4</td>\n",
       "      <td>9.056814e+06</td>\n",
       "    </tr>\n",
       "    <tr>\n",
       "      <th>18</th>\n",
       "      <td>2024-01-19</td>\n",
       "      <td>5</td>\n",
       "      <td>8.214310e+06</td>\n",
       "    </tr>\n",
       "    <tr>\n",
       "      <th>19</th>\n",
       "      <td>2024-01-20</td>\n",
       "      <td>6</td>\n",
       "      <td>1.038267e+07</td>\n",
       "    </tr>\n",
       "    <tr>\n",
       "      <th>20</th>\n",
       "      <td>2024-01-21</td>\n",
       "      <td>0</td>\n",
       "      <td>9.782504e+06</td>\n",
       "    </tr>\n",
       "  </tbody>\n",
       "</table>\n",
       "</div>"
      ],
      "text/plain": [
       "    order_date  weekday           gmv\n",
       "14  2024-01-15        1  8.828302e+06\n",
       "15  2024-01-16        2  8.822254e+06\n",
       "16  2024-01-17        3  9.554627e+06\n",
       "17  2024-01-18        4  9.056814e+06\n",
       "18  2024-01-19        5  8.214310e+06\n",
       "19  2024-01-20        6  1.038267e+07\n",
       "20  2024-01-21        0  9.782504e+06"
      ]
     },
     "execution_count": 34,
     "metadata": {},
     "output_type": "execute_result"
    }
   ],
   "source": [
    "dateutil.get_outlook_df(df, 'order_date', date_today='2024-01-17')"
   ]
  },
  {
   "cell_type": "code",
   "execution_count": 35,
   "id": "19464638",
   "metadata": {
    "ExecuteTime": {
     "end_time": "2024-07-10T14:53:10.130181Z",
     "start_time": "2024-07-10T14:53:10.120809Z"
    }
   },
   "outputs": [
    {
     "name": "stdout",
     "output_type": "stream",
     "text": [
      "GMV WTD: €9,264,072\n",
      "GMV Outlook: €72,912,927\n"
     ]
    }
   ],
   "source": [
    "date = '2024-01-08'\n",
    "cw_range = dateutil.get_start_and_end_of_timeframe(date, 'week')\n",
    "cw_df = df[(df['order_date'] >= cw_range[0]) & (df['order_date'] <= cw_range[1])]\n",
    "cw_td_df = df[(df['order_date'] >= cw_range[0]) & (df['order_date'] <= pd.to_datetime(date).date())]\n",
    "\n",
    "print('GMV WTD: €{:,.0f}'.format(cw_td_df['gmv'].sum()))\n",
    "print('GMV Outlook: €{:,.0f}'.format(cw_df['gmv'].sum()))"
   ]
  }
 ],
 "metadata": {
  "hide_input": false,
  "kernelspec": {
   "display_name": "Python 3 (ipykernel)",
   "language": "python",
   "name": "python3"
  },
  "language_info": {
   "codemirror_mode": {
    "name": "ipython",
    "version": 3
   },
   "file_extension": ".py",
   "mimetype": "text/x-python",
   "name": "python",
   "nbconvert_exporter": "python",
   "pygments_lexer": "ipython3",
   "version": "3.9.17"
  }
 },
 "nbformat": 4,
 "nbformat_minor": 5
}

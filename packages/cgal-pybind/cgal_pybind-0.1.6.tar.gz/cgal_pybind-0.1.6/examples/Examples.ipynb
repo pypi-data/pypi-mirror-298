{
 "cells": [
  {
   "cell_type": "markdown",
   "id": "05dd5813",
   "metadata": {},
   "source": [
    "# Examples\n",
    " \n",
    "Note: Please make sure that trimesh, numpy, matplotlib are installed. You can use pip to install them:\n",
    "\n",
    "```\n",
    "pip install \"trimesh[easy]\" numpy matplotlib\n",
    "```"
   ]
  },
  {
   "cell_type": "code",
   "execution_count": null,
   "id": "4254c334",
   "metadata": {},
   "outputs": [],
   "source": [
    "import trimesh\n",
    "import numpy as np\n",
    "import matplotlib.pyplot as plt\n",
    "\n",
    "%matplotlib inline"
   ]
  },
  {
   "cell_type": "markdown",
   "id": "16112bc9",
   "metadata": {},
   "source": [
    "## Flatten a 3D surface mesh while minimizing the area distortion locally\n",
    "\n",
    "This is a wrapper around cgal; read more about the `Discrete Authalic Parameterization` here:\n",
    "https://doc.cgal.org/latest/Surface_mesh_parameterization/index.html#title8"
   ]
  },
  {
   "cell_type": "code",
   "execution_count": null,
   "id": "b083a588",
   "metadata": {},
   "outputs": [],
   "source": [
    "mesh = trimesh.Trimesh(\n",
    "    vertices=[[1, 1, 0], [-1, 1, 0], [-1, -1, 0], [1, -1, 0], [0, 0, 1]],\n",
    "    faces=[[4, 0, 1], [4, 1, 2], [4, 2, 3], [4, 3, 0]],\n",
    "    face_colors=np.array([[255, 0, 0, 100], [0, 255, 0, 0], [0, 0, 255, 0], [255, 0, 255, 0]], dtype=np.uint8))"
   ]
  },
  {
   "cell_type": "code",
   "execution_count": null,
   "id": "2bee0bc8",
   "metadata": {},
   "outputs": [],
   "source": [
    " # note: this does not render in GitHub; run the notebook locally to be able to interactively look at a pyramid\n",
    "mesh.show()"
   ]
  },
  {
   "cell_type": "markdown",
   "id": "7abe65e2",
   "metadata": {},
   "source": [
    "Now we can create a `SurfaceMesh` object, and populate it with the mesh:"
   ]
  },
  {
   "cell_type": "code",
   "execution_count": null,
   "id": "670bbf73",
   "metadata": {},
   "outputs": [],
   "source": [
    "from cgal_pybind import Point_3, SurfaceMesh\n",
    "surface_mesh = SurfaceMesh()\n",
    "surface_mesh.add_vertices([Point_3(v[0], v[1], v[2]) for v in mesh.vertices])\n",
    "surface_mesh.add_faces([tuple(f) for f in mesh.faces])"
   ]
  },
  {
   "cell_type": "markdown",
   "id": "aece3369",
   "metadata": {},
   "source": [
    "Then we can generate the flat points after the authalic transformation:"
   ]
  },
  {
   "cell_type": "code",
   "execution_count": null,
   "id": "62abddae",
   "metadata": {},
   "outputs": [],
   "source": [
    "flat_points = np.array(surface_mesh.authalic()[0])\n",
    "flat_points"
   ]
  },
  {
   "cell_type": "markdown",
   "id": "effd9e43",
   "metadata": {},
   "source": [
    "... and plot them:"
   ]
  },
  {
   "cell_type": "code",
   "execution_count": null,
   "id": "be938ad6",
   "metadata": {
    "scrolled": true
   },
   "outputs": [],
   "source": [
    "plt.scatter(flat_points[:, 0], flat_points[:, 1])"
   ]
  },
  {
   "cell_type": "markdown",
   "id": "076f0ab9",
   "metadata": {},
   "source": [
    "## Compute the streamlines intersection points with the surface separating two layers\n",
    "\n",
    "Create layer and direction vector dataset:"
   ]
  },
  {
   "cell_type": "code",
   "execution_count": null,
   "id": "22b1882c",
   "metadata": {},
   "outputs": [],
   "source": [
    "layers = np.zeros((20, 3, 3), dtype=np.uint8)\n",
    "for i in range(4):\n",
    "    layers[i * 5 : (i + 1) * 5, ...] = i + 1\n",
    "layers = np.pad(layers, 2, \"constant\", constant_values=0)\n",
    "\n",
    "direction_vectors = np.full(layers.shape + (3,), np.nan, dtype=np.float32)\n",
    "direction_vectors[2:-2, 2:-2, 2:-2] = [1.0, 0.0, 0.0]"
   ]
  },
  {
   "cell_type": "markdown",
   "id": "b27417f5",
   "metadata": {},
   "source": [
    "Display voxel shape; note that the boundary between 2 & 3 is the interface where `blue` meets `green`"
   ]
  },
  {
   "cell_type": "code",
   "execution_count": null,
   "id": "f29106fd",
   "metadata": {},
   "outputs": [],
   "source": [
    "ax = plt.figure().add_subplot(projection='3d')\n",
    "colors = np.empty_like(layers, dtype=object)\n",
    "colors[layers == 1] = 'red'\n",
    "colors[layers == 2] = 'blue'\n",
    "colors[layers == 3] = 'green'\n",
    "colors[layers == 4] = 'white'\n",
    "\n",
    "ax.voxels(layers > 0, facecolors=colors, edgecolor='k');\n"
   ]
  },
  {
   "cell_type": "markdown",
   "id": "2412d1a0",
   "metadata": {},
   "source": [
    "Based on the directions, let's find the intersection points:"
   ]
  },
  {
   "cell_type": "code",
   "execution_count": null,
   "id": "5b4293e4",
   "metadata": {},
   "outputs": [],
   "source": [
    "from cgal_pybind import compute_streamlines_intersections\n",
    "\n",
    "voxel_to_point_map = compute_streamlines_intersections(\n",
    "    layers=layers,\n",
    "    offset=np.array([1.0, 2.0, 3.0], dtype=np.float32),\n",
    "    voxel_dimensions=np.array([2.0, 2.0, 2.0], dtype=np.float32),\n",
    "    vector_field=direction_vectors,\n",
    "    layer_1=np.uint8(2),\n",
    "    layer_2=np.uint8(3),\n",
    ")"
   ]
  },
  {
   "cell_type": "code",
   "execution_count": null,
   "id": "dd095e6b",
   "metadata": {},
   "outputs": [],
   "source": [
    "ax = plt.figure().add_subplot(projection='3d')\n",
    "points = voxel_to_point_map[~np.isnan(voxel_to_point_map)].reshape((-1, 3))\n",
    "ax.scatter(points[:, 0], points[:, 1], points[:, 2]);"
   ]
  }
 ],
 "metadata": {
  "kernelspec": {
   "display_name": "Python 3 (ipykernel)",
   "language": "python",
   "name": "python3"
  },
  "language_info": {
   "codemirror_mode": {
    "name": "ipython",
    "version": 3
   },
   "file_extension": ".py",
   "mimetype": "text/x-python",
   "name": "python",
   "nbconvert_exporter": "python",
   "pygments_lexer": "ipython3",
   "version": "3.8.10"
  }
 },
 "nbformat": 4,
 "nbformat_minor": 5
}

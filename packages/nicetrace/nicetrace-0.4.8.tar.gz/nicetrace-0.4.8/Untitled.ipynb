{
 "cells": [
  {
   "cell_type": "code",
   "execution_count": 1,
   "id": "6bac5c86-ff23-4f91-a602-e183bee89db2",
   "metadata": {},
   "outputs": [],
   "source": [
    "from nicetrace.server import start_server_in_jupyter\n",
    "from nicetrace import DirReader"
   ]
  },
  {
   "cell_type": "code",
   "execution_count": 2,
   "id": "80f51848-cedb-482c-b096-8f5e6a549bf4",
   "metadata": {},
   "outputs": [
    {
     "name": "stdout",
     "output_type": "stream",
     "text": [
      "Running at http://localhost:4090/\n"
     ]
    }
   ],
   "source": [
    "start_server_in_jupyter(DirReader(\"mytests/traces\"))"
   ]
  },
  {
   "cell_type": "code",
   "execution_count": 1,
   "id": "ec647996-69b5-42e1-9986-4632719b1137",
   "metadata": {},
   "outputs": [
    {
     "data": {
      "text/html": [
       "\n",
       "<div id=\"32b27ab51e9644449f631fb4bbd77148\"></div>\n",
       "<script src=\"https://cdn.jsdelivr.net/gh/spirali/nicetrace@ed95b95505d5b3687af4bd46f94b3670305e67c0/src/nicetrace/html/static/index-BZXa_s7p.js\"></script>\n",
       "<link rel=\"stylesheet\" href=\"https://cdn.jsdelivr.net/gh/spirali/nicetrace@ed95b95505d5b3687af4bd46f94b3670305e67c0/src/nicetrace/html/static/index-DhSU_SMS.css\">\n",
       "<script>\n",
       "import(\"https://cdn.jsdelivr.net/gh/spirali/nicetrace@ed95b95505d5b3687af4bd46f94b3670305e67c0/src/nicetrace/html/static/index-BZXa_s7p.js\").then(() => window.mountTraceView(document.getElementById(\"32b27ab51e9644449f631fb4bbd77148\"), {\"name\": \"Root\", \"uid\": \"zgKgEKhD4w\", \"children\": [{\"name\": \"Child 1\", \"uid\": \"Jdr7HipBAP\", \"entries\": [{\"kind\": \"input\", \"value\": 10, \"name\": \"x\"}], \"start_time\": \"2024-07-18T09:50:10.411607\", \"end_time\": \"2024-07-18T09:50:10.411650\"}], \"start_time\": \"2024-07-18T09:50:10.411535\", \"end_time\": \"2024-07-18T09:50:10.411663\", \"version\": \"4\"}));\n",
       "</script>\n"
      ],
      "text/plain": [
       "<nicetrace.tracing.TracingNode at 0x7c29183d4190>"
      ]
     },
     "execution_count": 1,
     "metadata": {},
     "output_type": "execute_result"
    }
   ],
   "source": [
    "from nicetrace import trace\n",
    "with trace(\"Root\") as c:\n",
    "    with trace(\"Child 1\", inputs={\"x\": 10}):\n",
    "        pass\n",
    "c"
   ]
  },
  {
   "cell_type": "code",
   "execution_count": 2,
   "id": "c5d6f68d-7de6-4275-9a32-2acb571146b2",
   "metadata": {},
   "outputs": [
    {
     "data": {
      "text/plain": [
       "'<!doctype html>\\n<html lang=\"en\">\\n\\n<head>\\n  <meta charset=\"UTF-8\" />\\n  <link rel=\"icon\" type=\"image/svg+xml\" href=\"https://cdn.jsdelivr.net/gh/spirali/nicetrace@3f6c292e7e0b483c33e2a01e8be70c5f43f0d4a8/src/nicetrace/html/static/icon.svg\" />\\n  <meta name=\"viewport\" content=\"width=device-width, initial-scale=1.0\" />\\n  <title>Trace view</title>\\n  <script>\\n    function start() {\\n       var node = {\\'name\\': \\'Root\\', \\'uid\\': \\'8v6cffyWTv\\', \\'children\\': [{\\'name\\': \\'Child 1\\', \\'uid\\': \\'ZlCJoj56Ac\\', \\'entries\\': [{\\'kind\\': \\'input\\', \\'value\\': 10, \\'name\\': \\'x\\'}], \\'start_time\\': \\'2024-07-08T13:25:30.843355\\', \\'end_time\\': \\'2024-07-08T13:25:30.843367\\'}], \\'start_time\\': \\'2024-07-08T13:25:30.843330\\', \\'end_time\\': \\'2024-07-08T13:25:30.843371\\', \\'version\\': \\'4\\'};\\n       window.mountTraceView(document.getElementById(\"root\"), node)\\n    }\\n  </script>\\n  <script type=\"module\" crossorigin src=\"https://cdn.jsdelivr.net/gh/spirali/nicetrace@3f6c292e7e0b483c33e2a01e8be70c5f43f0d4a8/src/nicetrace/html/static/index-B5tKe3YY.js\"></script>\\n  <link rel=\"stylesheet\" crossorigin href=\"https://cdn.jsdelivr.net/gh/spirali/nicetrace@3f6c292e7e0b483c33e2a01e8be70c5f43f0d4a8/src/nicetrace/html/static/index-UldCyfPa.css\">\\n</head>\\n\\n<body onload=\"start()\">\\n  <div id=\"root\"></div>\\n</body>\\n\\n</html>'"
      ]
     },
     "execution_count": 2,
     "metadata": {},
     "output_type": "execute_result"
    }
   ],
   "source": [
    "c._repr_html_()"
   ]
  },
  {
   "cell_type": "code",
   "execution_count": 6,
   "id": "ed71c7b0-d7ae-46bc-9645-f2533e40838d",
   "metadata": {},
   "outputs": [],
   "source": [
    "from IPython.core.display import HTML\n",
    "from IPython.display import display\n",
    "\n",
    "x = '<!doctype html>\\n<html lang=\"en\">\\n\\n<head>\\n  <meta charset=\"UTF-8\" />\\n  <link rel=\"icon\" type=\"image/svg+xml\" href=\"https://cdn.jsdelivr.net/gh/spirali/nicetrace@3f6c292e7e0b483c33e2a01e8be70c5f43f0d4a8/src/nicetrace/html/static/icon.svg\" />\\n  <meta name=\"viewport\" content=\"width=device-width, initial-scale=1.0\" />\\n  <title>Trace view</title>\\n  <script>\\n    function start() {\\n       var node = {\\'name\\': \\'Root\\', \\'uid\\': \\'8v6cffyWTv\\', \\'children\\': [{\\'name\\': \\'Child 1\\', \\'uid\\': \\'ZlCJoj56Ac\\', \\'entries\\': [{\\'kind\\': \\'input\\', \\'value\\': 10, \\'name\\': \\'x\\'}], \\'start_time\\': \\'2024-07-08T13:25:30.843355\\', \\'end_time\\': \\'2024-07-08T13:25:30.843367\\'}], \\'start_time\\': \\'2024-07-08T13:25:30.843330\\', \\'end_time\\': \\'2024-07-08T13:25:30.843371\\', \\'version\\': \\'4\\'};\\n       window.mountTraceView(document.getElementById(\"root\"), node)\\n    }\\n  </script>\\n  <script type=\"module\" crossorigin src=\"https://cdn.jsdelivr.net/gh/spirali/nicetrace@3f6c292e7e0b483c33e2a01e8be70c5f43f0d4a8/src/nicetrace/html/static/index-B5tKe3YY.js\"></script>\\n  <link rel=\"stylesheet\" crossorigin href=\"https://cdn.jsdelivr.net/gh/spirali/nicetrace@3f6c292e7e0b483c33e2a01e8be70c5f43f0d4a8/src/nicetrace/html/static/index-UldCyfPa.css\">\\n</head>\\n\\n<body onload=\"start()\">\\n  <div id=\"root\"></div>\\n</body>\\n\\n</html>'"
   ]
  },
  {
   "cell_type": "code",
   "execution_count": 13,
   "id": "f711e341-edc0-44a7-a012-3dd532640872",
   "metadata": {},
   "outputs": [
    {
     "data": {
      "text/html": [
       "<html lang=\"en\">\n",
       "\n",
       "<head>\n",
       "  <meta charset=\"UTF-8\" />\n",
       "  <link rel=\"icon\" type=\"image/svg+xml\" href=\"https://cdn.jsdelivr.net/gh/spirali/nicetrace@3f6c292e7e0b483c33e2a01e8be70c5f43f0d4a8/src/nicetrace/html/static/icon.svg\" />\n",
       "  <meta name=\"viewport\" content=\"width=device-width, initial-scale=1.0\" />\n",
       "  <title>Trace view</title>\n",
       "  <script>\n",
       "    function start() {\n",
       "       var node = {'name': 'Root', 'uid': '8v6cffyWTv', 'children': [{'name': 'Child 1', 'uid': 'ZlCJoj56Ac', 'entries': [{'kind': 'input', 'value': 10, 'name': 'x'}], 'start_time': '2024-07-08T13:25:30.843355', 'end_time': '2024-07-08T13:25:30.843367'}], 'start_time': '2024-07-08T13:25:30.843330', 'end_time': '2024-07-08T13:25:30.843371', 'version': '4'};\n",
       "       window.mountTraceView(document.getElementById(\"root\"), node)\n",
       "    }\n",
       "  </script>\n",
       "  <script type=\"module\" crossorigin src=\"https://cdn.jsdelivr.net/gh/spirali/nicetrace@3f6c292e7e0b483c33e2a01e8be70c5f43f0d4a8/src/nicetrace/html/static/index-B5tKe3YY.js\"></script>\n",
       "  <link rel=\"stylesheet\" crossorigin href=\"https://cdn.jsdelivr.net/gh/spirali/nicetrace@3f6c292e7e0b483c33e2a01e8be70c5f43f0d4a8/src/nicetrace/html/static/index-UldCyfPa.css\">\n",
       "</head>\n",
       "\n",
       "<body onload=\"start()\">\n",
       "  <div id=\"root\"></div>\n",
       "</body>\n",
       "\n",
       "</html>"
      ],
      "text/plain": [
       "<IPython.core.display.HTML object>"
      ]
     },
     "execution_count": 13,
     "metadata": {},
     "output_type": "execute_result"
    }
   ],
   "source": [
    "HTML(x[16:])"
   ]
  },
  {
   "cell_type": "code",
   "execution_count": 3,
   "id": "0a657b51-1003-4114-8189-0ab3b6eedb0a",
   "metadata": {},
   "outputs": [
    {
     "data": {
      "text/html": [
       "\n",
       "<div id=\"da6b2ba3a3a344899cc8e7d91a54ee55\"></div>\n",
       "<script src=\"https://cdn.jsdelivr.net/gh/spirali/nicetrace@3f6c292e7e0b483c33e2a01e8be70c5f43f0d4a8/src/nicetrace/html/static/index-B5tKe3YY.js\"></script>\n",
       "<link rel=\"stylesheet\" href=\"https://cdn.jsdelivr.net/gh/spirali/nicetrace@3f6c292e7e0b483c33e2a01e8be70c5f43f0d4a8/src/nicetrace/html/static/index-UldCyfPa.css\">\n",
       "<script>\n",
       "import(\"https://cdn.jsdelivr.net/gh/spirali/nicetrace@3f6c292e7e0b483c33e2a01e8be70c5f43f0d4a8/src/nicetrace/html/static/index-B5tKe3YY.js\").then(() => window.mountTraceView(document.getElementById(\"da6b2ba3a3a344899cc8e7d91a54ee55\"), {\"name\": \"Root\", \"uid\": \"5pQyzQ8Ixu\", \"children\": [{\"name\": \"Child 1\", \"uid\": \"iZPWUuLAwv\", \"entries\": [{\"kind\": \"input\", \"value\": 10, \"name\": \"x\"}], \"start_time\": \"2024-07-08T13:38:53.295760\", \"end_time\": \"2024-07-08T13:38:53.295773\"}], \"start_time\": \"2024-07-08T13:38:53.295734\", \"end_time\": \"2024-07-08T13:38:53.295778\", \"version\": \"4\"}));\n",
       "</script>\n"
      ],
      "text/plain": [
       "<nicetrace.tracing.TracingNode at 0x7cd7d36d9000>"
      ]
     },
     "execution_count": 3,
     "metadata": {},
     "output_type": "execute_result"
    }
   ],
   "source": [
    "c"
   ]
  }
 ],
 "metadata": {
  "kernelspec": {
   "display_name": "Python 3 (ipykernel)",
   "language": "python",
   "name": "python3"
  },
  "language_info": {
   "codemirror_mode": {
    "name": "ipython",
    "version": 3
   },
   "file_extension": ".py",
   "mimetype": "text/x-python",
   "name": "python",
   "nbconvert_exporter": "python",
   "pygments_lexer": "ipython3",
   "version": "3.10.12"
  }
 },
 "nbformat": 4,
 "nbformat_minor": 5
}

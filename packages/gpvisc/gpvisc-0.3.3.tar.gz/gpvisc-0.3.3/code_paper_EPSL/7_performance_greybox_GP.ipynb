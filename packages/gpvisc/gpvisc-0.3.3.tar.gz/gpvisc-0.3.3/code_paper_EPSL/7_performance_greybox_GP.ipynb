{
 "cells": [
  {
   "cell_type": "code",
   "execution_count": 1,
   "metadata": {},
   "outputs": [
    {
     "name": "stdout",
     "output_type": "stream",
     "text": [
      "Will run on cuda\n"
     ]
    },
    {
     "data": {
      "text/plain": [
       "'cuda'"
      ]
     },
     "execution_count": 1,
     "metadata": {},
     "output_type": "execute_result"
    }
   ],
   "source": [
    "#!/usr/bin/env python\n",
    "# coding: utf-8\n",
    "# (c) Charles Le Losq, Clément Ferraina 2023-2024\n",
    "# see embedded licence file\n",
    "# iVisc 1.0\n",
    "\n",
    "#\n",
    "# Library Loading\n",
    "#\n",
    "import pandas as pd # manipulate dataframes\n",
    "import matplotlib.pyplot as plt # plotting\n",
    "import numpy as np\n",
    "\n",
    "# local imports\n",
    "import gpvisc\n",
    "\n",
    "# deep learning libraries\n",
    "import torch\n",
    "\n",
    "# CPU or GPU?\n",
    "device = gpvisc.get_device()\n",
    "device"
   ]
  },
  {
   "cell_type": "markdown",
   "metadata": {},
   "source": [
    "# First step : import data and model"
   ]
  },
  {
   "cell_type": "code",
   "execution_count": 2,
   "metadata": {},
   "outputs": [
    {
     "name": "stdout",
     "output_type": "stream",
     "text": [
      "Loading the viscosity datasets...\n"
     ]
    },
    {
     "name": "stderr",
     "output_type": "stream",
     "text": [
      "/home/charles/miniconda3/envs/gpytorch/lib/python3.11/site-packages/gpytorch/models/exact_gp.py:284: GPInputWarning: The input matches the stored training data. Did you forget to call model.train()?\n",
      "  warnings.warn(\n"
     ]
    }
   ],
   "source": [
    "def prepare_data(ds):\n",
    "    \"\"\"Prepare training, validation, and test datasets.\"\"\"\n",
    "    X_train = torch.FloatTensor(np.concatenate((1000/ds.T_train, ds.P_train/30.0, ds.X_train[:,0:12]), axis=1).copy())\n",
    "    X_valid = torch.FloatTensor(np.concatenate((1000/ds.T_valid, ds.P_valid/30.0, ds.X_valid[:,0:12]), axis=1).copy())\n",
    "    X_test = torch.FloatTensor(np.concatenate((1000/ds.T_test, ds.P_test/30.0, ds.X_test[:,0:12]), axis=1).copy())\n",
    "\n",
    "    Y_train = torch.FloatTensor(ds.y_train.ravel().copy()) / gpvisc.Y_scale()\n",
    "    Y_valid = torch.FloatTensor(ds.y_valid.ravel().copy()) / gpvisc.Y_scale()\n",
    "    Y_test = torch.FloatTensor(ds.y_test.ravel().copy()) / gpvisc.Y_scale()\n",
    "\n",
    "    return X_train, X_valid, X_test, Y_train, Y_valid, Y_test\n",
    "\n",
    "# Data loading\n",
    "print(\"Loading the viscosity datasets...\")\n",
    "ds = gpvisc.data_loader()\n",
    "\n",
    "# We prepare them as done for the GP model\n",
    "X_train, X_valid, X_test, Y_train, Y_valid, Y_test = prepare_data(ds)\n",
    "\n",
    "# load the model\n",
    "gp_model, likelihood = gpvisc.load_gp_model(model_number=1, device=device)\n",
    "\n",
    "# make predictions using the greybox ANN model\n",
    "greybox_train_preds = gpvisc.predict(X_train, gp_model, likelihood, model_to_use=\"ann\")\n",
    "greybox_valid_preds = gpvisc.predict(X_valid, gp_model, likelihood, model_to_use=\"ann\")\n",
    "greybox_test_preds = gpvisc.predict(X_test, gp_model, likelihood, model_to_use=\"ann\")\n",
    "\n",
    "# for the GP we glue things together as done during final training\n",
    "X_train_valid = torch.cat((X_train, X_valid)).clone()\n",
    "Y_train_valid = torch.cat((Y_train, Y_valid)).clone().ravel()\n",
    "\n",
    "# make predictions using the GP, which will refine the greybox ANN predictions\n",
    "GP_preds_train_valid, _ = gpvisc.predict(X_train_valid, gp_model, likelihood)\n",
    "GP_preds_test, _ = gpvisc.predict(X_test, gp_model, likelihood)\n",
    "\n",
    "# put bakc the Y values in numpy array with the good scale\n",
    "Y_train = (Y_train*gpvisc.Y_scale()).cpu().detach().numpy()\n",
    "Y_valid = (Y_valid*gpvisc.Y_scale()).cpu().detach().numpy()\n",
    "Y_test = (Y_test*gpvisc.Y_scale()).cpu().detach().numpy()\n",
    "Y_train_valid = (Y_train_valid*gpvisc.Y_scale()).cpu().detach().numpy()"
   ]
  },
  {
   "cell_type": "markdown",
   "metadata": {},
   "source": [
    "# Print metrics\n",
    "\n",
    "We print the root mean square error, the median absolute error and the R2 score for the different datasets used to train the greybox artifical neural network (ANN) and the Gaussian process (GP) models."
   ]
  },
  {
   "cell_type": "code",
   "execution_count": 4,
   "metadata": {},
   "outputs": [
    {
     "name": "stdout",
     "output_type": "stream",
     "text": [
      "RMSE of the greybox ANN:\n",
      "Train: 0.42\n",
      "Valid: 0.55\n",
      "Test: 0.48\n",
      "Test (our dataset): 0.33\n",
      "\n",
      "RMSE of the GP model:\n",
      "Train-Valid: 0.35\n",
      "Test: 0.44\n",
      "Test (our dataset): 0.32\n",
      "\n",
      "MAE of the greybox ANN:\n",
      "Train: 0.18\n",
      "Valid: 0.21\n",
      "Test: 0.19\n",
      "Test (our dataset): 0.18\n",
      "\n",
      "MAE of the GP model:\n",
      "Train-Valid: 0.12\n",
      "Test: 0.15\n",
      "Test (our dataset): 0.14\n",
      "\n",
      "R2 of the greybox ANN:\n",
      "Train: 0.991\n",
      "Valid: 0.984\n",
      "Test: 0.988\n",
      "Test (our dataset): 0.995\n",
      "\n",
      "R2 of the GP model:\n",
      "Train-Valid: 0.994\n",
      "Test: 0.990\n",
      "Test (our dataset): 0.996\n"
     ]
    }
   ],
   "source": [
    "from sklearn.metrics import root_mean_squared_error, median_absolute_error, r2_score\n",
    "\n",
    "print(\"RMSE of the greybox ANN:\")\n",
    "print(\"Train: {:.2f}\".format(root_mean_squared_error(Y_train,greybox_train_preds)))\n",
    "print(\"Valid: {:.2f}\".format(root_mean_squared_error(Y_valid,greybox_valid_preds)))\n",
    "print(\"Test: {:.2f}\".format(root_mean_squared_error(Y_test,greybox_test_preds)))\n",
    "\n",
    "mse_test_ourdatabase = root_mean_squared_error(Y_test[ds.Sciglass_test.ravel() == False], \n",
    "                                               greybox_test_preds[ds.Sciglass_test.ravel() == False])\n",
    "\n",
    "print(\"Test (our dataset): {:.2f}\".format(mse_test_ourdatabase))\n",
    "\n",
    "\n",
    "print(\"\\nRMSE of the GP model:\")\n",
    "print(\"Train-Valid: {:.2f}\".format(root_mean_squared_error(Y_train_valid,GP_preds_train_valid)))\n",
    "print(\"Test: {:.2f}\".format(root_mean_squared_error(Y_test,GP_preds_test)))\n",
    "\n",
    "mse_test_ourdatabase = root_mean_squared_error(Y_test[ds.Sciglass_test.ravel() == False], \n",
    "                                               GP_preds_test[ds.Sciglass_test.ravel() == False])\n",
    "\n",
    "print(\"Test (our dataset): {:.2f}\".format(mse_test_ourdatabase))\n",
    "\n",
    "print(\"\\nMAE of the greybox ANN:\")\n",
    "print(\"Train: {:.2f}\".format(median_absolute_error(Y_train,greybox_train_preds)))\n",
    "print(\"Valid: {:.2f}\".format(median_absolute_error(Y_valid,greybox_valid_preds)))\n",
    "print(\"Test: {:.2f}\".format(median_absolute_error(Y_test,greybox_test_preds)))\n",
    "mae_test_ourdatabase = median_absolute_error(Y_test[ds.Sciglass_test.ravel() == False], \n",
    "                                               greybox_test_preds[ds.Sciglass_test.ravel() == False])\n",
    "print(\"Test (our dataset): {:.2f}\".format(mae_test_ourdatabase))\n",
    "\n",
    "print(\"\\nMAE of the GP model:\")\n",
    "print(\"Train-Valid: {:.2f}\".format(median_absolute_error(Y_train_valid,GP_preds_train_valid)))\n",
    "print(\"Test: {:.2f}\".format(median_absolute_error(Y_test,GP_preds_test)))\n",
    "mae_test_ourdatabase = median_absolute_error(Y_test[ds.Sciglass_test.ravel() == False], \n",
    "                                               GP_preds_test[ds.Sciglass_test.ravel() == False])\n",
    "print(\"Test (our dataset): {:.2f}\".format(mae_test_ourdatabase))\n",
    "\n",
    "print(\"\\nR2 of the greybox ANN:\")\n",
    "print(\"Train: {:.3f}\".format(r2_score(Y_train, greybox_train_preds)))\n",
    "print(\"Valid: {:.3f}\".format(r2_score(Y_valid, greybox_valid_preds)))\n",
    "print(\"Test: {:.3f}\".format(r2_score(Y_test, greybox_test_preds)))\n",
    "mae_test_ourdatabase = r2_score(Y_test[ds.Sciglass_test.ravel() == False], \n",
    "                                               greybox_test_preds[ds.Sciglass_test.ravel() == False])\n",
    "print(\"Test (our dataset): {:.3f}\".format(mae_test_ourdatabase))\n",
    "\n",
    "print(\"\\nR2 of the GP model:\")\n",
    "print(\"Train-Valid: {:.3f}\".format(r2_score(Y_train_valid, GP_preds_train_valid)))\n",
    "print(\"Test: {:.3f}\".format(r2_score(Y_test, GP_preds_test)))\n",
    "mae_test_ourdatabase = r2_score(Y_test[ds.Sciglass_test.ravel() == False], \n",
    "                                GP_preds_test[ds.Sciglass_test.ravel() == False])\n",
    "print(\"Test (our dataset): {:.3f}\".format(mae_test_ourdatabase))"
   ]
  },
  {
   "cell_type": "markdown",
   "metadata": {},
   "source": [
    "# Compare the Greybox ANN and the GP models\n",
    "\n",
    "We compare predictions of the two models as a function of temperature for three different compositions.\n",
    "\n",
    "We add water in a granite glass for instance:"
   ]
  },
  {
   "cell_type": "code",
   "execution_count": 5,
   "metadata": {},
   "outputs": [
    {
     "name": "stdout",
     "output_type": "stream",
     "text": [
      "Warning: Composition does not sum to 100%. Renormalizing...\n",
      "Converting weight percent composition to mole fraction...\n",
      "Warning: Composition does not sum to 100%. Renormalizing...\n",
      "Converting weight percent composition to mole fraction...\n",
      "Warning: Composition does not sum to 100%. Renormalizing...\n",
      "Converting weight percent composition to mole fraction...\n"
     ]
    },
    {
     "data": {
      "text/plain": [
       "<matplotlib.legend.Legend at 0x7baeea3c3fd0>"
      ]
     },
     "execution_count": 5,
     "metadata": {},
     "output_type": "execute_result"
    },
    {
     "data": {
      "image/png": "[encoded data removed]",
      "text/plain": [
       "<Figure size 640x480 with 1 Axes>"
      ]
     },
     "metadata": {},
     "output_type": "display_data"
    }
   ],
   "source": [
    "plt.figure()\n",
    "for h2o_content in [0.0, 4.0, 8.0]:\n",
    "    # add SiO2 curve\n",
    "    db_in = gpvisc.generate_query_single(sio2=50.,\n",
    "                                     tio2=0.0,\n",
    "                                     al2o3=13.3,\n",
    "                                     feo=0.9,\n",
    "                                     mno=0.02,\n",
    "                                     mgo=0.05,\n",
    "                                     cao=0.41,\n",
    "                                     na2o=3.43,\n",
    "                                     k2o=5.36,\n",
    "                                     h2o=h2o_content,\n",
    "                                    composition_mole = False,\n",
    "                                    T_init = 1050.0, T_final= 6000.0,\n",
    "                                    P_init = 0.0, P_final = 0.0,\n",
    "                                    nb_values = 300,\n",
    "                                    )\n",
    "    \n",
    "    # calculate the input for the GP\n",
    "    X_in = gpvisc.scale_for_gaussianprocess(db_in[\"T\"], db_in[\"P\"], db_in)\n",
    "    sio2_visco_mean2, visco_std = gpvisc.predict(X_in, gp_model, likelihood)\n",
    "    sio2_visco_mean = gp_model.mean_f(torch.FloatTensor(X_in)).detach().numpy()*gpvisc.Y_scale()\n",
    "\n",
    "    plt.plot(1000/db_in[\"T\"], sio2_visco_mean, label=str(h2o_content), color=\"C\"+str(int(h2o_content)))#surface_temperat\n",
    "    plt.plot(1000/db_in[\"T\"], sio2_visco_mean2, linestyle = \"--\", label=str(h2o_content), color=\"C\"+str(int(h2o_content)))#surface_temperat\n",
    "plt.legend()"
   ]
  },
  {
   "cell_type": "code",
   "execution_count": null,
   "metadata": {},
   "outputs": [],
   "source": []
  }
 ],
 "metadata": {
  "kernelspec": {
   "display_name": "gpytorch",
   "language": "python",
   "name": "python3"
  },
  "language_info": {
   "codemirror_mode": {
    "name": "ipython",
    "version": 3
   },
   "file_extension": ".py",
   "mimetype": "text/x-python",
   "name": "python",
   "nbconvert_exporter": "python",
   "pygments_lexer": "ipython3",
   "version": "3.11.9"
  }
 },
 "nbformat": 4,
 "nbformat_minor": 2
}

{
 "cells": [
  {
   "metadata": {},
   "cell_type": "markdown",
   "source": [
    "# Simple approach to getting data\n",
    "\n",
    "In this notebook we walk through a simple method of querying data, where all\n",
    " you really need are your API credentials and your sensor information."
   ],
   "id": "7a3e1a24b2ad7bb0"
  },
  {
   "metadata": {
    "ExecuteTime": {
     "end_time": "2024-09-20T02:23:27.223935Z",
     "start_time": "2024-09-20T02:23:26.590302Z"
    }
   },
   "cell_type": "code",
   "source": [
    "from yooink.request.data_fetcher import DataFetcher\n",
    "import os"
   ],
   "id": "bd75bbbb9d46f1e",
   "outputs": [],
   "execution_count": 1
  },
  {
   "metadata": {
    "ExecuteTime": {
     "end_time": "2024-09-20T02:23:27.228661Z",
     "start_time": "2024-09-20T02:23:27.225713Z"
    }
   },
   "cell_type": "code",
   "source": [
    "# Initialize the API client with your username and token. \n",
    "username = os.getenv('OOI_USER')\n",
    "token = os.getenv('OOI_TOKEN')"
   ],
   "id": "57ef2d70d34e7845",
   "outputs": [],
   "execution_count": 2
  },
  {
   "metadata": {
    "ExecuteTime": {
     "end_time": "2024-09-20T02:23:27.234321Z",
     "start_time": "2024-09-20T02:23:27.230181Z"
    }
   },
   "cell_type": "code",
   "source": [
    "# Set parameters for the data request\n",
    "site = \"CE02SHSM\"\n",
    "node = \"SBD11\"\n",
    "sensor = \"06-METBKA000\"\n",
    "method = \"telemetered\"\n",
    "stream = \"metbk_a_dcl_instrument\"\n",
    "beginDT = \"2023-03-01T00:00:00.000Z\"\n",
    "endDT = \"2023-04-01T00:00:00.000Z\""
   ],
   "id": "c643a374e3fea9d",
   "outputs": [],
   "execution_count": 3
  },
  {
   "metadata": {
    "jupyter": {
     "is_executing": true
    },
    "ExecuteTime": {
     "start_time": "2024-09-20T02:27:12.266689Z"
    }
   },
   "cell_type": "code",
   "source": [
    "fetcher = DataFetcher()\n",
    "ds = fetcher.get_dataset(\n",
    "    site=site,\n",
    "    node=node,\n",
    "    sensor=sensor,\n",
    "    method=method,\n",
    "    stream=stream,\n",
    "    begin_datetime=beginDT,\n",
    "    end_datetime=endDT\n",
    ")\n",
    "print(ds)"
   ],
   "id": "31ada6b54640cf00",
   "outputs": [
    {
     "name": "stdout",
     "output_type": "stream",
     "text": [
      "Using cached URL for this request.\n"
     ]
    }
   ],
   "execution_count": null
  },
  {
   "metadata": {},
   "cell_type": "code",
   "source": [
    "\n",
    "\n",
    "'''\n",
    "{'pdId': 'PD10',\n",
    " 'particleKey': 'port_timestamp',\n",
    " 'type': 'DOUBLE',\n",
    " 'shape': 'SCALAR',\n",
    " 'units': 'seconds since 1900-01-01',\n",
    " 'fillValue': '-9999999',\n",
    " 'stream': 'metbk_a_dcl_instrument',\n",
    " 'unsigned': False}\n",
    "metadata['times'][1]\n",
    "Out[12]: \n",
    "{'stream': 'metbk_hourly',\n",
    " 'method': 'recovered_host',\n",
    " 'count': 4641956,\n",
    " 'beginTime': '2015-04-02T20:41:42.030Z',\n",
    " 'endTime': '2024-04-11T13:33:12.448Z'}\n",
    "\n",
    "\n",
    "'''"
   ],
   "id": "525b5556675de7d2",
   "outputs": [],
   "execution_count": null
  }
 ],
 "metadata": {
  "kernelspec": {
   "display_name": "Python 3",
   "language": "python",
   "name": "python3"
  },
  "language_info": {
   "codemirror_mode": {
    "name": "ipython",
    "version": 2
   },
   "file_extension": ".py",
   "mimetype": "text/x-python",
   "name": "python",
   "nbconvert_exporter": "python",
   "pygments_lexer": "ipython2",
   "version": "2.7.6"
  }
 },
 "nbformat": 4,
 "nbformat_minor": 5
}

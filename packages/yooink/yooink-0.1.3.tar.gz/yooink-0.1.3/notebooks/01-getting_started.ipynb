{
 "cells": [
  {
   "cell_type": "markdown",
   "id": "b7a93d63536a5fd1",
   "metadata": {},
   "source": [
    "# Step 1: Getting started using the yOOInk package\n",
    "\n",
    "In this demo, we'll walk through how to use yooink to access OOI data via machine-to-machine protocol (m2m). Read more [here](https://oceanobservatories.org/m2m/)! \n",
    "\n",
    "## API access\n",
    "\n",
    "To get OOI API access, you'll need a username and token.\n",
    "\n",
    "1. Create a user account on ooinet.oceanobservatories.org (you can also use an existing CILogin or Google account.\n",
    "2. Log in\n",
    "3. Navigate to the drop down menu screen in the top-right corner menu\n",
    "4. Click on the “User Profile” element of the drop down\n",
    "5. Scroll to the bottom to see your API Username and API Token\n",
    "\n",
    "## API token security\n",
    "\n",
    "You'll notice that down below you need to provide an API key and token. \n",
    "Those definitely shouldn't be hard coded into a file that lives on a public \n",
    "(or really even private) repository. An easy way to handle that is to \n",
    "store your API key and token as local environment variables and then use the\n",
    " os library to access the contents of the environment variable.\n",
    " \n",
    "To save that environment variable using macOS or Linux terminal, use:\n",
    "\n",
    "`export OOI_USER=abc123` \n",
    "\n",
    "On Windows, you'd use:\n",
    "\n",
    "`setx OOI_TOKEN \"abc123\"`\n",
    "\n",
    "You can access those environment variables in Python using:\n",
    "\n",
    "```python\n",
    "import os\n",
    "\n",
    "api_username = os.getenv('OOI_USER')\n",
    "```\n",
    "\n",
    "**Other options**\n",
    "\n",
    "- Save environment variables more permanently on your local computer. We won't go into detail here but you can find lots of simple instructions if you do a quick google search.\n",
    "- Hard-code those values right into the script. Just be careful not to upload!\n",
    "\n"
   ]
  },
  {
   "cell_type": "code",
   "id": "9d22ac1310c6993c",
   "metadata": {
    "ExecuteTime": {
     "end_time": "2024-09-22T23:02:35.924133Z",
     "start_time": "2024-09-22T23:02:35.843146Z"
    }
   },
   "source": [
    "from yooink.api.client import APIClient\n",
    "from yooink.request.request_manager import RequestManager\n",
    "import os"
   ],
   "outputs": [],
   "execution_count": 1
  },
  {
   "cell_type": "code",
   "id": "3ad18a2e688f3fd8",
   "metadata": {
    "ExecuteTime": {
     "end_time": "2024-09-22T23:02:35.927946Z",
     "start_time": "2024-09-22T23:02:35.925311Z"
    }
   },
   "source": [
    "# Initialize the API client with your username and token. Here we use \n",
    "# environment variables but you can also hard-code the values in directly - \n",
    "# just make sure not to push to an online repository!\n",
    "base_url = \"https://ooinet.oceanobservatories.org/api/m2m/12576/sensor/inv/\"\n",
    "username = os.getenv('OOI_USER')\n",
    "token = os.getenv('OOI_TOKEN')"
   ],
   "outputs": [],
   "execution_count": 2
  },
  {
   "cell_type": "code",
   "id": "8dccfbac0b4ab43f",
   "metadata": {
    "ExecuteTime": {
     "end_time": "2024-09-22T23:02:35.932732Z",
     "start_time": "2024-09-22T23:02:35.928756Z"
    }
   },
   "source": [
    "# Set up the API Client and teh request manager\n",
    "api_client = APIClient(username, token)\n",
    "request_manager = RequestManager(api_client)\n"
   ],
   "outputs": [],
   "execution_count": 3
  },
  {
   "cell_type": "code",
   "id": "b5ce4787-0623-4116-8af5-d0d7758c4372",
   "metadata": {
    "ExecuteTime": {
     "end_time": "2024-09-22T23:02:36.416626Z",
     "start_time": "2024-09-22T23:02:35.934693Z"
    }
   },
   "source": [
    "# List the sites\n",
    "sites = request_manager.list_sites()\n",
    "first_five = ','.join(sites[0:5])\n",
    "\n",
    "print('There are a total of ' + \n",
    "      str(len(sites)) + ' sites in the network.\\n\\n' + \n",
    "      'The first five sites are ' + first_five)"
   ],
   "outputs": [
    {
     "name": "stdout",
     "output_type": "stream",
     "text": [
      "There are a total of 79 sites in the network.\n",
      "\n",
      "The first five sites are CE01ISSM,CE01ISSP,CE02SHBP,CE02SHSM,CE02SHSP\n"
     ]
    }
   ],
   "execution_count": 4
  },
  {
   "cell_type": "code",
   "id": "cab7be02-567a-4d9a-b3d1-7081ac386cfc",
   "metadata": {
    "ExecuteTime": {
     "end_time": "2024-09-22T23:02:36.530448Z",
     "start_time": "2024-09-22T23:02:36.417761Z"
    }
   },
   "source": [
    "# List nodes at a specific site\n",
    "site = \"CE02SHSM\"\n",
    "nodes = request_manager.list_nodes(site)\n",
    "print(nodes)"
   ],
   "outputs": [
    {
     "name": "stdout",
     "output_type": "stream",
     "text": [
      "['RID26', 'RID27', 'SBD11', 'SBD12']\n"
     ]
    }
   ],
   "execution_count": 5
  },
  {
   "cell_type": "code",
   "id": "0fe7bf69-ebc4-432e-9fa9-abd85d52a684",
   "metadata": {
    "ExecuteTime": {
     "end_time": "2024-09-22T23:02:36.641967Z",
     "start_time": "2024-09-22T23:02:36.531868Z"
    }
   },
   "source": [
    "# List sensors at a specific site and node\n",
    "node = \"SBD11\"\n",
    "sensors = request_manager.list_sensors(site, node)\n",
    "print(sensors)"
   ],
   "outputs": [
    {
     "name": "stdout",
     "output_type": "stream",
     "text": [
      "['01-MOPAK0000', '02-HYDGN0000', '04-VELPTA000', '06-METBKA000', '06-METBKA001']\n"
     ]
    }
   ],
   "execution_count": 6
  },
  {
   "cell_type": "code",
   "id": "75bf4599-6224-4138-a046-1d915ea65412",
   "metadata": {
    "ExecuteTime": {
     "end_time": "2024-09-22T23:02:36.751787Z",
     "start_time": "2024-09-22T23:02:36.642965Z"
    }
   },
   "source": [
    "# List methods for a specific data\n",
    "sensor = \"06-METBKA000\"\n",
    "methods = request_manager.list_methods(site, node, sensor)\n",
    "print(methods)"
   ],
   "outputs": [
    {
     "name": "stdout",
     "output_type": "stream",
     "text": [
      "['recovered_host', 'telemetered']\n"
     ]
    }
   ],
   "execution_count": 7
  },
  {
   "cell_type": "code",
   "id": "6c33a0bc-964b-494f-8aaa-9b3a7fc3b638",
   "metadata": {
    "ExecuteTime": {
     "end_time": "2024-09-22T23:02:36.971679Z",
     "start_time": "2024-09-22T23:02:36.752590Z"
    }
   },
   "source": [
    "# Get metadata for a specific data (printing just \n",
    "# a subset because there's a lot of metadata)\n",
    "metadata = request_manager.get_metadata(site, node, sensor)\n",
    "print(metadata['parameters'][0])"
   ],
   "outputs": [
    {
     "name": "stdout",
     "output_type": "stream",
     "text": [
      "{'pdId': 'PD7', 'particleKey': 'time', 'type': 'DOUBLE', 'shape': 'SCALAR', 'units': 'seconds since 1900-01-01', 'fillValue': '-9999999', 'stream': 'metbk_a_dcl_instrument', 'unsigned': False}\n"
     ]
    }
   ],
   "execution_count": 8
  },
  {
   "cell_type": "code",
   "id": "7b0933d9-f5da-45e5-8d1e-5c7bfe4348eb",
   "metadata": {
    "ExecuteTime": {
     "end_time": "2024-09-22T23:02:37.086025Z",
     "start_time": "2024-09-22T23:02:36.973828Z"
    }
   },
   "source": [
    "# List available streams for a specific method and data\n",
    "method = \"telemetered\"\n",
    "streams = request_manager.list_streams(site, node, sensor, method)\n",
    "print(streams)"
   ],
   "outputs": [
    {
     "name": "stdout",
     "output_type": "stream",
     "text": [
      "['metbk_a_dcl_instrument', 'metbk_hourly', 'metbk_hourly']\n"
     ]
    }
   ],
   "execution_count": 9
  },
  {
   "cell_type": "code",
   "id": "0fca3a94-2106-419f-b36e-47d07c57bab9",
   "metadata": {
    "ExecuteTime": {
     "end_time": "2024-09-22T23:02:37.198745Z",
     "start_time": "2024-09-22T23:02:37.089353Z"
    }
   },
   "source": [
    "# List all the deployment numbers for the site/node/sensor\n",
    "deploy_list = request_manager.list_deployments(site, node, sensor)\n"
   ],
   "outputs": [],
   "execution_count": 10
  },
  {
   "metadata": {
    "ExecuteTime": {
     "end_time": "2024-09-22T23:02:37.384685Z",
     "start_time": "2024-09-22T23:02:37.199651Z"
    }
   },
   "cell_type": "code",
   "source": [
    "# Get the start and end dates of a specific deployment for the site/node/sensor\n",
    "deploy_dates = request_manager.get_deployment_dates(site, node, sensor, \n",
    "                                                    str(deploy_list[0]))"
   ],
   "id": "a5006f2d0db48ceb",
   "outputs": [],
   "execution_count": 11
  },
  {
   "metadata": {
    "ExecuteTime": {
     "end_time": "2024-09-22T23:02:37.390615Z",
     "start_time": "2024-09-22T23:02:37.387621Z"
    }
   },
   "cell_type": "code",
   "source": "",
   "id": "edf071b3dc7e8531",
   "outputs": [],
   "execution_count": 11
  }
 ],
 "metadata": {
  "kernelspec": {
   "display_name": "Python 3 (ipykernel)",
   "language": "python",
   "name": "python3"
  },
  "language_info": {
   "codemirror_mode": {
    "name": "ipython",
    "version": 3
   },
   "file_extension": ".py",
   "mimetype": "text/x-python",
   "name": "python",
   "nbconvert_exporter": "python",
   "pygments_lexer": "ipython3",
   "version": "3.11.6"
  }
 },
 "nbformat": 4,
 "nbformat_minor": 5
}

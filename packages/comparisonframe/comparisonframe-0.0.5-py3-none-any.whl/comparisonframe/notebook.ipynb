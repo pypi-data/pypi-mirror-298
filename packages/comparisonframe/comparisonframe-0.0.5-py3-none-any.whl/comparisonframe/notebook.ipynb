{
 "cells": [
  {
   "cell_type": "code",
   "execution_count": 54,
   "metadata": {},
   "outputs": [],
   "source": [
    "from comparisonframe import ComparisonFrame"
   ]
  },
  {
   "cell_type": "markdown",
   "metadata": {},
   "source": [
    "### 1. Creating validation set"
   ]
  },
  {
   "cell_type": "markdown",
   "metadata": {},
   "source": [
    "#### 1.1 Initialize comparison class"
   ]
  },
  {
   "cell_type": "code",
   "execution_count": 55,
   "metadata": {},
   "outputs": [
    {
     "name": "stderr",
     "output_type": "stream",
     "text": [
      "/home/kyriosskia/miniforge3/envs/testenv/lib/python3.10/site-packages/transformers/tokenization_utils_base.py:1601: FutureWarning: `clean_up_tokenization_spaces` was not set. It will be set to `True` by default. This behavior will be depracted in transformers v4.45, and will be then set to `False` by default. For more details check this issue: https://github.com/huggingface/transformers/issues/31884\n",
      "  warnings.warn(\n"
     ]
    }
   ],
   "source": [
    "comparer = ComparisonFrame(\n",
    "    # optionally\n",
    "    ## mocker default parameters\n",
    "    mocker_params = {\n",
    "        'file_path' : \"./comparisonframe_storage\",\n",
    "         'persist' : True},\n",
    "\n",
    "    ## scores to calculate\n",
    "    compare_scores = ['word_count_diff','semantic_similarity'],\n",
    "    aggr_scores = ['median']\n",
    ")"
   ]
  },
  {
   "cell_type": "markdown",
   "metadata": {},
   "source": [
    "#### 1.2 Recording queries and expected responses (validation set)"
   ]
  },
  {
   "cell_type": "code",
   "execution_count": 56,
   "metadata": {},
   "outputs": [],
   "source": [
    "comparer.record_queries(\n",
    "    queries = [\"Black metal\", \n",
    "               \"Tribulation\"],\n",
    "    expected_texts = [\"Black metal is an extreme subgenre of heavy metal music.\",\n",
    "    \"Tribulation are a Swedish heavy metal band from Arvika that formed in 2005.\"],\n",
    "    metadata = {'name' : 'metal_bands'})"
   ]
  },
  {
   "cell_type": "markdown",
   "metadata": {},
   "source": [
    "### 2. Comparing newly generated data with expected results "
   ]
  },
  {
   "cell_type": "markdown",
   "metadata": {},
   "source": [
    "#### 2.1 Initialize new comparison class"
   ]
  },
  {
   "cell_type": "code",
   "execution_count": 57,
   "metadata": {},
   "outputs": [],
   "source": [
    "comparer = ComparisonFrame(\n",
    "    # optionally\n",
    "    ## mocker default parameters\n",
    "    mocker_params = {\n",
    "        'file_path' : \"./comparisonframe_storage\",\n",
    "         'persist' : True},\n",
    "\n",
    "    ## scores to calculate\n",
    "    compare_scores = ['word_count_diff','semantic_similarity'],\n",
    "    aggr_scores = ['median']\n",
    ")"
   ]
  },
  {
   "cell_type": "markdown",
   "metadata": {},
   "source": [
    "### 2.2 Show validation set"
   ]
  },
  {
   "cell_type": "code",
   "execution_count": 58,
   "metadata": {},
   "outputs": [
    {
     "name": "stdout",
     "output_type": "stream",
     "text": [
      "['Black metal', 'Tribulation']\n"
     ]
    }
   ],
   "source": [
    "untested_queries = comparer.get_all_queries(\n",
    "    ## optional\n",
    "    metadata_filters={'name' : 'metal_bands'})\n",
    "print(untested_queries)"
   ]
  },
  {
   "cell_type": "code",
   "execution_count": 59,
   "metadata": {},
   "outputs": [
    {
     "data": {
      "text/plain": [
       "[{'expected_text': 'Black metal is an extreme subgenre of heavy metal music.',\n",
       "  'record_id': '0cc157453395b440f36d1a1aee24aa76a03f5f9ab0a7a8bd7b663c92f2f16e87',\n",
       "  'query': 'Black metal'},\n",
       " {'expected_text': 'Tribulation are a Swedish heavy metal band from Arvika that formed in 2005.',\n",
       "  'record_id': 'eecd9c2a5b25ee6053891b894157fa30372ed694763385e1ada1dc9ad8e41625',\n",
       "  'query': 'Tribulation'}]"
      ]
     },
     "execution_count": 59,
     "metadata": {},
     "output_type": "execute_result"
    }
   ],
   "source": [
    "comparer.get_all_records()"
   ]
  },
  {
   "cell_type": "code",
   "execution_count": 60,
   "metadata": {},
   "outputs": [
    {
     "data": {
      "text/html": [
       "<div>\n",
       "<style scoped>\n",
       "    .dataframe tbody tr th:only-of-type {\n",
       "        vertical-align: middle;\n",
       "    }\n",
       "\n",
       "    .dataframe tbody tr th {\n",
       "        vertical-align: top;\n",
       "    }\n",
       "\n",
       "    .dataframe thead th {\n",
       "        text-align: right;\n",
       "    }\n",
       "</style>\n",
       "<table border=\"1\" class=\"dataframe\">\n",
       "  <thead>\n",
       "    <tr style=\"text-align: right;\">\n",
       "      <th></th>\n",
       "      <th>expected_text</th>\n",
       "      <th>record_id</th>\n",
       "      <th>query</th>\n",
       "    </tr>\n",
       "  </thead>\n",
       "  <tbody>\n",
       "    <tr>\n",
       "      <th>0</th>\n",
       "      <td>Black metal is an extreme subgenre of heavy me...</td>\n",
       "      <td>0cc157453395b440f36d1a1aee24aa76a03f5f9ab0a7a8...</td>\n",
       "      <td>Black metal</td>\n",
       "    </tr>\n",
       "    <tr>\n",
       "      <th>1</th>\n",
       "      <td>Tribulation are a Swedish heavy metal band fro...</td>\n",
       "      <td>eecd9c2a5b25ee6053891b894157fa30372ed694763385...</td>\n",
       "      <td>Tribulation</td>\n",
       "    </tr>\n",
       "  </tbody>\n",
       "</table>\n",
       "</div>"
      ],
      "text/plain": [
       "                                       expected_text  \\\n",
       "0  Black metal is an extreme subgenre of heavy me...   \n",
       "1  Tribulation are a Swedish heavy metal band fro...   \n",
       "\n",
       "                                           record_id        query  \n",
       "0  0cc157453395b440f36d1a1aee24aa76a03f5f9ab0a7a8...  Black metal  \n",
       "1  eecd9c2a5b25ee6053891b894157fa30372ed694763385...  Tribulation  "
      ]
     },
     "execution_count": 60,
     "metadata": {},
     "output_type": "execute_result"
    }
   ],
   "source": [
    "comparer.get_all_records_df()"
   ]
  },
  {
   "cell_type": "markdown",
   "metadata": {},
   "source": [
    "#### 2.3 Insert newly generated with records"
   ]
  },
  {
   "cell_type": "code",
   "execution_count": 61,
   "metadata": {},
   "outputs": [],
   "source": [
    "valid_answer_query_1 = \"Black metal is an extreme subgenre of heavy metal music.\"\n",
    "very_similar_answer_query_1 = \"Black metal is a subgenre of heavy metal music.\"\n",
    "unexpected_answer_query_1 = \"Black metals are beautiful and are often used in jewelry design.\""
   ]
  },
  {
   "cell_type": "code",
   "execution_count": 62,
   "metadata": {},
   "outputs": [],
   "source": [
    "comparer.record_runs(queries = [\"Black metal\"],\n",
    "                     provided_texts = [valid_answer_query_1,\n",
    "                                      very_similar_answer_query_1,\n",
    "                                      unexpected_answer_query_1],\n",
    "                    metadata={'desc' : 'definitions'})"
   ]
  },
  {
   "cell_type": "code",
   "execution_count": 63,
   "metadata": {},
   "outputs": [
    {
     "data": {
      "text/plain": [
       "[{'query': 'Black metal',\n",
       "  'provided_text': 'Black metal is an extreme subgenre of heavy metal music.',\n",
       "  'run_id': 'faf5aab28ee8d460cbb69c6f434bee622aff8cdfb8796282bdc547fff2c1abf8',\n",
       "  'timestamp': '2024-09-26 01:36:13'},\n",
       " {'query': 'Black metal',\n",
       "  'provided_text': 'Black metal is a subgenre of heavy metal music.',\n",
       "  'run_id': '9fbd80050d382972c012ffcb4641f48d6220afb2210a20a11da5c7a48664f033',\n",
       "  'timestamp': '2024-09-26 01:36:13'},\n",
       " {'query': 'Black metal',\n",
       "  'provided_text': 'Black metals are beautiful and are often used in jewelry design.',\n",
       "  'run_id': 'e4fc3f56c95d4266b6543a306c4305e0d8b960a1e0196d05cfc8ee4ea0bd7129',\n",
       "  'timestamp': '2024-09-26 01:36:13'}]"
      ]
     },
     "execution_count": 63,
     "metadata": {},
     "output_type": "execute_result"
    }
   ],
   "source": [
    "comparer.get_all_runs()"
   ]
  },
  {
   "cell_type": "code",
   "execution_count": 64,
   "metadata": {},
   "outputs": [
    {
     "data": {
      "text/html": [
       "<div>\n",
       "<style scoped>\n",
       "    .dataframe tbody tr th:only-of-type {\n",
       "        vertical-align: middle;\n",
       "    }\n",
       "\n",
       "    .dataframe tbody tr th {\n",
       "        vertical-align: top;\n",
       "    }\n",
       "\n",
       "    .dataframe thead th {\n",
       "        text-align: right;\n",
       "    }\n",
       "</style>\n",
       "<table border=\"1\" class=\"dataframe\">\n",
       "  <thead>\n",
       "    <tr style=\"text-align: right;\">\n",
       "      <th></th>\n",
       "      <th>query</th>\n",
       "      <th>provided_text</th>\n",
       "      <th>run_id</th>\n",
       "      <th>timestamp</th>\n",
       "    </tr>\n",
       "  </thead>\n",
       "  <tbody>\n",
       "    <tr>\n",
       "      <th>0</th>\n",
       "      <td>Black metal</td>\n",
       "      <td>Black metal is an extreme subgenre of heavy me...</td>\n",
       "      <td>faf5aab28ee8d460cbb69c6f434bee622aff8cdfb87962...</td>\n",
       "      <td>2024-09-26 01:36:13</td>\n",
       "    </tr>\n",
       "    <tr>\n",
       "      <th>1</th>\n",
       "      <td>Black metal</td>\n",
       "      <td>Black metal is a subgenre of heavy metal music.</td>\n",
       "      <td>9fbd80050d382972c012ffcb4641f48d6220afb2210a20...</td>\n",
       "      <td>2024-09-26 01:36:13</td>\n",
       "    </tr>\n",
       "    <tr>\n",
       "      <th>2</th>\n",
       "      <td>Black metal</td>\n",
       "      <td>Black metals are beautiful and are often used ...</td>\n",
       "      <td>e4fc3f56c95d4266b6543a306c4305e0d8b960a1e0196d...</td>\n",
       "      <td>2024-09-26 01:36:13</td>\n",
       "    </tr>\n",
       "  </tbody>\n",
       "</table>\n",
       "</div>"
      ],
      "text/plain": [
       "         query                                      provided_text  \\\n",
       "0  Black metal  Black metal is an extreme subgenre of heavy me...   \n",
       "1  Black metal    Black metal is a subgenre of heavy metal music.   \n",
       "2  Black metal  Black metals are beautiful and are often used ...   \n",
       "\n",
       "                                              run_id            timestamp  \n",
       "0  faf5aab28ee8d460cbb69c6f434bee622aff8cdfb87962...  2024-09-26 01:36:13  \n",
       "1  9fbd80050d382972c012ffcb4641f48d6220afb2210a20...  2024-09-26 01:36:13  \n",
       "2  e4fc3f56c95d4266b6543a306c4305e0d8b960a1e0196d...  2024-09-26 01:36:13  "
      ]
     },
     "execution_count": 64,
     "metadata": {},
     "output_type": "execute_result"
    }
   ],
   "source": [
    "df = comparer.get_all_runs_df()\n",
    "df"
   ]
  },
  {
   "cell_type": "markdown",
   "metadata": {},
   "source": [
    "#### 2.4 Comparing runs with records"
   ]
  },
  {
   "cell_type": "code",
   "execution_count": 65,
   "metadata": {},
   "outputs": [
    {
     "name": "stderr",
     "output_type": "stream",
     "text": [
      "WARNING:ComparisonFrame:No data was found with applied filters!\n"
     ]
    }
   ],
   "source": [
    "comparer.compare_runs_with_records()"
   ]
  },
  {
   "cell_type": "code",
   "execution_count": 66,
   "metadata": {},
   "outputs": [
    {
     "data": {
      "text/plain": [
       "[{'query': 'Black metal',\n",
       "  'provided_text': 'Black metal is an extreme subgenre of heavy metal music.',\n",
       "  'run_id': 'faf5aab28ee8d460cbb69c6f434bee622aff8cdfb8796282bdc547fff2c1abf8',\n",
       "  'timestamp': '2024-09-26 01:36:13',\n",
       "  'record_id': '0cc157453395b440f36d1a1aee24aa76a03f5f9ab0a7a8bd7b663c92f2f16e87',\n",
       "  'word_count_diff': 0,\n",
       "  'semantic_similarity': 0.9999999403953552,\n",
       "  'comparison_id': 'cdb16a8d16a95e85d879c29aaf9762c9e2776843f2a01d6ef9154daacd9b732d'},\n",
       " {'query': 'Black metal',\n",
       "  'provided_text': 'Black metal is a subgenre of heavy metal music.',\n",
       "  'run_id': '9fbd80050d382972c012ffcb4641f48d6220afb2210a20a11da5c7a48664f033',\n",
       "  'timestamp': '2024-09-26 01:36:13',\n",
       "  'record_id': '0cc157453395b440f36d1a1aee24aa76a03f5f9ab0a7a8bd7b663c92f2f16e87',\n",
       "  'word_count_diff': 1,\n",
       "  'semantic_similarity': 0.9859851002693176,\n",
       "  'comparison_id': '16472e44ac7d2d74e18ea583490c2f6b8661cc8b48cc9b7480a51dc8c6796c41'},\n",
       " {'query': 'Black metal',\n",
       "  'provided_text': 'Black metals are beautiful and are often used in jewelry design.',\n",
       "  'run_id': 'e4fc3f56c95d4266b6543a306c4305e0d8b960a1e0196d05cfc8ee4ea0bd7129',\n",
       "  'timestamp': '2024-09-26 01:36:13',\n",
       "  'record_id': '0cc157453395b440f36d1a1aee24aa76a03f5f9ab0a7a8bd7b663c92f2f16e87',\n",
       "  'word_count_diff': 1,\n",
       "  'semantic_similarity': 0.4940534234046936,\n",
       "  'comparison_id': '966c1da5e641480e8ccd33a7d0f544d9ec6c4e2e799be11529d2cf7a222deb9a'}]"
      ]
     },
     "execution_count": 66,
     "metadata": {},
     "output_type": "execute_result"
    }
   ],
   "source": [
    "comparer.get_all_run_scores()"
   ]
  },
  {
   "cell_type": "code",
   "execution_count": 67,
   "metadata": {},
   "outputs": [
    {
     "data": {
      "text/html": [
       "<div>\n",
       "<style scoped>\n",
       "    .dataframe tbody tr th:only-of-type {\n",
       "        vertical-align: middle;\n",
       "    }\n",
       "\n",
       "    .dataframe tbody tr th {\n",
       "        vertical-align: top;\n",
       "    }\n",
       "\n",
       "    .dataframe thead th {\n",
       "        text-align: right;\n",
       "    }\n",
       "</style>\n",
       "<table border=\"1\" class=\"dataframe\">\n",
       "  <thead>\n",
       "    <tr style=\"text-align: right;\">\n",
       "      <th></th>\n",
       "      <th>query</th>\n",
       "      <th>provided_text</th>\n",
       "      <th>run_id</th>\n",
       "      <th>timestamp</th>\n",
       "      <th>record_id</th>\n",
       "      <th>word_count_diff</th>\n",
       "      <th>semantic_similarity</th>\n",
       "      <th>comparison_id</th>\n",
       "    </tr>\n",
       "  </thead>\n",
       "  <tbody>\n",
       "    <tr>\n",
       "      <th>0</th>\n",
       "      <td>Black metal</td>\n",
       "      <td>Black metal is an extreme subgenre of heavy me...</td>\n",
       "      <td>faf5aab28ee8d460cbb69c6f434bee622aff8cdfb87962...</td>\n",
       "      <td>2024-09-26 01:36:13</td>\n",
       "      <td>0cc157453395b440f36d1a1aee24aa76a03f5f9ab0a7a8...</td>\n",
       "      <td>0</td>\n",
       "      <td>1.000000</td>\n",
       "      <td>cdb16a8d16a95e85d879c29aaf9762c9e2776843f2a01d...</td>\n",
       "    </tr>\n",
       "    <tr>\n",
       "      <th>1</th>\n",
       "      <td>Black metal</td>\n",
       "      <td>Black metal is a subgenre of heavy metal music.</td>\n",
       "      <td>9fbd80050d382972c012ffcb4641f48d6220afb2210a20...</td>\n",
       "      <td>2024-09-26 01:36:13</td>\n",
       "      <td>0cc157453395b440f36d1a1aee24aa76a03f5f9ab0a7a8...</td>\n",
       "      <td>1</td>\n",
       "      <td>0.985985</td>\n",
       "      <td>16472e44ac7d2d74e18ea583490c2f6b8661cc8b48cc9b...</td>\n",
       "    </tr>\n",
       "    <tr>\n",
       "      <th>2</th>\n",
       "      <td>Black metal</td>\n",
       "      <td>Black metals are beautiful and are often used ...</td>\n",
       "      <td>e4fc3f56c95d4266b6543a306c4305e0d8b960a1e0196d...</td>\n",
       "      <td>2024-09-26 01:36:13</td>\n",
       "      <td>0cc157453395b440f36d1a1aee24aa76a03f5f9ab0a7a8...</td>\n",
       "      <td>1</td>\n",
       "      <td>0.494053</td>\n",
       "      <td>966c1da5e641480e8ccd33a7d0f544d9ec6c4e2e799be1...</td>\n",
       "    </tr>\n",
       "  </tbody>\n",
       "</table>\n",
       "</div>"
      ],
      "text/plain": [
       "         query                                      provided_text  \\\n",
       "0  Black metal  Black metal is an extreme subgenre of heavy me...   \n",
       "1  Black metal    Black metal is a subgenre of heavy metal music.   \n",
       "2  Black metal  Black metals are beautiful and are often used ...   \n",
       "\n",
       "                                              run_id            timestamp  \\\n",
       "0  faf5aab28ee8d460cbb69c6f434bee622aff8cdfb87962...  2024-09-26 01:36:13   \n",
       "1  9fbd80050d382972c012ffcb4641f48d6220afb2210a20...  2024-09-26 01:36:13   \n",
       "2  e4fc3f56c95d4266b6543a306c4305e0d8b960a1e0196d...  2024-09-26 01:36:13   \n",
       "\n",
       "                                           record_id  word_count_diff  \\\n",
       "0  0cc157453395b440f36d1a1aee24aa76a03f5f9ab0a7a8...                0   \n",
       "1  0cc157453395b440f36d1a1aee24aa76a03f5f9ab0a7a8...                1   \n",
       "2  0cc157453395b440f36d1a1aee24aa76a03f5f9ab0a7a8...                1   \n",
       "\n",
       "   semantic_similarity                                      comparison_id  \n",
       "0             1.000000  cdb16a8d16a95e85d879c29aaf9762c9e2776843f2a01d...  \n",
       "1             0.985985  16472e44ac7d2d74e18ea583490c2f6b8661cc8b48cc9b...  \n",
       "2             0.494053  966c1da5e641480e8ccd33a7d0f544d9ec6c4e2e799be1...  "
      ]
     },
     "execution_count": 67,
     "metadata": {},
     "output_type": "execute_result"
    }
   ],
   "source": [
    "comparer.get_all_run_scores_df()"
   ]
  },
  {
   "cell_type": "markdown",
   "metadata": {},
   "source": [
    "### 3 Calculating aggregate comparison scores"
   ]
  },
  {
   "cell_type": "code",
   "execution_count": 68,
   "metadata": {},
   "outputs": [
    {
     "name": "stderr",
     "output_type": "stream",
     "text": [
      "WARNING:ComparisonFrame:No data was found with applied filters!\n"
     ]
    }
   ],
   "source": [
    "comparer.calculate_aggr_scores(group_by = ['desc'])"
   ]
  },
  {
   "cell_type": "code",
   "execution_count": 69,
   "metadata": {},
   "outputs": [
    {
     "data": {
      "text/plain": [
       "[{'timestamp': '2024-09-26 01:36:13',\n",
       "  'comparison_id': ['cdb16a8d16a95e85d879c29aaf9762c9e2776843f2a01d6ef9154daacd9b732d',\n",
       "   '16472e44ac7d2d74e18ea583490c2f6b8661cc8b48cc9b7480a51dc8c6796c41',\n",
       "   '966c1da5e641480e8ccd33a7d0f544d9ec6c4e2e799be11529d2cf7a222deb9a'],\n",
       "  'query': ['Black metal'],\n",
       "  'grouped_by': ['query'],\n",
       "  'group': {'query': 'Black metal'},\n",
       "  'median_word_count_diff': 1.0,\n",
       "  'median_semantic_similarity': 0.9859851002693176,\n",
       "  'record_status_id': 'dc1126e128d42f74bb98bad9ce4101fe1a4ea5a46df57d430dea99fdd4b8c628'}]"
      ]
     },
     "execution_count": 69,
     "metadata": {},
     "output_type": "execute_result"
    }
   ],
   "source": [
    "comparer.get_all_aggr_scores()"
   ]
  },
  {
   "cell_type": "code",
   "execution_count": 70,
   "metadata": {},
   "outputs": [
    {
     "data": {
      "text/html": [
       "<div>\n",
       "<style scoped>\n",
       "    .dataframe tbody tr th:only-of-type {\n",
       "        vertical-align: middle;\n",
       "    }\n",
       "\n",
       "    .dataframe tbody tr th {\n",
       "        vertical-align: top;\n",
       "    }\n",
       "\n",
       "    .dataframe thead th {\n",
       "        text-align: right;\n",
       "    }\n",
       "</style>\n",
       "<table border=\"1\" class=\"dataframe\">\n",
       "  <thead>\n",
       "    <tr style=\"text-align: right;\">\n",
       "      <th></th>\n",
       "      <th>timestamp</th>\n",
       "      <th>comparison_id</th>\n",
       "      <th>query</th>\n",
       "      <th>grouped_by</th>\n",
       "      <th>group</th>\n",
       "      <th>median_word_count_diff</th>\n",
       "      <th>median_semantic_similarity</th>\n",
       "      <th>record_status_id</th>\n",
       "    </tr>\n",
       "  </thead>\n",
       "  <tbody>\n",
       "    <tr>\n",
       "      <th>0</th>\n",
       "      <td>2024-09-26 01:36:13</td>\n",
       "      <td>[cdb16a8d16a95e85d879c29aaf9762c9e2776843f2a01...</td>\n",
       "      <td>[Black metal]</td>\n",
       "      <td>[desc]</td>\n",
       "      <td>{'desc': 'definitions'}</td>\n",
       "      <td>1.0</td>\n",
       "      <td>0.985985</td>\n",
       "      <td>c9d97729c5b03641fbf8fd35d257f2f1024a812f097ffb...</td>\n",
       "    </tr>\n",
       "  </tbody>\n",
       "</table>\n",
       "</div>"
      ],
      "text/plain": [
       "             timestamp                                      comparison_id  \\\n",
       "0  2024-09-26 01:36:13  [cdb16a8d16a95e85d879c29aaf9762c9e2776843f2a01...   \n",
       "\n",
       "           query grouped_by                    group  median_word_count_diff  \\\n",
       "0  [Black metal]     [desc]  {'desc': 'definitions'}                     1.0   \n",
       "\n",
       "   median_semantic_similarity  \\\n",
       "0                    0.985985   \n",
       "\n",
       "                                    record_status_id  \n",
       "0  c9d97729c5b03641fbf8fd35d257f2f1024a812f097ffb...  "
      ]
     },
     "execution_count": 70,
     "metadata": {},
     "output_type": "execute_result"
    }
   ],
   "source": [
    "comparer.get_all_aggr_scores_df(grouped_by = ['desc'])"
   ]
  },
  {
   "cell_type": "markdown",
   "metadata": {},
   "source": [
    "### 4. Recording test statuses"
   ]
  },
  {
   "cell_type": "code",
   "execution_count": 71,
   "metadata": {},
   "outputs": [],
   "source": [
    "comparer.calculate_test_statuses(test_query = \"median_semantic_similarity > 0.9\")\n"
   ]
  },
  {
   "cell_type": "code",
   "execution_count": 72,
   "metadata": {},
   "outputs": [
    {
     "data": {
      "text/plain": [
       "[{'timestamp': '2024-09-26 01:36:13',\n",
       "  'record_id': '0cc157453395b440f36d1a1aee24aa76a03f5f9ab0a7a8bd7b663c92f2f16e87',\n",
       "  'record_status_id': 'dc1126e128d42f74bb98bad9ce4101fe1a4ea5a46df57d430dea99fdd4b8c628',\n",
       "  'query': 'Black metal',\n",
       "  'test': 'median_semantic_similarity > 0.9',\n",
       "  'valid': True}]"
      ]
     },
     "execution_count": 72,
     "metadata": {},
     "output_type": "execute_result"
    }
   ],
   "source": [
    "comparer.get_test_statuses()"
   ]
  },
  {
   "cell_type": "code",
   "execution_count": 73,
   "metadata": {},
   "outputs": [
    {
     "data": {
      "text/html": [
       "<div>\n",
       "<style scoped>\n",
       "    .dataframe tbody tr th:only-of-type {\n",
       "        vertical-align: middle;\n",
       "    }\n",
       "\n",
       "    .dataframe tbody tr th {\n",
       "        vertical-align: top;\n",
       "    }\n",
       "\n",
       "    .dataframe thead th {\n",
       "        text-align: right;\n",
       "    }\n",
       "</style>\n",
       "<table border=\"1\" class=\"dataframe\">\n",
       "  <thead>\n",
       "    <tr style=\"text-align: right;\">\n",
       "      <th></th>\n",
       "      <th>timestamp</th>\n",
       "      <th>record_id</th>\n",
       "      <th>record_status_id</th>\n",
       "      <th>query</th>\n",
       "      <th>test</th>\n",
       "      <th>valid</th>\n",
       "    </tr>\n",
       "  </thead>\n",
       "  <tbody>\n",
       "    <tr>\n",
       "      <th>0</th>\n",
       "      <td>2024-09-26 01:36:13</td>\n",
       "      <td>0cc157453395b440f36d1a1aee24aa76a03f5f9ab0a7a8...</td>\n",
       "      <td>dc1126e128d42f74bb98bad9ce4101fe1a4ea5a46df57d...</td>\n",
       "      <td>Black metal</td>\n",
       "      <td>median_semantic_similarity &gt; 0.9</td>\n",
       "      <td>True</td>\n",
       "    </tr>\n",
       "  </tbody>\n",
       "</table>\n",
       "</div>"
      ],
      "text/plain": [
       "             timestamp                                          record_id  \\\n",
       "0  2024-09-26 01:36:13  0cc157453395b440f36d1a1aee24aa76a03f5f9ab0a7a8...   \n",
       "\n",
       "                                    record_status_id        query  \\\n",
       "0  dc1126e128d42f74bb98bad9ce4101fe1a4ea5a46df57d...  Black metal   \n",
       "\n",
       "                               test  valid  \n",
       "0  median_semantic_similarity > 0.9   True  "
      ]
     },
     "execution_count": 73,
     "metadata": {},
     "output_type": "execute_result"
    }
   ],
   "source": [
    "comparer.get_test_statuses_df()"
   ]
  },
  {
   "cell_type": "markdown",
   "metadata": {},
   "source": [
    "### 5. Reseting statuses, flushing records and comparison results"
   ]
  },
  {
   "cell_type": "code",
   "execution_count": 74,
   "metadata": {},
   "outputs": [],
   "source": [
    "comparer.flush_records()"
   ]
  },
  {
   "cell_type": "code",
   "execution_count": 75,
   "metadata": {},
   "outputs": [],
   "source": [
    "comparer.flush_runs()"
   ]
  },
  {
   "cell_type": "code",
   "execution_count": 76,
   "metadata": {},
   "outputs": [],
   "source": [
    "comparer.flush_comparison_scores()"
   ]
  },
  {
   "cell_type": "code",
   "execution_count": 77,
   "metadata": {},
   "outputs": [],
   "source": [
    "comparer.flush_aggregate_scores()"
   ]
  },
  {
   "cell_type": "code",
   "execution_count": 78,
   "metadata": {},
   "outputs": [],
   "source": [
    "comparer.flush_test_statuses()"
   ]
  }
 ],
 "metadata": {
  "kernelspec": {
   "display_name": "msearch",
   "language": "python",
   "name": "python3"
  },
  "language_info": {
   "codemirror_mode": {
    "name": "ipython",
    "version": 3
   },
   "file_extension": ".py",
   "mimetype": "text/x-python",
   "name": "python",
   "nbconvert_exporter": "python",
   "pygments_lexer": "ipython3",
   "version": "3.10.14"
  },
  "orig_nbformat": 4
 },
 "nbformat": 4,
 "nbformat_minor": 2
}

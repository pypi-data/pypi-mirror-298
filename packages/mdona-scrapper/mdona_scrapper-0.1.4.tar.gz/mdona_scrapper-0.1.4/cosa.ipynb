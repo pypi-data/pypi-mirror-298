{
 "cells": [
  {
   "cell_type": "code",
   "execution_count": 1,
   "metadata": {},
   "outputs": [],
   "source": [
    "import mdona_scrapper\n",
    "from glob import iglob\n"
   ]
  },
  {
   "cell_type": "code",
   "execution_count": 2,
   "metadata": {},
   "outputs": [
    {
     "name": "stdout",
     "output_type": "stream",
     "text": [
      "C:/Users/EDUARDO-MSI/Downloads\\Receipt-13036671.pdf\n",
      "C:/Users/EDUARDO-MSI/Downloads\\Receipt-13272104.pdf\n",
      "C:/Users/EDUARDO-MSI/Downloads\\Receipt-13502777.pdf\n",
      "C:/Users/EDUARDO-MSI/Downloads\\Receipt-13727089.pdf\n",
      "C:/Users/EDUARDO-MSI/Downloads\\Receipt-13934297.pdf\n",
      "C:/Users/EDUARDO-MSI/Downloads\\Receipt-14154389.pdf\n",
      "C:/Users/EDUARDO-MSI/Downloads\\Receipt-14385328.pdf\n",
      "C:/Users/EDUARDO-MSI/Downloads\\Receipt-14912905.pdf\n",
      "C:/Users/EDUARDO-MSI/Downloads\\Receipt-15407272.pdf\n",
      "C:/Users/EDUARDO-MSI/Downloads\\Receipt-15789284.pdf\n",
      "C:/Users/EDUARDO-MSI/Downloads\\Receipt-16121607.pdf\n",
      "C:/Users/EDUARDO-MSI/Downloads\\Receipt-16496684.pdf\n",
      "C:/Users/EDUARDO-MSI/Downloads\\Receipt-16990586.pdf\n",
      "C:/Users/EDUARDO-MSI/Downloads\\Receipt-17438932.pdf\n",
      "C:/Users/EDUARDO-MSI/Downloads\\Receipt-17698308.pdf\n",
      "C:/Users/EDUARDO-MSI/Downloads\\Receipt-18160742.pdf\n",
      "C:/Users/EDUARDO-MSI/Downloads\\Receipt-18880413.pdf\n",
      "C:/Users/EDUARDO-MSI/Downloads\\Receipt-19344666.pdf\n",
      "C:/Users/EDUARDO-MSI/Downloads\\Receipt-19914227.pdf\n"
     ]
    }
   ],
   "source": [
    "for file in iglob(\"C:/Users/EDUARDO-MSI/Downloads/Receipt-*.pdf\"):\n",
    "    print(file)\n",
    "    cosa = mdona_scrapper.MercadonaScrapper.get_invoice(file)\n"
   ]
  },
  {
   "cell_type": "code",
   "execution_count": 3,
   "metadata": {},
   "outputs": [],
   "source": [
    "cosa = mdona_scrapper.MercadonaScrapper.get_invoice(\n",
    "    \"C:/Users/EDUARDO-MSI/Downloads\\Receipt-13272104.pdf\"\n",
    ")"
   ]
  },
  {
   "cell_type": "code",
   "execution_count": 4,
   "metadata": {},
   "outputs": [
    {
     "data": {
      "text/html": [
       "<div>\n",
       "<style scoped>\n",
       "    .dataframe tbody tr th:only-of-type {\n",
       "        vertical-align: middle;\n",
       "    }\n",
       "\n",
       "    .dataframe tbody tr th {\n",
       "        vertical-align: top;\n",
       "    }\n",
       "\n",
       "    .dataframe thead th {\n",
       "        text-align: right;\n",
       "    }\n",
       "</style>\n",
       "<table border=\"1\" class=\"dataframe\">\n",
       "  <thead>\n",
       "    <tr style=\"text-align: right;\">\n",
       "      <th></th>\n",
       "      <th>name</th>\n",
       "      <th>total_price</th>\n",
       "      <th>unit</th>\n",
       "      <th>quantity</th>\n",
       "      <th>unit_price</th>\n",
       "      <th>order_number</th>\n",
       "      <th>invoice_number</th>\n",
       "      <th>payment_date</th>\n",
       "    </tr>\n",
       "  </thead>\n",
       "  <tbody>\n",
       "    <tr>\n",
       "      <th>0</th>\n",
       "      <td>Aguacate</td>\n",
       "      <td>1.51</td>\n",
       "      <td>kg</td>\n",
       "      <td>4.29</td>\n",
       "      <td>0.352</td>\n",
       "      <td>13272104</td>\n",
       "      <td>4511 - 90 - 36755</td>\n",
       "      <td>2022-12-12 13:29:00</td>\n",
       "    </tr>\n",
       "    <tr>\n",
       "      <th>1</th>\n",
       "      <td>Manzana Granny Smith</td>\n",
       "      <td>4.46</td>\n",
       "      <td>kg</td>\n",
       "      <td>1.79</td>\n",
       "      <td>2.492</td>\n",
       "      <td>13272104</td>\n",
       "      <td>4511 - 90 - 36755</td>\n",
       "      <td>2022-12-12 13:29:00</td>\n",
       "    </tr>\n",
       "    <tr>\n",
       "      <th>2</th>\n",
       "      <td>Plátano de Canarias</td>\n",
       "      <td>2.39</td>\n",
       "      <td>kg</td>\n",
       "      <td>2.35</td>\n",
       "      <td>1.018</td>\n",
       "      <td>13272104</td>\n",
       "      <td>4511 - 90 - 36755</td>\n",
       "      <td>2022-12-12 13:29:00</td>\n",
       "    </tr>\n",
       "    <tr>\n",
       "      <th>3</th>\n",
       "      <td>Mandarina</td>\n",
       "      <td>2.84</td>\n",
       "      <td>kg</td>\n",
       "      <td>1.89</td>\n",
       "      <td>1.502</td>\n",
       "      <td>13272104</td>\n",
       "      <td>4511 - 90 - 36755</td>\n",
       "      <td>2022-12-12 13:29:00</td>\n",
       "    </tr>\n",
       "    <tr>\n",
       "      <th>4</th>\n",
       "      <td>Bebida de melocotón Hacendado sin azúcares aña...</td>\n",
       "      <td>1.35</td>\n",
       "      <td></td>\n",
       "      <td>1.00</td>\n",
       "      <td>1.350</td>\n",
       "      <td>13272104</td>\n",
       "      <td>4511 - 90 - 36755</td>\n",
       "      <td>2022-12-12 13:29:00</td>\n",
       "    </tr>\n",
       "    <tr>\n",
       "      <th>...</th>\n",
       "      <td>...</td>\n",
       "      <td>...</td>\n",
       "      <td>...</td>\n",
       "      <td>...</td>\n",
       "      <td>...</td>\n",
       "      <td>...</td>\n",
       "      <td>...</td>\n",
       "      <td>...</td>\n",
       "    </tr>\n",
       "    <tr>\n",
       "      <th>58</th>\n",
       "      <td>Calabaza cacahuete cortada a trozos</td>\n",
       "      <td>1.83</td>\n",
       "      <td></td>\n",
       "      <td>1.00</td>\n",
       "      <td>1.830</td>\n",
       "      <td>13272104</td>\n",
       "      <td>4511 - 90 - 36755</td>\n",
       "      <td>2022-12-12 13:29:00</td>\n",
       "    </tr>\n",
       "    <tr>\n",
       "      <th>59</th>\n",
       "      <td>Puerros</td>\n",
       "      <td>1.99</td>\n",
       "      <td></td>\n",
       "      <td>1.00</td>\n",
       "      <td>1.990</td>\n",
       "      <td>13272104</td>\n",
       "      <td>4511 - 90 - 36755</td>\n",
       "      <td>2022-12-12 13:29:00</td>\n",
       "    </tr>\n",
       "    <tr>\n",
       "      <th>60</th>\n",
       "      <td>Jamoncitos de pollo</td>\n",
       "      <td>3.70</td>\n",
       "      <td></td>\n",
       "      <td>1.00</td>\n",
       "      <td>3.700</td>\n",
       "      <td>13272104</td>\n",
       "      <td>4511 - 90 - 36755</td>\n",
       "      <td>2022-12-12 13:29:00</td>\n",
       "    </tr>\n",
       "    <tr>\n",
       "      <th>61</th>\n",
       "      <td>Secreto de cerdo</td>\n",
       "      <td>2.61</td>\n",
       "      <td></td>\n",
       "      <td>1.00</td>\n",
       "      <td>2.610</td>\n",
       "      <td>13272104</td>\n",
       "      <td>4511 - 90 - 36755</td>\n",
       "      <td>2022-12-12 13:29:00</td>\n",
       "    </tr>\n",
       "    <tr>\n",
       "      <th>62</th>\n",
       "      <td>Lomo de cerdo adobado familiar</td>\n",
       "      <td>7.27</td>\n",
       "      <td></td>\n",
       "      <td>1.00</td>\n",
       "      <td>7.270</td>\n",
       "      <td>13272104</td>\n",
       "      <td>4511 - 90 - 36755</td>\n",
       "      <td>2022-12-12 13:29:00</td>\n",
       "    </tr>\n",
       "  </tbody>\n",
       "</table>\n",
       "<p>63 rows × 8 columns</p>\n",
       "</div>"
      ],
      "text/plain": [
       "                                                 name  total_price unit  \\\n",
       "0                                           Aguacate          1.51   kg   \n",
       "1                               Manzana Granny Smith          4.46   kg   \n",
       "2                                Plátano de Canarias          2.39   kg   \n",
       "3                                          Mandarina          2.84   kg   \n",
       "4   Bebida de melocotón Hacendado sin azúcares aña...         1.35        \n",
       "..                                                ...          ...  ...   \n",
       "58                Calabaza cacahuete cortada a trozos         1.83        \n",
       "59                                            Puerros         1.99        \n",
       "60                                Jamoncitos de pollo         3.70        \n",
       "61                                   Secreto de cerdo         2.61        \n",
       "62                     Lomo de cerdo adobado familiar         7.27        \n",
       "\n",
       "    quantity  unit_price  order_number      invoice_number        payment_date  \n",
       "0       4.29       0.352      13272104  4511 - 90 - 36755  2022-12-12 13:29:00  \n",
       "1       1.79       2.492      13272104  4511 - 90 - 36755  2022-12-12 13:29:00  \n",
       "2       2.35       1.018      13272104  4511 - 90 - 36755  2022-12-12 13:29:00  \n",
       "3       1.89       1.502      13272104  4511 - 90 - 36755  2022-12-12 13:29:00  \n",
       "4       1.00       1.350      13272104  4511 - 90 - 36755  2022-12-12 13:29:00  \n",
       "..       ...         ...           ...                 ...                 ...  \n",
       "58      1.00       1.830      13272104  4511 - 90 - 36755  2022-12-12 13:29:00  \n",
       "59      1.00       1.990      13272104  4511 - 90 - 36755  2022-12-12 13:29:00  \n",
       "60      1.00       3.700      13272104  4511 - 90 - 36755  2022-12-12 13:29:00  \n",
       "61      1.00       2.610      13272104  4511 - 90 - 36755  2022-12-12 13:29:00  \n",
       "62      1.00       7.270      13272104  4511 - 90 - 36755  2022-12-12 13:29:00  \n",
       "\n",
       "[63 rows x 8 columns]"
      ]
     },
     "execution_count": 4,
     "metadata": {},
     "output_type": "execute_result"
    }
   ],
   "source": [
    "cosa.dataframe"
   ]
  },
  {
   "cell_type": "code",
   "execution_count": 5,
   "metadata": {},
   "outputs": [
    {
     "data": {
      "text/plain": [
       "164.75000000000006"
      ]
     },
     "execution_count": 5,
     "metadata": {},
     "output_type": "execute_result"
    }
   ],
   "source": [
    "cosa.dataframe.total_price.sum()"
   ]
  },
  {
   "cell_type": "code",
   "execution_count": 8,
   "metadata": {},
   "outputs": [
    {
     "data": {
      "text/plain": [
       "2023"
      ]
     },
     "execution_count": 8,
     "metadata": {},
     "output_type": "execute_result"
    }
   ],
   "source": [
    "cosa.payment_date.year + 2000"
   ]
  },
  {
   "cell_type": "code",
   "execution_count": 6,
   "metadata": {},
   "outputs": [
    {
     "data": {
      "text/plain": [
       "'Pedido Nº 14912905\\nFactura simplificada 4511 - 90 - 747254 \\nEntrega\\nLunes 03 de 11:00 a 12:00h \\nCalle de San Marcelo, 22, 2-D\\n28017, MadridMétodo de pago\\nVisa **** 5464\\nAUT: 446459\\nCobrado el 03/07/23 a las 03:14\\nDatos personales\\nPONCHAS EL MANDALORIANO\\n+34603841335\\nponchascastahouse@gmail.com\\nEn caso de duda o reclamación, dirígete a nuestro\\nteléfono de atención al cliente 800 500 220\\nEn Mercadona estamos comprometidos con el medio ambiente.\\nSi lo deseas, podemos recoger tus bolsas de plástico la próxima vez que te llevemos el pedido y nos encargaremos de reciclarlas.\\nNombre Producto Cantidad entregada PVP\\nPapel Multiusos Resistente Bosque Verde 1 3,45 €\\nPapel higiénico doble hoja Bosque Verde 1 2,35 €\\nManzana Story \\n- Peso: 0,618 kg \\xa0 Precio kg: 1,99 €3 1,23 €\\nManzana Golden \\n- Peso: 0,678 kg \\xa0 Precio kg: 2,09 €3 1,42 €\\nBebida 5 frutas Hacendado sin azúcares añadidos 1 1,65 €\\nYogur sabores Hacendado 1 2,70 €\\nYogur griego stracciatella Hacendado 1 1,85 €\\nPan de molde 100% integral familiar Hacendado 1 1,25 €\\nPan de molde blanco familiar Hacendado 2 2,50 €\\nMagdalenas Hacendado 1 2,10 €\\nBolsa de basura extra Bosque Verde 30L cubo mediano 1 1,65 €\\nAmbientador automático Love Bosque Verde 1 1,80 €\\nEstropajo acero inoxidable Bosque Verde 1 0,75 €\\nLeche semidesnatada Hacendado 1 5,40 €\\nLeche entera Hacendado 2 10,92 €\\nHuevos grandes L 1 4,05 €\\nCalabacín verde \\n- Peso: 1,596 kg \\xa0 Precio kg: 1,59 €4 2,54 €\\nMERCADONA.S.A | A-46103834 | Calle Valencia nº 5, Tavernes Blanques, Valencia. La recepción del presente pedido implica estar conforme con: las condiciones generales de la\\ntotalidad del contenido del pedido, que se trata de un pedido con obligación de pago, así como de la dirección, fecha y hora de entrega y del detalle del ticket de compra el cual\\nincluye la tarifa de servicio.'"
      ]
     },
     "execution_count": 6,
     "metadata": {},
     "output_type": "execute_result"
    }
   ],
   "source": [
    "from pypdf import PdfReader\n",
    "\n",
    "reader = PdfReader(\"C:/Users/EDUARDO-MSI/Downloads/Receipt-14912905.pdf\")\n",
    "reader.pages[0].extract_text()"
   ]
  },
  {
   "cell_type": "code",
   "execution_count": 1,
   "metadata": {},
   "outputs": [
    {
     "ename": "TypeError",
     "evalue": "invalid length: 5",
     "output_type": "error",
     "traceback": [
      "\u001b[1;31m---------------------------------------------------------------------------\u001b[0m",
      "\u001b[1;31mTypeError\u001b[0m                                 Traceback (most recent call last)",
      "Cell \u001b[1;32mIn[1], line 3\u001b[0m\n\u001b[0;32m      1\u001b[0m \u001b[38;5;28;01mfrom\u001b[39;00m \u001b[38;5;21;01mpdfminer\u001b[39;00m\u001b[38;5;21;01m.\u001b[39;00m\u001b[38;5;21;01mhigh_level\u001b[39;00m \u001b[38;5;28;01mimport\u001b[39;00m extract_text\n\u001b[1;32m----> 3\u001b[0m text \u001b[38;5;241m=\u001b[39m \u001b[43mextract_text\u001b[49m\u001b[43m(\u001b[49m\u001b[38;5;124;43m\"\u001b[39;49m\u001b[38;5;124;43mC:/Users/EDUARDO-MSI/Downloads/Receipt-14912905.pdf\u001b[39;49m\u001b[38;5;124;43m\"\u001b[39;49m\u001b[43m)\u001b[49m\n",
      "File \u001b[1;32mc:\\Users\\EDUARDO-MSI\\workspace\\mercadona-invoice-scrapper\\.venv\\lib\\site-packages\\pdfminer\\high_level.py:168\u001b[0m, in \u001b[0;36mextract_text\u001b[1;34m(pdf_file, password, page_numbers, maxpages, caching, codec, laparams)\u001b[0m\n\u001b[0;32m    165\u001b[0m device \u001b[38;5;241m=\u001b[39m TextConverter(rsrcmgr, output_string, codec\u001b[38;5;241m=\u001b[39mcodec, laparams\u001b[38;5;241m=\u001b[39mlaparams)\n\u001b[0;32m    166\u001b[0m interpreter \u001b[38;5;241m=\u001b[39m PDFPageInterpreter(rsrcmgr, device)\n\u001b[1;32m--> 168\u001b[0m \u001b[38;5;28;01mfor\u001b[39;00m page \u001b[38;5;129;01min\u001b[39;00m PDFPage\u001b[38;5;241m.\u001b[39mget_pages(\n\u001b[0;32m    169\u001b[0m     fp,\n\u001b[0;32m    170\u001b[0m     page_numbers,\n\u001b[0;32m    171\u001b[0m     maxpages\u001b[38;5;241m=\u001b[39mmaxpages,\n\u001b[0;32m    172\u001b[0m     password\u001b[38;5;241m=\u001b[39mpassword,\n\u001b[0;32m    173\u001b[0m     caching\u001b[38;5;241m=\u001b[39mcaching,\n\u001b[0;32m    174\u001b[0m ):\n\u001b[0;32m    175\u001b[0m     interpreter\u001b[38;5;241m.\u001b[39mprocess_page(page)\n\u001b[0;32m    177\u001b[0m \u001b[38;5;28;01mreturn\u001b[39;00m output_string\u001b[38;5;241m.\u001b[39mgetvalue()\n",
      "File \u001b[1;32mc:\\Users\\EDUARDO-MSI\\workspace\\mercadona-invoice-scrapper\\.venv\\lib\\site-packages\\pdfminer\\pdfpage.py:151\u001b[0m, in \u001b[0;36mPDFPage.get_pages\u001b[1;34m(cls, fp, pagenos, maxpages, password, caching, check_extractable)\u001b[0m\n\u001b[0;32m    149\u001b[0m parser \u001b[38;5;241m=\u001b[39m PDFParser(fp)\n\u001b[0;32m    150\u001b[0m \u001b[38;5;66;03m# Create a PDF document object that stores the document structure.\u001b[39;00m\n\u001b[1;32m--> 151\u001b[0m doc \u001b[38;5;241m=\u001b[39m \u001b[43mPDFDocument\u001b[49m\u001b[43m(\u001b[49m\u001b[43mparser\u001b[49m\u001b[43m,\u001b[49m\u001b[43m \u001b[49m\u001b[43mpassword\u001b[49m\u001b[38;5;241;43m=\u001b[39;49m\u001b[43mpassword\u001b[49m\u001b[43m,\u001b[49m\u001b[43m \u001b[49m\u001b[43mcaching\u001b[49m\u001b[38;5;241;43m=\u001b[39;49m\u001b[43mcaching\u001b[49m\u001b[43m)\u001b[49m\n\u001b[0;32m    152\u001b[0m \u001b[38;5;66;03m# Check if the document allows text extraction.\u001b[39;00m\n\u001b[0;32m    153\u001b[0m \u001b[38;5;66;03m# If not, warn the user and proceed.\u001b[39;00m\n\u001b[0;32m    154\u001b[0m \u001b[38;5;28;01mif\u001b[39;00m \u001b[38;5;129;01mnot\u001b[39;00m doc\u001b[38;5;241m.\u001b[39mis_extractable:\n",
      "File \u001b[1;32mc:\\Users\\EDUARDO-MSI\\workspace\\mercadona-invoice-scrapper\\.venv\\lib\\site-packages\\pdfminer\\pdfdocument.py:746\u001b[0m, in \u001b[0;36mPDFDocument.__init__\u001b[1;34m(self, parser, password, caching, fallback)\u001b[0m\n\u001b[0;32m    744\u001b[0m     \u001b[38;5;28mself\u001b[39m\u001b[38;5;241m.\u001b[39m_initialize_password(password)\n\u001b[0;32m    745\u001b[0m \u001b[38;5;28;01mif\u001b[39;00m \u001b[38;5;124m\"\u001b[39m\u001b[38;5;124mInfo\u001b[39m\u001b[38;5;124m\"\u001b[39m \u001b[38;5;129;01min\u001b[39;00m trailer:\n\u001b[1;32m--> 746\u001b[0m     \u001b[38;5;28mself\u001b[39m\u001b[38;5;241m.\u001b[39minfo\u001b[38;5;241m.\u001b[39mappend(\u001b[43mdict_value\u001b[49m\u001b[43m(\u001b[49m\u001b[43mtrailer\u001b[49m\u001b[43m[\u001b[49m\u001b[38;5;124;43m\"\u001b[39;49m\u001b[38;5;124;43mInfo\u001b[39;49m\u001b[38;5;124;43m\"\u001b[39;49m\u001b[43m]\u001b[49m\u001b[43m)\u001b[49m)\n\u001b[0;32m    747\u001b[0m \u001b[38;5;28;01mif\u001b[39;00m \u001b[38;5;124m\"\u001b[39m\u001b[38;5;124mRoot\u001b[39m\u001b[38;5;124m\"\u001b[39m \u001b[38;5;129;01min\u001b[39;00m trailer:\n\u001b[0;32m    748\u001b[0m     \u001b[38;5;66;03m# Every PDF file must have exactly one /Root dictionary.\u001b[39;00m\n\u001b[0;32m    749\u001b[0m     \u001b[38;5;28mself\u001b[39m\u001b[38;5;241m.\u001b[39mcatalog \u001b[38;5;241m=\u001b[39m dict_value(trailer[\u001b[38;5;124m\"\u001b[39m\u001b[38;5;124mRoot\u001b[39m\u001b[38;5;124m\"\u001b[39m])\n",
      "File \u001b[1;32mc:\\Users\\EDUARDO-MSI\\workspace\\mercadona-invoice-scrapper\\.venv\\lib\\site-packages\\pdfminer\\pdftypes.py:207\u001b[0m, in \u001b[0;36mdict_value\u001b[1;34m(x)\u001b[0m\n\u001b[0;32m    206\u001b[0m \u001b[38;5;28;01mdef\u001b[39;00m \u001b[38;5;21mdict_value\u001b[39m(x: \u001b[38;5;28mobject\u001b[39m) \u001b[38;5;241m-\u001b[39m\u001b[38;5;241m>\u001b[39m Dict[Any, Any]:\n\u001b[1;32m--> 207\u001b[0m     x \u001b[38;5;241m=\u001b[39m \u001b[43mresolve1\u001b[49m\u001b[43m(\u001b[49m\u001b[43mx\u001b[49m\u001b[43m)\u001b[49m\n\u001b[0;32m    208\u001b[0m     \u001b[38;5;28;01mif\u001b[39;00m \u001b[38;5;129;01mnot\u001b[39;00m \u001b[38;5;28misinstance\u001b[39m(x, \u001b[38;5;28mdict\u001b[39m):\n\u001b[0;32m    209\u001b[0m         \u001b[38;5;28;01mif\u001b[39;00m settings\u001b[38;5;241m.\u001b[39mSTRICT:\n",
      "File \u001b[1;32mc:\\Users\\EDUARDO-MSI\\workspace\\mercadona-invoice-scrapper\\.venv\\lib\\site-packages\\pdfminer\\pdftypes.py:118\u001b[0m, in \u001b[0;36mresolve1\u001b[1;34m(x, default)\u001b[0m\n\u001b[0;32m    112\u001b[0m \u001b[38;5;250m\u001b[39m\u001b[38;5;124;03m\"\"\"Resolves an object.\u001b[39;00m\n\u001b[0;32m    113\u001b[0m \n\u001b[0;32m    114\u001b[0m \u001b[38;5;124;03mIf this is an array or dictionary, it may still contains\u001b[39;00m\n\u001b[0;32m    115\u001b[0m \u001b[38;5;124;03msome indirect objects inside.\u001b[39;00m\n\u001b[0;32m    116\u001b[0m \u001b[38;5;124;03m\"\"\"\u001b[39;00m\n\u001b[0;32m    117\u001b[0m \u001b[38;5;28;01mwhile\u001b[39;00m \u001b[38;5;28misinstance\u001b[39m(x, PDFObjRef):\n\u001b[1;32m--> 118\u001b[0m     x \u001b[38;5;241m=\u001b[39m \u001b[43mx\u001b[49m\u001b[38;5;241;43m.\u001b[39;49m\u001b[43mresolve\u001b[49m\u001b[43m(\u001b[49m\u001b[43mdefault\u001b[49m\u001b[38;5;241;43m=\u001b[39;49m\u001b[43mdefault\u001b[49m\u001b[43m)\u001b[49m\n\u001b[0;32m    119\u001b[0m \u001b[38;5;28;01mreturn\u001b[39;00m x\n",
      "File \u001b[1;32mc:\\Users\\EDUARDO-MSI\\workspace\\mercadona-invoice-scrapper\\.venv\\lib\\site-packages\\pdfminer\\pdftypes.py:106\u001b[0m, in \u001b[0;36mPDFObjRef.resolve\u001b[1;34m(self, default)\u001b[0m\n\u001b[0;32m    104\u001b[0m \u001b[38;5;28;01massert\u001b[39;00m \u001b[38;5;28mself\u001b[39m\u001b[38;5;241m.\u001b[39mdoc \u001b[38;5;129;01mis\u001b[39;00m \u001b[38;5;129;01mnot\u001b[39;00m \u001b[38;5;28;01mNone\u001b[39;00m\n\u001b[0;32m    105\u001b[0m \u001b[38;5;28;01mtry\u001b[39;00m:\n\u001b[1;32m--> 106\u001b[0m     \u001b[38;5;28;01mreturn\u001b[39;00m \u001b[38;5;28;43mself\u001b[39;49m\u001b[38;5;241;43m.\u001b[39;49m\u001b[43mdoc\u001b[49m\u001b[38;5;241;43m.\u001b[39;49m\u001b[43mgetobj\u001b[49m\u001b[43m(\u001b[49m\u001b[38;5;28;43mself\u001b[39;49m\u001b[38;5;241;43m.\u001b[39;49m\u001b[43mobjid\u001b[49m\u001b[43m)\u001b[49m\n\u001b[0;32m    107\u001b[0m \u001b[38;5;28;01mexcept\u001b[39;00m PDFObjectNotFound:\n\u001b[0;32m    108\u001b[0m     \u001b[38;5;28;01mreturn\u001b[39;00m default\n",
      "File \u001b[1;32mc:\\Users\\EDUARDO-MSI\\workspace\\mercadona-invoice-scrapper\\.venv\\lib\\site-packages\\pdfminer\\pdfdocument.py:858\u001b[0m, in \u001b[0;36mPDFDocument.getobj\u001b[1;34m(self, objid)\u001b[0m\n\u001b[0;32m    856\u001b[0m \u001b[38;5;28;01mfor\u001b[39;00m xref \u001b[38;5;129;01min\u001b[39;00m \u001b[38;5;28mself\u001b[39m\u001b[38;5;241m.\u001b[39mxrefs:\n\u001b[0;32m    857\u001b[0m     \u001b[38;5;28;01mtry\u001b[39;00m:\n\u001b[1;32m--> 858\u001b[0m         (strmid, index, genno) \u001b[38;5;241m=\u001b[39m \u001b[43mxref\u001b[49m\u001b[38;5;241;43m.\u001b[39;49m\u001b[43mget_pos\u001b[49m\u001b[43m(\u001b[49m\u001b[43mobjid\u001b[49m\u001b[43m)\u001b[49m\n\u001b[0;32m    859\u001b[0m     \u001b[38;5;28;01mexcept\u001b[39;00m \u001b[38;5;167;01mKeyError\u001b[39;00m:\n\u001b[0;32m    860\u001b[0m         \u001b[38;5;28;01mcontinue\u001b[39;00m\n",
      "File \u001b[1;32mc:\\Users\\EDUARDO-MSI\\workspace\\mercadona-invoice-scrapper\\.venv\\lib\\site-packages\\pdfminer\\pdfdocument.py:333\u001b[0m, in \u001b[0;36mPDFXRefStream.get_pos\u001b[1;34m(self, objid)\u001b[0m\n\u001b[0;32m    331\u001b[0m ent \u001b[38;5;241m=\u001b[39m \u001b[38;5;28mself\u001b[39m\u001b[38;5;241m.\u001b[39mdata[offset : offset \u001b[38;5;241m+\u001b[39m \u001b[38;5;28mself\u001b[39m\u001b[38;5;241m.\u001b[39mentlen]\n\u001b[0;32m    332\u001b[0m f1 \u001b[38;5;241m=\u001b[39m nunpack(ent[: \u001b[38;5;28mself\u001b[39m\u001b[38;5;241m.\u001b[39mfl1], \u001b[38;5;241m1\u001b[39m)\n\u001b[1;32m--> 333\u001b[0m f2 \u001b[38;5;241m=\u001b[39m \u001b[43mnunpack\u001b[49m\u001b[43m(\u001b[49m\u001b[43ment\u001b[49m\u001b[43m[\u001b[49m\u001b[38;5;28;43mself\u001b[39;49m\u001b[38;5;241;43m.\u001b[39;49m\u001b[43mfl1\u001b[49m\u001b[43m \u001b[49m\u001b[43m:\u001b[49m\u001b[43m \u001b[49m\u001b[38;5;28;43mself\u001b[39;49m\u001b[38;5;241;43m.\u001b[39;49m\u001b[43mfl1\u001b[49m\u001b[43m \u001b[49m\u001b[38;5;241;43m+\u001b[39;49m\u001b[43m \u001b[49m\u001b[38;5;28;43mself\u001b[39;49m\u001b[38;5;241;43m.\u001b[39;49m\u001b[43mfl2\u001b[49m\u001b[43m]\u001b[49m\u001b[43m)\u001b[49m\n\u001b[0;32m    334\u001b[0m f3 \u001b[38;5;241m=\u001b[39m nunpack(ent[\u001b[38;5;28mself\u001b[39m\u001b[38;5;241m.\u001b[39mfl1 \u001b[38;5;241m+\u001b[39m \u001b[38;5;28mself\u001b[39m\u001b[38;5;241m.\u001b[39mfl2 :])\n\u001b[0;32m    335\u001b[0m \u001b[38;5;28;01mif\u001b[39;00m f1 \u001b[38;5;241m==\u001b[39m \u001b[38;5;241m1\u001b[39m:\n",
      "File \u001b[1;32mc:\\Users\\EDUARDO-MSI\\workspace\\mercadona-invoice-scrapper\\.venv\\lib\\site-packages\\pdfminer\\utils.py:363\u001b[0m, in \u001b[0;36mnunpack\u001b[1;34m(s, default)\u001b[0m\n\u001b[0;32m    361\u001b[0m     \u001b[38;5;28;01mreturn\u001b[39;00m cast(\u001b[38;5;28mint\u001b[39m, struct\u001b[38;5;241m.\u001b[39munpack(\u001b[38;5;124m\"\u001b[39m\u001b[38;5;124m>Q\u001b[39m\u001b[38;5;124m\"\u001b[39m, s)[\u001b[38;5;241m0\u001b[39m])\n\u001b[0;32m    362\u001b[0m \u001b[38;5;28;01melse\u001b[39;00m:\n\u001b[1;32m--> 363\u001b[0m     \u001b[38;5;28;01mraise\u001b[39;00m \u001b[38;5;167;01mTypeError\u001b[39;00m(\u001b[38;5;124m\"\u001b[39m\u001b[38;5;124minvalid length: \u001b[39m\u001b[38;5;132;01m%d\u001b[39;00m\u001b[38;5;124m\"\u001b[39m \u001b[38;5;241m%\u001b[39m length)\n",
      "\u001b[1;31mTypeError\u001b[0m: invalid length: 5"
     ]
    }
   ],
   "source": [
    "from pdfminer.high_level import extract_text\n",
    "\n",
    "text = extract_text(\"C:/Users/EDUARDO-MSI/Downloads/Receipt-14912905.pdf\")"
   ]
  }
 ],
 "metadata": {
  "kernelspec": {
   "display_name": ".venv",
   "language": "python",
   "name": "python3"
  },
  "language_info": {
   "codemirror_mode": {
    "name": "ipython",
    "version": 3
   },
   "file_extension": ".py",
   "mimetype": "text/x-python",
   "name": "python",
   "nbconvert_exporter": "python",
   "pygments_lexer": "ipython3",
   "version": "3.10.4"
  }
 },
 "nbformat": 4,
 "nbformat_minor": 2
}

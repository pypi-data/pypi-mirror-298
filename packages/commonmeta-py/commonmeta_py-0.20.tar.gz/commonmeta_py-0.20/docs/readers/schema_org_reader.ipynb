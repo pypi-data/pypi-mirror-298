{
 "cells": [
  {
   "attachments": {},
   "cell_type": "raw",
   "metadata": {},
   "source": [
    "---\n",
    "title: SchemaOrg Reader\n",
    "description: |\n",
    "  This notebook shows how to read metadata from Schema.org, using a URL with embedded Schema.org JSON-LD.\n",
    "---"
   ]
  },
  {
   "cell_type": "markdown",
   "metadata": {},
   "source": [
    "## Fetch metadata"
   ]
  },
  {
   "cell_type": "code",
   "execution_count": 7,
   "metadata": {},
   "outputs": [
    {
     "name": "stdout",
     "output_type": "stream",
     "text": [
      "None\n"
     ]
    }
   ],
   "source": [
    "from commonmeta import Metadata\n",
    "\n",
    "# Fetch metadata from a URL pointing to a landing page for a scholary resource\n",
    "string = 'https://doi.pangaea.de/10.1594/PANGAEA.836178'\n",
    "metadata = Metadata(string)\n",
    "\n",
    "# Check that metadata was fetched successfully\n",
    "print(metadata.state)"
   ]
  },
  {
   "attachments": {},
   "cell_type": "markdown",
   "metadata": {},
   "source": [
    "## Inspect the metadata\n",
    "\n",
    "\n",
    "The metadata are optionally embedded in the HTML of the page, using the [JSON-LD](https://json-ld.org/) format. The metadata are embedded in a `<script>` tag with the `type` attribute set to `application/ld+json` They are converted into the internal commonmeta format.\n",
    "\n",
    "* `id`: the persistent identifier of the resource\n",
    "* `type`: the type of the resource in commmonmeta format, e.g `Dataset`, `Software` or `JournalArticle`\n",
    "* `titles`: the title(s) of the resource\n",
    "* `creators`: the creator(s)/author(s) of the resource\n",
    "* `publisher`: the publisher of the resource\n",
    "* `publication_year`: the publication year of the resource\n",
    "\n",
    "In addition, there are plenty of optional metadata. They are converted into the standardized commonmeta format used internally. This format is close to the metadata format used by DataCite."
   ]
  },
  {
   "cell_type": "code",
   "execution_count": 8,
   "metadata": {},
   "outputs": [
    {
     "name": "stdout",
     "output_type": "stream",
     "text": [
      "{\n",
      "    \"id\": \"https://doi.org/10.1594/pangaea.836178\",\n",
      "    \"type\": \"Dataset\",\n",
      "    \"url\": \"https://doi.pangaea.de/10.1594/PANGAEA.836178\",\n",
      "    \"contributors\": [\n",
      "        {\n",
      "            \"type\": \"Person\",\n",
      "            \"contributorRoles\": [\n",
      "                \"Author\"\n",
      "            ],\n",
      "            \"givenName\": \"Emma\",\n",
      "            \"familyName\": \"Johansson\"\n",
      "        },\n",
      "        {\n",
      "            \"type\": \"Person\",\n",
      "            \"contributorRoles\": [\n",
      "                \"Author\"\n",
      "            ],\n",
      "            \"givenName\": \"Sten\",\n",
      "            \"familyName\": \"Berglund\"\n",
      "        },\n",
      "        {\n",
      "            \"type\": \"Person\",\n",
      "            \"contributorRoles\": [\n",
      "                \"Author\"\n",
      "            ],\n",
      "            \"givenName\": \"Tobias\",\n",
      "            \"familyName\": \"Lindborg\"\n",
      "        },\n",
      "        {\n",
      "            \"type\": \"Person\",\n",
      "            \"contributorRoles\": [\n",
      "                \"Author\"\n",
      "            ],\n",
      "            \"givenName\": \"Johannes\",\n",
      "            \"familyName\": \"Petrone\"\n",
      "        },\n",
      "        {\n",
      "            \"type\": \"Person\",\n",
      "            \"contributorRoles\": [\n",
      "                \"Author\"\n",
      "            ],\n",
      "            \"givenName\": \"Dirk\",\n",
      "            \"familyName\": \"van As\"\n",
      "        },\n",
      "        {\n",
      "            \"type\": \"Person\",\n",
      "            \"contributorRoles\": [\n",
      "                \"Author\"\n",
      "            ],\n",
      "            \"givenName\": \"Lars-G\\u00f6ran\",\n",
      "            \"familyName\": \"Gustafsson\"\n",
      "        },\n",
      "        {\n",
      "            \"type\": \"Person\",\n",
      "            \"contributorRoles\": [\n",
      "                \"Author\"\n",
      "            ],\n",
      "            \"givenName\": \"Jens-Ove\",\n",
      "            \"familyName\": \"N\\u00e4slund\"\n",
      "        },\n",
      "        {\n",
      "            \"type\": \"Person\",\n",
      "            \"contributorRoles\": [\n",
      "                \"Author\"\n",
      "            ],\n",
      "            \"givenName\": \"Hjalmar\",\n",
      "            \"familyName\": \"Laudon\"\n",
      "        }\n",
      "    ],\n",
      "    \"titles\": [\n",
      "        {\n",
      "            \"title\": \"Hydrological and meteorological investigations in a lake near Kangerlussuaq, west Greenland\"\n",
      "        }\n",
      "    ],\n",
      "    \"publisher\": {\n",
      "        \"name\": \"PANGAEA\"\n",
      "    },\n",
      "    \"date\": {\n",
      "        \"published\": \"2014-09-25\"\n",
      "    },\n",
      "    \"container\": {\n",
      "        \"type\": \"DataRepository\",\n",
      "        \"title\": \"PANGAEA\",\n",
      "        \"identifier\": \"https://www.pangaea.de/\",\n",
      "        \"identifierType\": \"URL\"\n",
      "    },\n",
      "    \"language\": \"en\",\n",
      "    \"license\": {\n",
      "        \"id\": \"CC-BY-3.0\",\n",
      "        \"url\": \"https://creativecommons.org/licenses/by/3.0/legalcode\"\n",
      "    },\n",
      "    \"descriptions\": [\n",
      "        {\n",
      "            \"description\": \"Few hydrological studies have been made in Greenland, other than on glacial hydrology associated with the ice sheet. Understanding permafrost hydrology and hydroclimatic change and variability, however, provides key information for understanding climate change effects and feedbacks in the Arctic landscape. This paper presents a new extensive and detailed hydrological and meteorological open access dataset, with high temporal resolution from a 1.56 km**2 permafrost catchment with a lake underlain by a through talik close to the ice sheet in the Kangerlussuaq region, western Greenland. The paper describes the hydrological site investigations and utilized equipment, as well as the data collection and processing. The investigations were performed between 2010 and 2013. The high spatial resolution, within the investigated area, of the dataset makes it highly suitable for various detailed hydrological and ecological studies on catchment scale.\",\n",
      "            \"descriptionType\": \"Abstract\"\n",
      "        }\n",
      "    ],\n",
      "    \"geo_locations\": [\n",
      "        {\n",
      "            \"geoLocationPoint\": {\n",
      "                \"pointLongitude\": -50.18037,\n",
      "                \"pointLatitude\": 67.12594\n",
      "            }\n",
      "        }\n",
      "    ],\n",
      "    \"provider\": \"DataCite\"\n",
      "}\n"
     ]
    }
   ],
   "source": [
    "commonmeta = metadata.write()\n",
    "print(commonmeta)"
   ]
  },
  {
   "attachments": {},
   "cell_type": "markdown",
   "metadata": {},
   "source": [
    "## Enhance the metadata with HTML meta tags\n",
    "\n",
    "The metadata are enhanced with the following HTML meta tags: `citation_doi`, `citation_author`, `citation_title`, `citation_publisher`, `citation_publication_date`, `citation_keywords`, `citation_language`, `citation_issn`. These tags are recommended by [Google Scholar](https://scholar.google.com/intl/en/scholar/inclusion.html#indexing) and widely used by publishers and repositories. Below is an example with embedded HTML meta tags not using Schema.org:"
   ]
  },
  {
   "cell_type": "code",
   "execution_count": 9,
   "metadata": {},
   "outputs": [
    {
     "name": "stdout",
     "output_type": "stream",
     "text": [
      "{\n",
      "    \"id\": \"https://doi.org/10.17176/20221210-001644-0\",\n",
      "    \"type\": \"Article\",\n",
      "    \"url\": \"https://verfassungsblog.de/einburgerung-und-ausburgerung\",\n",
      "    \"contributors\": [\n",
      "        {\n",
      "            \"type\": \"Person\",\n",
      "            \"contributorRoles\": [\n",
      "                \"Author\"\n",
      "            ],\n",
      "            \"givenName\": \"Maria Martha\",\n",
      "            \"familyName\": \"Gerdes\"\n",
      "        }\n",
      "    ],\n",
      "    \"titles\": [\n",
      "        {\n",
      "            \"title\": \"Einb\\u00fcrgerung und Ausb\\u00fcrgerung: Warum die Staatsangeh\\u00f6rigkeitsrechtsreform nicht ohne Ausb\\u00fcrgerungsrechtsreform funktioniert\"\n",
      "        }\n",
      "    ],\n",
      "    \"publisher\": {\n",
      "        \"name\": \"Verfassungsblog\"\n",
      "    },\n",
      "    \"date\": {\n",
      "        \"published\": \"2022-12-09\"\n",
      "    },\n",
      "    \"container\": {\n",
      "        \"type\": \"Blog\",\n",
      "        \"title\": \"Verfassungsblog\"\n",
      "    },\n",
      "    \"subjects\": [\n",
      "        {\n",
      "            \"subject\": \"staatsangeh\\u00f6rigkeit\"\n",
      "        },\n",
      "        {\n",
      "            \"subject\": \"mehrstaatigkeit\"\n",
      "        },\n",
      "        {\n",
      "            \"subject\": \"einb\\u00fcrgerung\"\n",
      "        },\n",
      "        {\n",
      "            \"subject\": \"bundesinnenministerium\"\n",
      "        }\n",
      "    ],\n",
      "    \"language\": \"de-DE\",\n",
      "    \"descriptions\": [\n",
      "        {\n",
      "            \"description\": \"Die von der Bundesinnenministerin vorangetriebene Staatsangeh\\u00f6rigkeitsrechtsreform zur Erleichterung der Einb\\u00fcrgerung wirft altbekannte Fragen der Zuordnung von Personen zu Staaten und die damit verbundenen Zugeh\\u00f6rigkeitsvorstellungen zu einem Staatsvolk auf. Allerdings liegt auch bei dem aktuellen Reformvorhaben die Aufmerksamkeit nur auf dem Erwerb der Staatsangeh\\u00f6rigkeit. Dieser Fokus l\\u00e4sst die andere Seite der Medaille unber\\u00fccksichtigt: Um die M\\u00f6glichkeit von Mehrstaatigkeit konsequent f\\u00fcr das gesamte Staatsangeh\\u00f6rigkeitsrecht umzusetzen, muss die Diskussion zus\\u00e4tzlich f\\u00fcr das Ausb\\u00fcrgerungsrecht gef\\u00fchrt werden.\",\n",
      "            \"descriptionType\": \"Abstract\"\n",
      "        }\n",
      "    ],\n",
      "    \"provider\": \"DataCite\"\n",
      "}\n"
     ]
    }
   ],
   "source": [
    "url = 'https://verfassungsblog.de/einburgerung-und-ausburgerung'\n",
    "metadata = Metadata(url)\n",
    "commonmeta = metadata.write()\n",
    "print(commonmeta)"
   ]
  }
 ],
 "metadata": {
  "kernelspec": {
   "display_name": "Python 3",
   "language": "python",
   "name": "python3"
  },
  "language_info": {
   "codemirror_mode": {
    "name": "ipython",
    "version": 3
   },
   "file_extension": ".py",
   "mimetype": "text/x-python",
   "name": "python",
   "nbconvert_exporter": "python",
   "pygments_lexer": "ipython3",
   "version": "3.9.1"
  },
  "orig_nbformat": 4,
  "vscode": {
   "interpreter": {
    "hash": "a665b5d41d17b532ea9890333293a1b812fa0b73c9c25c950b3cedf1bebd0438"
   }
  }
 },
 "nbformat": 4,
 "nbformat_minor": 2
}

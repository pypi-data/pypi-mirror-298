{
 "cells": [
  {
   "cell_type": "code",
   "execution_count": null,
   "metadata": {},
   "outputs": [],
   "source": [
    "propno = 7076\n",
    "runno = 56\n",
    "train_slice = slice(0, 100)\n",
    "\n",
    "detector_id = \"SPB_DET_AGIPD1M-1\"\n",
    "\n",
    "result_dir = f\"proc/p{propno:06d}/r{runno:04d}\"\n",
    "\n",
    "litpx_counter_id = f\"{detector_id}/REDU/LITPX_COUNTER\"\n",
    "spi_hitfinder_id = f\"{detector_id}/REDU/SPI_HITFINDER\"\n",
    "\n",
    "adu_threshold = 0.7\n",
    "\n",
    "modules=[3, 4, 8, 15]\n",
    "mode=\"adaptive\"\n",
    "snr=4.0\n",
    "min_scores=100\n",
    "fixed_threshold=0\n",
    "hitrate_window_size=200\n",
    "miss_fraction=1\n",
    "miss_fraction_base=\"hit\"\n",
    "\n",
    "num_proc = 0"
   ]
  },
  {
   "cell_type": "code",
   "execution_count": null,
   "metadata": {},
   "outputs": [],
   "source": [
    "import os\n",
    "\n",
    "import numpy as np\n",
    "import matplotlib.pyplot as plt\n",
    "import multiprocessing as mp\n",
    "import psutil\n",
    "\n",
    "from extra_data import RunDirectory, open_run\n",
    "\n",
    "from extra_redu.spi import LitPixelCounter, SpiHitfinder\n",
    "from extra_redu.fileutils import StackedPulseSource, exdf_save\n",
    "\n",
    "from IPython.display import Latex, Markdown"
   ]
  },
  {
   "cell_type": "code",
   "execution_count": null,
   "metadata": {},
   "outputs": [],
   "source": [
    "display(Markdown(\"# SPI Hit Finding\"))"
   ]
  },
  {
   "cell_type": "code",
   "execution_count": null,
   "metadata": {},
   "outputs": [],
   "source": [
    "try:\n",
    "    run = RunDirectory(result_dir)\n",
    "    hitfinder = SpiHitfinder.from_collection(run, spi_hitfinder_id)\n",
    "    do_hitfinding = False\n",
    "    display(Markdown(\"- [x] read results from files\\n\"\n",
    "                     \"- [ ] analyse images\"))\n",
    "except (FileNotFoundError, KeyError):\n",
    "    do_hitfinding = True\n",
    "    display(Markdown(\"- [ ] read results from files\\n\"\n",
    "                     \"- [x] analyse images\"))"
   ]
  },
  {
   "cell_type": "code",
   "execution_count": null,
   "metadata": {},
   "outputs": [],
   "source": [
    "analysis_steps = []\n",
    "if do_hitfinding:\n",
    "    # 1. open run with corrected images\n",
    "    dc = open_run(propno, runno, data=\"proc\")\n",
    "    dc = dc.select_trains(train_slice)\n",
    "\n",
    "    src = StackedPulseSource.from_datacollection(\n",
    "        dc, detector_id + r\"/DET/(?P<key>\\d+)CH0:xtdf\", \"image\")"
   ]
  },
  {
   "cell_type": "code",
   "execution_count": null,
   "metadata": {
    "tags": []
   },
   "outputs": [],
   "source": [
    "if do_hitfinding:\n",
    "    # 2. run lit-pixel counter\n",
    "    litpx_counter = LitPixelCounter(src, threshold=adu_threshold)\n",
    "\n",
    "    if not num_proc:\n",
    "        num_proc = min(psutil.cpu_count(logical=False), 32)\n",
    "\n",
    "    with mp.Pool(num_proc) as pool:\n",
    "        chunks = src.split_trains(trains_per_part=1)\n",
    "        results = pool.imap_unordered(litpx_counter, chunks)\n",
    "        for _ in results:\n",
    "            pass"
   ]
  },
  {
   "cell_type": "code",
   "execution_count": null,
   "metadata": {},
   "outputs": [],
   "source": [
    "if do_hitfinding:\n",
    "    # 3. run hit finding\n",
    "    hitfinder = SpiHitfinder(\n",
    "        modules=modules,\n",
    "        mode=mode,\n",
    "        snr=snr,\n",
    "        min_scores=min_scores,\n",
    "        fixed_threshold=fixed_threshold,\n",
    "        hitrate_window_size=hitrate_window_size,\n",
    "        miss_fraction=miss_fraction,\n",
    "        miss_fraction_base=miss_fraction_base,\n",
    "    )\n",
    "    hitfinder.find_hits(litpx_counter)"
   ]
  },
  {
   "cell_type": "code",
   "execution_count": null,
   "metadata": {},
   "outputs": [],
   "source": [
    "if do_hitfinding:\n",
    "    # write results in file\n",
    "    os.makedirs(result_dir, exist_ok=True)\n",
    "    sources = {\n",
    "        litpx_counter_id: litpx_counter,\n",
    "        spi_hitfinder_id: hitfinder,\n",
    "    }\n",
    "    exdf_save(result_dir, \"REDU00\", runno, sources, sequence_size=3500)"
   ]
  },
  {
   "cell_type": "code",
   "execution_count": null,
   "metadata": {},
   "outputs": [],
   "source": [
    "display(Markdown(\"## Hitrate\"))\n",
    "hitfinder.plot_hitrate()\n",
    "plt.show()"
   ]
  },
  {
   "cell_type": "code",
   "execution_count": null,
   "metadata": {},
   "outputs": [],
   "source": [
    "display(Markdown(\"## Hitscores histogram\"))\n",
    "hitfinder.plot_hitscore_hist()\n",
    "plt.show()"
   ]
  },
  {
   "cell_type": "code",
   "execution_count": null,
   "metadata": {},
   "outputs": [],
   "source": [
    "display(Markdown(\"## Hitscores over trains\"))\n",
    "hitfinder.plot_hitscore()\n",
    "plt.show()"
   ]
  }
 ],
 "metadata": {
  "kernelspec": {
   "display_name": "",
   "name": ""
  },
  "language_info": {
   "codemirror_mode": {
    "name": "ipython",
    "version": 3
   },
   "file_extension": ".py",
   "mimetype": "text/x-python",
   "name": "python",
   "nbconvert_exporter": "python",
   "pygments_lexer": "ipython3",
   "version": "3.9.16"
  }
 },
 "nbformat": 4,
 "nbformat_minor": 4
}

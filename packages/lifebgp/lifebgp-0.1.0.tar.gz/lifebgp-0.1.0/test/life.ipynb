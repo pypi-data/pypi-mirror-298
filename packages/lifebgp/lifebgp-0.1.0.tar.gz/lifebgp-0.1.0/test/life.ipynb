{
 "cells": [
  {
   "cell_type": "code",
   "execution_count": 1,
   "id": "e337b9ad-35b0-42e0-a610-cb2c7fa5657c",
   "metadata": {},
   "outputs": [],
   "source": [
    "import os\n",
    "import sys\n",
    "\n",
    "test_dir = os.path.dirname(\"life.ipynb\")\n",
    "life_dir = os.path.join( test_dir, \"..\", \"src\" )\n",
    "sys.path.append(life_dir)\n",
    "\n",
    "from life import Life\n"
   ]
  },
  {
   "cell_type": "code",
   "execution_count": 9,
   "id": "9799e896-afed-467c-8954-876e49b02062",
   "metadata": {},
   "outputs": [],
   "source": [
    "# filename = '../data/life.txt'\n",
    "filename = '../data/1000x1000_0.1.txt'\n",
    "# filename = '../data/10000x10000_0.1.txt'\n"
   ]
  },
  {
   "cell_type": "code",
   "execution_count": 3,
   "id": "b53f4924-cef0-4563-a0cf-ae2496da27b7",
   "metadata": {},
   "outputs": [
    {
     "name": "stdout",
     "output_type": "stream",
     "text": [
      "CPU times: total: 0 ns\n",
      "Wall time: 2 ms\n"
     ]
    }
   ],
   "source": [
    "%%time\n",
    "life = Life(filename)"
   ]
  },
  {
   "cell_type": "code",
   "execution_count": 4,
   "id": "1b0c66d2-ad03-47e3-8c3d-4d324b59e587",
   "metadata": {},
   "outputs": [
    {
     "data": {
      "text/plain": [
       "[bitarray('00000'),\n",
       " bitarray('00100'),\n",
       " bitarray('00010'),\n",
       " bitarray('01110'),\n",
       " bitarray('00000')]"
      ]
     },
     "execution_count": 4,
     "metadata": {},
     "output_type": "execute_result"
    }
   ],
   "source": [
    "life.grid"
   ]
  },
  {
   "cell_type": "code",
   "execution_count": 5,
   "id": "f0230f80-9faa-4ba1-9e67-65f58387e7b9",
   "metadata": {},
   "outputs": [
    {
     "name": "stdout",
     "output_type": "stream",
     "text": [
      "CPU times: total: 0 ns\n",
      "Wall time: 0 ns\n"
     ]
    }
   ],
   "source": [
    "%%time\n",
    "life.tick_grid(1)"
   ]
  },
  {
   "cell_type": "code",
   "execution_count": 6,
   "id": "40eec565-9674-425d-a75d-fb6416846688",
   "metadata": {},
   "outputs": [
    {
     "data": {
      "text/plain": [
       "[bitarray('00000'),\n",
       " bitarray('00000'),\n",
       " bitarray('01010'),\n",
       " bitarray('00110'),\n",
       " bitarray('00100')]"
      ]
     },
     "execution_count": 6,
     "metadata": {},
     "output_type": "execute_result"
    }
   ],
   "source": [
    "life.grid"
   ]
  },
  {
   "cell_type": "code",
   "execution_count": 6,
   "id": "126e93bb-93d0-41b2-b5b8-77cbd64d55f8",
   "metadata": {},
   "outputs": [],
   "source": [
    "life.write_grid()"
   ]
  },
  {
   "cell_type": "markdown",
   "id": "e5e890b0-b8ea-4ca9-99ab-0f002092a986",
   "metadata": {},
   "source": [
    "### Profile"
   ]
  },
  {
   "cell_type": "code",
   "execution_count": 10,
   "id": "8ec01c97-bb3b-4c22-a1f0-aa5a7af1871f",
   "metadata": {},
   "outputs": [
    {
     "name": "stdout",
     "output_type": "stream",
     "text": [
      "The line_profiler extension is already loaded. To reload it, use:\n",
      "  %reload_ext line_profiler\n"
     ]
    },
    {
     "data": {
      "text/plain": [
       "Timer unit: 1e-07 s\n",
       "\n",
       "Total time: 2.09587 s\n",
       "File: C:\\Users\\cheng\\BGP\\test\\..\\src\\life.py\n",
       "Function: tick_grid at line 41\n",
       "\n",
       "Line #      Hits         Time  Per Hit   % Time  Line Contents\n",
       "==============================================================\n",
       "    41                                               def tick_grid(self,n:int=1):\n",
       "    42                                                   \"\"\"Applies the rules of Game of Life for specified number of generations.\n",
       "    43                                               \n",
       "    44                                                   Args:\n",
       "    45                                                   n: Number of generations      \n",
       "    46                                                   \"\"\"\n",
       "    47         2         51.0     25.5      0.0          for i in range(n):\n",
       "    48      1001       7798.0      7.8      0.0              for y,row in enumerate(self.extgrid[1:-1]):\n",
       "    49      1000       4253.0      4.3      0.0                  y1,y2 = y+1,y+2   \n",
       "    50      1000      25721.0     25.7      0.1                  curr = bitarray (self.w+2)\n",
       "    51   1001000    4922279.0      4.9     23.5                  for x,cell in enumerate(row[1:-1]):\n",
       "    52   1000000    9536836.0      9.5     45.5                      count = self.extgrid[y][x] + self.extgrid[y][x+1] + self.extgrid[y][x+2] + self.extgrid[y1][x] + self.extgrid[y1][x+2]  + self.extgrid[y2][x] + self.extgrid[y2][x+1] + self.extgrid[y2][x+2]\n",
       "    53   1000000    6436862.0      6.4     30.7                      curr[x+1] = 1 if count == 3 or (cell and count ==2) else 0\n",
       "    54                                                   \n",
       "    55      1000       5045.0      5.0      0.0                  if y > 0:\n",
       "    56       999       4633.0      4.6      0.0                      self.extgrid [y] = prev\n",
       "    57      1000       4457.0      4.5      0.0                  prev = curr\n",
       "    58         1          7.0      7.0      0.0              self.extgrid [y+1] = curr\n",
       "    59                                           \n",
       "    60      1001      10735.0     10.7      0.1          self.grid = [row[1:-1] for row in self.extgrid[1:-1]]"
      ]
     },
     "metadata": {},
     "output_type": "display_data"
    }
   ],
   "source": [
    "%load_ext line_profiler\n",
    "%lprun -f Life.tick_grid Life.tick_grid(Life(filename))"
   ]
  },
  {
   "cell_type": "code",
   "execution_count": 11,
   "id": "00fbef31-3f84-4048-8201-4ebf885d228f",
   "metadata": {},
   "outputs": [
    {
     "name": "stdout",
     "output_type": "stream",
     "text": [
      "The memory_profiler extension is already loaded. To reload it, use:\n",
      "  %reload_ext memory_profiler\n",
      "\n"
     ]
    },
    {
     "data": {
      "text/plain": [
       "Filename: C:\\Users\\cheng\\BGP\\test\\..\\src\\life.py\n",
       "\n",
       "Line #    Mem usage    Increment  Occurrences   Line Contents\n",
       "=============================================================\n",
       "    41     74.1 MiB     74.1 MiB           1       def tick_grid(self,n:int=1):\n",
       "    42                                                 \"\"\"Applies the rules of Game of Life for specified number of generations.\n",
       "    43                                             \n",
       "    44                                                 Args:\n",
       "    45                                                 n: Number of generations      \n",
       "    46                                                 \"\"\"\n",
       "    47     74.1 MiB      0.0 MiB           2           for i in range(n):\n",
       "    48     74.1 MiB    -74.0 MiB        1001               for y,row in enumerate(self.extgrid[1:-1]):\n",
       "    49     74.1 MiB    -73.9 MiB        1000                   y1,y2 = y+1,y+2   \n",
       "    50     74.1 MiB    -73.9 MiB        1000                   curr = bitarray (self.w+2)\n",
       "    51     74.1 MiB -73983.6 MiB     1001000                   for x,cell in enumerate(row[1:-1]):\n",
       "    52     74.1 MiB -73909.7 MiB     1000000                       count = self.extgrid[y][x] + self.extgrid[y][x+1] + self.extgrid[y][x+2] + self.extgrid[y1][x] + self.extgrid[y1][x+2]  + self.extgrid[y2][x] + self.extgrid[y2][x+1] + self.extgrid[y2][x+2]\n",
       "    53     74.1 MiB -73909.7 MiB     1000000                       curr[x+1] = 1 if count == 3 or (cell and count ==2) else 0\n",
       "    54                                                 \n",
       "    55     74.1 MiB    -74.0 MiB        1000                   if y > 0:\n",
       "    56     74.1 MiB    -74.0 MiB         999                       self.extgrid [y] = prev\n",
       "    57     74.1 MiB    -74.0 MiB        1000                   prev = curr\n",
       "    58     74.0 MiB     -0.1 MiB           1               self.extgrid [y+1] = curr\n",
       "    59                                         \n",
       "    60     74.0 MiB     -0.1 MiB        1001           self.grid = [row[1:-1] for row in self.extgrid[1:-1]]"
      ]
     },
     "metadata": {},
     "output_type": "display_data"
    }
   ],
   "source": [
    "%load_ext memory_profiler\n",
    "%mprun -f Life.tick_grid Life.tick_grid(Life(filename))"
   ]
  },
  {
   "cell_type": "code",
   "execution_count": null,
   "id": "64956d9d-2372-4c12-b71d-5d9f9f35bc08",
   "metadata": {},
   "outputs": [],
   "source": []
  }
 ],
 "metadata": {
  "kernelspec": {
   "display_name": "Python 3 (ipykernel)",
   "language": "python",
   "name": "python3"
  },
  "language_info": {
   "codemirror_mode": {
    "name": "ipython",
    "version": 3
   },
   "file_extension": ".py",
   "mimetype": "text/x-python",
   "name": "python",
   "nbconvert_exporter": "python",
   "pygments_lexer": "ipython3",
   "version": "3.12.5"
  }
 },
 "nbformat": 4,
 "nbformat_minor": 5
}

{
 "cells": [
  {
   "cell_type": "code",
   "execution_count": null,
   "metadata": {},
   "outputs": [],
   "source": [
    "#\n",
    "# Modified from Original Source:  https://www.geeksforgeeks.org/longest-common-substring-dp-29/\n",
    "# - now returns the indices for each of the strings\n",
    "#\n",
    "def longestCommonSubstr(s1, s2):\n",
    "    m = len(s1)\n",
    "    n = len(s2)\n",
    "    i_cap, j_cap = None, None\n",
    "\n",
    "    # Create a 1D array to store the previous row's results\n",
    "    prev = [0] * (n + 1)\n",
    "    \n",
    "    res = 0\n",
    "    for i in range(1, m + 1):\n",
    "      \n",
    "        # Create a temporary array to store the current row\n",
    "        curr = [0] * (n + 1)\n",
    "        for j in range(1, n + 1):\n",
    "            if s1[i - 1] == s2[j - 1]:\n",
    "                curr[j] = prev[j - 1] + 1\n",
    "                res_before = res\n",
    "                res = max(res, curr[j])\n",
    "                if res_before != res:\n",
    "                    i_cap, j_cap = i, j\n",
    "            else:\n",
    "                curr[j] = 0\n",
    "        \n",
    "        # Move the current row's data to the previous row\n",
    "        prev = curr\n",
    "    \n",
    "    return res, i_cap - res, j_cap - res\n",
    "\n",
    "# Driver Code\n",
    "s1 = \"geeksforgeeks\"\n",
    "s2 = \"ggeegeeksquizpracticegeeoksforasdasfgeeksasdfasdfeeksforasdfasdf\"\n",
    "_len_, _i_, _j_ = longestCommonSubstr(s1, s2)\n",
    "print(f'{_len_} : {_i_} \"{s1[_i_:_i_+_len_]}\" : {_j_} \"{s2[_j_:_j_+_len_]}\"')"
   ]
  },
  {
   "cell_type": "code",
   "execution_count": null,
   "metadata": {},
   "outputs": [],
   "source": []
  }
 ],
 "metadata": {
  "kernelspec": {
   "display_name": ".venv",
   "language": "python",
   "name": "python3"
  },
  "language_info": {
   "codemirror_mode": {
    "name": "ipython",
    "version": 3
   },
   "file_extension": ".py",
   "mimetype": "text/x-python",
   "name": "python",
   "nbconvert_exporter": "python",
   "pygments_lexer": "ipython3",
   "version": "3.12.3"
  }
 },
 "nbformat": 4,
 "nbformat_minor": 2
}

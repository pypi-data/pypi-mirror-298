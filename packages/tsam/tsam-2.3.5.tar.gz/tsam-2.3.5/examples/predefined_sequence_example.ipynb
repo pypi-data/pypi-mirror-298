{
 "cells": [
  {
   "cell_type": "markdown",
   "metadata": {},
   "source": [
    "# tsam - 2. Example\n",
    "Example usage of the time series aggregation module (tsam)\n",
    "Date: 29.06.2019\n",
    "\n",
    "Author: Maximilian Hoffmann"
   ]
  },
  {
   "cell_type": "markdown",
   "metadata": {},
   "source": [
    "Import pandas and the relevant time series aggregation class"
   ]
  },
  {
   "cell_type": "code",
   "execution_count": 1,
   "metadata": {},
   "outputs": [],
   "source": [
    "%load_ext autoreload\n",
    "%autoreload 2\n",
    "import copy\n",
    "import os\n",
    "import pandas as pd\n",
    "import matplotlib.pyplot as plt\n",
    "import tsam.timeseriesaggregation as tsam\n",
    "%matplotlib inline"
   ]
  },
  {
   "cell_type": "markdown",
   "metadata": {},
   "source": [
    "### Input data "
   ]
  },
  {
   "cell_type": "markdown",
   "metadata": {},
   "source": [
    "Read in time series from testdata.csv with pandas"
   ]
  },
  {
   "cell_type": "code",
   "execution_count": 2,
   "metadata": {},
   "outputs": [],
   "source": [
    "raw = pd.read_csv('testdata.csv', index_col = 0)"
   ]
  },
  {
   "cell_type": "markdown",
   "metadata": {},
   "source": [
    "Show a slice of the dataset"
   ]
  },
  {
   "cell_type": "code",
   "execution_count": 3,
   "metadata": {},
   "outputs": [
    {
     "data": {
      "text/html": [
       "<div>\n",
       "<style scoped>\n",
       "    .dataframe tbody tr th:only-of-type {\n",
       "        vertical-align: middle;\n",
       "    }\n",
       "\n",
       "    .dataframe tbody tr th {\n",
       "        vertical-align: top;\n",
       "    }\n",
       "\n",
       "    .dataframe thead th {\n",
       "        text-align: right;\n",
       "    }\n",
       "</style>\n",
       "<table border=\"1\" class=\"dataframe\">\n",
       "  <thead>\n",
       "    <tr style=\"text-align: right;\">\n",
       "      <th></th>\n",
       "      <th>GHI</th>\n",
       "      <th>T</th>\n",
       "      <th>Wind</th>\n",
       "      <th>Load</th>\n",
       "    </tr>\n",
       "  </thead>\n",
       "  <tbody>\n",
       "    <tr>\n",
       "      <th>2009-12-31 23:30:00</th>\n",
       "      <td>0</td>\n",
       "      <td>-2.1</td>\n",
       "      <td>7.1</td>\n",
       "      <td>375.478394</td>\n",
       "    </tr>\n",
       "    <tr>\n",
       "      <th>2010-01-01 00:30:00</th>\n",
       "      <td>0</td>\n",
       "      <td>-2.8</td>\n",
       "      <td>8.6</td>\n",
       "      <td>364.541326</td>\n",
       "    </tr>\n",
       "    <tr>\n",
       "      <th>2010-01-01 01:30:00</th>\n",
       "      <td>0</td>\n",
       "      <td>-3.3</td>\n",
       "      <td>9.7</td>\n",
       "      <td>357.416844</td>\n",
       "    </tr>\n",
       "    <tr>\n",
       "      <th>2010-01-01 02:30:00</th>\n",
       "      <td>0</td>\n",
       "      <td>-3.2</td>\n",
       "      <td>9.8</td>\n",
       "      <td>350.191306</td>\n",
       "    </tr>\n",
       "    <tr>\n",
       "      <th>2010-01-01 03:30:00</th>\n",
       "      <td>0</td>\n",
       "      <td>-3.2</td>\n",
       "      <td>9.4</td>\n",
       "      <td>345.161449</td>\n",
       "    </tr>\n",
       "  </tbody>\n",
       "</table>\n",
       "</div>"
      ],
      "text/plain": [
       "                     GHI    T  Wind        Load\n",
       "2009-12-31 23:30:00    0 -2.1   7.1  375.478394\n",
       "2010-01-01 00:30:00    0 -2.8   8.6  364.541326\n",
       "2010-01-01 01:30:00    0 -3.3   9.7  357.416844\n",
       "2010-01-01 02:30:00    0 -3.2   9.8  350.191306\n",
       "2010-01-01 03:30:00    0 -3.2   9.4  345.161449"
      ]
     },
     "execution_count": 3,
     "metadata": {},
     "output_type": "execute_result"
    }
   ],
   "source": [
    "raw.head()"
   ]
  },
  {
   "cell_type": "markdown",
   "metadata": {},
   "source": [
    "Show the shape of the raw input data: 4 types of timeseries (GHI, Temperature, Wind and Load) for every hour in a year"
   ]
  },
  {
   "cell_type": "code",
   "execution_count": 4,
   "metadata": {},
   "outputs": [
    {
     "data": {
      "text/plain": [
       "(8760, 4)"
      ]
     },
     "execution_count": 4,
     "metadata": {},
     "output_type": "execute_result"
    }
   ],
   "source": [
    "raw.shape"
   ]
  },
  {
   "cell_type": "markdown",
   "metadata": {},
   "source": [
    "Create a plot function for the temperature for a visual comparison of the time series"
   ]
  },
  {
   "cell_type": "code",
   "execution_count": 5,
   "metadata": {},
   "outputs": [],
   "source": [
    "def plotTS(data, periodlength, vmin, vmax):\n",
    "    fig, axes = plt.subplots(figsize = [6, 2], dpi = 100, nrows = 1, ncols = 1)\n",
    "    stacked, timeindex = tsam.unstackToPeriods(copy.deepcopy(data), periodlength)\n",
    "    cax = axes.imshow(stacked.values.T, interpolation = 'nearest', vmin = vmin, vmax = vmax)\n",
    "    axes.set_aspect('auto')  \n",
    "    axes.set_ylabel('Hour')\n",
    "    plt.xlabel('Day')\n",
    "\n",
    "    fig.subplots_adjust(right = 1.2)\n",
    "    cbar=plt.colorbar(cax)    \n",
    "    cbar.set_label('Wind [m/s]')"
   ]
  },
  {
   "cell_type": "markdown",
   "metadata": {},
   "source": [
    "Plot an example series - in this case the wind speed"
   ]
  },
  {
   "cell_type": "code",
   "execution_count": 6,
   "metadata": {},
   "outputs": [
    {
     "data": {
      "image/png": "[encoded data removed]",
      "text/plain": [
       "<Figure size 600x200 with 2 Axes>"
      ]
     },
     "metadata": {
      "needs_background": "light"
     },
     "output_type": "display_data"
    }
   ],
   "source": [
    "plotTS(raw['Wind'], 24, vmin = raw['Wind'].min(), vmax = raw['Wind'].max())"
   ]
  },
  {
   "cell_type": "markdown",
   "metadata": {},
   "source": [
    "### Hierarchical aggregation"
   ]
  },
  {
   "cell_type": "markdown",
   "metadata": {},
   "source": [
    "Initialize an aggregation class object with hierarchical clustering as method for eight typical days, without any integration of extreme periods. Alternative clusterMethod's are 'averaging','hierarchical' and 'k_medoids'."
   ]
  },
  {
   "cell_type": "code",
   "execution_count": 7,
   "metadata": {},
   "outputs": [],
   "source": [
    "aggregation = tsam.TimeSeriesAggregation(raw, noTypicalPeriods = 8, hoursPerPeriod = 24, \n",
    "                                        clusterMethod = 'hierarchical', representationMethod='meanRepresentation')"
   ]
  },
  {
   "cell_type": "markdown",
   "metadata": {},
   "source": [
    "Create the typical periods"
   ]
  },
  {
   "cell_type": "code",
   "execution_count": 8,
   "metadata": {},
   "outputs": [],
   "source": [
    "typPeriods = aggregation.createTypicalPeriods()"
   ]
  },
  {
   "cell_type": "code",
   "execution_count": 9,
   "metadata": {},
   "outputs": [
    {
     "data": {
      "text/html": [
       "<div>\n",
       "<style scoped>\n",
       "    .dataframe tbody tr th:only-of-type {\n",
       "        vertical-align: middle;\n",
       "    }\n",
       "\n",
       "    .dataframe tbody tr th {\n",
       "        vertical-align: top;\n",
       "    }\n",
       "\n",
       "    .dataframe thead th {\n",
       "        text-align: right;\n",
       "    }\n",
       "</style>\n",
       "<table border=\"1\" class=\"dataframe\">\n",
       "  <thead>\n",
       "    <tr style=\"text-align: right;\">\n",
       "      <th></th>\n",
       "      <th></th>\n",
       "      <th>GHI</th>\n",
       "      <th>Load</th>\n",
       "      <th>T</th>\n",
       "      <th>Wind</th>\n",
       "    </tr>\n",
       "    <tr>\n",
       "      <th></th>\n",
       "      <th>TimeStep</th>\n",
       "      <th></th>\n",
       "      <th></th>\n",
       "      <th></th>\n",
       "      <th></th>\n",
       "    </tr>\n",
       "  </thead>\n",
       "  <tbody>\n",
       "    <tr>\n",
       "      <th rowspan=\"5\" valign=\"top\">0</th>\n",
       "      <th>0</th>\n",
       "      <td>0.0</td>\n",
       "      <td>401.162755</td>\n",
       "      <td>-0.541667</td>\n",
       "      <td>2.837500</td>\n",
       "    </tr>\n",
       "    <tr>\n",
       "      <th>1</th>\n",
       "      <td>0.0</td>\n",
       "      <td>390.314344</td>\n",
       "      <td>-0.875000</td>\n",
       "      <td>2.816667</td>\n",
       "    </tr>\n",
       "    <tr>\n",
       "      <th>2</th>\n",
       "      <td>0.0</td>\n",
       "      <td>385.746997</td>\n",
       "      <td>-1.172917</td>\n",
       "      <td>2.668750</td>\n",
       "    </tr>\n",
       "    <tr>\n",
       "      <th>3</th>\n",
       "      <td>0.0</td>\n",
       "      <td>385.847417</td>\n",
       "      <td>-1.360417</td>\n",
       "      <td>2.616667</td>\n",
       "    </tr>\n",
       "    <tr>\n",
       "      <th>4</th>\n",
       "      <td>0.0</td>\n",
       "      <td>388.700611</td>\n",
       "      <td>-1.506250</td>\n",
       "      <td>2.556250</td>\n",
       "    </tr>\n",
       "    <tr>\n",
       "      <th>...</th>\n",
       "      <th>...</th>\n",
       "      <td>...</td>\n",
       "      <td>...</td>\n",
       "      <td>...</td>\n",
       "      <td>...</td>\n",
       "    </tr>\n",
       "    <tr>\n",
       "      <th rowspan=\"5\" valign=\"top\">7</th>\n",
       "      <th>19</th>\n",
       "      <td>0.0</td>\n",
       "      <td>536.348654</td>\n",
       "      <td>3.112821</td>\n",
       "      <td>1.971795</td>\n",
       "    </tr>\n",
       "    <tr>\n",
       "      <th>20</th>\n",
       "      <td>0.0</td>\n",
       "      <td>511.367680</td>\n",
       "      <td>2.992308</td>\n",
       "      <td>2.041026</td>\n",
       "    </tr>\n",
       "    <tr>\n",
       "      <th>21</th>\n",
       "      <td>0.0</td>\n",
       "      <td>491.284883</td>\n",
       "      <td>2.851282</td>\n",
       "      <td>1.897436</td>\n",
       "    </tr>\n",
       "    <tr>\n",
       "      <th>22</th>\n",
       "      <td>0.0</td>\n",
       "      <td>468.986028</td>\n",
       "      <td>2.717949</td>\n",
       "      <td>2.058974</td>\n",
       "    </tr>\n",
       "    <tr>\n",
       "      <th>23</th>\n",
       "      <td>0.0</td>\n",
       "      <td>438.652594</td>\n",
       "      <td>2.638462</td>\n",
       "      <td>2.261538</td>\n",
       "    </tr>\n",
       "  </tbody>\n",
       "</table>\n",
       "<p>192 rows × 4 columns</p>\n",
       "</div>"
      ],
      "text/plain": [
       "            GHI        Load         T      Wind\n",
       "  TimeStep                                     \n",
       "0 0         0.0  401.162755 -0.541667  2.837500\n",
       "  1         0.0  390.314344 -0.875000  2.816667\n",
       "  2         0.0  385.746997 -1.172917  2.668750\n",
       "  3         0.0  385.847417 -1.360417  2.616667\n",
       "  4         0.0  388.700611 -1.506250  2.556250\n",
       "...         ...         ...       ...       ...\n",
       "7 19        0.0  536.348654  3.112821  1.971795\n",
       "  20        0.0  511.367680  2.992308  2.041026\n",
       "  21        0.0  491.284883  2.851282  1.897436\n",
       "  22        0.0  468.986028  2.717949  2.058974\n",
       "  23        0.0  438.652594  2.638462  2.261538\n",
       "\n",
       "[192 rows x 4 columns]"
      ]
     },
     "execution_count": 9,
     "metadata": {},
     "output_type": "execute_result"
    }
   ],
   "source": [
    "typPeriods"
   ]
  },
  {
   "cell_type": "markdown",
   "metadata": {},
   "source": [
    "Show shape of typical periods: 4 types of timeseries for 8*24 hours"
   ]
  },
  {
   "cell_type": "code",
   "execution_count": 10,
   "metadata": {},
   "outputs": [
    {
     "data": {
      "text/plain": [
       "(192, 4)"
      ]
     },
     "execution_count": 10,
     "metadata": {},
     "output_type": "execute_result"
    }
   ],
   "source": [
    "typPeriods.shape"
   ]
  },
  {
   "cell_type": "markdown",
   "metadata": {},
   "source": [
    "Repredict the original time series based on the typical periods"
   ]
  },
  {
   "cell_type": "code",
   "execution_count": 11,
   "metadata": {},
   "outputs": [],
   "source": [
    "predictedPeriods = aggregation.predictOriginalData()"
   ]
  },
  {
   "cell_type": "markdown",
   "metadata": {},
   "source": [
    "Plot the repredicted data"
   ]
  },
  {
   "cell_type": "code",
   "execution_count": 12,
   "metadata": {},
   "outputs": [
    {
     "data": {
      "image/png": "[encoded data removed]",
      "text/plain": [
       "<Figure size 600x200 with 2 Axes>"
      ]
     },
     "metadata": {
      "needs_background": "light"
     },
     "output_type": "display_data"
    }
   ],
   "source": [
    "plotTS(predictedPeriods['Wind'], 24, vmin = raw['Wind'].min(), vmax = raw['Wind'].max())"
   ]
  },
  {
   "cell_type": "markdown",
   "metadata": {},
   "source": [
    "### Now cluster the wind time series only"
   ]
  },
  {
   "cell_type": "markdown",
   "metadata": {},
   "source": [
    "Clustering the solar time series only with 8 typical days and hierarchical clustering leads to different typical days in another sequence."
   ]
  },
  {
   "cell_type": "markdown",
   "metadata": {},
   "source": [
    "Isolate wind time series and show first lines of data"
   ]
  },
  {
   "cell_type": "code",
   "execution_count": 13,
   "metadata": {},
   "outputs": [
    {
     "data": {
      "text/html": [
       "<div>\n",
       "<style scoped>\n",
       "    .dataframe tbody tr th:only-of-type {\n",
       "        vertical-align: middle;\n",
       "    }\n",
       "\n",
       "    .dataframe tbody tr th {\n",
       "        vertical-align: top;\n",
       "    }\n",
       "\n",
       "    .dataframe thead th {\n",
       "        text-align: right;\n",
       "    }\n",
       "</style>\n",
       "<table border=\"1\" class=\"dataframe\">\n",
       "  <thead>\n",
       "    <tr style=\"text-align: right;\">\n",
       "      <th></th>\n",
       "      <th>Wind</th>\n",
       "    </tr>\n",
       "  </thead>\n",
       "  <tbody>\n",
       "    <tr>\n",
       "      <th>2009-12-31 23:30:00</th>\n",
       "      <td>7.1</td>\n",
       "    </tr>\n",
       "    <tr>\n",
       "      <th>2010-01-01 00:30:00</th>\n",
       "      <td>8.6</td>\n",
       "    </tr>\n",
       "    <tr>\n",
       "      <th>2010-01-01 01:30:00</th>\n",
       "      <td>9.7</td>\n",
       "    </tr>\n",
       "    <tr>\n",
       "      <th>2010-01-01 02:30:00</th>\n",
       "      <td>9.8</td>\n",
       "    </tr>\n",
       "    <tr>\n",
       "      <th>2010-01-01 03:30:00</th>\n",
       "      <td>9.4</td>\n",
       "    </tr>\n",
       "  </tbody>\n",
       "</table>\n",
       "</div>"
      ],
      "text/plain": [
       "                     Wind\n",
       "2009-12-31 23:30:00   7.1\n",
       "2010-01-01 00:30:00   8.6\n",
       "2010-01-01 01:30:00   9.7\n",
       "2010-01-01 02:30:00   9.8\n",
       "2010-01-01 03:30:00   9.4"
      ]
     },
     "execution_count": 13,
     "metadata": {},
     "output_type": "execute_result"
    }
   ],
   "source": [
    "raw_wind=raw.loc[:,'Wind'].to_frame()\n",
    "raw_wind.head()"
   ]
  },
  {
   "cell_type": "markdown",
   "metadata": {},
   "source": [
    "Now same clustering procedure as above for the isolated wind time series"
   ]
  },
  {
   "cell_type": "code",
   "execution_count": 14,
   "metadata": {},
   "outputs": [],
   "source": [
    "aggregation_wind = tsam.TimeSeriesAggregation(raw_wind, noTypicalPeriods = 8, hoursPerPeriod = 24, \n",
    "                                        clusterMethod = 'hierarchical', representationMethod='meanRepresentation')"
   ]
  },
  {
   "cell_type": "code",
   "execution_count": 15,
   "metadata": {},
   "outputs": [],
   "source": [
    "typPeriods_wind = aggregation_wind.createTypicalPeriods()"
   ]
  },
  {
   "cell_type": "markdown",
   "metadata": {},
   "source": [
    "Export for preprocess time series for testing"
   ]
  },
  {
   "cell_type": "code",
   "execution_count": 16,
   "metadata": {},
   "outputs": [],
   "source": [
    "aggregation_wind.normalizedPeriodlyProfiles.to_csv(os.path.join('results','preprocessed_wind.csv'))"
   ]
  },
  {
   "cell_type": "code",
   "execution_count": 17,
   "metadata": {},
   "outputs": [
    {
     "data": {
      "text/plain": [
       "(192, 1)"
      ]
     },
     "execution_count": 17,
     "metadata": {},
     "output_type": "execute_result"
    }
   ],
   "source": [
    "typPeriods_wind.shape"
   ]
  },
  {
   "cell_type": "code",
   "execution_count": 18,
   "metadata": {},
   "outputs": [],
   "source": [
    "predictedPeriods_wind = aggregation_wind.predictOriginalData()"
   ]
  },
  {
   "cell_type": "code",
   "execution_count": 19,
   "metadata": {},
   "outputs": [
    {
     "data": {
      "image/png": "[encoded data removed]",
      "text/plain": [
       "<Figure size 600x200 with 2 Axes>"
      ]
     },
     "metadata": {
      "needs_background": "light"
     },
     "output_type": "display_data"
    }
   ],
   "source": [
    "plotTS(predictedPeriods_wind['Wind'], 24, vmin = raw['Wind'].min(), vmax = raw['Wind'].max())"
   ]
  },
  {
   "cell_type": "markdown",
   "metadata": {},
   "source": [
    "When we compare both plots, we see that 8 typical periods for wind only can better account extreme periods, but the cluster order in general changes"
   ]
  },
  {
   "cell_type": "code",
   "execution_count": 20,
   "metadata": {},
   "outputs": [
    {
     "data": {
      "text/plain": [
       "array([2, 2, 7, 2, 2, 2, 5, 7, 7, 5, 5, 2, 2, 5, 5, 5, 5, 5, 0, 0, 5, 5,\n",
       "       5, 5, 5, 2, 0, 5, 5, 5, 5, 5, 2, 2, 5, 1, 5, 5, 7, 0, 2, 7, 5, 5,\n",
       "       5, 5, 0, 0, 0, 2, 0, 0, 2, 0, 0, 0, 0, 7, 0, 2, 1, 2, 2, 2, 0, 0,\n",
       "       2, 2, 0, 2, 0, 0, 2, 2, 1, 1, 1, 0, 7, 0, 0, 2, 0, 0, 0, 7, 1, 4,\n",
       "       4, 4, 4, 3, 1, 0, 2, 0, 0, 0, 1, 1, 2, 0, 0, 1, 2, 1, 1, 3, 1, 4,\n",
       "       4, 1, 3, 3, 3, 1, 1, 0, 0, 0, 4, 1, 3, 4, 4, 1, 1, 2, 2, 7, 6, 4,\n",
       "       3, 1, 1, 3, 3, 4, 4, 6, 1, 6, 6, 1, 4, 4, 3, 4, 3, 4, 4, 4, 4, 3,\n",
       "       3, 1, 1, 3, 6, 6, 6, 3, 3, 3, 3, 4, 4, 3, 3, 3, 3, 3, 6, 4, 6, 6,\n",
       "       6, 3, 3, 4, 4, 1, 3, 6, 3, 6, 4, 4, 3, 3, 6, 6, 6, 6, 6, 6, 6, 6,\n",
       "       6, 3, 4, 4, 1, 3, 3, 3, 3, 4, 6, 6, 3, 3, 3, 3, 4, 4, 3, 3, 3, 3,\n",
       "       3, 4, 4, 3, 3, 6, 6, 6, 4, 4, 3, 3, 6, 6, 6, 6, 4, 3, 3, 3, 3, 3,\n",
       "       4, 4, 3, 3, 1, 1, 1, 1, 1, 1, 3, 3, 3, 3, 4, 4, 3, 3, 1, 1, 1, 4,\n",
       "       4, 3, 3, 1, 3, 1, 4, 4, 1, 1, 7, 1, 1, 4, 1, 1, 1, 1, 1, 2, 1, 1,\n",
       "       2, 7, 7, 0, 2, 2, 2, 2, 2, 2, 2, 2, 1, 1, 7, 1, 7, 7, 1, 1, 2, 7,\n",
       "       7, 2, 7, 2, 1, 1, 7, 1, 7, 7, 7, 0, 0, 7, 7, 7, 7, 7, 0, 0, 7, 7,\n",
       "       7, 7, 7, 0, 2, 7, 5, 5, 7, 5, 0, 2, 7, 2, 7, 2, 7, 2, 0, 7, 5, 2,\n",
       "       7, 0, 0, 0, 2, 0, 0, 0, 2, 1, 2, 2, 2], dtype=int64)"
      ]
     },
     "execution_count": 20,
     "metadata": {},
     "output_type": "execute_result"
    }
   ],
   "source": [
    "aggregation.clusterOrder"
   ]
  },
  {
   "cell_type": "code",
   "execution_count": 21,
   "metadata": {},
   "outputs": [
    {
     "data": {
      "text/plain": [
       "array([7, 0, 0, 3, 3, 0, 2, 1, 2, 2, 0, 0, 0, 0, 0, 0, 2, 2, 5, 5, 4, 0,\n",
       "       4, 0, 0, 0, 6, 4, 3, 0, 7, 2, 0, 0, 4, 6, 1, 2, 5, 1, 0, 2, 3, 0,\n",
       "       0, 2, 2, 5, 6, 3, 6, 6, 7, 1, 6, 0, 1, 5, 4, 3, 4, 7, 0, 2, 2, 0,\n",
       "       4, 0, 1, 7, 1, 1, 0, 0, 2, 1, 1, 2, 6, 1, 1, 4, 0, 2, 4, 2, 2, 2,\n",
       "       2, 1, 1, 1, 2, 2, 4, 0, 2, 0, 2, 2, 4, 2, 1, 2, 4, 0, 1, 1, 1, 5,\n",
       "       1, 2, 1, 1, 2, 2, 2, 2, 2, 1, 0, 1, 5, 1, 2, 2, 1, 0, 4, 5, 0, 1,\n",
       "       1, 5, 1, 1, 4, 2, 2, 0, 1, 1, 1, 5, 1, 1, 1, 1, 1, 1, 1, 1, 2, 1,\n",
       "       2, 1, 1, 1, 5, 5, 1, 5, 1, 1, 2, 1, 2, 1, 2, 1, 1, 5, 1, 1, 2, 1,\n",
       "       1, 1, 2, 1, 1, 5, 5, 5, 2, 5, 1, 5, 5, 1, 1, 1, 1, 1, 5, 5, 1, 1,\n",
       "       1, 1, 2, 2, 1, 5, 1, 2, 1, 1, 2, 1, 1, 1, 5, 1, 1, 5, 2, 4, 0, 7,\n",
       "       2, 1, 1, 2, 2, 1, 2, 1, 1, 2, 2, 5, 1, 1, 5, 5, 5, 2, 2, 2, 1, 1,\n",
       "       2, 2, 1, 2, 2, 1, 1, 4, 2, 1, 5, 1, 2, 2, 1, 1, 1, 2, 2, 1, 2, 2,\n",
       "       5, 1, 2, 1, 5, 1, 5, 1, 1, 1, 5, 1, 0, 0, 2, 2, 5, 2, 2, 0, 4, 2,\n",
       "       4, 1, 5, 0, 3, 3, 3, 7, 4, 0, 3, 0, 0, 2, 1, 6, 1, 5, 6, 6, 0, 5,\n",
       "       5, 4, 6, 4, 1, 1, 6, 2, 5, 1, 2, 2, 1, 5, 5, 1, 1, 1, 1, 6, 6, 2,\n",
       "       5, 5, 5, 0, 0, 5, 4, 0, 1, 4, 6, 0, 6, 3, 0, 0, 0, 4, 5, 5, 6, 0,\n",
       "       2, 5, 5, 1, 2, 1, 1, 2, 3, 0, 3, 0, 0], dtype=int64)"
      ]
     },
     "execution_count": 21,
     "metadata": {},
     "output_type": "execute_result"
    }
   ],
   "source": [
    "aggregation_wind.clusterOrder"
   ]
  },
  {
   "cell_type": "markdown",
   "metadata": {},
   "source": [
    "### Predefining cluster sequence"
   ]
  },
  {
   "cell_type": "markdown",
   "metadata": {},
   "source": [
    "tsam offers the option to aggregate input time series for a predefined cluster order. This means that we can take the cluster Order from the wind time series only and set it as input for the aggregation process for all attributes"
   ]
  },
  {
   "cell_type": "code",
   "execution_count": 22,
   "metadata": {},
   "outputs": [],
   "source": [
    "aggregation_predefClusterOrder = tsam.TimeSeriesAggregation(raw, noTypicalPeriods = 8, hoursPerPeriod = 24, \n",
    "                                 clusterMethod = 'hierarchical', representationMethod='meanRepresentation', \n",
    "                                 predefClusterOrder=aggregation_wind.clusterOrder)"
   ]
  },
  {
   "cell_type": "code",
   "execution_count": 23,
   "metadata": {},
   "outputs": [],
   "source": [
    "typPeriods_predefClusterOrder = aggregation_predefClusterOrder.createTypicalPeriods()"
   ]
  },
  {
   "cell_type": "code",
   "execution_count": 24,
   "metadata": {},
   "outputs": [
    {
     "data": {
      "text/plain": [
       "(192, 4)"
      ]
     },
     "execution_count": 24,
     "metadata": {},
     "output_type": "execute_result"
    }
   ],
   "source": [
    "typPeriods_predefClusterOrder.shape"
   ]
  },
  {
   "cell_type": "markdown",
   "metadata": {},
   "source": [
    "Save typical periods to .csv file"
   ]
  },
  {
   "cell_type": "code",
   "execution_count": 25,
   "metadata": {},
   "outputs": [],
   "source": [
    "typPeriods_predefClusterOrder.to_csv(os.path.join('results','testperiods_predefClusterOrder.csv'))"
   ]
  },
  {
   "cell_type": "code",
   "execution_count": 26,
   "metadata": {},
   "outputs": [],
   "source": [
    "predictedPeriods_predefClusterOrder = aggregation_predefClusterOrder.predictOriginalData()"
   ]
  },
  {
   "cell_type": "markdown",
   "metadata": {},
   "source": [
    "Now we compare the cluster orders"
   ]
  },
  {
   "cell_type": "code",
   "execution_count": 27,
   "metadata": {},
   "outputs": [
    {
     "data": {
      "text/plain": [
       "array([7, 0, 0, 3, 3, 0, 2, 1, 2, 2, 0, 0, 0, 0, 0, 0, 2, 2, 5, 5, 4, 0,\n",
       "       4, 0, 0, 0, 6, 4, 3, 0, 7, 2, 0, 0, 4, 6, 1, 2, 5, 1, 0, 2, 3, 0,\n",
       "       0, 2, 2, 5, 6, 3, 6, 6, 7, 1, 6, 0, 1, 5, 4, 3, 4, 7, 0, 2, 2, 0,\n",
       "       4, 0, 1, 7, 1, 1, 0, 0, 2, 1, 1, 2, 6, 1, 1, 4, 0, 2, 4, 2, 2, 2,\n",
       "       2, 1, 1, 1, 2, 2, 4, 0, 2, 0, 2, 2, 4, 2, 1, 2, 4, 0, 1, 1, 1, 5,\n",
       "       1, 2, 1, 1, 2, 2, 2, 2, 2, 1, 0, 1, 5, 1, 2, 2, 1, 0, 4, 5, 0, 1,\n",
       "       1, 5, 1, 1, 4, 2, 2, 0, 1, 1, 1, 5, 1, 1, 1, 1, 1, 1, 1, 1, 2, 1,\n",
       "       2, 1, 1, 1, 5, 5, 1, 5, 1, 1, 2, 1, 2, 1, 2, 1, 1, 5, 1, 1, 2, 1,\n",
       "       1, 1, 2, 1, 1, 5, 5, 5, 2, 5, 1, 5, 5, 1, 1, 1, 1, 1, 5, 5, 1, 1,\n",
       "       1, 1, 2, 2, 1, 5, 1, 2, 1, 1, 2, 1, 1, 1, 5, 1, 1, 5, 2, 4, 0, 7,\n",
       "       2, 1, 1, 2, 2, 1, 2, 1, 1, 2, 2, 5, 1, 1, 5, 5, 5, 2, 2, 2, 1, 1,\n",
       "       2, 2, 1, 2, 2, 1, 1, 4, 2, 1, 5, 1, 2, 2, 1, 1, 1, 2, 2, 1, 2, 2,\n",
       "       5, 1, 2, 1, 5, 1, 5, 1, 1, 1, 5, 1, 0, 0, 2, 2, 5, 2, 2, 0, 4, 2,\n",
       "       4, 1, 5, 0, 3, 3, 3, 7, 4, 0, 3, 0, 0, 2, 1, 6, 1, 5, 6, 6, 0, 5,\n",
       "       5, 4, 6, 4, 1, 1, 6, 2, 5, 1, 2, 2, 1, 5, 5, 1, 1, 1, 1, 6, 6, 2,\n",
       "       5, 5, 5, 0, 0, 5, 4, 0, 1, 4, 6, 0, 6, 3, 0, 0, 0, 4, 5, 5, 6, 0,\n",
       "       2, 5, 5, 1, 2, 1, 1, 2, 3, 0, 3, 0, 0], dtype=int64)"
      ]
     },
     "execution_count": 27,
     "metadata": {},
     "output_type": "execute_result"
    }
   ],
   "source": [
    "aggregation_wind.clusterOrder"
   ]
  },
  {
   "cell_type": "code",
   "execution_count": 28,
   "metadata": {},
   "outputs": [
    {
     "data": {
      "text/plain": [
       "array([7, 0, 0, 3, 3, 0, 2, 1, 2, 2, 0, 0, 0, 0, 0, 0, 2, 2, 5, 5, 4, 0,\n",
       "       4, 0, 0, 0, 6, 4, 3, 0, 7, 2, 0, 0, 4, 6, 1, 2, 5, 1, 0, 2, 3, 0,\n",
       "       0, 2, 2, 5, 6, 3, 6, 6, 7, 1, 6, 0, 1, 5, 4, 3, 4, 7, 0, 2, 2, 0,\n",
       "       4, 0, 1, 7, 1, 1, 0, 0, 2, 1, 1, 2, 6, 1, 1, 4, 0, 2, 4, 2, 2, 2,\n",
       "       2, 1, 1, 1, 2, 2, 4, 0, 2, 0, 2, 2, 4, 2, 1, 2, 4, 0, 1, 1, 1, 5,\n",
       "       1, 2, 1, 1, 2, 2, 2, 2, 2, 1, 0, 1, 5, 1, 2, 2, 1, 0, 4, 5, 0, 1,\n",
       "       1, 5, 1, 1, 4, 2, 2, 0, 1, 1, 1, 5, 1, 1, 1, 1, 1, 1, 1, 1, 2, 1,\n",
       "       2, 1, 1, 1, 5, 5, 1, 5, 1, 1, 2, 1, 2, 1, 2, 1, 1, 5, 1, 1, 2, 1,\n",
       "       1, 1, 2, 1, 1, 5, 5, 5, 2, 5, 1, 5, 5, 1, 1, 1, 1, 1, 5, 5, 1, 1,\n",
       "       1, 1, 2, 2, 1, 5, 1, 2, 1, 1, 2, 1, 1, 1, 5, 1, 1, 5, 2, 4, 0, 7,\n",
       "       2, 1, 1, 2, 2, 1, 2, 1, 1, 2, 2, 5, 1, 1, 5, 5, 5, 2, 2, 2, 1, 1,\n",
       "       2, 2, 1, 2, 2, 1, 1, 4, 2, 1, 5, 1, 2, 2, 1, 1, 1, 2, 2, 1, 2, 2,\n",
       "       5, 1, 2, 1, 5, 1, 5, 1, 1, 1, 5, 1, 0, 0, 2, 2, 5, 2, 2, 0, 4, 2,\n",
       "       4, 1, 5, 0, 3, 3, 3, 7, 4, 0, 3, 0, 0, 2, 1, 6, 1, 5, 6, 6, 0, 5,\n",
       "       5, 4, 6, 4, 1, 1, 6, 2, 5, 1, 2, 2, 1, 5, 5, 1, 1, 1, 1, 6, 6, 2,\n",
       "       5, 5, 5, 0, 0, 5, 4, 0, 1, 4, 6, 0, 6, 3, 0, 0, 0, 4, 5, 5, 6, 0,\n",
       "       2, 5, 5, 1, 2, 1, 1, 2, 3, 0, 3, 0, 0], dtype=int64)"
      ]
     },
     "execution_count": 28,
     "metadata": {},
     "output_type": "execute_result"
    }
   ],
   "source": [
    "aggregation_predefClusterOrder.clusterOrder"
   ]
  },
  {
   "cell_type": "markdown",
   "metadata": {},
   "source": [
    "As it can be seen, the cluster order for the four attributes (i.e. he sequence of typical days) is no identical to the cluster order of the wind time series clustering. Now the color plots can be compared:"
   ]
  },
  {
   "cell_type": "code",
   "execution_count": 29,
   "metadata": {},
   "outputs": [
    {
     "data": {
      "image/png": "[encoded data removed]",
      "text/plain": [
       "<Figure size 600x200 with 2 Axes>"
      ]
     },
     "metadata": {
      "needs_background": "light"
     },
     "output_type": "display_data"
    }
   ],
   "source": [
    "plotTS(predictedPeriods_predefClusterOrder['Wind'], 24, vmin = raw['Wind'].min(), vmax = raw['Wind'].max())"
   ]
  },
  {
   "cell_type": "markdown",
   "metadata": {},
   "source": [
    "As it can be seen, the plot for the aggregated wind time series only and the one for four with the predefined cluster Order from the wind time series still differ from each other. This is because of the fact, that only the cluster Order, but not the cluster centers of each cluster are predefined. Since these are in one case deterined for the wind time series only and in the other case for all four attributes in common, the chosen cluster centers (chosen typical days) differ from each other"
   ]
  },
  {
   "cell_type": "markdown",
   "metadata": {},
   "source": [
    "### Predefining cluster order and cluster centers"
   ]
  },
  {
   "cell_type": "markdown",
   "metadata": {},
   "source": [
    "If the cluster order and the cluster centers should be taken from the wind time series clustering, we pass the information which days where chosen as typical days for the wind time series to the aggregation of all four typical attributes as well"
   ]
  },
  {
   "cell_type": "code",
   "execution_count": 30,
   "metadata": {},
   "outputs": [],
   "source": [
    "aggregation_predefClusterOrderAndClusterCenters = tsam.TimeSeriesAggregation(raw, \n",
    "                                                  noTypicalPeriods = 8, hoursPerPeriod = 24, \n",
    "                                                  clusterMethod = 'hierarchical', representationMethod='meanRepresentation', \n",
    "                                                  predefClusterOrder=aggregation_wind.clusterOrder,\n",
    "                                                  predefClusterCenterIndices=aggregation_wind.clusterCenterIndices)"
   ]
  },
  {
   "cell_type": "code",
   "execution_count": 31,
   "metadata": {},
   "outputs": [],
   "source": [
    "typPeriods_predefClusterOrderAndClusterCenters = aggregation_predefClusterOrderAndClusterCenters.createTypicalPeriods()"
   ]
  },
  {
   "cell_type": "code",
   "execution_count": 32,
   "metadata": {},
   "outputs": [
    {
     "data": {
      "text/plain": [
       "(192, 4)"
      ]
     },
     "execution_count": 32,
     "metadata": {},
     "output_type": "execute_result"
    }
   ],
   "source": [
    "typPeriods_predefClusterOrderAndClusterCenters.shape"
   ]
  },
  {
   "cell_type": "markdown",
   "metadata": {},
   "source": [
    "Save typical periods to .csv file"
   ]
  },
  {
   "cell_type": "code",
   "execution_count": 33,
   "metadata": {},
   "outputs": [],
   "source": [
    "typPeriods_predefClusterOrderAndClusterCenters.to_csv(os.path.join('results','testperiods_predefClusterOrderAndClusterCenters.csv'))"
   ]
  },
  {
   "cell_type": "code",
   "execution_count": 34,
   "metadata": {},
   "outputs": [],
   "source": [
    "predictedPeriods_predefClusterOrderAndClusterCenters = aggregation_predefClusterOrderAndClusterCenters.predictOriginalData()"
   ]
  },
  {
   "cell_type": "code",
   "execution_count": 35,
   "metadata": {},
   "outputs": [
    {
     "data": {
      "image/png": "[encoded data removed]",
      "text/plain": [
       "<Figure size 600x200 with 2 Axes>"
      ]
     },
     "metadata": {
      "needs_background": "light"
     },
     "output_type": "display_data"
    }
   ],
   "source": [
    "plotTS(predictedPeriods_predefClusterOrderAndClusterCenters['Wind'], 24, vmin = raw['Wind'].min(), vmax = raw['Wind'].max())"
   ]
  },
  {
   "cell_type": "markdown",
   "metadata": {},
   "source": [
    "Now even the chosen typical days for the four attributes are the same as for the aggregated wind time series only"
   ]
  },
  {
   "cell_type": "code",
   "execution_count": null,
   "metadata": {},
   "outputs": [],
   "source": []
  }
 ],
 "metadata": {
  "kernelspec": {
   "display_name": "Python 3",
   "language": "python",
   "name": "python3"
  },
  "language_info": {
   "codemirror_mode": {
    "name": "ipython",
    "version": 3
   },
   "file_extension": ".py",
   "mimetype": "text/x-python",
   "name": "python",
   "nbconvert_exporter": "python",
   "pygments_lexer": "ipython3",
   "version": "3.6.10"
  },
  "toc": {
   "base_numbering": 1,
   "nav_menu": {},
   "number_sections": true,
   "sideBar": true,
   "skip_h1_title": true,
   "title_cell": "Table of Contents",
   "title_sidebar": "Contents",
   "toc_cell": false,
   "toc_position": {},
   "toc_section_display": true,
   "toc_window_display": true
  }
 },
 "nbformat": 4,
 "nbformat_minor": 2
}

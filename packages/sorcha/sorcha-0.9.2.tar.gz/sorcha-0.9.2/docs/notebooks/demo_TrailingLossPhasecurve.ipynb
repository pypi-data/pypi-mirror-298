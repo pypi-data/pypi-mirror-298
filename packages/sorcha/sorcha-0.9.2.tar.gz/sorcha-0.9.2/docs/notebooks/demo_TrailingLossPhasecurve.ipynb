{
 "cells": [
  {
   "cell_type": "markdown",
   "metadata": {},
   "source": [
    "# Importance to use the Trailed Source Magnitude For Your Analysis of Sorcha Output"
   ]
  },
  {
   "cell_type": "markdown",
   "metadata": {},
   "source": [
    "Sorcha computes two magnitudes for each potential LSST discovery/detection chance: the trailed source magnitude and the PSF magnitude. The PSF magnitude is the apparent magnitude in a given filter measured by the data management pipelines assuming a stellar-like PSF. The trailed source magnitude is apparent magnitude in a given filter adding up all of the counts in the trail (as the simulated object is moving object). The PSF magnitude is what is used in detection by the Rubin transient soure detection pipelines, but the trailed source magnitude is the true apparent megnitude of the moving object.  \n",
    "\n",
    "Sorcha can output both magnitudes, but by default will output only the trailed source magnitude. Other option options may output both values.  One must be careful use the correct apparent magnitude in your analysis. For anything invovling photometry (and not detectability), the recommend is to use the trailed soruce manigude. In this notebook, we show why it is important to use the trailed source magnitude."
   ]
  },
  {
   "cell_type": "markdown",
   "metadata": {},
   "source": [
    "Let's demonstrate the combined effect of including both the phase curve and the trailing loss for a main belt asteroid. \n",
    "\n",
    "This will using functionality from both the `demo_ApparentMagnitudeValidation` and `demo_TrailingLossesValidation` notebooks. "
   ]
  },
  {
   "cell_type": "code",
   "execution_count": null,
   "metadata": {},
   "outputs": [],
   "source": [
    "import pandas as pd\n",
    "import numpy as np\n",
    "import astropy.units as u\n",
    "from astroquery.jplhorizons import Horizons\n",
    "from sorcha.modules.PPCalculateApparentMagnitudeInFilter import PPCalculateApparentMagnitudeInFilter\n",
    "from sorcha.modules.PPTrailingLoss import PPTrailingLoss\n",
    "import matplotlib.pyplot as plt"
   ]
  },
  {
   "cell_type": "markdown",
   "metadata": {},
   "source": [
    "Let's grab two years of positions for asteroid Themis as expected from the Rubin Obervatory site (Obs Code X05)"
   ]
  },
  {
   "cell_type": "code",
   "execution_count": null,
   "metadata": {},
   "outputs": [],
   "source": [
    "obj = Horizons(id='Themis', id_type='name', location='X05',\n",
    "\n",
    "               epochs={'start':'2021-01-01', 'stop':'2023-01-01',\n",
    "\n",
    "                       'step':'1d'})\n",
    "\n",
    "eph = obj.ephemerides(quantities='1,3,9,19,20,43')\n",
    "jpl_eph = eph.to_pandas()\n",
    "jpl_eph"
   ]
  },
  {
   "cell_type": "code",
   "execution_count": null,
   "metadata": {},
   "outputs": [],
   "source": [
    "observations_df = pd.DataFrame({'MJD':jpl_eph['datetime_jd'] - 2_400_000.5,\n",
    "                                'H_filter': jpl_eph['H'],\n",
    "                                'GS': jpl_eph['G'],\n",
    "                                'Dec_deg' : np.zeros_like(jpl_eph['G']),\n",
    "                                'G1': np.zeros(len(jpl_eph['G'])) + 0.62,\n",
    "                                'G2': np.zeros(len(jpl_eph['G'])) + 0.14,\n",
    "                                'G12': np.zeros(len(jpl_eph['G'])) + 0.68,\n",
    "                                'JPL_mag': jpl_eph['V'],\n",
    "                                'Range_LTC_km': jpl_eph['r'] * 1.495978707e8, #au to km\n",
    "                                'Obj_Sun_LTC_km': jpl_eph['delta'] * 1.495978707e8,\n",
    "                                'phase_deg': jpl_eph['alpha_true'],\n",
    "                                'RARateCosDec_deg_day' : jpl_eph['RA_rate'] * 24/3600, # note horizons already applies the cos(dec) term \n",
    "                                'DecRate_deg_day' : jpl_eph['DEC_rate']* 24/3600,\n",
    "                                'seeingFwhmEff_arcsec' : 0.8 * np.ones_like(jpl_eph['G']),\n",
    "                                'visitExposureTime' : 30.0 * np.ones_like(jpl_eph['G']),\n",
    "                                })"
   ]
  },
  {
   "cell_type": "markdown",
   "metadata": {},
   "source": [
    "Calculate the PSF Magnitude and Trailed Source Magnitude for these observations including the  Bowell et al. (1989) HG phase curve"
   ]
  },
  {
   "cell_type": "code",
   "execution_count": null,
   "metadata": {},
   "outputs": [],
   "source": [
    "observations_df = PPCalculateApparentMagnitudeInFilter(observations_df, 'HG', 'r', 'HG_mag')\n",
    "dmagDetect = PPTrailingLoss(observations_df, \"circularPSF\")\n",
    "observations_df['trailedMagnitude'] = observations_df['HG_mag'] + dmagDetect\n"
   ]
  },
  {
   "cell_type": "markdown",
   "metadata": {},
   "source": [
    "Let's plot up the results to show that there is a difference between the phase curve you will get if you use "
   ]
  },
  {
   "cell_type": "code",
   "execution_count": null,
   "metadata": {},
   "outputs": [],
   "source": [
    "plt.plot(observations_df['phase_deg'], observations_df['trailedMagnitude']- 5 * np.log10(observations_df['Range_LTC_km'] * observations_df['Obj_Sun_LTC_km']/(1.495978707e8**2)), '.', label='PSF-assumed magnitude')\n",
    "plt.plot(observations_df['phase_deg'], observations_df['HG_mag'] - 5 * np.log10(observations_df['Range_LTC_km'] * observations_df['Obj_Sun_LTC_km']/(1.495978707e8**2)), '-', label='Trail-corrected magnitude')\n",
    "\n",
    "plt.xlabel('Phase angle (deg)')\n",
    "plt.ylabel('Reduced magnitude')\n",
    "plt.legend(loc=3)\n",
    "plt.gca().invert_yaxis()\n",
    "plt.show()"
   ]
  },
  {
   "cell_type": "markdown",
   "metadata": {},
   "source": [
    "Using the wrong value will produce an offset in the recovered coefficients of the phase function (both $H$ and $G$). To show this, we will use an independent implementation (see the `demo_ApparentMagnitudeValidation` notebook) of the HG phase curve model and do a simplified fit the $G$ coefficient in both cases."
   ]
  },
  {
   "cell_type": "code",
   "execution_count": null,
   "metadata": {},
   "outputs": [],
   "source": [
    "A = [3.332, 1.862]\n",
    "B = [0.631, 1.218]\n",
    "C = [0.986, 0.238]\n",
    "\n",
    "def HG_model(phase, params):\n",
    "    sin_a = np.sin(phase)\n",
    "    tan_ah = np.tan(phase/2)\n",
    "    \n",
    "    W = np.exp(-90.56 * tan_ah * tan_ah)    \n",
    "    scale_sina = sin_a/(0.119 + 1.341*sin_a - 0.754*sin_a*sin_a)\n",
    "    \n",
    "    phi_1_S = 1 - C[0] * scale_sina\n",
    "    phi_2_S = 1 - C[1] * scale_sina\n",
    "    \n",
    "    phi_1_L = np.exp(-A[0] * np.power(tan_ah, B[0]))\n",
    "    phi_2_L = np.exp(-A[1] * np.power(tan_ah, B[1]))\n",
    "    \n",
    "    phi_1 = W * phi_1_S + (1-W) * phi_1_L\n",
    "    phi_2 = W * phi_2_S + (1-W) * phi_2_L\n",
    "    return params[0] - 2.5*np.log10((1-params[1])* phi_1 + (params[1]) * phi_2) \n",
    "\n",
    "def chi2(params, mag, phase):\n",
    "    pred = HG_model(phase, params)\n",
    "    return (mag - pred)\n",
    "\n",
    "def fit(mag, phase, params=[0.1]):\n",
    "    from scipy.optimize import leastsq\n",
    "    phase = np.deg2rad(phase)\n",
    "\n",
    "\n",
    "    sol = leastsq(chi2, [mag[0]] + params,  (mag, phase), full_output = True)\n",
    "\n",
    "    return sol[0]\n",
    "\n"
   ]
  },
  {
   "cell_type": "markdown",
   "metadata": {},
   "source": [
    "Phase curve parameters from fitting for the reduced magnitude calculated from the PSF magnitude (which does not account for the source potentially having an extended PSF)"
   ]
  },
  {
   "cell_type": "code",
   "execution_count": null,
   "metadata": {},
   "outputs": [],
   "source": [
    "solution = fit(observations_df['HG_mag']- 5 * np.log10(observations_df['Range_LTC_km'] * observations_df['Obj_Sun_LTC_km']/(1.495978707e8**2)), observations_df['phase_deg'])\n",
    "\n",
    "print(f'H = {solution[0]}, G = {solution[1]}')"
   ]
  },
  {
   "cell_type": "markdown",
   "metadata": {},
   "source": [
    "Phase curve parameters from fitting for the reduced magnitude calculated from the trailed source magnitude (which does account for the source being trailed due to motion of the simulated moving object during the ~30s LSST exposure.. "
   ]
  },
  {
   "cell_type": "code",
   "execution_count": null,
   "metadata": {},
   "outputs": [],
   "source": [
    "solution = fit(observations_df['trailedMagnitude']- 5 * np.log10(observations_df['Range_LTC_km'] * observations_df['Obj_Sun_LTC_km']/(1.495978707e8**2)), observations_df['phase_deg'])\n",
    "\n",
    "print(f'H = {solution[0]}, G = {solution[1]}')"
   ]
  },
  {
   "cell_type": "markdown",
   "metadata": {},
   "source": [
    "Both the estimated H and phase curve parameters will be offset if one incorrectly uses the PSF mag instead of the trailed soure mag. "
   ]
  }
 ],
 "metadata": {
  "kernelspec": {
   "display_name": "Python 3 (ipykernel)",
   "language": "python",
   "name": "python3"
  },
  "language_info": {
   "codemirror_mode": {
    "name": "ipython",
    "version": 3
   },
   "file_extension": ".py",
   "mimetype": "text/x-python",
   "name": "python",
   "nbconvert_exporter": "python",
   "pygments_lexer": "ipython3",
   "version": "3.10.13"
  }
 },
 "nbformat": 4,
 "nbformat_minor": 4
}

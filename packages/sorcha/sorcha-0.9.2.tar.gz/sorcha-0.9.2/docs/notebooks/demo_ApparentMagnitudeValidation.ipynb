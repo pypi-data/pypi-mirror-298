{
 "cells": [
  {
   "cell_type": "markdown",
   "id": "c93503c5",
   "metadata": {},
   "source": [
    "# Apparent Magnitude Validation"
   ]
  },
  {
   "cell_type": "code",
   "execution_count": null,
   "id": "fc4ba06a",
   "metadata": {},
   "outputs": [],
   "source": [
    "import pandas as pd\n",
    "import numpy as np\n",
    "import astropy.units as u\n",
    "from astroquery.jplhorizons import Horizons\n",
    "from sorcha.modules.PPCalculateApparentMagnitudeInFilter import PPCalculateApparentMagnitudeInFilter\n",
    "import matplotlib.pyplot as plt"
   ]
  },
  {
   "cell_type": "markdown",
   "id": "2f79bca5",
   "metadata": {},
   "source": [
    "To test the calculation of the apparent magnitude in the code, we can compare them to the apparent magnitudes calculated by JPL Horizons.\n",
    "\n",
    "First, let's get the JPL Horizons ephemeris for a test object. PPCalculateApparentMagnitudeInFilter uses sbpy's photometry module to calculate phase functions, and sbpy's unit tests use 24 Themis as a test object. We will do the same."
   ]
  },
  {
   "cell_type": "code",
   "execution_count": null,
   "id": "3e52682b",
   "metadata": {},
   "outputs": [],
   "source": [
    "obj = Horizons(id='Themis', id_type='name', location='I11',\n",
    "\n",
    "               epochs={'start':'2021-01-01', 'stop':'2023-01-01',\n",
    "\n",
    "                       'step':'1d'})\n",
    "\n",
    "eph = obj.ephemerides(quantities='9,19,20,43')\n",
    "jpl_eph = eph.to_pandas()\n",
    "jpl_eph"
   ]
  },
  {
   "cell_type": "markdown",
   "id": "dd680ba1",
   "metadata": {},
   "source": [
    "This needs to be turned into a form the function can understand. Values for G1, G2 and G12 are from Muinonen et al. (2010)."
   ]
  },
  {
   "cell_type": "code",
   "execution_count": null,
   "id": "46fc0914",
   "metadata": {},
   "outputs": [],
   "source": [
    "observations_df = pd.DataFrame({'MJD':jpl_eph['datetime_jd'] - 2_400_000.5,\n",
    "                                'H_filter': jpl_eph['H'],\n",
    "                                'GS': jpl_eph['G'],\n",
    "                                'G1': np.zeros(len(jpl_eph['G'])) + 0.62,\n",
    "                                'G2': np.zeros(len(jpl_eph['G'])) + 0.14,\n",
    "                                'G12': np.zeros(len(jpl_eph['G'])) + 0.68,\n",
    "                                'JPL_mag': jpl_eph['V'],\n",
    "                                'Range_LTC_km': jpl_eph['r'] * 1.495978707e8,\n",
    "                                'Obj_Sun_LTC_km': jpl_eph['delta'] * 1.495978707e8,\n",
    "                                'phase_deg': jpl_eph['alpha_true']})"
   ]
  },
  {
   "cell_type": "code",
   "execution_count": null,
   "id": "99156011",
   "metadata": {},
   "outputs": [],
   "source": [
    "observations_df"
   ]
  },
  {
   "cell_type": "markdown",
   "id": "191c5e0f",
   "metadata": {},
   "source": [
    "Now we calculate the magnitude using the various models in PPCalculateApparentMagnitudeInFilter."
   ]
  },
  {
   "cell_type": "code",
   "execution_count": null,
   "id": "69cc1794",
   "metadata": {},
   "outputs": [],
   "source": [
    "observations_df = PPCalculateApparentMagnitudeInFilter(observations_df.copy(), 'HG', 'r', 'HG_mag')\n",
    "observations_df = PPCalculateApparentMagnitudeInFilter(observations_df.copy(), 'HG12', 'r', 'HG12_mag')\n",
    "observations_df = PPCalculateApparentMagnitudeInFilter(observations_df.copy(), 'HG1G2', 'r', 'HG1G2_mag')"
   ]
  },
  {
   "cell_type": "code",
   "execution_count": null,
   "id": "89e840e0",
   "metadata": {},
   "outputs": [],
   "source": [
    "observations_df"
   ]
  },
  {
   "cell_type": "markdown",
   "id": "ba9e4dec",
   "metadata": {},
   "source": [
    "Now we can plot the magnitudes and compare them.\n",
    "\n",
    "Note that we do not expect any of the calculated magnitudes to match JPL Horizons exactly. JPL Horizons uses the IAU simplification of the HG model to calculate apparent magnitude, while sbpy uses the original HG formulation from Bowell et al. (1989). However, they should all be a close match."
   ]
  },
  {
   "cell_type": "code",
   "execution_count": null,
   "id": "a40763e1",
   "metadata": {},
   "outputs": [],
   "source": [
    "fig, ax = plt.subplots(figsize=(10,8))\n",
    "ax.plot(observations_df[\"MJD\"] - 59000, observations_df[\"JPL_mag\"], linestyle=\"\", marker=\"x\", label=\"JPL\")\n",
    "ax.plot(observations_df[\"MJD\"] - 59000, observations_df[\"HG_mag\"], label=\"HG\")\n",
    "ax.plot(observations_df[\"MJD\"] - 59000, observations_df[\"HG12_mag\"], label=\"HG12\")\n",
    "ax.plot(observations_df[\"MJD\"] - 59000, observations_df[\"HG1G2_mag\"], label=\"HG1G2\")\n",
    "ax.legend()\n",
    "ax.set_xlabel(\"MJD - 59000\")\n",
    "ax.set_ylabel(\"apparent magnitude\")\n",
    "ax.set_ylim((11.75, 14))\n",
    "plt.show()"
   ]
  },
  {
   "cell_type": "markdown",
   "id": "f7db4560",
   "metadata": {},
   "source": [
    "To test the linear phase function model, we simply define a slope. We will use the same values for Themis and arbitrarily choose S to be 0.04."
   ]
  },
  {
   "cell_type": "code",
   "execution_count": null,
   "id": "c4828b4a",
   "metadata": {},
   "outputs": [],
   "source": [
    "H = observations_df['H_filter'].values\n",
    "alpha = observations_df['phase_deg'].values\n",
    "r = observations_df['Range_LTC_km'].values / 1.495978707e8\n",
    "delta = observations_df['Obj_Sun_LTC_km'].values / 1.495978707e8\n",
    "S = np.zeros(len(H)) + 0.04\n",
    "\n",
    "observations_df[\"S\"] = S"
   ]
  },
  {
   "cell_type": "markdown",
   "id": "250e3f6f",
   "metadata": {},
   "source": [
    "The expected apparent magnitude will thus take the form:\n",
    "\n",
    "$m = H + 5 \\log_{10}(\\Delta) + 5 \\log_{10}(r) + S\\alpha$"
   ]
  },
  {
   "cell_type": "code",
   "execution_count": null,
   "id": "87743497",
   "metadata": {},
   "outputs": [],
   "source": [
    "linear_mag_calc = 5. * np.log10(delta) + 5. * np.log10(r) + H + (S * alpha)"
   ]
  },
  {
   "cell_type": "markdown",
   "id": "2d99f8b5",
   "metadata": {},
   "source": [
    "Calculating using the linear phase function model in PPCalculateApparentMagnitudeInFilter..."
   ]
  },
  {
   "cell_type": "code",
   "execution_count": null,
   "id": "c097038b",
   "metadata": {},
   "outputs": [],
   "source": [
    "observations_df = PPCalculateApparentMagnitudeInFilter(observations_df.copy(), 'linear', 'r', 'linear_mag')"
   ]
  },
  {
   "cell_type": "code",
   "execution_count": null,
   "id": "358cfd19",
   "metadata": {},
   "outputs": [],
   "source": [
    "fig, ax = plt.subplots(figsize=(10,8))\n",
    "ax.plot(observations_df[\"MJD\"] - 59000, linear_mag_calc, linestyle=\"\", marker=\"x\", label=\"calculated\")\n",
    "ax.plot(observations_df[\"MJD\"] - 59000, observations_df[\"linear_mag\"], label=\"function\")\n",
    "ax.legend()\n",
    "ax.set_xlabel(\"MJD - 59000\")\n",
    "ax.set_ylabel(\"apparent magnitude\")\n",
    "ax.set_ylim((11.75, 14))\n",
    "plt.show()"
   ]
  },
  {
   "cell_type": "markdown",
   "id": "7825bb17",
   "metadata": {},
   "source": [
    "Note that there is some offset (20-40 mmag) between the `sorcha` predicted magnitudes using the HG/HG12/HG1G2 phase curves and the JPL magnitudes. This is not a bug in `sorcha`, but rather something in JPL (that is presumably using a more sophisticated model). To show that this is the case, we'll test these values out using an independent implementation of the three phase curve models. "
   ]
  },
  {
   "cell_type": "code",
   "execution_count": null,
   "id": "4ccabbea",
   "metadata": {},
   "outputs": [],
   "source": [
    "from scipy.interpolate import CubicSpline\n",
    "\n",
    "A = [3.332, 1.862]\n",
    "B = [0.631, 1.218]\n",
    "C = [0.986, 0.238]\n",
    "\n",
    "alpha_12 = np.deg2rad([7.5, 30., 60, 90, 120, 150])\n",
    "\n",
    "phi_1_sp = [7.5e-1, 3.3486016e-1, 1.3410560e-1, 5.1104756e-2, 2.1465687e-2, 3.6396989e-3]\n",
    "phi_1_derivs = [-1.9098593, -9.1328612e-2]\n",
    "\n",
    "phi_2_sp = [9.25e-1, 6.2884169e-1, 3.1755495e-1, 1.2716367e-1, 2.2373903e-2, 1.6505689e-4]\n",
    "phi_2_derivs = [-5.7295780e-1, -8.6573138e-8]\n",
    "\n",
    "alpha_3 = np.deg2rad([0.0, 0.3, 1., 2., 4., 8., 12., 20., 30.])\n",
    "\n",
    "phi_3_sp = [1., 8.3381185e-1, 5.7735424e-1, 4.2144772e-1, 2.3174230e-1, 1.0348178e-1, 6.1733473e-2, 1.6107006e-2, 0.]\n",
    "phi_3_derivs = [-1.0630097, 0]\n",
    "\n",
    "\n",
    "phi_1 = CubicSpline(alpha_12, phi_1_sp, bc_type=((1,phi_1_derivs[0]),(1,phi_1_derivs[1])))\n",
    "phi_2 = CubicSpline(alpha_12, phi_2_sp, bc_type=((1,phi_2_derivs[0]),(1,phi_2_derivs[1])))\n",
    "phi_3 = CubicSpline(alpha_3, phi_3_sp, bc_type=((1,phi_3_derivs[0]),(1,phi_3_derivs[1])))\n",
    "\n",
    "def HG_model(phase, params):\n",
    "    sin_a = np.sin(phase)\n",
    "    tan_ah = np.tan(phase/2)\n",
    "    \n",
    "    W = np.exp(-90.56 * tan_ah * tan_ah)    \n",
    "    scale_sina = sin_a/(0.119 + 1.341*sin_a - 0.754*sin_a*sin_a)\n",
    "    \n",
    "    phi_1_S = 1 - C[0] * scale_sina\n",
    "    phi_2_S = 1 - C[1] * scale_sina\n",
    "    \n",
    "    phi_1_L = np.exp(-A[0] * np.power(tan_ah, B[0]))\n",
    "    phi_2_L = np.exp(-A[1] * np.power(tan_ah, B[1]))\n",
    "    \n",
    "    phi_1 = W * phi_1_S + (1-W) * phi_1_L\n",
    "    phi_2 = W * phi_2_S + (1-W) * phi_2_L\n",
    "    return params[0] - 2.5*np.log10((1-params[1])* phi_1 + (params[1]) * phi_2) \n",
    "\n",
    "\n",
    "def HG1G2_model(phase, params):\n",
    "\n",
    "    tan_ah = np.tan(phase/2)\n",
    "\n",
    "    phi_1_ev = phi_1(phase)  \n",
    "    phi_2_ev = phi_2(phase)  \n",
    "    phi_3_ev = phi_3(phase)  \n",
    "\n",
    "    msk = phase < 7.5 * np.pi/180\n",
    "\n",
    "    phi_1_ev[msk] = 1-6*phase[msk]/np.pi \n",
    "    phi_2_ev[msk] = 1- 9 * phase[msk]/(5*np.pi)\n",
    "\n",
    "    phi_3_ev[phase > np.pi/6] = 0\n",
    "\n",
    "\n",
    "    return params[0] - 2.5 * np.log10(params[1] * phi_1_ev + params[2] * phi_2_ev + (1-params[1]-params[2]) * phi_3_ev)\n",
    "\n",
    "def HG12_model(phase, params): \n",
    "    if params[1] >= 0.2:\n",
    "        G1 = +0.9529*params[1] + 0.02162 \n",
    "        G2 = -0.6125*params[1] + 0.5572\n",
    "    else:\n",
    "        G1 = +0.7527*params[1] + 0.06164  \n",
    "        G2 = -0.9612*params[1] + 0.6270\n",
    "\n",
    "    return HG1G2_model(phase, [params[0], G1, G2])\n",
    "\n",
    "def HG12star_model(phase, params):\n",
    "    G1 = 0 + params[1] * 0.84293649\n",
    "    G2 = 0.53513350 - params[1] * 0.53513350\n",
    "    \n",
    "    return HG1G2_model(phase, [params[0], G1, G2])"
   ]
  },
  {
   "cell_type": "code",
   "execution_count": null,
   "id": "3dfdfd1f",
   "metadata": {},
   "outputs": [],
   "source": [
    "observations_df['independent_HG'] = observations_df['H_filter'] + 5 * np.log10(observations_df['Range_LTC_km'] * observations_df['Obj_Sun_LTC_km']/(1.495978707e8**2)) + HG_model(observations_df['phase_deg'] * np.pi/180, [0,0.19])\n",
    "observations_df['independent_HG12'] = observations_df['H_filter'] + 5 * np.log10(observations_df['Range_LTC_km'] * observations_df['Obj_Sun_LTC_km']/(1.495978707e8**2)) + HG12_model(observations_df['phase_deg'] * np.pi/180, [0,0.68])\n",
    "observations_df['independent_HG12star'] = observations_df['H_filter'] + 5 * np.log10(observations_df['Range_LTC_km'] * observations_df['Obj_Sun_LTC_km']/(1.495978707e8**2)) + HG12star_model(observations_df['phase_deg'] * np.pi/180, [0,0.68])\n",
    "observations_df['independent_HG1G2'] = observations_df['H_filter'] + 5 * np.log10(observations_df['Range_LTC_km'] * observations_df['Obj_Sun_LTC_km']/(1.495978707e8**2)) + HG1G2_model(observations_df['phase_deg'] * np.pi/180, [0,0.62, 0.14])"
   ]
  },
  {
   "cell_type": "code",
   "execution_count": null,
   "id": "49d5a5fe",
   "metadata": {},
   "outputs": [],
   "source": [
    "plt.hist(observations_df['JPL_mag'] - observations_df['HG_mag'], bins=30, histtype='step', label='HG')\n",
    "plt.hist(observations_df['JPL_mag'] - observations_df['HG12_mag'], bins=30, histtype='step', label='HG12 (Penttila)')\n",
    "plt.hist(observations_df['JPL_mag'] - observations_df['HG1G2_mag'], bins=30, histtype='step', label='HG1G2')\n",
    "plt.hist(observations_df['JPL_mag'] - observations_df['independent_HG12'], bins=30, histtype='step', label='HG12 (Muinonen)')\n",
    "\n",
    "plt.legend(ncol=2)\n",
    "plt.xlabel('JPL - sorcha (mag)')\n",
    "plt.show()\n",
    "\n",
    "\n",
    "plt.hist(observations_df['HG12_mag'] - observations_df['independent_HG12star'], bins=30, histtype='step', label='HG12')\n",
    "plt.hist(observations_df['HG_mag'] - observations_df['independent_HG'], bins=30, histtype='step', label='HG')\n",
    "plt.hist(observations_df['HG1G2_mag'] - observations_df['independent_HG1G2'], bins=30, histtype='step', label='HG1G2 ')\n",
    "plt.xlabel('Independent - sorcha (mag)')\n",
    "\n",
    "plt.legend()\n",
    "plt.tight_layout()\n",
    "plt.show()"
   ]
  },
  {
   "cell_type": "markdown",
   "id": "108d52ed",
   "metadata": {},
   "source": [
    "So the differences are $< 10^{-9}$ between the two implementations."
   ]
  }
 ],
 "metadata": {
  "kernelspec": {
   "display_name": "Python 3 (ipykernel)",
   "language": "python",
   "name": "python3"
  },
  "language_info": {
   "codemirror_mode": {
    "name": "ipython",
    "version": 3
   },
   "file_extension": ".py",
   "mimetype": "text/x-python",
   "name": "python",
   "nbconvert_exporter": "python",
   "pygments_lexer": "ipython3",
   "version": "3.10.13"
  }
 },
 "nbformat": 4,
 "nbformat_minor": 5
}

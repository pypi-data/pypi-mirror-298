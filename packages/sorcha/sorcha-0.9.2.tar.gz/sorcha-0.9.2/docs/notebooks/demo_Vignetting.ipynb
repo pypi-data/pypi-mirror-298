{
 "cells": [
  {
   "cell_type": "markdown",
   "id": "9370867a",
   "metadata": {},
   "source": [
    "## Vignetting Demo"
   ]
  },
  {
   "cell_type": "markdown",
   "id": "9dd25862",
   "metadata": {},
   "source": [
    "This notebook demonstrates the adjustment of limiting magnitude at the object position to account for vignetting."
   ]
  },
  {
   "cell_type": "code",
   "execution_count": null,
   "id": "b0bfe648",
   "metadata": {},
   "outputs": [],
   "source": [
    "import pandas as pd\n",
    "import sqlite3 as sql\n",
    "import matplotlib.pyplot as plt\n",
    "from mpl_toolkits.axes_grid1 import make_axes_locatable"
   ]
  },
  {
   "cell_type": "code",
   "execution_count": null,
   "id": "e9eeb604",
   "metadata": {},
   "outputs": [],
   "source": [
    "from sorcha.modules.PPVignetting import vignettingEffects"
   ]
  },
  {
   "cell_type": "markdown",
   "id": "301a4ec3",
   "metadata": {},
   "source": [
    "We begin by loading in a set of randomised artificial observations which were all generated to lie on the same field, within 2.1 degrees of field centre. To begin with, these observations all have the same five sigma depth at source, or limiting magnitude."
   ]
  },
  {
   "cell_type": "code",
   "execution_count": null,
   "id": "a9b83da7",
   "metadata": {},
   "outputs": [],
   "source": [
    "def get_sql_data(database, rows_start, nrows):\n",
    "    \n",
    "    con = sql.connect(database)\n",
    "    observations = pd.read_sql(\"\"\"SELECT observationId, observationStartMJD as observationStartMJD_TAI, visitTime, visitExposureTime, filter, seeingFwhmGeom as seeingFwhmGeom_arcsec, seeingFwhmEff as seeingFwhmEff_arcsec, fiveSigmaDepth as fieldFiveSigmaDepth_mag, fieldRA as fieldRA_deg, fieldDec as fieldDec_deg, rotSkyPos as fieldRotSkyPos_deg FROM observations order by observationId LIMIT \"\"\" + str(rows_start) + ',' + str(nrows), con)\n",
    "    \n",
    "    return observations"
   ]
  },
  {
   "cell_type": "code",
   "execution_count": null,
   "id": "7b2fb97e",
   "metadata": {},
   "outputs": [],
   "source": [
    "db_path = \"oneline_v2.0.db\"\n",
    "LSSTdf = get_sql_data(db_path, 0,1)"
   ]
  },
  {
   "cell_type": "code",
   "execution_count": null,
   "id": "649fefdd",
   "metadata": {},
   "outputs": [],
   "source": [
    "dfobs = pd.read_csv(\"footprintFilterValidationObservations.csv\", sep='\\s+')"
   ]
  },
  {
   "cell_type": "code",
   "execution_count": null,
   "id": "2283f1f7",
   "metadata": {},
   "outputs": [],
   "source": [
    "dfobs = pd.merge(dfobs, LSSTdf, left_on=\"FieldID\", right_on=\"observationId\", how=\"left\")"
   ]
  },
  {
   "cell_type": "code",
   "execution_count": null,
   "id": "ca3f5c1d",
   "metadata": {},
   "outputs": [],
   "source": [
    "dfobs"
   ]
  },
  {
   "cell_type": "code",
   "execution_count": null,
   "id": "1657b597",
   "metadata": {},
   "outputs": [],
   "source": [
    "dfobs['fieldFiveSigmaDepth_mag']"
   ]
  },
  {
   "cell_type": "code",
   "execution_count": null,
   "id": "ab520a7f",
   "metadata": {},
   "outputs": [],
   "source": [
    "fig, ax = plt.subplots(1, figsize=(10,10))\n",
    "sc=ax.scatter(dfobs['fieldRA_deg']-dfobs['RA_deg'],dfobs['fieldDec_deg']-dfobs['Dec_deg'], s=0.1, c=dfobs['fieldFiveSigmaDepth_mag'].values)\n",
    "ax.set_ylabel('distance from field centre RA (deg)')\n",
    "ax.set_xlabel('distance from field centre Dec (deg)')\n",
    "ax.set_aspect('equal', adjustable='box')\n",
    "fig.colorbar(sc, ax=ax)"
   ]
  },
  {
   "cell_type": "markdown",
   "id": "90c059bf",
   "metadata": {},
   "source": [
    "In the above plot, the points have been shaded according to their limiting magnitude.\n",
    "\n",
    "Now we apply the effects of vignetting and replot. "
   ]
  },
  {
   "cell_type": "code",
   "execution_count": null,
   "id": "16c705b8",
   "metadata": {},
   "outputs": [],
   "source": [
    "dfobs['fiveSigmaDepth_mag'] = vignettingEffects(dfobs)"
   ]
  },
  {
   "cell_type": "code",
   "execution_count": null,
   "id": "f2f142f5",
   "metadata": {},
   "outputs": [],
   "source": [
    "fig, ax = plt.subplots(1, figsize=(10,10))\n",
    "sc=ax.scatter(dfobs['fieldRA_deg']-dfobs['RA_deg'],dfobs['fieldDec_deg']-dfobs['Dec_deg'], s=0.1, c=dfobs['fiveSigmaDepth_mag'].values)\n",
    "ax.set_ylabel('distance from field centre RA (deg)')\n",
    "ax.set_xlabel('distance from field centre Dec (deg)')\n",
    "fig.colorbar(sc, ax=ax)\n",
    "ax.set_aspect('equal', adjustable='box')\n",
    "plt.show()"
   ]
  },
  {
   "cell_type": "markdown",
   "id": "59d1dabd",
   "metadata": {},
   "source": [
    "The effects of vignetting can thus be seen."
   ]
  }
 ],
 "metadata": {
  "kernelspec": {
   "display_name": "Python 3 (ipykernel)",
   "language": "python",
   "name": "python3"
  },
  "language_info": {
   "codemirror_mode": {
    "name": "ipython",
    "version": 3
   },
   "file_extension": ".py",
   "mimetype": "text/x-python",
   "name": "python",
   "nbconvert_exporter": "python",
   "pygments_lexer": "ipython3",
   "version": "3.10.13"
  }
 },
 "nbformat": 4,
 "nbformat_minor": 5
}

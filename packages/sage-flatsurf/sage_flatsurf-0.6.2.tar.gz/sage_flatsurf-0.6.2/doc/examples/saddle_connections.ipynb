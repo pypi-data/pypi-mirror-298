{
 "cells": [
  {
   "cell_type": "markdown",
   "id": "1609a226",
   "metadata": {},
   "source": [
    "# Working with Saddle Connections"
   ]
  },
  {
   "cell_type": "code",
   "execution_count": null,
   "id": "9e864dc1",
   "metadata": {
    "jupyter": {
     "outputs_hidden": true
    }
   },
   "outputs": [],
   "source": [
    "from flatsurf import translation_surfaces\n",
    "\n",
    "s = translation_surfaces.veech_double_n_gon(5)"
   ]
  },
  {
   "cell_type": "code",
   "execution_count": null,
   "id": "05e4909c",
   "metadata": {
    "jupyter": {
     "outputs_hidden": false
    }
   },
   "outputs": [],
   "source": [
    "s.plot()"
   ]
  },
  {
   "cell_type": "markdown",
   "id": "9cd909d6",
   "metadata": {},
   "source": [
    "We get a list of all saddle connections of length less than 10."
   ]
  },
  {
   "cell_type": "code",
   "execution_count": null,
   "id": "5d144f88",
   "metadata": {
    "jupyter": {
     "outputs_hidden": false
    }
   },
   "outputs": [],
   "source": [
    "sc_list = s.saddle_connections(10)\n",
    "len(sc_list)"
   ]
  },
  {
   "cell_type": "markdown",
   "id": "36332a33",
   "metadata": {},
   "source": [
    "The following removes duplicate saddle connections which appear with opposite orientations."
   ]
  },
  {
   "cell_type": "code",
   "execution_count": null,
   "id": "be646440",
   "metadata": {
    "jupyter": {
     "outputs_hidden": false
    }
   },
   "outputs": [],
   "source": [
    "sc_set = set()\n",
    "for sc in sc_list:\n",
    "    if sc.invert() not in sc_set:\n",
    "        sc_set.add(sc)\n",
    "sc_list2 = list(sc_set)\n",
    "len(sc_list2)"
   ]
  },
  {
   "cell_type": "markdown",
   "id": "7de0c578",
   "metadata": {},
   "source": [
    "We pick two saddle connections:"
   ]
  },
  {
   "cell_type": "code",
   "execution_count": null,
   "id": "36d64dcd",
   "metadata": {
    "jupyter": {
     "outputs_hidden": false
    }
   },
   "outputs": [],
   "source": [
    "sc1 = sc_list2[-15]\n",
    "sc2 = sc_list2[-12]"
   ]
  },
  {
   "cell_type": "markdown",
   "id": "2d4367d9",
   "metadata": {},
   "source": [
    "We can find their holonomies and other information about them using methods."
   ]
  },
  {
   "cell_type": "code",
   "execution_count": null,
   "id": "cc446e12",
   "metadata": {
    "jupyter": {
     "outputs_hidden": false
    }
   },
   "outputs": [],
   "source": [
    "print(\"Holonomy of sc1 is\" + str(sc1.holonomy()) + \" = \" + str(sc1.holonomy().n()))\n",
    "print(\"Holonomy of sc2 is\" + str(sc2.holonomy()) + \" = \" + str(sc2.holonomy().n()))"
   ]
  },
  {
   "cell_type": "code",
   "execution_count": null,
   "id": "ef2ca35c",
   "metadata": {
    "jupyter": {
     "outputs_hidden": false
    }
   },
   "outputs": [],
   "source": [
    "s.plot() + sc1.plot(color=\"orange\") + sc2.plot(color=\"green\")"
   ]
  },
  {
   "cell_type": "markdown",
   "id": "89cf6469",
   "metadata": {},
   "source": [
    "We can test that they intersect. By default the singularity does not count."
   ]
  },
  {
   "cell_type": "code",
   "execution_count": null,
   "id": "f8d98025",
   "metadata": {
    "jupyter": {
     "outputs_hidden": false
    }
   },
   "outputs": [],
   "source": [
    "sc1.intersects(sc2)"
   ]
  },
  {
   "cell_type": "markdown",
   "id": "ce08355b",
   "metadata": {},
   "source": [
    "We can get an iterator over the set of intersection points:"
   ]
  },
  {
   "cell_type": "code",
   "execution_count": null,
   "id": "381686f3",
   "metadata": {
    "jupyter": {
     "outputs_hidden": false
    }
   },
   "outputs": [],
   "source": [
    "for p in sc1.intersections(sc2):\n",
    "    print(p)"
   ]
  },
  {
   "cell_type": "markdown",
   "id": "d1aac5a0",
   "metadata": {},
   "source": [
    "It is a good idea to store the intersections in a list if you want to reuse them:"
   ]
  },
  {
   "cell_type": "code",
   "execution_count": null,
   "id": "2e68044c",
   "metadata": {
    "jupyter": {
     "outputs_hidden": false
    }
   },
   "outputs": [],
   "source": [
    "intersections = list(sc1.intersections(sc2))"
   ]
  },
  {
   "cell_type": "markdown",
   "id": "3b9f320f",
   "metadata": {},
   "source": [
    "We can plot the intersection points:"
   ]
  },
  {
   "cell_type": "code",
   "execution_count": null,
   "id": "a0ab3253",
   "metadata": {
    "jupyter": {
     "outputs_hidden": false
    }
   },
   "outputs": [],
   "source": [
    "plot = s.plot() + sc1.plot(color=\"orange\") + sc2.plot(color=\"green\")\n",
    "for p in intersections:\n",
    "    plot += p.plot(color=\"red\", zorder=3)\n",
    "plot"
   ]
  },
  {
   "cell_type": "markdown",
   "id": "6ea57ae0",
   "metadata": {},
   "source": [
    "We can plot all the saddle connections:"
   ]
  },
  {
   "cell_type": "code",
   "execution_count": null,
   "id": "fd45f23a",
   "metadata": {
    "jupyter": {
     "outputs_hidden": false
    }
   },
   "outputs": [],
   "source": [
    "plot = s.plot(edge_labels=False, polygon_labels=False)\n",
    "for sc in sc_list:\n",
    "    plot += sc.plot(thickness=0.05)\n",
    "plot"
   ]
  },
  {
   "cell_type": "markdown",
   "id": "1624b1bc",
   "metadata": {},
   "source": [
    "We will build a subset of the saddle connection graph where vertices are saddle connections and two vertices are joined by an edge if and only if the saddle connections do not intersect (on their interiors)."
   ]
  },
  {
   "cell_type": "code",
   "execution_count": null,
   "id": "c35e41bc",
   "metadata": {
    "jupyter": {
     "outputs_hidden": false
    }
   },
   "outputs": [],
   "source": [
    "d = {}\n",
    "\n",
    "for i in range(len(sc_list2)):\n",
    "    for j in range(i + 1, len(sc_list2)):\n",
    "        if not sc_list2[i].intersects(sc_list2[j]):\n",
    "            if i not in d:\n",
    "                d[i] = [j]\n",
    "            else:\n",
    "                d[i].append(j)\n",
    "            if j not in d:\n",
    "                d[j] = [i]\n",
    "            else:\n",
    "                d[j].append(i)\n",
    "\n",
    "g = Graph(d)"
   ]
  },
  {
   "cell_type": "markdown",
   "id": "5e21c9f9",
   "metadata": {},
   "source": [
    "We place the vertex of a saddle connection with holonomy $z \\in {\\mathbb C}$ at the point $z^2$."
   ]
  },
  {
   "cell_type": "code",
   "execution_count": null,
   "id": "fc62610c",
   "metadata": {
    "jupyter": {
     "outputs_hidden": false
    }
   },
   "outputs": [],
   "source": [
    "pos = {}\n",
    "for i in range(len(sc_list2)):\n",
    "    sc = sc_list2[i]\n",
    "    val = sc.holonomy().n()\n",
    "    z = val[0] + I * val[1]\n",
    "    w = z**2 / z.abs()\n",
    "    pos[i] = (w.real(), w.imag())"
   ]
  },
  {
   "cell_type": "code",
   "execution_count": null,
   "id": "898725ce",
   "metadata": {
    "jupyter": {
     "outputs_hidden": false
    }
   },
   "outputs": [],
   "source": [
    "g.plot(pos=pos, vertex_labels=False, vertex_size=0)"
   ]
  }
 ],
 "metadata": {
  "jupytext": {
   "formats": "ipynb,md:myst"
  },
  "kernelspec": {
   "display_name": "SageMath 9.7",
   "language": "sage",
   "name": "sagemath"
  }
 },
 "nbformat": 4,
 "nbformat_minor": 5
}

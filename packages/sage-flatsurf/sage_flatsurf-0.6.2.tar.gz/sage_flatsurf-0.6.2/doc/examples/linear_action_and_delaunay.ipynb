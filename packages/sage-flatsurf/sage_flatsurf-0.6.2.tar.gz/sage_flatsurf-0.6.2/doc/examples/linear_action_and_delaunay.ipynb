{
 "cells": [
  {
   "cell_type": "markdown",
   "id": "c8dd5e6a",
   "metadata": {},
   "source": [
    "# The GL(2,R) Action, the Veech Group, Delaunay Decomposition\n",
    "\n",
    "## Acting on surfaces by matrices."
   ]
  },
  {
   "cell_type": "code",
   "execution_count": null,
   "id": "75b6e8d0",
   "metadata": {
    "jupyter": {
     "outputs_hidden": true
    }
   },
   "outputs": [],
   "source": [
    "from flatsurf import translation_surfaces\n",
    "\n",
    "s = translation_surfaces.veech_double_n_gon(5)"
   ]
  },
  {
   "cell_type": "code",
   "execution_count": null,
   "id": "cada341e",
   "metadata": {
    "jupyter": {
     "outputs_hidden": false
    }
   },
   "outputs": [],
   "source": [
    "s.plot()"
   ]
  },
  {
   "cell_type": "code",
   "execution_count": null,
   "id": "164cb4c1",
   "metadata": {
    "jupyter": {
     "outputs_hidden": false
    }
   },
   "outputs": [],
   "source": [
    "m = matrix([[2, 1], [1, 1]])"
   ]
  },
  {
   "cell_type": "markdown",
   "id": "c824b1fa",
   "metadata": {},
   "source": [
    "You can act on surfaces with the $GL(2,R)$ action"
   ]
  },
  {
   "cell_type": "code",
   "execution_count": null,
   "id": "c5338173",
   "metadata": {
    "jupyter": {
     "outputs_hidden": false
    }
   },
   "outputs": [],
   "source": [
    "ss = m * s\n",
    "ss"
   ]
  },
  {
   "cell_type": "code",
   "execution_count": null,
   "id": "5b816224",
   "metadata": {
    "jupyter": {
     "outputs_hidden": false
    }
   },
   "outputs": [],
   "source": [
    "ss.plot()"
   ]
  },
  {
   "cell_type": "markdown",
   "id": "03a58ebc",
   "metadata": {},
   "source": [
    "To \"renormalize\" you can improve the presentation using the Delaunay decomposition."
   ]
  },
  {
   "cell_type": "code",
   "execution_count": null,
   "id": "3941a323",
   "metadata": {
    "jupyter": {
     "outputs_hidden": false
    }
   },
   "outputs": [],
   "source": [
    "sss = ss.delaunay_decomposition()\n",
    "sss"
   ]
  },
  {
   "cell_type": "code",
   "execution_count": null,
   "id": "7cc26dbb",
   "metadata": {
    "jupyter": {
     "outputs_hidden": false
    }
   },
   "outputs": [],
   "source": [
    "sss.plot()"
   ]
  },
  {
   "cell_type": "markdown",
   "id": "480c295b",
   "metadata": {},
   "source": [
    "## The Veech group\n",
    "\n",
    "Set $s$ to be the double pentagon again."
   ]
  },
  {
   "cell_type": "code",
   "execution_count": null,
   "id": "51985389",
   "metadata": {
    "jupyter": {
     "outputs_hidden": true
    }
   },
   "outputs": [],
   "source": [
    "s = translation_surfaces.veech_double_n_gon(5)"
   ]
  },
  {
   "cell_type": "markdown",
   "id": "f9ab5aa4",
   "metadata": {},
   "source": [
    "The surface has a horizontal cylinder decomposition all of whose moduli are given as below"
   ]
  },
  {
   "cell_type": "code",
   "execution_count": null,
   "id": "b5046674",
   "metadata": {
    "jupyter": {
     "outputs_hidden": false
    }
   },
   "outputs": [],
   "source": [
    "p = s.polygon(0)\n",
    "modulus = (p.vertex(3)[1] - p.vertex(2)[1]) / (p.vertex(2)[0] - p.vertex(4)[0])\n",
    "AA(modulus)"
   ]
  },
  {
   "cell_type": "code",
   "execution_count": null,
   "id": "8616564f",
   "metadata": {
    "jupyter": {
     "outputs_hidden": false
    }
   },
   "outputs": [],
   "source": [
    "m = matrix(s.base_ring(), [[1, 1 / modulus], [0, 1]])\n",
    "show(m)"
   ]
  },
  {
   "cell_type": "code",
   "execution_count": null,
   "id": "b64d19af",
   "metadata": {
    "jupyter": {
     "outputs_hidden": false
    }
   },
   "outputs": [],
   "source": [
    "show(matrix(AA, m))"
   ]
  },
  {
   "cell_type": "markdown",
   "id": "089b444d",
   "metadata": {},
   "source": [
    "The following can be used to check that $m$ is in the Veech group of $s$."
   ]
  },
  {
   "cell_type": "code",
   "execution_count": null,
   "id": "c80443f3",
   "metadata": {
    "jupyter": {
     "outputs_hidden": false
    }
   },
   "outputs": [],
   "source": [
    "s.canonicalize() == (m * s).canonicalize()"
   ]
  },
  {
   "cell_type": "markdown",
   "id": "c5ecbe8d",
   "metadata": {},
   "source": [
    "## Infinite surfaces\n",
    "\n",
    "Infinite surfaces support multiplication by matrices and computing the Delaunay decomposition. (Computation is done \"lazily\")"
   ]
  },
  {
   "cell_type": "code",
   "execution_count": null,
   "id": "2ce6f229",
   "metadata": {
    "jupyter": {
     "outputs_hidden": false
    }
   },
   "outputs": [],
   "source": [
    "s = translation_surfaces.chamanara(1 / 2)"
   ]
  },
  {
   "cell_type": "code",
   "execution_count": null,
   "id": "ab1984da",
   "metadata": {
    "jupyter": {
     "outputs_hidden": false
    }
   },
   "outputs": [],
   "source": [
    "s.plot(edge_labels=False, polygon_labels=False)"
   ]
  },
  {
   "cell_type": "code",
   "execution_count": null,
   "id": "caa2238b",
   "metadata": {
    "jupyter": {
     "outputs_hidden": true
    }
   },
   "outputs": [],
   "source": [
    "ss = s.delaunay_decomposition()"
   ]
  },
  {
   "cell_type": "code",
   "execution_count": null,
   "id": "cf2dd701",
   "metadata": {
    "jupyter": {
     "outputs_hidden": true
    }
   },
   "outputs": [],
   "source": [
    "gs = ss.graphical_surface(edge_labels=False, polygon_labels=False)\n",
    "gs.make_all_visible(limit=20)"
   ]
  },
  {
   "cell_type": "code",
   "execution_count": null,
   "id": "c4b20e82",
   "metadata": {
    "jupyter": {
     "outputs_hidden": false
    }
   },
   "outputs": [],
   "source": [
    "gs.plot()"
   ]
  },
  {
   "cell_type": "code",
   "execution_count": null,
   "id": "b78626f4",
   "metadata": {
    "jupyter": {
     "outputs_hidden": true
    }
   },
   "outputs": [],
   "source": [
    "m = matrix([[2, 0], [0, 1 / 2]])"
   ]
  },
  {
   "cell_type": "code",
   "execution_count": null,
   "id": "b83aac33",
   "metadata": {
    "jupyter": {
     "outputs_hidden": true
    }
   },
   "outputs": [],
   "source": [
    "ms = m * s"
   ]
  },
  {
   "cell_type": "code",
   "execution_count": null,
   "id": "0305209f",
   "metadata": {
    "jupyter": {
     "outputs_hidden": false
    }
   },
   "outputs": [],
   "source": [
    "gs = ms.graphical_surface(edge_labels=False, polygon_labels=False)\n",
    "gs.make_all_visible(limit=20)\n",
    "gs.plot()"
   ]
  },
  {
   "cell_type": "code",
   "execution_count": null,
   "id": "f7a89b4f",
   "metadata": {
    "jupyter": {
     "outputs_hidden": false
    }
   },
   "outputs": [],
   "source": [
    "mss = ms.delaunay_decomposition()"
   ]
  },
  {
   "cell_type": "code",
   "execution_count": null,
   "id": "ad4d9472",
   "metadata": {
    "jupyter": {
     "outputs_hidden": false
    }
   },
   "outputs": [],
   "source": [
    "gs = mss.graphical_surface(edge_labels=False, polygon_labels=False)\n",
    "gs.make_all_visible(limit=20)\n",
    "gs.plot()"
   ]
  },
  {
   "cell_type": "markdown",
   "id": "075e9ce0",
   "metadata": {},
   "source": [
    "You can tell from the above picture that $m$ is in the Veech group."
   ]
  }
 ],
 "metadata": {
  "jupytext": {
   "formats": "ipynb,md:myst"
  },
  "kernelspec": {
   "display_name": "SageMath 9.7",
   "language": "sage",
   "name": "sagemath"
  }
 },
 "nbformat": 4,
 "nbformat_minor": 5
}

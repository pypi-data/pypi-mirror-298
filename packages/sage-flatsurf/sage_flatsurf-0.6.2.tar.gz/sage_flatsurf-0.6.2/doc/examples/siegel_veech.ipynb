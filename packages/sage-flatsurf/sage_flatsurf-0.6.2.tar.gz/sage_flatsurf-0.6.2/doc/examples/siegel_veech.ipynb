{
 "cells": [
  {
   "cell_type": "markdown",
   "id": "8860f88e",
   "metadata": {},
   "source": [
    "# Siegel-Veech Constants\n",
    "\n",
    "We count the number of cylinders of circumference at most $L$ in a surface as a\n",
    "step in a potential computation of Siegel-Veech constants that David Aulicino\n",
    "was interested in.\n",
    "\n",
    "Note that parts of this code use the C++ library libflatsurf. Please consult\n",
    "our installation instructions if this library is not available on your system yet.\n",
    "\n",
    "We start by creating a surface with [sage-flatsurf](https://github.com/flatsurf/sage-flatsurf)."
   ]
  },
  {
   "cell_type": "code",
   "execution_count": null,
   "id": "b9657f41",
   "metadata": {},
   "outputs": [],
   "source": [
    "from flatsurf import translation_surfaces\n",
    "\n",
    "S = translation_surfaces.mcmullen_L(1, 1, 1, 1)"
   ]
  },
  {
   "cell_type": "code",
   "execution_count": null,
   "id": "b606932d",
   "metadata": {},
   "outputs": [],
   "source": [
    "S.plot()"
   ]
  },
  {
   "cell_type": "markdown",
   "id": "71e3d0cb",
   "metadata": {},
   "source": [
    "Decomposition of a surface into cylinders is implemented in [pyflatsurf](https://github.com/flatsurf/flatsurf). We triangulate our surface and make sure that its vertices are singularities."
   ]
  },
  {
   "cell_type": "code",
   "execution_count": null,
   "id": "a398197f",
   "metadata": {},
   "outputs": [],
   "source": [
    "S = S.pyflatsurf().codomain().flat_triangulation()\n",
    "S = S.eliminateMarkedPoints().surface()"
   ]
  },
  {
   "cell_type": "markdown",
   "id": "e2b4d58a",
   "metadata": {},
   "source": [
    "We will iterate over all directions coming from saddle connections of length at most L (ignoring connections that have the same slope.)"
   ]
  },
  {
   "cell_type": "code",
   "execution_count": null,
   "id": "9eb15401",
   "metadata": {},
   "outputs": [],
   "source": [
    "L = int(16)\n",
    "\n",
    "directions = S.connections().bound(L).slopes()"
   ]
  },
  {
   "cell_type": "markdown",
   "id": "832750f5",
   "metadata": {
    "lines_to_next_cell": 2
   },
   "source": [
    "For each direction we want to compute a decomposition into cylinders and minimal components. Note that sometimes our algorithm cannot decide whether a component is minimal. However, this is not an issue here: we can stop the decomposition process when a component has become so stretched out that it has no hope of producing a cylinder of circumference $≤L$ anymore.\n",
    "\n",
    "Here we define the target of the decomposition, i.e., a predicate that determines when a decomposition of a component can be stopped:"
   ]
  },
  {
   "cell_type": "code",
   "execution_count": null,
   "id": "ca083f61",
   "metadata": {
    "lines_to_next_cell": 2
   },
   "outputs": [],
   "source": [
    "def target(component):\n",
    "    if component.cylinder():\n",
    "        # This component is a cylinder. No further decomposition needed.\n",
    "        return True\n",
    "    if component.withoutPeriodicTrajectory():\n",
    "        # This component is minimal. Further decomposition will not produce any cylinders.\n",
    "        return True\n",
    "\n",
    "    height = component.height()\n",
    "\n",
    "    # This height bounds the size of any cylinder. However, it is stretched by the length of the vector\n",
    "    # defining the vertical direction. (That vector is not normalized because that is hard to do in\n",
    "    # general rings…)\n",
    "    from pyflatsurf import flatsurf\n",
    "\n",
    "    bound = (height * height) / flatsurf.Bound.upper(\n",
    "        component.vertical().vertical()\n",
    "    ).squared()\n",
    "    return bound > L"
   ]
  },
  {
   "cell_type": "markdown",
   "id": "84a7603c",
   "metadata": {},
   "source": [
    "Now we perform the actual decomposition and collect the cylinders of circumference $≤L$:"
   ]
  },
  {
   "cell_type": "code",
   "execution_count": null,
   "id": "76744a66",
   "metadata": {},
   "outputs": [],
   "source": [
    "circumferences = []\n",
    "\n",
    "for direction in directions:\n",
    "    from pyflatsurf import flatsurf\n",
    "\n",
    "    decomposition = flatsurf.makeFlowDecomposition(S, direction.vector())\n",
    "    decomposition.decompose(target)\n",
    "    for component in decomposition.components():\n",
    "        if component.cylinder():\n",
    "            circumference = component.circumferenceHolonomy()\n",
    "            if circumference > L:\n",
    "                continue\n",
    "            circumferences.append(circumference)"
   ]
  },
  {
   "cell_type": "markdown",
   "id": "537327e5",
   "metadata": {},
   "source": [
    "We will plot a histogram of all the cylinders that we found ordered by their length. It would be easy to plot this differently, weighted by the area, …"
   ]
  },
  {
   "cell_type": "code",
   "execution_count": null,
   "id": "263b8a3a",
   "metadata": {},
   "outputs": [],
   "source": [
    "lengths = [sqrt(float(v.x()) ** 2 + float(v.y()) ** 2) for v in circumferences]\n",
    "\n",
    "import matplotlib.pyplot as plot\n",
    "\n",
    "_ = plot.hist(lengths)\n",
    "_ = plot.xlim(0, L)\n",
    "_ = plot.title(f\"{len(circumferences)} cylinders with length at most {L}\")\n",
    "_ = plot.xlabel(\"Length\")\n",
    "_ = plot.ylabel(\"Count\")"
   ]
  }
 ],
 "metadata": {
  "jupytext": {
   "formats": "ipynb,md:myst,sage:light"
  },
  "kernelspec": {
   "display_name": "SageMath 9.7",
   "language": "sage",
   "name": "sagemath"
  }
 },
 "nbformat": 4,
 "nbformat_minor": 5
}

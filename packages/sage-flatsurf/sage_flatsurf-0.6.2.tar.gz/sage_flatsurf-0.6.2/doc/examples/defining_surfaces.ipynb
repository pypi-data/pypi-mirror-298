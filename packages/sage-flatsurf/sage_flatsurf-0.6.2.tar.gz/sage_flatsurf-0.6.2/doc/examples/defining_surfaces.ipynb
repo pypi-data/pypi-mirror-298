{
 "cells": [
  {
   "cell_type": "markdown",
   "id": "8f9ef6fd",
   "metadata": {},
   "source": [
    "# Defining Surfaces\n",
    "\n",
    "## Built in surfaces\n",
    "\n",
    "Veech's double n-gon surfaces:"
   ]
  },
  {
   "cell_type": "code",
   "execution_count": null,
   "id": "d3365de6",
   "metadata": {},
   "outputs": [],
   "source": [
    "from flatsurf import translation_surfaces\n",
    "\n",
    "s = translation_surfaces.veech_double_n_gon(5)\n",
    "s.plot()"
   ]
  },
  {
   "cell_type": "markdown",
   "id": "9b69a4a6",
   "metadata": {},
   "source": [
    "The Arnoux-Yoccoz surface of arbitrary genus is built in:"
   ]
  },
  {
   "cell_type": "code",
   "execution_count": null,
   "id": "312418d6",
   "metadata": {},
   "outputs": [],
   "source": [
    "s = translation_surfaces.arnoux_yoccoz(3)\n",
    "s.plot()"
   ]
  },
  {
   "cell_type": "markdown",
   "id": "a6424bb0",
   "metadata": {},
   "source": [
    "Chamanara's infinite translation surface:"
   ]
  },
  {
   "cell_type": "code",
   "execution_count": null,
   "id": "ce1f0204",
   "metadata": {},
   "outputs": [],
   "source": [
    "s = translation_surfaces.chamanara(1 / 2)"
   ]
  },
  {
   "cell_type": "code",
   "execution_count": null,
   "id": "ed176723",
   "metadata": {},
   "outputs": [],
   "source": [
    "s.plot(polygon_labels=False, edge_labels=False)"
   ]
  },
  {
   "cell_type": "code",
   "execution_count": null,
   "id": "f4198a05",
   "metadata": {},
   "outputs": [],
   "source": [
    "s = translation_surfaces.infinite_staircase()"
   ]
  },
  {
   "cell_type": "code",
   "execution_count": null,
   "id": "93b6d8e1",
   "metadata": {},
   "outputs": [],
   "source": [
    "s.plot()"
   ]
  },
  {
   "cell_type": "markdown",
   "id": "258d946d",
   "metadata": {},
   "source": [
    "## Billiard tables"
   ]
  },
  {
   "cell_type": "code",
   "execution_count": null,
   "id": "5ccf2607",
   "metadata": {},
   "outputs": [],
   "source": [
    "from flatsurf import similarity_surfaces, Polygon\n",
    "\n",
    "s = similarity_surfaces.billiard(Polygon(vertices=[(0, 0), (3, 0), (0, 4)]))"
   ]
  },
  {
   "cell_type": "code",
   "execution_count": null,
   "id": "83ddb29a",
   "metadata": {},
   "outputs": [],
   "source": [
    "s.plot()"
   ]
  },
  {
   "cell_type": "markdown",
   "id": "23e989d4",
   "metadata": {},
   "source": [
    "## Minimal translation surface covers\n",
    "\n",
    "Continuing the billiard example above, we get an infinite translation surface below:"
   ]
  },
  {
   "cell_type": "code",
   "execution_count": null,
   "id": "678e7aa5",
   "metadata": {},
   "outputs": [],
   "source": [
    "ss = s.minimal_cover(cover_type=\"translation\")"
   ]
  },
  {
   "cell_type": "code",
   "execution_count": null,
   "id": "1671e1ae",
   "metadata": {},
   "outputs": [],
   "source": [
    "gs = ss.graphical_surface()"
   ]
  },
  {
   "cell_type": "code",
   "execution_count": null,
   "id": "d3b0f659",
   "metadata": {},
   "outputs": [],
   "source": [
    "gs.make_all_visible(limit=12)"
   ]
  },
  {
   "cell_type": "code",
   "execution_count": null,
   "id": "2259fb1a",
   "metadata": {},
   "outputs": [],
   "source": [
    "gs.plot()"
   ]
  },
  {
   "cell_type": "markdown",
   "id": "19e03a75",
   "metadata": {},
   "source": [
    "## Building surfaces from polygons\n",
    "\n",
    "This defines a regular 12-gon with algebraic real coordinates (AA) with first vector given by (1,0):"
   ]
  },
  {
   "cell_type": "code",
   "execution_count": null,
   "id": "a2348e10",
   "metadata": {},
   "outputs": [],
   "source": [
    "from flatsurf import polygons\n",
    "\n",
    "p0 = polygons.regular_ngon(12, field=AA)\n",
    "p1 = polygons.regular_ngon(3, field=AA)"
   ]
  },
  {
   "cell_type": "code",
   "execution_count": null,
   "id": "7bcbd600",
   "metadata": {},
   "outputs": [],
   "source": [
    "p0.plot() + p1.plot()"
   ]
  },
  {
   "cell_type": "markdown",
   "id": "2ffb5671",
   "metadata": {},
   "source": [
    "The vertices of n-gons are numbered by $\\{0,...,n-1\\}$, with the $0$-th vertex at the origin. Edge $i$ joins vertex $i$ to vertex $i+1 \\pmod{n}$.\n",
    "\n",
    "We can act on polygon with $2 \\times 2$ matrices. We define the rotation by $\\frac{\\pi}{6}$ below:"
   ]
  },
  {
   "cell_type": "code",
   "execution_count": null,
   "id": "978e6181",
   "metadata": {},
   "outputs": [],
   "source": [
    "R = matrix(AA, [[cos(pi / 6), -sin(pi / 6)], [sin(pi / 6), cos(pi / 6)]])\n",
    "show(R)"
   ]
  },
  {
   "cell_type": "code",
   "execution_count": null,
   "id": "f9538871",
   "metadata": {},
   "outputs": [],
   "source": [
    "R * p1"
   ]
  },
  {
   "cell_type": "markdown",
   "id": "4a4cae59",
   "metadata": {},
   "source": [
    "Define a surface over the field <code>AA</code> of algebraic reals."
   ]
  },
  {
   "cell_type": "code",
   "execution_count": null,
   "id": "88d82689",
   "metadata": {},
   "outputs": [],
   "source": [
    "from flatsurf import MutableOrientedSimilaritySurface\n",
    "\n",
    "surface = MutableOrientedSimilaritySurface(AA)"
   ]
  },
  {
   "cell_type": "markdown",
   "id": "290aa8ef",
   "metadata": {},
   "source": [
    "Add two polygons to the surface with labels 0 and 1:"
   ]
  },
  {
   "cell_type": "code",
   "execution_count": null,
   "id": "983bc157",
   "metadata": {},
   "outputs": [],
   "source": [
    "surface.add_polygon(p0, label=0)"
   ]
  },
  {
   "cell_type": "code",
   "execution_count": null,
   "id": "ddbc5c37",
   "metadata": {},
   "outputs": [],
   "source": [
    "surface.add_polygon(p1, label=1)"
   ]
  },
  {
   "cell_type": "markdown",
   "id": "7bee40ae",
   "metadata": {},
   "source": [
    "Glue the edges of polygon 0 to the parallel edges of polygon 1."
   ]
  },
  {
   "cell_type": "code",
   "execution_count": null,
   "id": "5736c0ef",
   "metadata": {},
   "outputs": [],
   "source": [
    "surface.glue((0, 6), (1, 0))\n",
    "surface.glue((0, 10), (1, 1))\n",
    "surface.glue((0, 2), (1, 2))"
   ]
  },
  {
   "cell_type": "markdown",
   "id": "7759502e",
   "metadata": {},
   "source": [
    "Add three more rotated triangles and glue them appropriately."
   ]
  },
  {
   "cell_type": "code",
   "execution_count": null,
   "id": "af8e7241",
   "metadata": {},
   "outputs": [],
   "source": [
    "for i in range(1, 4):\n",
    "    surface.add_polygon((R**i) * p1, label=i + 1)\n",
    "    surface.glue((0, 6 + i), (i + 1, 0))\n",
    "    surface.glue((0, (10 + i) % 12), (i + 1, 1))\n",
    "    surface.glue((0, 2 + i), (i + 1, 2))"
   ]
  },
  {
   "cell_type": "markdown",
   "id": "a520ba11",
   "metadata": {},
   "source": [
    "Now we have a closed surface. In fact this is a translation surface:"
   ]
  },
  {
   "cell_type": "code",
   "execution_count": null,
   "id": "38532b10",
   "metadata": {},
   "outputs": [],
   "source": [
    "surface"
   ]
  },
  {
   "cell_type": "markdown",
   "id": "451ce628",
   "metadata": {},
   "source": [
    "Once we are done building the surface, it is recommended to make the surface immutable. This lets sage-flatsurf figure out of which nature this surface is, e.g., that it is a translation surface. This speeds up many operations on the surface and makes it possible to compute things that are only defined or implemented for some types of surfaces:"
   ]
  },
  {
   "cell_type": "code",
   "execution_count": null,
   "id": "ec83e1fb",
   "metadata": {},
   "outputs": [],
   "source": [
    "surface.set_immutable()\n",
    "surface"
   ]
  },
  {
   "cell_type": "markdown",
   "id": "e9d875c8",
   "metadata": {},
   "source": [
    "If you want to compute things, such as the stratum without making a surface immutable, please refer to the details in the documentation of the ``flatsurf.geometry.categories`` module in the module reference.\n",
    "\n",
    "We can plot the surface. Edges are labeled according to the polygon they are glued to."
   ]
  },
  {
   "cell_type": "code",
   "execution_count": null,
   "id": "31aa24ad",
   "metadata": {},
   "outputs": [],
   "source": [
    "surface.plot()"
   ]
  },
  {
   "cell_type": "markdown",
   "id": "2fe8d8d9",
   "metadata": {},
   "source": [
    "The field containing the vertices:"
   ]
  },
  {
   "cell_type": "code",
   "execution_count": null,
   "id": "cd496cc3",
   "metadata": {},
   "outputs": [],
   "source": [
    "surface.base_ring()"
   ]
  },
  {
   "cell_type": "markdown",
   "id": "d75242c1",
   "metadata": {},
   "source": [
    "Computations in the Algebraic Real Field (AA) are slow. It is better to use a NumberField. The following finds a smaller number field::"
   ]
  },
  {
   "cell_type": "code",
   "execution_count": null,
   "id": "ad0b3678",
   "metadata": {},
   "outputs": [],
   "source": [
    "vertices = [surface.polygon(p).vertex(v) for (p, v) in surface.edges()]\n",
    "vertices = [vertex[0] for vertex in vertices] + [vertex[1] for vertex in vertices]\n",
    "base_ring = Sequence(\n",
    "    [coordinate.as_number_field_element()[1] for coordinate in vertices]\n",
    ").universe()\n",
    "ss = surface.change_ring(base_ring)"
   ]
  },
  {
   "cell_type": "code",
   "execution_count": null,
   "id": "6a1bc083",
   "metadata": {},
   "outputs": [],
   "source": [
    "ss.base_ring()"
   ]
  },
  {
   "cell_type": "markdown",
   "id": "0bcf91bf",
   "metadata": {},
   "source": [
    "## Getting a surface from Flipper\n",
    "\n",
    "<a href=\"http://flipper.readthedocs.io/en/latest/\">Flipper</a> is a program written by Mark Bell which understands mapping classes and can compute the flat structure associated to a pseudo-Anosov mapping class. FlatSurf can import this structure.\n",
    "\n",
    "This code below requires flipper to be installed. You can do this by running the shell within sage:\n",
    "<code>sage --sh</code>\n",
    "Then within the shell execute:\n",
    "<code>python -m pip install flipper --user --upgrade</code>\n",
    "More information including pitfalls are described in <a href=\"http://flipper.readthedocs.io/en/latest/start.html#installation\">Flipper's installation instructions</a>."
   ]
  },
  {
   "cell_type": "code",
   "execution_count": null,
   "id": "8ce4b8fb",
   "metadata": {},
   "outputs": [],
   "source": [
    "import flipper"
   ]
  },
  {
   "cell_type": "code",
   "execution_count": null,
   "id": "0a7efd3e",
   "metadata": {},
   "outputs": [],
   "source": [
    "T = flipper.load(\"SB_4\")"
   ]
  },
  {
   "cell_type": "code",
   "execution_count": null,
   "id": "a45b750e",
   "metadata": {},
   "outputs": [],
   "source": [
    "h = T.mapping_class(\"s_0S_1s_2S_3s_1S_2\")"
   ]
  },
  {
   "cell_type": "code",
   "execution_count": null,
   "id": "3b067390",
   "metadata": {},
   "outputs": [],
   "source": [
    "h.is_pseudo_anosov()"
   ]
  },
  {
   "cell_type": "code",
   "execution_count": null,
   "id": "b1486eab",
   "metadata": {},
   "outputs": [],
   "source": [
    "s = translation_surfaces.from_flipper(h)"
   ]
  },
  {
   "cell_type": "markdown",
   "id": "ee79e7eb",
   "metadata": {},
   "source": [
    "The surface s is actually a half translation surface"
   ]
  },
  {
   "cell_type": "code",
   "execution_count": null,
   "id": "523a67a4",
   "metadata": {},
   "outputs": [],
   "source": [
    "s"
   ]
  },
  {
   "cell_type": "code",
   "execution_count": null,
   "id": "b6d4b51d",
   "metadata": {},
   "outputs": [],
   "source": [
    "s.plot()"
   ]
  },
  {
   "cell_type": "markdown",
   "id": "bb0bdfa2",
   "metadata": {},
   "source": [
    "## From polyhedra"
   ]
  },
  {
   "cell_type": "code",
   "execution_count": null,
   "id": "81549362",
   "metadata": {},
   "outputs": [],
   "source": [
    "from flatsurf.geometry.polyhedra import platonic_dodecahedron\n",
    "\n",
    "polyhedron, s, mapping = platonic_dodecahedron()"
   ]
  },
  {
   "cell_type": "markdown",
   "id": "267d6c25",
   "metadata": {},
   "source": [
    "The surface $s$ is a Euclidean cone surface."
   ]
  },
  {
   "cell_type": "code",
   "execution_count": null,
   "id": "4a625e1c",
   "metadata": {},
   "outputs": [],
   "source": [
    "s"
   ]
  },
  {
   "cell_type": "code",
   "execution_count": null,
   "id": "3f70be1d",
   "metadata": {},
   "outputs": [],
   "source": [
    "s.plot()"
   ]
  },
  {
   "cell_type": "markdown",
   "id": "aefd824a",
   "metadata": {},
   "source": [
    "Sage has a built in polyhedron class. You can build a polyhedron as a convex hull of a list of vertices."
   ]
  },
  {
   "cell_type": "code",
   "execution_count": null,
   "id": "99b64cc4",
   "metadata": {},
   "outputs": [],
   "source": [
    "polyhedron = Polyhedron([(0, 0, 0), (1, 0, 0), (0, 1, 0), (0, 0, 1)])"
   ]
  },
  {
   "cell_type": "code",
   "execution_count": null,
   "id": "77c3da3a",
   "metadata": {},
   "outputs": [],
   "source": [
    "polyhedron.plot()"
   ]
  },
  {
   "cell_type": "markdown",
   "id": "108d4b3f",
   "metadata": {},
   "source": [
    "The following computes the boundary surface as a Euclidean cone surface. It also provides a map from the surface to the polyhedron."
   ]
  },
  {
   "cell_type": "code",
   "execution_count": null,
   "id": "59d30799",
   "metadata": {},
   "outputs": [],
   "source": [
    "from flatsurf.geometry.polyhedra import polyhedron_to_cone_surface\n",
    "\n",
    "s, mapping = polyhedron_to_cone_surface(polyhedron)\n",
    "s"
   ]
  },
  {
   "cell_type": "code",
   "execution_count": null,
   "id": "7c703483",
   "metadata": {},
   "outputs": [],
   "source": [
    "s.plot()"
   ]
  },
  {
   "cell_type": "markdown",
   "id": "be584e07",
   "metadata": {},
   "source": [
    "## Defining an infinite surface from scratch\n",
    "\n",
    "Finite surfaces can be built by gluing polygons into a ``MutableOrientedSimilaritySurface``. For an infinite surface, we need to subclass ``OrientedSimilaritySurface`` and implement a few methods ourselves:"
   ]
  },
  {
   "cell_type": "code",
   "execution_count": null,
   "id": "f16183a6",
   "metadata": {
    "lines_to_next_cell": 2
   },
   "outputs": [],
   "source": [
    "from flatsurf.geometry.surface import OrientedSimilaritySurface\n",
    "from flatsurf.geometry.categories import TranslationSurfaces\n",
    "\n",
    "\n",
    "class ParabolaSurface(OrientedSimilaritySurface):\n",
    "    def __init__(self):\n",
    "        # For finite surfaces, the category can be determined automotatically\n",
    "        # but for infinite surfaces, we need to make an explicit choice here.\n",
    "        super().__init__(\n",
    "            QQ,\n",
    "            category=TranslationSurfaces().InfiniteType().WithoutBoundary().Connected(),\n",
    "        )\n",
    "\n",
    "    def __repr__(self):\n",
    "        r\"\"\"\n",
    "        Return a printable representation of this surface.\n",
    "        \"\"\"\n",
    "        return \"ParabolaSurface()\"\n",
    "\n",
    "    def roots(self):\n",
    "        r\"\"\"\n",
    "        Return a label for each connected component of the surface.\n",
    "\n",
    "        Iterating the polygons of the connected component starts at these labels.\n",
    "        \"\"\"\n",
    "        return (1,)\n",
    "\n",
    "    def is_mutable(self):\n",
    "        r\"\"\"\n",
    "        Return whether this surface can be modified by the user.\n",
    "        \"\"\"\n",
    "        return False\n",
    "\n",
    "    def is_compact(self):\n",
    "        r\"\"\"\n",
    "        Return whether this surface is a compact space.\n",
    "        \"\"\"\n",
    "        return False\n",
    "\n",
    "    def __eq__(self, other):\n",
    "        r\"\"\"\n",
    "        Return whether this surface is indistinguishable from ``other``.\n",
    "        \"\"\"\n",
    "        return isinstance(other, ParabolaSurface)\n",
    "\n",
    "    def __hash__(self):\n",
    "        r\"\"\"\n",
    "        Return a hash value for this surface that is compatible with ``__eq``.\n",
    "        \"\"\"\n",
    "        return hash(type(self))\n",
    "\n",
    "    def graphical_surface(self, **kwds):\n",
    "        r\"\"\"\n",
    "        Return a plottable representation of this surface.\n",
    "        \"\"\"\n",
    "        graphical_surface = super().graphical_surface(**kwds)\n",
    "        # Make the first six polygons of the surface visible by default when plotting.\n",
    "        graphical_surface.make_all_visible(limit=6)\n",
    "        return graphical_surface\n",
    "\n",
    "    def polygon(self, label):\n",
    "        r\"\"\"\n",
    "        Return the polygon making up this surface labeled ``label``.\n",
    "        \"\"\"\n",
    "        if label not in ZZ or label == 0:\n",
    "            raise ValueError(f\"invalid label {label}\")\n",
    "\n",
    "        if label < 0:\n",
    "            return matrix(QQ, [[-1, 0], [0, -1]]) * self.polygon(-label)\n",
    "\n",
    "        if label == 1:\n",
    "            return Polygon(vertices=[(0, 0), (1, 1), (-1, 1)], base_ring=QQ)\n",
    "\n",
    "        return Polygon(\n",
    "            vertices=[\n",
    "                (label - 1, (label - 1) ** 2),\n",
    "                (label, label**2),\n",
    "                (-label, label**2),\n",
    "                (-label + 1, (label - 1) ** 2),\n",
    "            ],\n",
    "            base_ring=QQ,\n",
    "        )\n",
    "\n",
    "    def opposite_edge(self, label, e):\n",
    "        if label not in ZZ or label == 0:\n",
    "            raise ValueError(f\"invalid label {label}\")\n",
    "        if label in [-1, 1] and e not in [0, 1, 2]:\n",
    "            raise ValueError(\"no such edge\")\n",
    "        if e not in [0, 1, 2, 3]:\n",
    "            raise ValueError(\"no such edge\")\n",
    "\n",
    "        if label in [-1, 1] and e == 1:\n",
    "            return 2 * label, 3\n",
    "\n",
    "        if e in [0, 2]:\n",
    "            return -label, e\n",
    "\n",
    "        if e == 1:\n",
    "            return label + label.sign(), 3\n",
    "\n",
    "        return label - label.sign(), 1"
   ]
  },
  {
   "cell_type": "code",
   "execution_count": null,
   "id": "aa61db8d",
   "metadata": {},
   "outputs": [],
   "source": [
    "s = ParabolaSurface()\n",
    "s"
   ]
  },
  {
   "cell_type": "code",
   "execution_count": null,
   "id": "5916f0f4",
   "metadata": {},
   "outputs": [],
   "source": [
    "s.plot()"
   ]
  },
  {
   "cell_type": "markdown",
   "id": "a7efe4d6",
   "metadata": {},
   "source": [
    "We can run a test suite to ensure that we have implemented everything that is needed to make this a fully functional surface."
   ]
  },
  {
   "cell_type": "code",
   "execution_count": null,
   "id": "8b111746",
   "metadata": {},
   "outputs": [],
   "source": [
    "TestSuite(s).run(verbose=True)"
   ]
  }
 ],
 "metadata": {
  "jupytext": {
   "formats": "ipynb,md:myst"
  },
  "kernelspec": {
   "display_name": "SageMath 9.7",
   "language": "sage",
   "name": "sagemath"
  }
 },
 "nbformat": 4,
 "nbformat_minor": 5
}

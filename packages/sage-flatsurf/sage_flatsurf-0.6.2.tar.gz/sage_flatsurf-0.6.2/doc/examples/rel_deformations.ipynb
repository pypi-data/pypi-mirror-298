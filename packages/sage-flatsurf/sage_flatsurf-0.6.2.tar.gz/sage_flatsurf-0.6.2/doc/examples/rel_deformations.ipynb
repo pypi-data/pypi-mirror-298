{
 "cells": [
  {
   "cell_type": "markdown",
   "id": "275c9268",
   "metadata": {},
   "source": [
    "# Relative Period Deformations\n",
    "\n",
    "## The Arnoux-Yoccoz surface"
   ]
  },
  {
   "cell_type": "code",
   "execution_count": null,
   "id": "cabcabb5",
   "metadata": {
    "jupyter": {
     "outputs_hidden": true
    }
   },
   "outputs": [],
   "source": [
    "from flatsurf import translation_surfaces\n",
    "\n",
    "s = translation_surfaces.arnoux_yoccoz(3).canonicalize()"
   ]
  },
  {
   "cell_type": "code",
   "execution_count": null,
   "id": "f1ade5eb",
   "metadata": {
    "jupyter": {
     "outputs_hidden": false
    }
   },
   "outputs": [],
   "source": [
    "s.plot()"
   ]
  },
  {
   "cell_type": "code",
   "execution_count": null,
   "id": "a8d71427",
   "metadata": {
    "jupyter": {
     "outputs_hidden": false
    }
   },
   "outputs": [],
   "source": [
    "field = s.base_ring()\n",
    "field"
   ]
  },
  {
   "cell_type": "code",
   "execution_count": null,
   "id": "6facd02f",
   "metadata": {
    "jupyter": {
     "outputs_hidden": false
    }
   },
   "outputs": [],
   "source": [
    "alpha = field.gen()\n",
    "AA(alpha)"
   ]
  },
  {
   "cell_type": "code",
   "execution_count": null,
   "id": "32d8e50c",
   "metadata": {
    "jupyter": {
     "outputs_hidden": false
    }
   },
   "outputs": [],
   "source": [
    "m = matrix(field, [[alpha, 0], [0, 1 / alpha]])\n",
    "show(m)"
   ]
  },
  {
   "cell_type": "markdown",
   "id": "6924bbb5",
   "metadata": {},
   "source": [
    "Check that $m$ is the derivative of a pseudo-Anosov of $s$."
   ]
  },
  {
   "cell_type": "code",
   "execution_count": null,
   "id": "1216d61f",
   "metadata": {
    "jupyter": {
     "outputs_hidden": false
    }
   },
   "outputs": [],
   "source": [
    "(m * s).canonicalize() == s"
   ]
  },
  {
   "cell_type": "markdown",
   "id": "bea2a551",
   "metadata": {},
   "source": [
    "## Rel deformation\n",
    "\n",
    "A singularity of the surface is an equivalence class of vertices of the polygons making up the surface."
   ]
  },
  {
   "cell_type": "code",
   "execution_count": null,
   "id": "1fd8c260",
   "metadata": {
    "jupyter": {
     "outputs_hidden": false
    }
   },
   "outputs": [],
   "source": [
    "s.point(0, 0)"
   ]
  },
  {
   "cell_type": "markdown",
   "id": "af00fd44",
   "metadata": {},
   "source": [
    "We'll move this singularity to the right by two different amounts:"
   ]
  },
  {
   "cell_type": "code",
   "execution_count": null,
   "id": "785b4e9d",
   "metadata": {
    "jupyter": {
     "outputs_hidden": false
    }
   },
   "outputs": [],
   "source": [
    "s1 = s.rel_deformation(\n",
    "    {s.point(0, 0): vector(field, (alpha / (1 - alpha), 0))}\n",
    ").canonicalize()"
   ]
  },
  {
   "cell_type": "code",
   "execution_count": null,
   "id": "e6a89b81",
   "metadata": {
    "jupyter": {
     "outputs_hidden": true
    }
   },
   "outputs": [],
   "source": [
    "s2 = s.rel_deformation(\n",
    "    {s.point(0, 0): vector(field, (1 / (1 - alpha), 0))}\n",
    ").canonicalize()"
   ]
  },
  {
   "cell_type": "markdown",
   "id": "fcbbbeb7",
   "metadata": {
    "jupyter": {
     "outputs_hidden": true
    }
   },
   "source": [
    "Note that by the action of the derivative of the pseudo-Anosov we have:"
   ]
  },
  {
   "cell_type": "code",
   "execution_count": null,
   "id": "c3d0c3ff",
   "metadata": {
    "jupyter": {
     "outputs_hidden": false
    }
   },
   "outputs": [],
   "source": [
    "s1 == (m * s2).canonicalize()"
   ]
  },
  {
   "cell_type": "markdown",
   "id": "6079443e",
   "metadata": {},
   "source": [
    "By a Theorem of Barak Weiss and the author of this notebook, these surfaces are all periodic in the vertical direction. You can see the vertical cylinders:"
   ]
  },
  {
   "cell_type": "code",
   "execution_count": null,
   "id": "bea4a694",
   "metadata": {
    "jupyter": {
     "outputs_hidden": false
    }
   },
   "outputs": [],
   "source": [
    "s1.plot()"
   ]
  }
 ],
 "metadata": {
  "jupytext": {
   "formats": "ipynb,md:myst"
  },
  "kernelspec": {
   "display_name": "SageMath 9.7",
   "language": "sage",
   "name": "sagemath"
  }
 },
 "nbformat": 4,
 "nbformat_minor": 5
}

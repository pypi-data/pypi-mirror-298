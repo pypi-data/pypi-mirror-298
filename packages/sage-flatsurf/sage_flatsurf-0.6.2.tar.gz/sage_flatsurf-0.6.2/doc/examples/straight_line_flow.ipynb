{
 "cells": [
  {
   "cell_type": "markdown",
   "id": "e8ca1718",
   "metadata": {},
   "source": [
    "# Straight-Line Flow\n",
    "\n",
    "## Acting on surfaces by matrices."
   ]
  },
  {
   "cell_type": "code",
   "execution_count": null,
   "id": "f044ac10",
   "metadata": {
    "jupyter": {
     "outputs_hidden": true
    }
   },
   "outputs": [],
   "source": [
    "from flatsurf import translation_surfaces\n",
    "\n",
    "s = translation_surfaces.veech_double_n_gon(5)"
   ]
  },
  {
   "cell_type": "code",
   "execution_count": null,
   "id": "c234fcb8",
   "metadata": {
    "jupyter": {
     "outputs_hidden": false
    }
   },
   "outputs": [],
   "source": [
    "s.plot()"
   ]
  },
  {
   "cell_type": "markdown",
   "id": "2a2f73ca",
   "metadata": {},
   "source": [
    "Defines the tangent_bundle on the surface defined over the ``base_ring`` of s."
   ]
  },
  {
   "cell_type": "code",
   "execution_count": null,
   "id": "056776cd",
   "metadata": {
    "jupyter": {
     "outputs_hidden": false
    }
   },
   "outputs": [],
   "source": [
    "TB = s.tangent_bundle()"
   ]
  },
  {
   "cell_type": "code",
   "execution_count": null,
   "id": "88f6bc6e",
   "metadata": {
    "jupyter": {
     "outputs_hidden": false
    }
   },
   "outputs": [],
   "source": [
    "baricenter = sum(s.polygon(0).vertices()) / 5"
   ]
  },
  {
   "cell_type": "markdown",
   "id": "7866ab4b",
   "metadata": {},
   "source": [
    "Define the tangent vector based at the baricenter of polygon 0 aimed downward."
   ]
  },
  {
   "cell_type": "code",
   "execution_count": null,
   "id": "6f945056",
   "metadata": {
    "jupyter": {
     "outputs_hidden": true
    }
   },
   "outputs": [],
   "source": [
    "v = TB(0, baricenter, (0, -1))"
   ]
  },
  {
   "cell_type": "markdown",
   "id": "b0794def",
   "metadata": {},
   "source": [
    "Convert to a straight-line trajectory. Trajectories are unions of segments in polygons."
   ]
  },
  {
   "cell_type": "code",
   "execution_count": null,
   "id": "1afd7a17",
   "metadata": {
    "jupyter": {
     "outputs_hidden": true
    }
   },
   "outputs": [],
   "source": [
    "traj = v.straight_line_trajectory()"
   ]
  },
  {
   "cell_type": "code",
   "execution_count": null,
   "id": "b09157a2",
   "metadata": {
    "jupyter": {
     "outputs_hidden": false
    }
   },
   "outputs": [],
   "source": [
    "s.plot() + traj.plot()"
   ]
  },
  {
   "cell_type": "markdown",
   "id": "70c3f52d",
   "metadata": {},
   "source": [
    "Flow into the next $100$ polygons or until the trajectory hits a vertex."
   ]
  },
  {
   "cell_type": "code",
   "execution_count": null,
   "id": "39e3c0fd",
   "metadata": {
    "jupyter": {
     "outputs_hidden": true
    }
   },
   "outputs": [],
   "source": [
    "traj.flow(100)"
   ]
  },
  {
   "cell_type": "code",
   "execution_count": null,
   "id": "2b5d7a18",
   "metadata": {
    "jupyter": {
     "outputs_hidden": false
    }
   },
   "outputs": [],
   "source": [
    "s.plot() + traj.plot()"
   ]
  },
  {
   "cell_type": "markdown",
   "id": "e3f5b790",
   "metadata": {},
   "source": [
    "We can tell its type."
   ]
  },
  {
   "cell_type": "code",
   "execution_count": null,
   "id": "52fe4ba0",
   "metadata": {
    "jupyter": {
     "outputs_hidden": false
    }
   },
   "outputs": [],
   "source": [
    "traj.is_saddle_connection()"
   ]
  },
  {
   "cell_type": "markdown",
   "id": "345a922d",
   "metadata": {},
   "source": [
    "You can also test if a straight-line trajectory is closed or a forward/backward separatrix.\n",
    "\n",
    "Lets do it again but in the slope one direction."
   ]
  },
  {
   "cell_type": "code",
   "execution_count": null,
   "id": "ca6a03f8",
   "metadata": {
    "jupyter": {
     "outputs_hidden": false
    }
   },
   "outputs": [],
   "source": [
    "v = TB(0, baricenter, (1, 1))"
   ]
  },
  {
   "cell_type": "code",
   "execution_count": null,
   "id": "9ac6de68",
   "metadata": {
    "jupyter": {
     "outputs_hidden": true
    }
   },
   "outputs": [],
   "source": [
    "traj = v.straight_line_trajectory()"
   ]
  },
  {
   "cell_type": "code",
   "execution_count": null,
   "id": "7af862c2",
   "metadata": {
    "jupyter": {
     "outputs_hidden": true
    }
   },
   "outputs": [],
   "source": [
    "traj.flow(100)"
   ]
  },
  {
   "cell_type": "code",
   "execution_count": null,
   "id": "2356c0a0",
   "metadata": {
    "jupyter": {
     "outputs_hidden": false
    }
   },
   "outputs": [],
   "source": [
    "s.plot() + traj.plot()"
   ]
  },
  {
   "cell_type": "markdown",
   "id": "ab8c149c",
   "metadata": {},
   "source": [
    "We remark that it follows from work of Veech that the slope one direction is ergodic for the straight-line flow."
   ]
  }
 ],
 "metadata": {
  "jupytext": {
   "formats": "ipynb,md:myst"
  },
  "kernelspec": {
   "display_name": "SageMath 9.7",
   "language": "sage",
   "name": "sagemath"
  }
 },
 "nbformat": 4,
 "nbformat_minor": 5
}

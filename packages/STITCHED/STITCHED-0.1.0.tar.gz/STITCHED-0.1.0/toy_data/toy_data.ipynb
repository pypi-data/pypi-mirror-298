{
 "cells": [
  {
   "cell_type": "code",
   "id": "initial_id",
   "metadata": {
    "collapsed": true,
    "ExecuteTime": {
     "end_time": "2024-09-26T12:00:40.701528Z",
     "start_time": "2024-09-26T12:00:40.685890Z"
    }
   },
   "source": "import pandas as pd",
   "outputs": [],
   "execution_count": 21
  },
  {
   "metadata": {
    "ExecuteTime": {
     "end_time": "2024-09-26T12:00:40.927624Z",
     "start_time": "2024-09-26T12:00:40.911766Z"
    }
   },
   "cell_type": "code",
   "source": "pd.read_csv('toy_dataset_1_eng_twitter.csv')",
   "id": "54028d1679a0a3d8",
   "outputs": [
    {
     "data": {
      "text/plain": [
       "                                                Text Label1 Label2\n",
       "0  I can't stand those people, they don't belong ...    yes    yes\n",
       "1  We should all work together to build a better ...     no     no\n",
       "2  Go back to where you came from, you're not wan...    yes    yes\n",
       "3  Everyone deserves equal rights and respect, no...     no     no\n",
       "4  They're all lazy and don't contribute anything...    yes    yes\n",
       "5  I love how diverse our community is, it's so e...     no     no\n",
       "6         People like them are ruining this country.    yes    yes\n",
       "7  We need to stop spreading hate and focus on ki...     no     no\n",
       "8  Why do they always cause problems wherever the...    yes    yes\n",
       "9  Helping others is the best way to improve the ...     no     no"
      ],
      "text/html": [
       "<div>\n",
       "<style scoped>\n",
       "    .dataframe tbody tr th:only-of-type {\n",
       "        vertical-align: middle;\n",
       "    }\n",
       "\n",
       "    .dataframe tbody tr th {\n",
       "        vertical-align: top;\n",
       "    }\n",
       "\n",
       "    .dataframe thead th {\n",
       "        text-align: right;\n",
       "    }\n",
       "</style>\n",
       "<table border=\"1\" class=\"dataframe\">\n",
       "  <thead>\n",
       "    <tr style=\"text-align: right;\">\n",
       "      <th></th>\n",
       "      <th>Text</th>\n",
       "      <th>Label1</th>\n",
       "      <th>Label2</th>\n",
       "    </tr>\n",
       "  </thead>\n",
       "  <tbody>\n",
       "    <tr>\n",
       "      <th>0</th>\n",
       "      <td>I can't stand those people, they don't belong ...</td>\n",
       "      <td>yes</td>\n",
       "      <td>yes</td>\n",
       "    </tr>\n",
       "    <tr>\n",
       "      <th>1</th>\n",
       "      <td>We should all work together to build a better ...</td>\n",
       "      <td>no</td>\n",
       "      <td>no</td>\n",
       "    </tr>\n",
       "    <tr>\n",
       "      <th>2</th>\n",
       "      <td>Go back to where you came from, you're not wan...</td>\n",
       "      <td>yes</td>\n",
       "      <td>yes</td>\n",
       "    </tr>\n",
       "    <tr>\n",
       "      <th>3</th>\n",
       "      <td>Everyone deserves equal rights and respect, no...</td>\n",
       "      <td>no</td>\n",
       "      <td>no</td>\n",
       "    </tr>\n",
       "    <tr>\n",
       "      <th>4</th>\n",
       "      <td>They're all lazy and don't contribute anything...</td>\n",
       "      <td>yes</td>\n",
       "      <td>yes</td>\n",
       "    </tr>\n",
       "    <tr>\n",
       "      <th>5</th>\n",
       "      <td>I love how diverse our community is, it's so e...</td>\n",
       "      <td>no</td>\n",
       "      <td>no</td>\n",
       "    </tr>\n",
       "    <tr>\n",
       "      <th>6</th>\n",
       "      <td>People like them are ruining this country.</td>\n",
       "      <td>yes</td>\n",
       "      <td>yes</td>\n",
       "    </tr>\n",
       "    <tr>\n",
       "      <th>7</th>\n",
       "      <td>We need to stop spreading hate and focus on ki...</td>\n",
       "      <td>no</td>\n",
       "      <td>no</td>\n",
       "    </tr>\n",
       "    <tr>\n",
       "      <th>8</th>\n",
       "      <td>Why do they always cause problems wherever the...</td>\n",
       "      <td>yes</td>\n",
       "      <td>yes</td>\n",
       "    </tr>\n",
       "    <tr>\n",
       "      <th>9</th>\n",
       "      <td>Helping others is the best way to improve the ...</td>\n",
       "      <td>no</td>\n",
       "      <td>no</td>\n",
       "    </tr>\n",
       "  </tbody>\n",
       "</table>\n",
       "</div>"
      ]
     },
     "execution_count": 22,
     "metadata": {},
     "output_type": "execute_result"
    }
   ],
   "execution_count": 22
  },
  {
   "metadata": {},
   "cell_type": "markdown",
   "source": [
    "从这儿开始是readme的部分\n",
    "\n",
    "-----------------------------------------------------------------------------------------------"
   ],
   "id": "bf7cc4774a314f6b"
  },
  {
   "metadata": {},
   "cell_type": "markdown",
   "source": [
    "# STITCHeD\n",
    " STITCHED - *Standardized Tool for Integrating and Transforming Hate Speech Datasets into an established Database*, is a data tool integrating different datasets in the research domain of Hate Speech, whose schemas often differ greatly, into a SQL database, while preserving the original label name and label definition. The design allows for a more flexible way of dataset combination and data extraction."
   ],
   "id": "12916c8dacf06f43"
  },
  {
   "metadata": {},
   "cell_type": "markdown",
   "source": "## Install the Package",
   "id": "fe49513672f17ad3"
  },
  {
   "metadata": {},
   "cell_type": "markdown",
   "source": [
    "```bash\n",
    "pip install xxx\n",
    "```"
   ],
   "id": "ef62fe239cd688ea"
  },
  {
   "metadata": {},
   "cell_type": "markdown",
   "source": "## Generate Config File",
   "id": "eef0bb94cdebab3b"
  },
  {
   "metadata": {},
   "cell_type": "markdown",
   "source": "Configuration File for the database can be either supplied or created with our `Config` tool. However, it is crucial for the later stages that supplied config file conform to the following manuals:",
   "id": "3435be261f2ffa32"
  },
  {
   "metadata": {},
   "cell_type": "markdown",
   "source": [
    "Manual for the Config file：\n",
    "- `dataset_file_name`: Please include the **full** file name including the datatype, e.g. data.csv, data.tsv. If the datasets are splitted into different sets, seperate the names with a comma(`,`).\n",
    "- `dataset_name`: The short name for the dataset.\n",
    "- `label_name_definition`: Please write the label name and corresponding definition in a `JSON` format.\n",
    "- `source`: For data with a single source, please state the source name, e.g. Twitter, Facebook, etc. Add an `@` symbol in-front, e.g. *@Twitter*. If of multi-source, please provide a column name.\n",
    "- `language`: For single language, language code as stipulated in ISO 639-2 are recognized, e.g. eng, spa, chi, ger, fre, ita, etc (). Add an `@` symbol in-front, e.g. *@eng*. For multi-language contents, please provide a column name describing this property, e.g. languages.\n",
    "- `text`: The column name of text.\n",
    "\n",
    "**Note**:\n",
    "1. Only datasets that are in CSV(comma-seperated) or TSV formats are supported."
   ],
   "id": "269ae897d4d726bd"
  },
  {
   "metadata": {
    "ExecuteTime": {
     "end_time": "2024-09-26T12:00:43.137668Z",
     "start_time": "2024-09-26T12:00:43.121627Z"
    }
   },
   "cell_type": "code",
   "source": "from tool.config.generator import Config",
   "id": "c258f5022a72a49d",
   "outputs": [],
   "execution_count": 23
  },
  {
   "metadata": {},
   "cell_type": "markdown",
   "source": [
    "To avoid problems in later stages, we advise to create the config file using our tool `Config`, which is modularly structured, easy to use and reliable for the following stages. \n",
    "\n",
    "Config file generator (Config) takes two parameters during initialization: `name` of the config file, and `mode` of either `create` or `append`, for the creation and append of dataset item. A mode switch function needs to be called explicitly when switching modes. In the example, two toy datasets will be added into config with the tools:"
   ],
   "id": "76f28583247513e4"
  },
  {
   "metadata": {
    "ExecuteTime": {
     "end_time": "2024-09-26T12:00:43.929511Z",
     "start_time": "2024-09-26T12:00:43.898056Z"
    }
   },
   "cell_type": "code",
   "source": "config = Config(\"toy_config\", mode = 'create')",
   "id": "ca08abd79cd11777",
   "outputs": [],
   "execution_count": 24
  },
  {
   "metadata": {
    "ExecuteTime": {
     "end_time": "2024-09-26T12:00:45.557801Z",
     "start_time": "2024-09-26T12:00:45.542690Z"
    }
   },
   "cell_type": "code",
   "source": [
    "config.add_entry(\n",
    "    dataset_file_name='toy_dataset_1_eng_twitter.csv',\n",
    "    dataset_name= 'toy_data_1',\n",
    "    label_name_definition={'Label1':'Definition Label 1',\n",
    "                           'Label2': 'Definition Label 2'}, # two label columns\n",
    "    text='Text',\n",
    "    source='@Twitter',\n",
    "    language='@eng'\n",
    ")"
   ],
   "id": "bab3eee16dd6ed57",
   "outputs": [],
   "execution_count": 25
  },
  {
   "metadata": {
    "ExecuteTime": {
     "end_time": "2024-09-26T12:00:46.084188Z",
     "start_time": "2024-09-26T12:00:46.068523Z"
    }
   },
   "cell_type": "code",
   "source": "config.switch_mode('append')",
   "id": "7d5a8ff2c7aaca15",
   "outputs": [],
   "execution_count": 26
  },
  {
   "metadata": {
    "ExecuteTime": {
     "end_time": "2024-09-26T12:00:46.654098Z",
     "start_time": "2024-09-26T12:00:46.639068Z"
    }
   },
   "cell_type": "code",
   "source": [
    "config.add_entry(    \n",
    "    dataset_file_name='toy_dataset_2_ger_reddit.csv',\n",
    "    dataset_name= 'toy_data_2',\n",
    "    label_name_definition={'Label':'Definition Label'},\n",
    "    text='Text',\n",
    "    source='@Reddit',\n",
    "    language='@ger')"
   ],
   "id": "ac615d5f01cd74ca",
   "outputs": [],
   "execution_count": 27
  },
  {
   "metadata": {},
   "cell_type": "markdown",
   "source": [
    "## Validate the Datasets\n",
    "`ConfigValidator` compares the `config` file with the provided data folder path, to see if everything listed on `config` matches the dataset provided. If some check fails, detailed error message will also be helpful to locate and correct the problem."
   ],
   "id": "923c5baf661c141e"
  },
  {
   "metadata": {
    "ExecuteTime": {
     "end_time": "2024-09-26T12:00:47.687247Z",
     "start_time": "2024-09-26T12:00:47.671614Z"
    }
   },
   "cell_type": "code",
   "source": "from tool.loader.validator import ConfigValidator",
   "id": "10d53354c46f3f01",
   "outputs": [],
   "execution_count": 28
  },
  {
   "metadata": {
    "ExecuteTime": {
     "end_time": "2024-09-26T12:00:49.250553Z",
     "start_time": "2024-09-26T12:00:49.203611Z"
    }
   },
   "cell_type": "code",
   "source": [
    "config_validator = ConfigValidator('toy_config','../toy_data')\n",
    "config_validator.final_config()"
   ],
   "id": "55532332ca4599d2",
   "outputs": [
    {
     "name": "stdout",
     "output_type": "stream",
     "text": [
      "Filename integrity check complete!\n"
     ]
    },
    {
     "data": {
      "text/plain": [
       "               dataset_file_name dataset_name  \\\n",
       "0  toy_dataset_1_eng_twitter.csv   toy_data_1   \n",
       "1   toy_dataset_2_ger_reddit.csv   toy_data_2   \n",
       "\n",
       "                               label_name_definition    source language  text  \n",
       "0  {'Label1': 'Definition Label 1', 'Label2': 'De...  @Twitter     @eng  Text  \n",
       "1                      {'Label': 'Definition Label'}   @Reddit     @ger  Text  "
      ],
      "text/html": [
       "<div>\n",
       "<style scoped>\n",
       "    .dataframe tbody tr th:only-of-type {\n",
       "        vertical-align: middle;\n",
       "    }\n",
       "\n",
       "    .dataframe tbody tr th {\n",
       "        vertical-align: top;\n",
       "    }\n",
       "\n",
       "    .dataframe thead th {\n",
       "        text-align: right;\n",
       "    }\n",
       "</style>\n",
       "<table border=\"1\" class=\"dataframe\">\n",
       "  <thead>\n",
       "    <tr style=\"text-align: right;\">\n",
       "      <th></th>\n",
       "      <th>dataset_file_name</th>\n",
       "      <th>dataset_name</th>\n",
       "      <th>label_name_definition</th>\n",
       "      <th>source</th>\n",
       "      <th>language</th>\n",
       "      <th>text</th>\n",
       "    </tr>\n",
       "  </thead>\n",
       "  <tbody>\n",
       "    <tr>\n",
       "      <th>0</th>\n",
       "      <td>toy_dataset_1_eng_twitter.csv</td>\n",
       "      <td>toy_data_1</td>\n",
       "      <td>{'Label1': 'Definition Label 1', 'Label2': 'De...</td>\n",
       "      <td>@Twitter</td>\n",
       "      <td>@eng</td>\n",
       "      <td>Text</td>\n",
       "    </tr>\n",
       "    <tr>\n",
       "      <th>1</th>\n",
       "      <td>toy_dataset_2_ger_reddit.csv</td>\n",
       "      <td>toy_data_2</td>\n",
       "      <td>{'Label': 'Definition Label'}</td>\n",
       "      <td>@Reddit</td>\n",
       "      <td>@ger</td>\n",
       "      <td>Text</td>\n",
       "    </tr>\n",
       "  </tbody>\n",
       "</table>\n",
       "</div>"
      ]
     },
     "execution_count": 29,
     "metadata": {},
     "output_type": "execute_result"
    }
   ],
   "execution_count": 29
  },
  {
   "metadata": {},
   "cell_type": "markdown",
   "source": [
    "## Load Data into Database\n",
    "`DataLoader` take two inputs, a `conn` from the established empty database and an instance of `validator`. Its member function of `storage_datasets()` will process and commit the data change to the database."
   ],
   "id": "cd4b8b912e2587c6"
  },
  {
   "metadata": {},
   "cell_type": "markdown",
   "source": "Set up a database connection",
   "id": "9e7e38a4f6318b3b"
  },
  {
   "metadata": {},
   "cell_type": "markdown",
   "source": "",
   "id": "403b393eba0c1cfb"
  },
  {
   "metadata": {
    "ExecuteTime": {
     "end_time": "2024-09-26T12:06:27.233911Z",
     "start_time": "2024-09-26T12:06:27.218271Z"
    }
   },
   "cell_type": "code",
   "source": [
    "import sqlite3\n",
    "from tool.database.setup import setupSchema\n",
    "from tool.loader.loader import DataLoader\n",
    "\n",
    "path = 'toy_database.db'\n",
    "conn = sqlite3.connect(path)\n",
    "setupSchema(conn)"
   ],
   "id": "a821c6d848d412e7",
   "outputs": [],
   "execution_count": 46
  },
  {
   "metadata": {
    "ExecuteTime": {
     "end_time": "2024-09-26T12:06:27.587604Z",
     "start_time": "2024-09-26T12:06:27.571965Z"
    }
   },
   "cell_type": "code",
   "source": "loader = DataLoader(conn=conn, validator=config_validator)",
   "id": "31e19cdd488cd784",
   "outputs": [],
   "execution_count": 47
  },
  {
   "metadata": {
    "ExecuteTime": {
     "end_time": "2024-09-26T12:06:28.328462Z",
     "start_time": "2024-09-26T12:06:28.265815Z"
    }
   },
   "cell_type": "code",
   "source": "loader.storage_datasets()",
   "id": "5747173f4c769821",
   "outputs": [
    {
     "name": "stdout",
     "output_type": "stream",
     "text": [
      "Filename integrity check complete!\n",
      "Row 1: Error occurred: UNIQUE constraint failed: dataset.dataset_name. Transaction rolled back.\n",
      "Row 2: Error occurred: UNIQUE constraint failed: dataset.dataset_name. Transaction rolled back.\n",
      "Data insertion process complete.\n"
     ]
    }
   ],
   "execution_count": 48
  },
  {
   "metadata": {},
   "cell_type": "markdown",
   "source": [
    "## Check the data\n",
    "`QueryInterface` provides many options to look into the dataset, `get_dataset_text_labels()` function extracts information from the text label pairs. More flexible way is also provided in the repository."
   ],
   "id": "1708ed404b26ab7a"
  },
  {
   "metadata": {
    "ExecuteTime": {
     "end_time": "2024-09-26T12:27:09.866384Z",
     "start_time": "2024-09-26T12:27:09.835185Z"
    }
   },
   "cell_type": "code",
   "source": "from tool.database.queryInterface import QueryInterface",
   "id": "493db07d2b5df894",
   "outputs": [],
   "execution_count": 65
  },
  {
   "metadata": {
    "ExecuteTime": {
     "end_time": "2024-09-26T12:27:10.278136Z",
     "start_time": "2024-09-26T12:27:10.262544Z"
    }
   },
   "cell_type": "code",
   "source": "queryer = QueryInterface(conn)",
   "id": "1b492fd93672d27c",
   "outputs": [],
   "execution_count": 66
  },
  {
   "metadata": {
    "ExecuteTime": {
     "end_time": "2024-09-26T12:27:31.264347Z",
     "start_time": "2024-09-26T12:27:31.239144Z"
    }
   },
   "cell_type": "code",
   "source": "queryer.get_dataset_text_labels(10, file_path='result.csv')",
   "id": "fc8367bc8696b4b8",
   "outputs": [
    {
     "data": {
      "text/plain": [
       "(['dataset_name', 'text', 'label_name', 'label_value'],\n",
       " [('toy_data_1',\n",
       "   \"I can't stand those people, they don't belong here!\",\n",
       "   'Label1',\n",
       "   'yes'),\n",
       "  ('toy_data_1',\n",
       "   'We should all work together to build a better future.',\n",
       "   'Label1',\n",
       "   'no'),\n",
       "  ('toy_data_1',\n",
       "   \"Go back to where you came from, you're not wanted here!\",\n",
       "   'Label1',\n",
       "   'yes'),\n",
       "  ('toy_data_1',\n",
       "   'Everyone deserves equal rights and respect, no matter what.',\n",
       "   'Label1',\n",
       "   'no'),\n",
       "  ('toy_data_1',\n",
       "   \"They're all lazy and don't contribute anything to society.\",\n",
       "   'Label1',\n",
       "   'yes'),\n",
       "  ('toy_data_1',\n",
       "   \"I love how diverse our community is, it's so enriching.\",\n",
       "   'Label1',\n",
       "   'no'),\n",
       "  ('toy_data_1',\n",
       "   'People like them are ruining this country.',\n",
       "   'Label1',\n",
       "   'yes'),\n",
       "  ('toy_data_1',\n",
       "   'We need to stop spreading hate and focus on kindness instead.',\n",
       "   'Label1',\n",
       "   'no'),\n",
       "  ('toy_data_1',\n",
       "   'Why do they always cause problems wherever they go?',\n",
       "   'Label1',\n",
       "   'yes'),\n",
       "  ('toy_data_1',\n",
       "   'Helping others is the best way to improve the world.',\n",
       "   'Label1',\n",
       "   'no')])"
      ]
     },
     "execution_count": 68,
     "metadata": {},
     "output_type": "execute_result"
    }
   ],
   "execution_count": 68
  },
  {
   "metadata": {},
   "cell_type": "markdown",
   "source": "## Extras",
   "id": "9e8d7dfbe1fb831c"
  },
  {
   "metadata": {},
   "cell_type": "markdown",
   "source": [
    "The `utils` module includes a set of helpful tools for data analysis and selection during the dataset preparation phase:\n",
    "\n",
    "- **Distribute Tool**: Analyzes the distribution of one column relative to another, helping users identify balanced or imbalanced data points, useful for dataset selection.\n",
    "- **Fuzzysearch Tool**: Allows approximate matching within the dataset, helping locate relevant data, such as label definitions or metadata, without requiring exact queries.\n",
    "- **Sampling Tool**: Provides three pre-configured sampling strategies to ensure balanced and representative data subsets for experimental setups.\n"
   ],
   "id": "1a0e261bf52ab412"
  }
 ],
 "metadata": {
  "kernelspec": {
   "display_name": "Python 3",
   "language": "python",
   "name": "python3"
  },
  "language_info": {
   "codemirror_mode": {
    "name": "ipython",
    "version": 2
   },
   "file_extension": ".py",
   "mimetype": "text/x-python",
   "name": "python",
   "nbconvert_exporter": "python",
   "pygments_lexer": "ipython2",
   "version": "2.7.6"
  }
 },
 "nbformat": 4,
 "nbformat_minor": 5
}

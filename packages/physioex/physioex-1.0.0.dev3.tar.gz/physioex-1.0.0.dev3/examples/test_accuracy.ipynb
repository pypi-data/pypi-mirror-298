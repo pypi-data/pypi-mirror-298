{
 "cells": [
  {
   "cell_type": "code",
   "execution_count": 46,
   "metadata": {},
   "outputs": [
    {
     "name": "stderr",
     "output_type": "stream",
     "text": [
      "Seed set to 42\n"
     ]
    }
   ],
   "source": [
    "from pytorch_lightning import seed_everything\n",
    "\n",
    "seed_everything(42)\n",
    "\n",
    "from physioex.data import PhysioExDataModule\n",
    "from physioex.models import load_pretrained_model\n",
    "from physioex.models.load import get_models_table\n",
    "from physioex.train.networks.utils.target_transform import get_mid_label\n",
    "\n",
    "import pandas as pd\n",
    "import numpy as np\n",
    "\n",
    "import pytorch_lightning as pl"
   ]
  },
  {
   "cell_type": "code",
   "execution_count": 48,
   "metadata": {},
   "outputs": [
    {
     "name": "stderr",
     "output_type": "stream",
     "text": [
      "/home/guido/github/physioex-private/physioex/models/load.py:55: UserWarning: Boolean Series key will be reindexed to match DataFrame index.\n",
      "  ckpt_path = ckpt_path[check_table[\"sequence_length\"] == sequence_length]\n",
      "/home/guido/github/physioex-private/physioex/models/load.py:56: UserWarning: Boolean Series key will be reindexed to match DataFrame index.\n",
      "  ckpt_path = ckpt_path[check_table[\"in_channels\"] == in_channels]\n",
      "/home/guido/github/physioex-private/physioex/models/load.py:57: UserWarning: Boolean Series key will be reindexed to match DataFrame index.\n",
      "  ckpt_path = ckpt_path[check_table[\"loss\"] == loss]\n",
      "/home/guido/miniconda3/envs/physioex/lib/python3.12/site-packages/pytorch_lightning/utilities/parsing.py:208: Attribute 'nn' is an instance of `nn.Module` and is already saved during checkpointing. It is recommended to ignore them using `self.save_hyperparameters(ignore=['nn'])`.\n",
      "\u001b[32m2024-09-19 09:09:16.077\u001b[0m | \u001b[1mINFO    \u001b[0m | \u001b[36mphysioex.utils.data_folder\u001b[0m:\u001b[36mset_data_folder\u001b[0m:\u001b[36m26\u001b[0m - \u001b[1mData folder set to /mnt/guido-data/\u001b[0m\n",
      "GPU available: True (cuda), used: True\n",
      "TPU available: False, using: 0 TPU cores\n",
      "HPU available: False, using: 0 HPUs\n",
      "/home/guido/miniconda3/envs/physioex/lib/python3.12/site-packages/pytorch_lightning/trainer/connectors/logger_connector/logger_connector.py:75: Starting from v1.9.0, `tensorboardX` has been removed as a dependency of the `pytorch_lightning` package, due to potential conflicts with other packages in the ML ecosystem. For this reason, `logger=True` will use `CSVLogger` as the default logger, unless the `tensorboard` or `tensorboardX` packages are found. Please `pip install lightning[extra]` or one of them to enable TensorBoard support by default\n",
      "LOCAL_RANK: 0 - CUDA_VISIBLE_DEVICES: [0]\n"
     ]
    },
    {
     "data": {
      "application/vnd.jupyter.widget-view+json": {
       "model_id": "16882f2787ec4d7e907a41c6ccb6872d",
       "version_major": 2,
       "version_minor": 0
      },
      "text/plain": [
       "Testing: |                                                                                                    …"
      ]
     },
     "metadata": {},
     "output_type": "display_data"
    },
    {
     "data": {
      "text/html": [
       "<pre style=\"white-space:pre;overflow-x:auto;line-height:normal;font-family:Menlo,'DejaVu Sans Mono',consolas,'Courier New',monospace\">┏━━━━━━━━━━━━━━━━━━━━━━━━━━━┳━━━━━━━━━━━━━━━━━━━━━━━━━━━┓\n",
       "┃<span style=\"font-weight: bold\">        Test metric        </span>┃<span style=\"font-weight: bold\">       DataLoader 0        </span>┃\n",
       "┡━━━━━━━━━━━━━━━━━━━━━━━━━━━╇━━━━━━━━━━━━━━━━━━━━━━━━━━━┩\n",
       "│<span style=\"color: #008080; text-decoration-color: #008080\">         test_acc          </span>│<span style=\"color: #800080; text-decoration-color: #800080\">    0.6565186977386475     </span>│\n",
       "│<span style=\"color: #008080; text-decoration-color: #008080\">          test_ck          </span>│<span style=\"color: #800080; text-decoration-color: #800080\">    0.5421931147575378     </span>│\n",
       "│<span style=\"color: #008080; text-decoration-color: #008080\">          test_f1          </span>│<span style=\"color: #800080; text-decoration-color: #800080\">    0.6361228823661804     </span>│\n",
       "│<span style=\"color: #008080; text-decoration-color: #008080\">         test_loss         </span>│<span style=\"color: #800080; text-decoration-color: #800080\">    1.0590749979019165     </span>│\n",
       "│<span style=\"color: #008080; text-decoration-color: #008080\">         test_macc         </span>│<span style=\"color: #800080; text-decoration-color: #800080\">    0.6081961393356323     </span>│\n",
       "│<span style=\"color: #008080; text-decoration-color: #008080\">         test_mf1          </span>│<span style=\"color: #800080; text-decoration-color: #800080\">    0.5910953283309937     </span>│\n",
       "│<span style=\"color: #008080; text-decoration-color: #008080\">          test_pr          </span>│<span style=\"color: #800080; text-decoration-color: #800080\">     0.675656795501709     </span>│\n",
       "│<span style=\"color: #008080; text-decoration-color: #008080\">          test_rc          </span>│<span style=\"color: #800080; text-decoration-color: #800080\">    0.6565186977386475     </span>│\n",
       "└───────────────────────────┴───────────────────────────┘\n",
       "</pre>\n"
      ],
      "text/plain": [
       "┏━━━━━━━━━━━━━━━━━━━━━━━━━━━┳━━━━━━━━━━━━━━━━━━━━━━━━━━━┓\n",
       "┃\u001b[1m \u001b[0m\u001b[1m       Test metric       \u001b[0m\u001b[1m \u001b[0m┃\u001b[1m \u001b[0m\u001b[1m      DataLoader 0       \u001b[0m\u001b[1m \u001b[0m┃\n",
       "┡━━━━━━━━━━━━━━━━━━━━━━━━━━━╇━━━━━━━━━━━━━━━━━━━━━━━━━━━┩\n",
       "│\u001b[36m \u001b[0m\u001b[36m        test_acc         \u001b[0m\u001b[36m \u001b[0m│\u001b[35m \u001b[0m\u001b[35m   0.6565186977386475    \u001b[0m\u001b[35m \u001b[0m│\n",
       "│\u001b[36m \u001b[0m\u001b[36m         test_ck         \u001b[0m\u001b[36m \u001b[0m│\u001b[35m \u001b[0m\u001b[35m   0.5421931147575378    \u001b[0m\u001b[35m \u001b[0m│\n",
       "│\u001b[36m \u001b[0m\u001b[36m         test_f1         \u001b[0m\u001b[36m \u001b[0m│\u001b[35m \u001b[0m\u001b[35m   0.6361228823661804    \u001b[0m\u001b[35m \u001b[0m│\n",
       "│\u001b[36m \u001b[0m\u001b[36m        test_loss        \u001b[0m\u001b[36m \u001b[0m│\u001b[35m \u001b[0m\u001b[35m   1.0590749979019165    \u001b[0m\u001b[35m \u001b[0m│\n",
       "│\u001b[36m \u001b[0m\u001b[36m        test_macc        \u001b[0m\u001b[36m \u001b[0m│\u001b[35m \u001b[0m\u001b[35m   0.6081961393356323    \u001b[0m\u001b[35m \u001b[0m│\n",
       "│\u001b[36m \u001b[0m\u001b[36m        test_mf1         \u001b[0m\u001b[36m \u001b[0m│\u001b[35m \u001b[0m\u001b[35m   0.5910953283309937    \u001b[0m\u001b[35m \u001b[0m│\n",
       "│\u001b[36m \u001b[0m\u001b[36m         test_pr         \u001b[0m\u001b[36m \u001b[0m│\u001b[35m \u001b[0m\u001b[35m    0.675656795501709    \u001b[0m\u001b[35m \u001b[0m│\n",
       "│\u001b[36m \u001b[0m\u001b[36m         test_rc         \u001b[0m\u001b[36m \u001b[0m│\u001b[35m \u001b[0m\u001b[35m   0.6565186977386475    \u001b[0m\u001b[35m \u001b[0m│\n",
       "└───────────────────────────┴───────────────────────────┘\n"
      ]
     },
     "metadata": {},
     "output_type": "display_data"
    }
   ],
   "source": [
    "model = load_pretrained_model(\n",
    "    name=\"seqsleepnet\",\n",
    "    in_channels=3,\n",
    ")\n",
    "data_folder = \"/mnt/guido-data/\"\n",
    "data_module = PhysioExDataModule(\n",
    "    datasets=[\"hmc\"],\n",
    "    batch_size=256,\n",
    "    preprocessing=\"xsleepnet\",\n",
    "    selected_channels=[\"EEG\", \"EOG\", \"EMG\"],\n",
    "    target_transform=None,\n",
    "    data_folder=data_folder,\n",
    ")\n",
    "\n",
    "trainer = pl.Trainer(deterministic=True)\n",
    "\n",
    "results = trainer.test(model, datamodule=data_module)[0]\n"
   ]
  },
  {
   "cell_type": "code",
   "execution_count": 51,
   "metadata": {},
   "outputs": [],
   "source": [
    "results_df = pd.read_csv(\"papers/msd/results.csv\")\n",
    "\n",
    "results[\"dataset\"] = \"hmc\"\n",
    "results[\"k\"] = 0\n",
    "\n",
    "results_df = pd.concat([results_df, pd.DataFrame([results])])\n",
    "results_df.to_csv(\"papers/msd/results.csv\", index=False)"
   ]
  },
  {
   "cell_type": "code",
   "execution_count": 45,
   "metadata": {},
   "outputs": [
    {
     "name": "stderr",
     "output_type": "stream",
     "text": [
      "/home/guido/github/physioex-private/physioex/models/load.py:55: UserWarning: Boolean Series key will be reindexed to match DataFrame index.\n",
      "  ckpt_path = ckpt_path[check_table[\"sequence_length\"] == sequence_length]\n",
      "/home/guido/github/physioex-private/physioex/models/load.py:56: UserWarning: Boolean Series key will be reindexed to match DataFrame index.\n",
      "  ckpt_path = ckpt_path[check_table[\"in_channels\"] == in_channels]\n",
      "/home/guido/github/physioex-private/physioex/models/load.py:57: UserWarning: Boolean Series key will be reindexed to match DataFrame index.\n",
      "  ckpt_path = ckpt_path[check_table[\"loss\"] == loss]\n",
      "/home/guido/miniconda3/envs/physioex/lib/python3.12/site-packages/pytorch_lightning/utilities/parsing.py:208: Attribute 'nn' is an instance of `nn.Module` and is already saved during checkpointing. It is recommended to ignore them using `self.save_hyperparameters(ignore=['nn'])`.\n",
      "/home/guido/github/physioex-private/physioex/models/load.py:55: UserWarning: Boolean Series key will be reindexed to match DataFrame index.\n",
      "  ckpt_path = ckpt_path[check_table[\"sequence_length\"] == sequence_length]\n",
      "/home/guido/github/physioex-private/physioex/models/load.py:56: UserWarning: Boolean Series key will be reindexed to match DataFrame index.\n",
      "  ckpt_path = ckpt_path[check_table[\"in_channels\"] == in_channels]\n",
      "/home/guido/github/physioex-private/physioex/models/load.py:57: UserWarning: Boolean Series key will be reindexed to match DataFrame index.\n",
      "  ckpt_path = ckpt_path[check_table[\"loss\"] == loss]\n",
      "/home/guido/miniconda3/envs/physioex/lib/python3.12/site-packages/pytorch_lightning/utilities/parsing.py:208: Attribute 'nn' is an instance of `nn.Module` and is already saved during checkpointing. It is recommended to ignore them using `self.save_hyperparameters(ignore=['nn'])`.\n",
      "/home/guido/github/physioex-private/physioex/models/load.py:55: UserWarning: Boolean Series key will be reindexed to match DataFrame index.\n",
      "  ckpt_path = ckpt_path[check_table[\"sequence_length\"] == sequence_length]\n",
      "/home/guido/github/physioex-private/physioex/models/load.py:56: UserWarning: Boolean Series key will be reindexed to match DataFrame index.\n",
      "  ckpt_path = ckpt_path[check_table[\"in_channels\"] == in_channels]\n",
      "/home/guido/github/physioex-private/physioex/models/load.py:57: UserWarning: Boolean Series key will be reindexed to match DataFrame index.\n",
      "  ckpt_path = ckpt_path[check_table[\"loss\"] == loss]\n"
     ]
    },
    {
     "name": "stdout",
     "output_type": "stream",
     "text": [
      "1\n",
      "Model chambon2018 has K parameters: 17.90K\n",
      "Model chambon2018 has M parameters: 0.02M\n",
      "Model seqsleepnet has K parameters: 137.73K\n",
      "Model seqsleepnet has M parameters: 0.14M\n",
      "Model tinysleepnet has K parameters: 1516.42K\n",
      "Model tinysleepnet has M parameters: 1.52M\n"
     ]
    },
    {
     "name": "stderr",
     "output_type": "stream",
     "text": [
      "/home/guido/miniconda3/envs/physioex/lib/python3.12/site-packages/pytorch_lightning/utilities/parsing.py:208: Attribute 'nn' is an instance of `nn.Module` and is already saved during checkpointing. It is recommended to ignore them using `self.save_hyperparameters(ignore=['nn'])`.\n"
     ]
    }
   ],
   "source": [
    "\n",
    "df = []\n",
    "models_names = [\"chambon2018\", \"seqsleepnet\", \"tinysleepnet\"]\n",
    "for model_name in models_names:\n",
    "    model = load_pretrained_model(\n",
    "        name=model_name\n",
    "    )\n",
    "    \n",
    "    # print the number of parameters\n",
    "    n_params = sum(p.numel() for p in model.parameters())\n",
    "    # print the number of XX.K parameters or M parameters\n",
    "    print(f\"Model {model_name} has K parameters: {n_params/1000:.2f}K\")\n",
    "    print(f\"Model {model_name} has M parameters: {n_params/1000000:.2f}M\")"
   ]
  },
  {
   "cell_type": "code",
   "execution_count": 33,
   "metadata": {},
   "outputs": [
    {
     "name": "stderr",
     "output_type": "stream",
     "text": [
      "<>:16: SyntaxWarning: invalid escape sequence '\\%'\n",
      "<>:16: SyntaxWarning: invalid escape sequence '\\%'\n",
      "/tmp/ipykernel_3309058/843730700.py:16: SyntaxWarning: invalid escape sequence '\\%'\n",
      "  results[col] = results[col].apply(lambda x: f\"{x*100:.1f}\\%\")\n"
     ]
    }
   ],
   "source": [
    "results = pd.read_csv(\"papers/physioex/results_train_test_raw.csv\")\n",
    "\n",
    "results = results.round(3)\n",
    "\n",
    "# convert the float columns to % format\n",
    "float_col = [\"test_acc\", \"test_f1\", \"test_ck\", \"test_pr\", \"test_rc\"]\n",
    "for col in float_col:\n",
    "    results[col] = results[col].apply(lambda x: f\"{x*100:.1f}\\%\")\n",
    "\n",
    "# rename the columns\n",
    "results = results.rename(\n",
    "    columns={\n",
    "        \"model\": \"Model\",\n",
    "        \"in_channels\": \"Channels\",\n",
    "        \"dataset\": \"Dataset\",\n",
    "        \"sequence_length\": \"Sequence Length\",\n",
    "        \"test_acc\": \"Accuracy\",\n",
    "        \"test_f1\": \"F1 Score\",\n",
    "        \"test_ck\": \"Cohen's Kappa\",\n",
    "        \"test_pr\": \"Precision\",\n",
    "        \"test_rc\": \"Recall\",\n",
    "    }\n",
    ")\n",
    "\n",
    "# remove the other columns\n",
    "results = results[\n",
    "    [\n",
    "        \"Train/Test\",\n",
    "        \"Model\",\n",
    "        \"Channels\",\n",
    "        \"Dataset\",\n",
    "        \"Accuracy\",\n",
    "        \"F1 Score\",\n",
    "        \"Cohen's Kappa\",\n",
    "        \"Precision\",\n",
    "        \"Recall\",\n",
    "    ]\n",
    "]\n",
    "\n",
    "results.to_csv(\"papers/physioex/results_train_test.csv\")\n",
    "\n",
    "results.set_index(\n",
    "    [\n",
    "        \"Train/Test\",\n",
    "        \"Model\",\n",
    "        \"Channels\",\n",
    "    ],\n",
    "    inplace=True,\n",
    ")\n",
    "# convert it to latex file\n",
    "# results.to_latex(\"papers/physioex/results_train_test.tex\")"
   ]
  },
  {
   "cell_type": "code",
   "execution_count": null,
   "metadata": {},
   "outputs": [],
   "source": []
  }
 ],
 "metadata": {
  "kernelspec": {
   "display_name": "Python 3 (ipykernel)",
   "language": "python",
   "name": "python3"
  },
  "language_info": {
   "codemirror_mode": {
    "name": "ipython",
    "version": 3
   },
   "file_extension": ".py",
   "mimetype": "text/x-python",
   "name": "python",
   "nbconvert_exporter": "python",
   "pygments_lexer": "ipython3",
   "version": "3.12.0"
  }
 },
 "nbformat": 4,
 "nbformat_minor": 2
}

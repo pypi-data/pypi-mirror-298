{
 "cells": [
  {
   "cell_type": "code",
   "execution_count": 1,
   "id": "22c3dbba-bfa5-4628-9cd4-08999afda3aa",
   "metadata": {},
   "outputs": [],
   "source": [
    "import numpy as np\n",
    "import pandas as pd\n",
    "from sklearn.base import BaseEstimator, RegressorMixin\n",
    "from sklearn.utils.validation import check_X_y, check_array, check_is_fitted\n",
    "from scipy.optimize import curve_fit\n",
    "\n",
    "class MinettiPowerRegressor(BaseEstimator, RegressorMixin):\n",
    "    def __init__(self, body_mass):\n",
    "        self.body_mass = body_mass\n",
    "\n",
    "    def minetti_power(self, X, a, b, c, d, e, f):\n",
    "        grade, speed = X[:, 0], X[:, 1]\n",
    "        cost = a * grade**5 + b * grade**4 + c * grade**3 + d * grade**2 + e * grade + f\n",
    "        return cost * speed * self.body_mass\n",
    "\n",
    "    def fit(self, X, y):\n",
    "        X, y = check_X_y(X, y)\n",
    "        self.n_features_in_ = X.shape[1]\n",
    "\n",
    "        # Initial guess based on Minetti's original coefficients\n",
    "        p0 = [155.4, -30.4, -43.3, 46.3, 19.5, 3.6]\n",
    "\n",
    "        # Fit the parameters\n",
    "        self.coef_, _ = curve_fit(self.minetti_power, X.T, y, p0=p0)\n",
    "\n",
    "        return self\n",
    "\n",
    "    def predict(self, X):\n",
    "        check_is_fitted(self)\n",
    "        X = check_array(X)\n",
    "        return self.minetti_power(X.T, *self.coef_)"
   ]
  },
  {
   "cell_type": "code",
   "execution_count": null,
   "id": "55a55a9c-2261-4015-a249-012b8d1f1b47",
   "metadata": {},
   "outputs": [],
   "source": []
  }
 ],
 "metadata": {
  "kernelspec": {
   "display_name": "Python 3 (ipykernel)",
   "language": "python",
   "name": "python3"
  },
  "language_info": {
   "codemirror_mode": {
    "name": "ipython",
    "version": 3
   },
   "file_extension": ".py",
   "mimetype": "text/x-python",
   "name": "python",
   "nbconvert_exporter": "python",
   "pygments_lexer": "ipython3",
   "version": "3.10.10"
  }
 },
 "nbformat": 4,
 "nbformat_minor": 5
}

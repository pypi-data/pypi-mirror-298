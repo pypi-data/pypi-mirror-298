{
 "cells": [
  {
   "cell_type": "markdown",
   "metadata": {},
   "source": [
    "# Downstream prediction \n",
    "\n",
    "Run this notebook on google colab to use a free GPU! \n",
    "\n",
    "[![Open In Colab](https://colab.research.google.com/assets/colab-badge.svg)](https://colab.research.google.com/github/helicalAI/helical/blob/main/examples/notebooks/Hyena-DNA-Inference.ipynb)\n",
    "\n",
    "In this notebook, a HyenaDNA model is used for various classifications tasks with a given sequence of nucleotides.\n",
    "\n",
    "A HyenaDNA model (2 layers and width 256) is used to create embeddings of nucleotides.\n",
    "\n",
    "A neural network is then trained, using the embeddings as inputs, to make a prediction.\n",
    "\n",
    "This notebook can be used for any of the 18 [nucleotide transformer downstream tasks](https://huggingface.co/datasets/InstaDeepAI/nucleotide_transformer_downstream_tasks)."
   ]
  },
  {
   "cell_type": "code",
   "execution_count": 16,
   "metadata": {},
   "outputs": [
    {
     "name": "stdout",
     "output_type": "stream",
     "text": [
      "Requirement already satisfied: tensorflow_addons in /Users/bputzeys/miniforge3/envs/head_example/lib/python3.11/site-packages (0.23.0)\n",
      "Requirement already satisfied: typeguard<3.0.0,>=2.7 in /Users/bputzeys/miniforge3/envs/head_example/lib/python3.11/site-packages (from tensorflow_addons) (2.13.3)\n",
      "Requirement already satisfied: packaging in /Users/bputzeys/miniforge3/envs/head_example/lib/python3.11/site-packages (from tensorflow_addons) (24.0)\n",
      "  Running command git clone --filter=blob:none --quiet https://github.com/helicalAI/helical.git /private/var/folders/pm/76n9tjdj18z7cbc55rk10yfw0000gn/T/pip-req-build-oa9zv4bw\n",
      "Successfully installed helical-0.0.0\n"
     ]
    }
   ],
   "source": [
    "!pip install git+https://github.com/helicalAI/helical.git | tail -n 1"
   ]
  },
  {
   "cell_type": "code",
   "execution_count": 2,
   "metadata": {},
   "outputs": [
    {
     "name": "stderr",
     "output_type": "stream",
     "text": [
      "/Users/bputzeys/miniforge3/envs/head_example/lib/python3.11/site-packages/tensorflow_addons/utils/tfa_eol_msg.py:23: UserWarning: \n",
      "\n",
      "TensorFlow Addons (TFA) has ended development and introduction of new features.\n",
      "TFA has entered a minimal maintenance and release mode until a planned end of life in May 2024.\n",
      "Please modify downstream libraries to take dependencies from other repositories in our TensorFlow community (e.g. Keras, Keras-CV, and Keras-NLP). \n",
      "\n",
      "For more information see: https://github.com/tensorflow/addons/issues/2807 \n",
      "\n",
      "  warnings.warn(\n",
      "/Users/bputzeys/miniforge3/envs/head_example/lib/python3.11/site-packages/tensorflow_addons/utils/ensure_tf_install.py:53: UserWarning: Tensorflow Addons supports using Python ops for all Tensorflow versions above or equal to 2.13.0 and strictly below 2.16.0 (nightly versions are not supported). \n",
      " The versions of TensorFlow you are currently using is 2.13.0-rc1 and is not supported. \n",
      "Some things might work, some things might not.\n",
      "If you were to encounter a bug, do not file an issue.\n",
      "If you want to make sure you're using a tested and supported configuration, either change the TensorFlow version or the TensorFlow Addons's version. \n",
      "You can find the compatibility matrix in TensorFlow Addon's readme:\n",
      "https://github.com/tensorflow/addons\n",
      "  warnings.warn(\n"
     ]
    }
   ],
   "source": [
    "from tensorflow.keras.models import Sequential\n",
    "from tensorflow.keras.layers import Dense, Dropout, BatchNormalization\n",
    "from tensorflow.keras.callbacks import TensorBoard\n",
    "from tensorflow.keras.optimizers import Adam\n",
    "from tensorflow.keras.utils import to_categorical\n",
    "from sklearn import svm\n",
    "from sklearn.metrics import accuracy_score\n",
    "from sklearn.model_selection import train_test_split\n",
    "from sklearn.preprocessing import LabelEncoder\n",
    "import numpy as np\n",
    "from datasets import DatasetDict\n",
    "import datetime\n",
    "import torch\n",
    "from tqdm import tqdm\n",
    "from typing import Tuple"
   ]
  },
  {
   "cell_type": "markdown",
   "metadata": {},
   "source": [
    "### Use the Helical package to get the Hyena model\n",
    "We use a small HyenaDNA model with 2 layers and width 256."
   ]
  },
  {
   "cell_type": "code",
   "execution_count": 3,
   "metadata": {},
   "outputs": [
    {
     "name": "stderr",
     "output_type": "stream",
     "text": [
      "2024-06-05, 17:01:15.550 helical.services.downloader INFO File: '/Users/bputzeys/.cache/helical/models/hyena_dna/hyenadna-tiny-1k-seqlen-d256.ckpt' exists already. File is not overwritten and nothing is downloaded.\n",
      "2024-06-05, 17:01:15.551 helical.services.downloader INFO File saved to: '/Users/bputzeys/.cache/helical/models/hyena_dna/hyenadna-tiny-1k-seqlen-d256.ckpt'\n",
      "2024-06-05, 17:01:15.628 helical.models.hyena_dna.pretrained_model INFO Loaded pretrained weights ok!\n",
      "2024-06-05, 17:01:15.630 helical.models.hyena_dna.model INFO Model finished initializing.\n"
     ]
    }
   ],
   "source": [
    "from helical.models.hyena_dna.model import HyenaDNA\n",
    "from helical.models.hyena_dna.hyena_dna_config import HyenaDNAConfig  \n",
    "device = \"cuda\" if torch.cuda.is_available() else \"cpu\"\n",
    "configurer = HyenaDNAConfig(model_name=\"hyenadna-tiny-1k-seqlen-d256\", device=device)\n",
    "hyena_model = HyenaDNA(configurer=configurer)"
   ]
  },
  {
   "cell_type": "markdown",
   "metadata": {},
   "source": [
    "### Download the dataset\n",
    "Several datasets are available from the [Nucleotide Transformer](https://arxiv.org/abs/2306.15794). Using the `get_dataset_config_names()` function, we get a list of the available the datasets for the downstream tasks."
   ]
  },
  {
   "cell_type": "code",
   "execution_count": 4,
   "metadata": {},
   "outputs": [
    {
     "data": {
      "text/plain": [
       "['H4ac',\n",
       " 'H3K36me3',\n",
       " 'splice_sites_donors',\n",
       " 'splice_sites_acceptors',\n",
       " 'H3',\n",
       " 'H4',\n",
       " 'H3K4me3',\n",
       " 'splice_sites_all',\n",
       " 'H3K4me1',\n",
       " 'H3K14ac',\n",
       " 'enhancers_types',\n",
       " 'promoter_no_tata',\n",
       " 'H3K79me3',\n",
       " 'H3K4me2',\n",
       " 'promoter_tata',\n",
       " 'enhancers',\n",
       " 'H3K9ac',\n",
       " 'promoter_all']"
      ]
     },
     "execution_count": 4,
     "metadata": {},
     "output_type": "execute_result"
    }
   ],
   "source": [
    "from datasets import get_dataset_config_names\n",
    "\n",
    "configs = get_dataset_config_names(\"InstaDeepAI/nucleotide_transformer_downstream_tasks\", trust_remote_code=True)\n",
    "configs"
   ]
  },
  {
   "cell_type": "markdown",
   "metadata": {},
   "source": [
    "We can select any of the 18 downstream tasks. Let us take the `promoter_tata` as an example."
   ]
  },
  {
   "cell_type": "code",
   "execution_count": 5,
   "metadata": {},
   "outputs": [],
   "source": [
    "from datasets import load_dataset\n",
    "label = \"promoter_tata\"\n",
    "dataset = load_dataset(\"InstaDeepAI/nucleotide_transformer_downstream_tasks\", label, trust_remote_code=True)"
   ]
  },
  {
   "cell_type": "markdown",
   "metadata": {},
   "source": [
    "To familiarize ourselves with the data, we can print the first seqence and see if it is a splice site acceptor or not:"
   ]
  },
  {
   "cell_type": "code",
   "execution_count": 6,
   "metadata": {},
   "outputs": [
    {
     "name": "stdout",
     "output_type": "stream",
     "text": [
      "Nucleotide sequence: CGCTCCCCCA ...\n",
      "Label name: promoter_tata and value: 0\n",
      "Number of classes: 2\n"
     ]
    }
   ],
   "source": [
    "print(\"Nucleotide sequence:\", dataset[\"train\"][\"sequence\"][0][:10], \"...\")\n",
    "print(\"Label name:\", dataset[\"train\"].config_name, \"and value:\", dataset[\"train\"][\"label\"][0])\n",
    "num_classes = len(set(dataset[\"train\"][\"label\"]))\n",
    "print(\"Number of classes:\", num_classes)"
   ]
  },
  {
   "cell_type": "markdown",
   "metadata": {},
   "source": [
    "Define a function that gets the embeddings for each nucleotide sequence in the training dataset.\n",
    "\n",
    "According to the HyenaDNA [paper](https://arxiv.org/pdf/2306.15794): \"[they] average across the tokens to obtain a single classification token\".\n",
    "\n",
    "In our code below, the Hyena model returns a (302, 256) matrix. We average column wise resulting in a vector of shape (256, ) for each observation.\n",
    "\n",
    "During the training process, we also found that it is beneficial to normalize the data row-wise."
   ]
  },
  {
   "cell_type": "code",
   "execution_count": 7,
   "metadata": {},
   "outputs": [],
   "source": [
    "def get_model_inputs(dataset: DatasetDict, nbr_sequences: int = 50) -> Tuple[np.ndarray, np.ndarray]:\n",
    "    \"\"\"\n",
    "    Parameters\n",
    "    ----------\n",
    "    dataset : DatasetDict\n",
    "        The dataset containing the sequences and labels.\n",
    "    nbr_sequences : int, optional\n",
    "        The number of sequences to process at a time, by default 50.\n",
    "\n",
    "    Returns\n",
    "    -------\n",
    "    Tuple[np.ndarray, np.ndarray]\n",
    "        A tuple containing the input features and labels.\n",
    "    \"\"\"\n",
    "    x_tot = np.empty((0, configurer.config['d_model'])) \n",
    "    labels_tot = np.empty((0,), dtype=int)\n",
    "    \n",
    "    # disable logging to avoid cluttering the output\n",
    "    import logging\n",
    "    logging.disable(logging.CRITICAL)\n",
    "\n",
    "    for i in tqdm(range(0, len(dataset), nbr_sequences)):\n",
    "        tokenized_sequences = hyena_model.process_data(dataset[\"sequence\"][i:i+nbr_sequences])    \n",
    "        embeddings = hyena_model.get_embeddings(tokenized_sequences[0])\n",
    "        numpy_array = embeddings.cpu().detach().numpy()\n",
    "        x = numpy_array.mean(axis=1)\n",
    "            \n",
    "        # normalize the data\n",
    "        x = (x - np.mean(x, axis=0)) / np.std(x, axis=0)\n",
    "        x_tot = np.concatenate((x_tot, x), axis=0)\n",
    "\n",
    "        labels = np.array(dataset[\"label\"][i:i+nbr_sequences])\n",
    "        labels_tot = np.concatenate((labels_tot, labels), axis=0)\n",
    "    return x_tot, labels_tot"
   ]
  },
  {
   "cell_type": "markdown",
   "metadata": {},
   "source": [
    "It may be beneficial to do this step once and save the output in a `.npy` file."
   ]
  },
  {
   "cell_type": "code",
   "execution_count": 8,
   "metadata": {},
   "outputs": [
    {
     "name": "stderr",
     "output_type": "stream",
     "text": [
      "100%|██████████| 111/111 [02:14<00:00,  1.21s/it]\n"
     ]
    }
   ],
   "source": [
    "x, y = get_model_inputs(dataset[\"train\"], 50)\n",
    "#np.save(f\"data/train/x_{label}_norm_256\", x)\n",
    "#np.save(f\"data/train/y_{label}_norm_256\", y)"
   ]
  },
  {
   "cell_type": "markdown",
   "metadata": {},
   "source": [
    "Load the data and one-hot-encode the labels.\n",
    "\n",
    "We split the training set into actual training data and a test set. \n",
    "\n",
    "This is optional and the entire dataset can be used for training. We did this to avoid data leakage by not touching the test set during the training process."
   ]
  },
  {
   "cell_type": "code",
   "execution_count": 9,
   "metadata": {},
   "outputs": [],
   "source": [
    "#x = np.load(f\"data/train/x_{label}_norm_256.npy\")\n",
    "#y = np.load(f\"data/train/y_{label}_norm_256.npy\")\n",
    "\n",
    "# # One-hot encode the labels\n",
    "encoder = LabelEncoder()\n",
    "y_encoded = encoder.fit_transform(y)\n",
    "y_encoded = to_categorical(y_encoded, num_classes=num_classes)\n",
    "\n",
    "X_train, X_test, y_train, y_test = train_test_split(x, y_encoded, test_size=0.1, random_state=42)"
   ]
  },
  {
   "cell_type": "markdown",
   "metadata": {},
   "source": [
    "### Define and train the model"
   ]
  },
  {
   "cell_type": "code",
   "execution_count": 10,
   "metadata": {},
   "outputs": [
    {
     "name": "stdout",
     "output_type": "stream",
     "text": [
      "Model: \"sequential\"\n",
      "_________________________________________________________________\n",
      " Layer (type)                Output Shape              Param #   \n",
      "=================================================================\n",
      " dense (Dense)               (None, 256)               65792     \n",
      "                                                                 \n",
      " dropout (Dropout)           (None, 256)               0         \n",
      "                                                                 \n",
      " dense_1 (Dense)             (None, 128)               32896     \n",
      "                                                                 \n",
      " dropout_1 (Dropout)         (None, 128)               0         \n",
      "                                                                 \n",
      " dense_2 (Dense)             (None, 128)               16512     \n",
      "                                                                 \n",
      " dropout_2 (Dropout)         (None, 128)               0         \n",
      "                                                                 \n",
      " dense_3 (Dense)             (None, 64)                8256      \n",
      "                                                                 \n",
      " dropout_3 (Dropout)         (None, 64)                0         \n",
      "                                                                 \n",
      " dense_4 (Dense)             (None, 2)                 130       \n",
      "                                                                 \n",
      "=================================================================\n",
      "Total params: 123586 (482.76 KB)\n",
      "Trainable params: 123586 (482.76 KB)\n",
      "Non-trainable params: 0 (0.00 Byte)\n",
      "_________________________________________________________________\n",
      "Epoch 1/25\n",
      "78/78 [==============================] - 1s 3ms/step - loss: 0.5445 - f1_score: 0.7210 - val_loss: 0.2734 - val_f1_score: 0.8962\n",
      "Epoch 2/25\n",
      "78/78 [==============================] - 0s 2ms/step - loss: 0.3161 - f1_score: 0.8714 - val_loss: 0.2439 - val_f1_score: 0.9110\n",
      "Epoch 3/25\n",
      "78/78 [==============================] - 0s 2ms/step - loss: 0.2775 - f1_score: 0.8920 - val_loss: 0.2335 - val_f1_score: 0.9146\n",
      "Epoch 4/25\n",
      "78/78 [==============================] - 0s 2ms/step - loss: 0.2409 - f1_score: 0.9098 - val_loss: 0.2275 - val_f1_score: 0.9146\n",
      "Epoch 5/25\n",
      "78/78 [==============================] - 0s 2ms/step - loss: 0.2449 - f1_score: 0.9063 - val_loss: 0.2375 - val_f1_score: 0.9110\n",
      "Epoch 6/25\n",
      "78/78 [==============================] - 0s 2ms/step - loss: 0.2202 - f1_score: 0.9175 - val_loss: 0.2329 - val_f1_score: 0.9146\n",
      "Epoch 7/25\n",
      "78/78 [==============================] - 0s 2ms/step - loss: 0.2171 - f1_score: 0.9144 - val_loss: 0.2235 - val_f1_score: 0.9183\n",
      "Epoch 8/25\n",
      "78/78 [==============================] - 0s 2ms/step - loss: 0.2094 - f1_score: 0.9180 - val_loss: 0.2203 - val_f1_score: 0.9182\n",
      "Epoch 9/25\n",
      "78/78 [==============================] - 0s 2ms/step - loss: 0.2016 - f1_score: 0.9229 - val_loss: 0.2366 - val_f1_score: 0.9111\n",
      "Epoch 10/25\n",
      "78/78 [==============================] - 0s 2ms/step - loss: 0.2060 - f1_score: 0.9221 - val_loss: 0.2166 - val_f1_score: 0.9200\n",
      "Epoch 11/25\n",
      "78/78 [==============================] - 0s 2ms/step - loss: 0.1921 - f1_score: 0.9261 - val_loss: 0.2358 - val_f1_score: 0.9073\n",
      "Epoch 12/25\n",
      "78/78 [==============================] - 0s 2ms/step - loss: 0.1900 - f1_score: 0.9275 - val_loss: 0.2222 - val_f1_score: 0.9237\n",
      "Epoch 13/25\n",
      "78/78 [==============================] - 0s 2ms/step - loss: 0.1930 - f1_score: 0.9229 - val_loss: 0.2127 - val_f1_score: 0.9164\n",
      "Epoch 14/25\n",
      "78/78 [==============================] - 0s 2ms/step - loss: 0.1847 - f1_score: 0.9312 - val_loss: 0.2216 - val_f1_score: 0.9145\n",
      "Epoch 15/25\n",
      "78/78 [==============================] - 0s 2ms/step - loss: 0.1777 - f1_score: 0.9310 - val_loss: 0.2250 - val_f1_score: 0.9147\n",
      "Epoch 16/25\n",
      "78/78 [==============================] - 0s 2ms/step - loss: 0.1721 - f1_score: 0.9344 - val_loss: 0.2175 - val_f1_score: 0.9236\n",
      "Epoch 17/25\n",
      "78/78 [==============================] - 0s 2ms/step - loss: 0.1648 - f1_score: 0.9318 - val_loss: 0.2139 - val_f1_score: 0.9199\n",
      "Epoch 18/25\n",
      "78/78 [==============================] - 0s 2ms/step - loss: 0.1556 - f1_score: 0.9391 - val_loss: 0.2281 - val_f1_score: 0.9146\n",
      "Epoch 19/25\n",
      "78/78 [==============================] - 0s 2ms/step - loss: 0.1631 - f1_score: 0.9344 - val_loss: 0.2325 - val_f1_score: 0.9219\n",
      "Epoch 20/25\n",
      "78/78 [==============================] - 0s 2ms/step - loss: 0.1572 - f1_score: 0.9389 - val_loss: 0.2301 - val_f1_score: 0.9255\n",
      "Epoch 21/25\n",
      "78/78 [==============================] - 0s 2ms/step - loss: 0.1504 - f1_score: 0.9394 - val_loss: 0.2283 - val_f1_score: 0.9183\n",
      "Epoch 22/25\n",
      "78/78 [==============================] - 0s 2ms/step - loss: 0.1434 - f1_score: 0.9411 - val_loss: 0.2470 - val_f1_score: 0.9110\n",
      "Epoch 23/25\n",
      "78/78 [==============================] - 0s 2ms/step - loss: 0.1396 - f1_score: 0.9429 - val_loss: 0.2364 - val_f1_score: 0.9272\n",
      "Epoch 24/25\n",
      "78/78 [==============================] - 0s 2ms/step - loss: 0.1412 - f1_score: 0.9421 - val_loss: 0.2589 - val_f1_score: 0.9200\n",
      "Epoch 25/25\n",
      "78/78 [==============================] - 0s 2ms/step - loss: 0.1398 - f1_score: 0.9429 - val_loss: 0.2435 - val_f1_score: 0.9219\n"
     ]
    }
   ],
   "source": [
    "input_shape = (configurer.config['d_model'],)\n",
    "\n",
    "# define the model\n",
    "head_model = Sequential()\n",
    "head_model.add(Dense(256, activation='relu', input_shape=input_shape))\n",
    "head_model.add(Dropout(0.4)) \n",
    "head_model.add(Dense(128, activation='relu'))\n",
    "head_model.add(Dropout(0.4))\n",
    "head_model.add(Dense(128, activation='relu'))\n",
    "head_model.add(Dropout(0.4))  \n",
    "head_model.add(Dense(64, activation='relu'))\n",
    "head_model.add(Dropout(0.4))  \n",
    "head_model.add(Dense(num_classes, activation='softmax'))\n",
    "\n",
    "# compile the model\n",
    "optimizer = Adam(learning_rate=0.001)\n",
    "\n",
    "head_model.compile(loss='categorical_crossentropy', optimizer=optimizer)\n",
    "head_model.summary()\n",
    "\n",
    "# Setup callbacks\n",
    "log_dir = \"logs/fit/\" + datetime.datetime.now().strftime(\"%Y%m%d-%H%M%S\")\n",
    "tensorboard_callback = TensorBoard(log_dir=log_dir, histogram_freq=1)\n",
    "history = head_model.fit(X_train, y_train, epochs=25, batch_size=64, validation_data=(X_test, y_test), callbacks=[tensorboard_callback])"
   ]
  },
  {
   "cell_type": "code",
   "execution_count": 11,
   "metadata": {},
   "outputs": [
    {
     "name": "stderr",
     "output_type": "stream",
     "text": [
      "100%|██████████| 13/13 [00:15<00:00,  1.18s/it]\n"
     ]
    }
   ],
   "source": [
    "X_unseen, y_unseen = get_model_inputs(dataset[\"test\"], 50)\n",
    "#np.save(f\"data/test/x_{label}_norm_256.npy\")\n",
    "#np.save(f\"data/test/y_{label}_norm_256.npy\")"
   ]
  },
  {
   "cell_type": "markdown",
   "metadata": {},
   "source": [
    "### Evaluate the model on the test data\n"
   ]
  },
  {
   "cell_type": "code",
   "execution_count": 12,
   "metadata": {},
   "outputs": [
    {
     "name": "stdout",
     "output_type": "stream",
     "text": [
      "20/20 [==============================] - 0s 548us/step\n",
      "Correct predictions: 91.79%\n"
     ]
    }
   ],
   "source": [
    "#X_unseen = np.load(f\"data/test/x_{label}_norm_256.npy\")\n",
    "#y_unseen = np.load(f\"data/test/y_{label}_norm_256.npy\")\n",
    "\n",
    "predictions_nn = head_model.predict(X_unseen)\n",
    "\n",
    "y_pred = np.argmax(predictions_nn, axis=1)\n",
    "print(\"Correct predictions: {:.2f}%\".format(sum(np.equal(y_pred, y_unseen))*100/len(y_unseen)))\n"
   ]
  },
  {
   "cell_type": "markdown",
   "metadata": {},
   "source": [
    "The [Hyena](https://arxiv.org/pdf/2306.15794) and the [Nucleotide transformer](https://www.biorxiv.org/content/10.1101/2023.01.11.523679v1.full.pdf) papers, report accuracies around 95% for this task. Our results underperform in comparison. This is probably due to the much larger models being used for the NT, while the Hyena model was re-trained from scratch for this task. In future work, we want to achieve these accuracies too with either approaches."
   ]
  },
  {
   "cell_type": "markdown",
   "metadata": {},
   "source": [
    "## OPTIONAL\n",
    "For reference, we also trained an SVM model and obtained similar results (to our small NN)."
   ]
  },
  {
   "cell_type": "code",
   "execution_count": 13,
   "metadata": {},
   "outputs": [
    {
     "data": {
      "text/html": [
       "<style>#sk-container-id-1 {color: black;background-color: white;}#sk-container-id-1 pre{padding: 0;}#sk-container-id-1 div.sk-toggleable {background-color: white;}#sk-container-id-1 label.sk-toggleable__label {cursor: pointer;display: block;width: 100%;margin-bottom: 0;padding: 0.3em;box-sizing: border-box;text-align: center;}#sk-container-id-1 label.sk-toggleable__label-arrow:before {content: \"▸\";float: left;margin-right: 0.25em;color: #696969;}#sk-container-id-1 label.sk-toggleable__label-arrow:hover:before {color: black;}#sk-container-id-1 div.sk-estimator:hover label.sk-toggleable__label-arrow:before {color: black;}#sk-container-id-1 div.sk-toggleable__content {max-height: 0;max-width: 0;overflow: hidden;text-align: left;background-color: #f0f8ff;}#sk-container-id-1 div.sk-toggleable__content pre {margin: 0.2em;color: black;border-radius: 0.25em;background-color: #f0f8ff;}#sk-container-id-1 input.sk-toggleable__control:checked~div.sk-toggleable__content {max-height: 200px;max-width: 100%;overflow: auto;}#sk-container-id-1 input.sk-toggleable__control:checked~label.sk-toggleable__label-arrow:before {content: \"▾\";}#sk-container-id-1 div.sk-estimator input.sk-toggleable__control:checked~label.sk-toggleable__label {background-color: #d4ebff;}#sk-container-id-1 div.sk-label input.sk-toggleable__control:checked~label.sk-toggleable__label {background-color: #d4ebff;}#sk-container-id-1 input.sk-hidden--visually {border: 0;clip: rect(1px 1px 1px 1px);clip: rect(1px, 1px, 1px, 1px);height: 1px;margin: -1px;overflow: hidden;padding: 0;position: absolute;width: 1px;}#sk-container-id-1 div.sk-estimator {font-family: monospace;background-color: #f0f8ff;border: 1px dotted black;border-radius: 0.25em;box-sizing: border-box;margin-bottom: 0.5em;}#sk-container-id-1 div.sk-estimator:hover {background-color: #d4ebff;}#sk-container-id-1 div.sk-parallel-item::after {content: \"\";width: 100%;border-bottom: 1px solid gray;flex-grow: 1;}#sk-container-id-1 div.sk-label:hover label.sk-toggleable__label {background-color: #d4ebff;}#sk-container-id-1 div.sk-serial::before {content: \"\";position: absolute;border-left: 1px solid gray;box-sizing: border-box;top: 0;bottom: 0;left: 50%;z-index: 0;}#sk-container-id-1 div.sk-serial {display: flex;flex-direction: column;align-items: center;background-color: white;padding-right: 0.2em;padding-left: 0.2em;position: relative;}#sk-container-id-1 div.sk-item {position: relative;z-index: 1;}#sk-container-id-1 div.sk-parallel {display: flex;align-items: stretch;justify-content: center;background-color: white;position: relative;}#sk-container-id-1 div.sk-item::before, #sk-container-id-1 div.sk-parallel-item::before {content: \"\";position: absolute;border-left: 1px solid gray;box-sizing: border-box;top: 0;bottom: 0;left: 50%;z-index: -1;}#sk-container-id-1 div.sk-parallel-item {display: flex;flex-direction: column;z-index: 1;position: relative;background-color: white;}#sk-container-id-1 div.sk-parallel-item:first-child::after {align-self: flex-end;width: 50%;}#sk-container-id-1 div.sk-parallel-item:last-child::after {align-self: flex-start;width: 50%;}#sk-container-id-1 div.sk-parallel-item:only-child::after {width: 0;}#sk-container-id-1 div.sk-dashed-wrapped {border: 1px dashed gray;margin: 0 0.4em 0.5em 0.4em;box-sizing: border-box;padding-bottom: 0.4em;background-color: white;}#sk-container-id-1 div.sk-label label {font-family: monospace;font-weight: bold;display: inline-block;line-height: 1.2em;}#sk-container-id-1 div.sk-label-container {text-align: center;}#sk-container-id-1 div.sk-container {/* jupyter's `normalize.less` sets `[hidden] { display: none; }` but bootstrap.min.css set `[hidden] { display: none !important; }` so we also need the `!important` here to be able to override the default hidden behavior on the sphinx rendered scikit-learn.org. See: https://github.com/scikit-learn/scikit-learn/issues/21755 */display: inline-block !important;position: relative;}#sk-container-id-1 div.sk-text-repr-fallback {display: none;}</style><div id=\"sk-container-id-1\" class=\"sk-top-container\"><div class=\"sk-text-repr-fallback\"><pre>SVC(C=1)</pre><b>In a Jupyter environment, please rerun this cell to show the HTML representation or trust the notebook. <br />On GitHub, the HTML representation is unable to render, please try loading this page with nbviewer.org.</b></div><div class=\"sk-container\" hidden><div class=\"sk-item\"><div class=\"sk-estimator sk-toggleable\"><input class=\"sk-toggleable__control sk-hidden--visually\" id=\"sk-estimator-id-1\" type=\"checkbox\" checked><label for=\"sk-estimator-id-1\" class=\"sk-toggleable__label sk-toggleable__label-arrow\">SVC</label><div class=\"sk-toggleable__content\"><pre>SVC(C=1)</pre></div></div></div></div></div>"
      ],
      "text/plain": [
       "SVC(C=1)"
      ]
     },
     "execution_count": 13,
     "metadata": {},
     "output_type": "execute_result"
    }
   ],
   "source": [
    "# Train the SVM model\n",
    "svm_model = svm.SVC(kernel='rbf', degree=3, C=1, decision_function_shape='ovr')  # One-vs-rest strategy\n",
    "X_train, X_test, y_train, y_test = train_test_split(x, y, test_size=0.1, random_state=42)\n",
    "svm_model.fit(X_train, y_train)"
   ]
  },
  {
   "cell_type": "code",
   "execution_count": 14,
   "metadata": {},
   "outputs": [
    {
     "name": "stdout",
     "output_type": "stream",
     "text": [
      "Test accuracy: 91.9%\n"
     ]
    }
   ],
   "source": [
    "# Evaluate the model\n",
    "unseen_predictions_svm = svm_model.predict(X_unseen)\n",
    "\n",
    "accuracy = accuracy_score(y_unseen, unseen_predictions_svm)\n",
    "print(\"Test accuracy: {:.1f}%\".format(accuracy*100))\n"
   ]
  },
  {
   "cell_type": "code",
   "execution_count": 15,
   "metadata": {},
   "outputs": [
    {
     "data": {
      "image/png": "[encoded data removed]",
      "text/plain": [
       "<Figure size 1000x700 with 2 Axes>"
      ]
     },
     "metadata": {},
     "output_type": "display_data"
    }
   ],
   "source": [
    "import seaborn as sns\n",
    "import matplotlib.pyplot as plt\n",
    "from sklearn.metrics import confusion_matrix\n",
    "\n",
    "# NN\n",
    "# y_true = np.argmax(y_test, axis=1)\n",
    "# y_pred_classes = np.argmax(predictions_nn, axis=1)\n",
    "\n",
    "# SVM\n",
    "y_true = y_test\n",
    "y_pred_classes = svm_model.predict(X_test)\n",
    "\n",
    "# Compute the confusion matrix\n",
    "cm = confusion_matrix(y_true, y_pred_classes)\n",
    "\n",
    "# Create a heatmap\n",
    "plt.figure(figsize=(10,7))\n",
    "sns.heatmap(cm, annot=True, fmt='d')\n",
    "plt.xlabel('Predicted')\n",
    "plt.ylabel('Truth')\n",
    "plt.show()"
   ]
  },
  {
   "cell_type": "code",
   "execution_count": null,
   "metadata": {},
   "outputs": [],
   "source": []
  }
 ],
 "metadata": {
  "kernelspec": {
   "display_name": "helical-package",
   "language": "python",
   "name": "python3"
  },
  "language_info": {
   "codemirror_mode": {
    "name": "ipython",
    "version": 3
   },
   "file_extension": ".py",
   "mimetype": "text/x-python",
   "name": "python",
   "nbconvert_exporter": "python",
   "pygments_lexer": "ipython3",
   "version": "3.11.8"
  }
 },
 "nbformat": 4,
 "nbformat_minor": 2
}

{
 "cells": [
  {
   "cell_type": "code",
   "execution_count": 35,
   "id": "7639dde7",
   "metadata": {},
   "outputs": [],
   "source": [
    "# session.write_pandas(df,table_name=\"HR_CHURN\",auto_create_table=True).show()\n",
    "# !pip install fosforml"
   ]
  },
  {
   "cell_type": "code",
   "execution_count": 36,
   "id": "2876d7a6",
   "metadata": {},
   "outputs": [
    {
     "data": {
      "text/plain": [
       "'INSIGHT_SPCS_SCHEMA'"
      ]
     },
     "execution_count": 36,
     "metadata": {},
     "output_type": "execute_result"
    }
   ],
   "source": [
    "from fosforml.model_manager.snowflakesession import get_session\n",
    "session = get_session()\n",
    "session.get_current_schema().replace('\"','')"
   ]
  },
  {
   "cell_type": "code",
   "execution_count": 188,
   "id": "68fac18e",
   "metadata": {},
   "outputs": [],
   "source": [
    "from snowflake.snowpark.session import Session,col\n",
    "import snowflake.snowpark.functions\n",
    "from snowflake.ml.modeling.metrics import confusion_matrix, accuracy_score, f1_score, recall_score,precision_score\n",
    "from snowflake.ml.modeling.preprocessing import LabelEncoder, StandardScaler\n",
    "from snowflake.ml.modeling.impute import SimpleImputer\n",
    "from snowflake.ml.modeling.ensemble import GradientBoostingClassifier,RandomForestClassifier\n",
    "from snowflake.ml.modeling.xgboost import XGBClassifier\n",
    "from snowflake.ml.modeling.pipeline import Pipeline\n",
    "import snowflake\n",
    "def apply_label_encoding(input_data_frame):\n",
    "    for i in input_data_frame.dtypes:\n",
    "        if i[1].find('string') >= 0:\n",
    "            label_encoder = LabelEncoder(input_cols=i[0],output_cols=i[0],drop_input_cols=True)\n",
    "            input_data_frame = label_encoder.fit(input_data_frame).transform(input_data_frame)\n",
    "    return input_data_frame"
   ]
  },
  {
   "cell_type": "code",
   "execution_count": 342,
   "id": "d4fdf4b9",
   "metadata": {
    "scrolled": true
   },
   "outputs": [],
   "source": [
    "import pandas as pd\n",
    "df = pd.read_csv(\"HR_CHURN.csv\")\n",
    "\n",
    "df_filtered = df[df['SALARY']!='low']\n",
    "snow_df = session.create_dataframe(df_filtered)\n",
    "# snow_df = session.create_dataframe(df)\n",
    "\n",
    "\n",
    "snow_df = snow_df.drop(['Unnamed: 0','DEPARTMENT'])\n",
    "input_data_frame, test_df = snow_df.randomSplit([0.75, 0.25])\n",
    "label_encoder_column = []     \n",
    "input_data_frame = apply_label_encoding(input_data_frame)\n",
    "test_df = apply_label_encoding(test_df)\n",
    "feature_cols = input_data_frame.columns\n",
    "target_col = \"SALARY\"\n",
    "feature_cols.remove(target_col)\n",
    "OUTPUT_COLS = [target_col + '_PREDICTION']"
   ]
  },
  {
   "cell_type": "code",
   "execution_count": 343,
   "id": "4255469b-0860-4988-b398-c653cb565d53",
   "metadata": {},
   "outputs": [
    {
     "name": "stdout",
     "output_type": "stream",
     "text": [
      "-------------------------------------------------------------------------------------------------------------------------------------------------------------------------------\n",
      "|\"SALARY\"  |\"SATISFACTION_LEVEL\"  |\"LAST_EVALUATION\"  |\"NUMBER_PROJECT\"  |\"AVERAGE_MONTLY_HOURS\"  |\"TIME_SPEND_COMPANY\"  |\"WORK_ACCIDENT\"  |\"LEFT\"  |\"PROMOTION_LAST_5YEARS\"  |\n",
      "-------------------------------------------------------------------------------------------------------------------------------------------------------------------------------\n",
      "|1.0       |0.8                   |0.86               |5                 |262                     |6                     |0                |1       |0                        |\n",
      "|1.0       |0.11                  |0.88               |7                 |272                     |4                     |0                |1       |0                        |\n",
      "-------------------------------------------------------------------------------------------------------------------------------------------------------------------------------\n",
      "\n"
     ]
    }
   ],
   "source": [
    "input_data_frame.limit(2).show()"
   ]
  },
  {
   "cell_type": "code",
   "execution_count": 344,
   "id": "9538f410-d4b4-4a20-a16d-231b141e452f",
   "metadata": {},
   "outputs": [
    {
     "name": "stderr",
     "output_type": "stream",
     "text": [
      "The version of package 'scikit-learn' in the local environment is 1.3.2, which does not fit the criteria for the requirement 'scikit-learn==1.3.0'. Your UDF might not work when the package version is different between the server and your local environment.\n",
      "The version of package 'scikit-learn' in the local environment is 1.3.2, which does not fit the criteria for the requirement 'scikit-learn==1.3.0'. Your UDF might not work when the package version is different between the server and your local environment.\n"
     ]
    },
    {
     "name": "stdout",
     "output_type": "stream",
     "text": [
      "['SALARY', 'SATISFACTION_LEVEL', 'LAST_EVALUATION', 'NUMBER_PROJECT', 'AVERAGE_MONTLY_HOURS', 'TIME_SPEND_COMPANY', 'WORK_ACCIDENT', 'LEFT', 'PROMOTION_LAST_5YEARS', '\"\"\"PREDICT_PROBA_0.0\"\"\"', '\"\"\"PREDICT_PROBA_1.0\"\"\"']\n"
     ]
    }
   ],
   "source": [
    "pipeline = RandomForestClassifier(input_cols=feature_cols, label_cols=target_col)\n",
    "pipeline.fit(input_data_frame)\n",
    "pred_snow_df = pipeline.predict(test_df)\n",
    "prob_snow_df = pipeline.predict_proba(test_df)\n",
    "print(prob_snow_df.columns)"
   ]
  },
  {
   "cell_type": "code",
   "execution_count": 345,
   "id": "2c5728ae-102c-4379-94e6-1f39719174da",
   "metadata": {},
   "outputs": [],
   "source": [
    "# pred_snow_df.columns"
   ]
  },
  {
   "cell_type": "code",
   "execution_count": 346,
   "id": "86979aae-6dff-4e2f-ae82-f75701056d28",
   "metadata": {},
   "outputs": [],
   "source": [
    "prob_snow_df_pandas = prob_snow_df.to_pandas()\n",
    "prob_snow_df_pandas['OUTPUT_SALARY'] = pred_snow_df.to_pandas()['OUTPUT_SALARY']\n",
    "final_df = session.create_dataframe(prob_snow_df_pandas)"
   ]
  },
  {
   "cell_type": "code",
   "execution_count": 347,
   "id": "7295ab4d-f47e-42cd-a774-6138833d7062",
   "metadata": {
    "scrolled": true
   },
   "outputs": [
    {
     "data": {
      "text/plain": [
       "['SALARY',\n",
       " 'SATISFACTION_LEVEL',\n",
       " 'LAST_EVALUATION',\n",
       " 'NUMBER_PROJECT',\n",
       " 'AVERAGE_MONTLY_HOURS',\n",
       " 'TIME_SPEND_COMPANY',\n",
       " 'WORK_ACCIDENT',\n",
       " 'LEFT',\n",
       " 'PROMOTION_LAST_5YEARS',\n",
       " '\"\"\"PREDICT_PROBA_0.0\"\"\"',\n",
       " '\"\"\"PREDICT_PROBA_1.0\"\"\"',\n",
       " 'OUTPUT_SALARY']"
      ]
     },
     "execution_count": 347,
     "metadata": {},
     "output_type": "execute_result"
    }
   ],
   "source": [
    "final_df.columns"
   ]
  },
  {
   "cell_type": "code",
   "execution_count": 348,
   "id": "34fa0ee7-25f6-4ea2-bb55-65fc11430e1c",
   "metadata": {},
   "outputs": [],
   "source": [
    "feature_columns = input_data_frame.columns\n",
    "sf_current = final_df\n",
    "sf_reference = final_df\n",
    "target_column  = \"SALARY\"\n",
    "prediction_column = \"OUTPUT_SALARY\"\n",
    "# predict_probability_columns = [ '\"\"\"PREDICT_PROBA_high\"\"\"','\"\"\"PREDICT_PROBA_medium\"\"\"']\n",
    "predict_probability_columns = ['\"\"\"PREDICT_PROBA_0.0\"\"\"',\n",
    " '\"\"\"PREDICT_PROBA_2.0\"\"\"']\n",
    "drift_configs = {\n",
    "        \"project_id\" : \"asvw4g124-124sdvrgwef\",\n",
    "        \"feature_columns\": feature_columns,\n",
    "        \"current_dataset\" : sf_current,\n",
    "        \"reference_dataset\" : sf_reference,\n",
    "        \"model_name\" : \"HR_CHURN_MODEL\",\n",
    "        \"problem_type\" : \"classification\",  # classification or regression\n",
    "        \"target_column\" : \"SALARY\",\n",
    "        \"prediction_column\" : prediction_column,\n",
    "        \"predict_probability_columns\" : predict_probability_columns,\n",
    "        \"version_name\" : \"V2\",\n",
    "        \"alerts_configurations\" : [\n",
    "            {\n",
    "                \"parameter\": \"performance_drift_score\",\n",
    "                \"threshold_range\": [[0.5, 1,'Red'],[0.5, 1,'Amber'],[0.5, 1,'Green']]\n",
    "            },\n",
    "            {\n",
    "                \"parameter\": \"drift_score\",\n",
    "                \"threshold_range\": [[0.5, 1,'Red'],[0.5, 1,'Amber'],[0.5, 1,'Green']]\n",
    "            }\n",
    "        ]\n",
    "    }"
   ]
  },
  {
   "cell_type": "code",
   "execution_count": null,
   "id": "be5725e5",
   "metadata": {},
   "outputs": [],
   "source": [
    "import pandas as pd\n",
    "from snowflake.snowpark import Session\n",
    "from snowflake.snowpark.functions import col, try_cast, when, cast\n",
    "from sklearn.datasets import load_diabetes\n",
    "import json\n",
    "from snowflake.ml.modeling.metrics import (confusion_matrix,\n",
    "                                                accuracy_score,\n",
    "                                                f1_score, recall_score,\n",
    "                                                precision_score,\n",
    "                                                log_loss ,\n",
    "                                                roc_auc_score ,\n",
    "                                            )\n",
    "\n",
    "from snowflake.ml.modeling.metrics import explained_variance_score, \\\n",
    "                    mean_absolute_percentage_error ,\\\n",
    "\t\t\t\t\tmean_squared_error, \\\n",
    "\t\t\t\t\tmean_absolute_error, \\\n",
    "\t\t\t\t\tr2_score"
   ]
  },
  {
   "cell_type": "code",
   "execution_count": 349,
   "id": "fb27a0f0-24a2-465e-8655-51becee50e57",
   "metadata": {},
   "outputs": [],
   "source": [
    "def is_numeric_col(df,col_name):\n",
    "    status = True\n",
    "    try:\n",
    "        df_numeric_col_count = df.with_column(\"converted_column\",try_cast(col(col_name),\"INTEGER\")) \\\n",
    "                                                    .filter(col(\"converted_column\").is_not_null()).count()\n",
    "        print(df_numeric_col_count,'try_cast')\n",
    "        if not df_numeric_col_count == df.count():\n",
    "            status = False\n",
    "    except :\n",
    "        pass\n",
    "\n",
    "    try:\n",
    "        df_numeric_col_count = df.with_column(\"converted_column\",cast(col(col_name),\"INTEGER\")) \\\n",
    "                                                    .filter(col(\"converted_column\").is_not_null()).count()\n",
    "        print(df_numeric_col_count,'cast')\n",
    "        if not df_numeric_col_count == df.count():\n",
    "            print(df_numeric_col_count)\n",
    "            status = False\n",
    "    except :\n",
    "        pass\n",
    "\n",
    "    if not status :\n",
    "        print(\"Its categorical col\")\n",
    "    else:\n",
    "        print(\"Numerical col\")\n",
    "\n",
    "    return status"
   ]
  },
  {
   "cell_type": "code",
   "execution_count": 350,
   "id": "68fb7a1e-db94-47f7-a20b-c34b7a1a72be",
   "metadata": {},
   "outputs": [
    {
     "name": "stdout",
     "output_type": "stream",
     "text": [
      "1989 cast\n",
      "Numerical col\n"
     ]
    },
    {
     "data": {
      "text/plain": [
       "True"
      ]
     },
     "execution_count": 350,
     "metadata": {},
     "output_type": "execute_result"
    }
   ],
   "source": [
    "df = sf_current\n",
    "col_name = \"SALARY\"\n",
    "is_numeric_col(df,col_name)"
   ]
  },
  {
   "cell_type": "code",
   "execution_count": 351,
   "id": "3d852c0e-e0e2-4112-9070-e47e8ea2fd7d",
   "metadata": {},
   "outputs": [
    {
     "name": "stdout",
     "output_type": "stream",
     "text": [
      "1989 cast\n",
      "Numerical col\n",
      "1989 cast\n",
      "Numerical col\n"
     ]
    },
    {
     "name": "stderr",
     "output_type": "stream",
     "text": [
      "Got error object of type 'NoneType' has no len() when trying to read default values from function: <class 'snowflake.ml.modeling.metrics.classification._register_multilabel_confusion_matrix_computer.<locals>.MultilabelConfusionMatrixComputer'>. Proceeding without creating optional arguments\n",
      "The version of package 'scikit-learn' in the local environment is 1.3.2, which does not fit the criteria for the requirement 'scikit-learn<1.4'. Your UDF might not work when the package version is different between the server and your local environment.\n",
      "Got error object of type 'NoneType' has no len() when trying to read default values from function: <class 'snowflake.ml.modeling.metrics.classification._register_multilabel_confusion_matrix_computer.<locals>.MultilabelConfusionMatrixComputer'>. Proceeding without creating optional arguments\n",
      "The version of package 'scikit-learn' in the local environment is 1.3.2, which does not fit the criteria for the requirement 'scikit-learn<1.4'. Your UDF might not work when the package version is different between the server and your local environment.\n",
      "Got error object of type 'NoneType' has no len() when trying to read default values from function: <function roc_auc_score.<locals>.roc_auc_score_anon_sproc at 0x7f734c3b4790>. Proceeding without creating optional arguments\n",
      "The version of package 'scikit-learn' in the local environment is 1.3.2, which does not fit the criteria for the requirement 'scikit-learn==1.3.*'. Your UDF might not work when the package version is different between the server and your local environment.\n",
      "The version of package 'snowflake-snowpark-python' in the local environment is 1.21.1, which does not fit the criteria for the requirement 'snowflake-snowpark-python'. Your UDF might not work when the package version is different between the server and your local environment.\n",
      "Got error object of type 'NoneType' has no len() when trying to read default values from function: <class 'snowflake.ml.modeling.metrics.classification._register_multilabel_confusion_matrix_computer.<locals>.MultilabelConfusionMatrixComputer'>. Proceeding without creating optional arguments\n"
     ]
    },
    {
     "name": "stdout",
     "output_type": "stream",
     "text": [
      "{'accuracy_score': 0.828557, 'f1_score': 0.9048283561261513, 'recall_score': 0.9501758499413834, 'precision_score': 0.8636121470431539, 'log_loss': 6.179429766560558, 'roc_auc_score': 0.5227911051827059}\n"
     ]
    },
    {
     "name": "stderr",
     "output_type": "stream",
     "text": [
      "The version of package 'scikit-learn' in the local environment is 1.3.2, which does not fit the criteria for the requirement 'scikit-learn<1.4'. Your UDF might not work when the package version is different between the server and your local environment.\n",
      "Got error object of type 'NoneType' has no len() when trying to read default values from function: <class 'snowflake.ml.modeling.metrics.classification._register_multilabel_confusion_matrix_computer.<locals>.MultilabelConfusionMatrixComputer'>. Proceeding without creating optional arguments\n",
      "The version of package 'scikit-learn' in the local environment is 1.3.2, which does not fit the criteria for the requirement 'scikit-learn<1.4'. Your UDF might not work when the package version is different between the server and your local environment.\n",
      "Got error object of type 'NoneType' has no len() when trying to read default values from function: <function roc_auc_score.<locals>.roc_auc_score_anon_sproc at 0x7f735cecfb80>. Proceeding without creating optional arguments\n",
      "The version of package 'scikit-learn' in the local environment is 1.3.2, which does not fit the criteria for the requirement 'scikit-learn==1.3.*'. Your UDF might not work when the package version is different between the server and your local environment.\n",
      "The version of package 'snowflake-snowpark-python' in the local environment is 1.21.1, which does not fit the criteria for the requirement 'snowflake-snowpark-python'. Your UDF might not work when the package version is different between the server and your local environment.\n"
     ]
    },
    {
     "name": "stdout",
     "output_type": "stream",
     "text": [
      "{'accuracy_score': 0.828557, 'f1_score': 0.9048283561261513, 'recall_score': 0.9501758499413834, 'precision_score': 0.8636121470431539, 'log_loss': 6.179429766560558, 'roc_auc_score': 0.5227911051827059}\n"
     ]
    },
    {
     "name": "stderr",
     "output_type": "stream",
     "text": [
      "Got error object of type 'NoneType' has no len() when trying to read default values from function: <class 'snowflake.ml.modeling.metrics.classification._register_confusion_matrix_computer.<locals>.ConfusionMatrixComputer'>. Proceeding without creating optional arguments\n",
      "Got error object of type 'NoneType' has no len() when trying to read default values from function: <class 'snowflake.ml.modeling.metrics.metrics_utils.register_accumulator_udtf.<locals>.Accumulator'>. Proceeding without creating optional arguments\n",
      "Got error object of type 'NoneType' has no len() when trying to read default values from function: <class 'snowflake.ml.modeling.metrics.classification._register_confusion_matrix_computer.<locals>.ConfusionMatrixComputer'>. Proceeding without creating optional arguments\n",
      "Got error object of type 'NoneType' has no len() when trying to read default values from function: <class 'snowflake.ml.modeling.metrics.metrics_utils.register_accumulator_udtf.<locals>.Accumulator'>. Proceeding without creating optional arguments\n"
     ]
    },
    {
     "data": {
      "text/plain": [
       "{'metrics': [{'classification_quality_metrics': {'current': {'accuracy_score': 0.828557,\n",
       "     'f1_score': 0.9048283561261513,\n",
       "     'recall_score': 0.9501758499413834,\n",
       "     'precision_score': 0.8636121470431539,\n",
       "     'log_loss': 6.179429766560558,\n",
       "     'roc_auc_score': 0.5227911051827059,\n",
       "     'gini': 0.046},\n",
       "    'reference': {'accuracy_score': 0.828557,\n",
       "     'f1_score': 0.9048283561261513,\n",
       "     'recall_score': 0.9501758499413834,\n",
       "     'precision_score': 0.8636121470431539,\n",
       "     'log_loss': 6.179429766560558,\n",
       "     'roc_auc_score': 0.5227911051827059,\n",
       "     'gini': 0.046}}},\n",
       "  {'class_representation': {'current': {'SALARY': {'\"\"\"PREDICT_PROBA_2.0\"\"\"': 1706,\n",
       "      '\"\"\"PREDICT_PROBA_0.0\"\"\"': 283},\n",
       "     'OUTPUT_SALARY': {'\"\"\"PREDICT_PROBA_2.0\"\"\"': 1877,\n",
       "      '\"\"\"PREDICT_PROBA_0.0\"\"\"': 112}},\n",
       "    'reference': {'SALARY': {'\"\"\"PREDICT_PROBA_2.0\"\"\"': 1706,\n",
       "      '\"\"\"PREDICT_PROBA_0.0\"\"\"': 283},\n",
       "     'OUTPUT_SALARY': {'\"\"\"PREDICT_PROBA_2.0\"\"\"': 1877,\n",
       "      '\"\"\"PREDICT_PROBA_0.0\"\"\"': 112}}}},\n",
       "  {'confusion_matrix': {'current': [[27.0, 256.0], [85.0, 1621.0]],\n",
       "    'reference': [[27.0, 256.0], [85.0, 1621.0]]}},\n",
       "  {'quality_metrics_by_class': {'current': {'\"\"\"PREDICT_PROBA_0.0\"\"\"': {'precision_score': 0.24107142857142858,\n",
       "      'recall_score': 0.09540636042402827,\n",
       "      'f1_score': 0.13670886075949368,\n",
       "      'accuracy_score': 0.8285570638511816},\n",
       "     '\"\"\"PREDICT_PROBA_2.0\"\"\"': {'precision_score': 0.8636121470431539,\n",
       "      'recall_score': 0.9501758499413834,\n",
       "      'f1_score': 0.9048283561261513,\n",
       "      'accuracy_score': 0.8285570638511816}},\n",
       "    'reference': {'\"\"\"PREDICT_PROBA_0.0\"\"\"': {'precision_score': 0.24107142857142858,\n",
       "      'recall_score': 0.09540636042402827,\n",
       "      'f1_score': 0.13670886075949368,\n",
       "      'accuracy_score': 0.8285570638511816},\n",
       "     '\"\"\"PREDICT_PROBA_2.0\"\"\"': {'precision_score': 0.8636121470431539,\n",
       "      'recall_score': 0.9501758499413834,\n",
       "      'f1_score': 0.9048283561261513,\n",
       "      'accuracy_score': 0.8285570638511816}}}}]}"
      ]
     },
     "execution_count": 351,
     "metadata": {},
     "output_type": "execute_result"
    }
   ],
   "source": [
    "execute_classification_drift(drift_configs,\n",
    "                                 sf_current,\n",
    "                                 sf_reference)"
   ]
  },
  {
   "cell_type": "code",
   "execution_count": 61,
   "id": "0e6e568a-c130-4ff0-8f61-1d5724db1f65",
   "metadata": {},
   "outputs": [],
   "source": [
    "#### With Encoding ######"
   ]
  },
  {
   "cell_type": "code",
   "execution_count": null,
   "id": "d565b0fa-ae6f-4409-ad30-c04742a62155",
   "metadata": {},
   "outputs": [],
   "source": []
  },
  {
   "cell_type": "code",
   "execution_count": 43,
   "id": "f806ca10-03f7-498d-ab18-95af70bd8b22",
   "metadata": {},
   "outputs": [],
   "source": [
    "### Performance #####"
   ]
  },
  {
   "cell_type": "code",
   "execution_count": null,
   "id": "aaf3794c-caba-40f1-80a5-ec36f954846a",
   "metadata": {},
   "outputs": [],
   "source": [
    "\n",
    "def get_classification_metrics(sf_df,true_cn,pred_cn,drift_configs):\n",
    "    quality_metrics = {}\n",
    "    no_classes = len(drift_configs['predict_probability_columns'])\n",
    "    average='weighted' if no_classes > 2 else 'binary'\n",
    "    quality_metrics['accuracy_score'] = accuracy_score(df=sf_df,y_true_col_names=true_cn, y_pred_col_names=pred_cn)\n",
    "    quality_metrics['f1_score'] = f1_score(df= sf_df,y_true_col_names=true_cn, y_pred_col_names=pred_cn,average=average)\n",
    "    quality_metrics['recall_score'] = recall_score(df=sf_df,y_true_col_names=true_cn, \n",
    "                                                y_pred_col_names=pred_cn,average=average)\n",
    "    quality_metrics['precision_score'] = precision_score(df=sf_df,\n",
    "                                                        y_true_col_names=true_cn,\n",
    "                                                        y_pred_col_names=pred_cn,\n",
    "                                                        average=average)\n",
    "    quality_metrics['log_loss'] = log_loss(df=sf_df,y_true_col_names=true_cn, y_pred_col_names=pred_cn)\n",
    "    if no_classes > 2 :\n",
    "        roc_list = roc_auc_score(df=sf_df, \n",
    "                                                        y_true_col_names=true_cn,\n",
    "                                                        y_score_col_names=drift_configs['predict_probability_columns'], \n",
    "                                                        multi_class='ovr',average=None).tolist()\n",
    "        \n",
    "        quality_metrics['roc_auc_score'] = sum(roc_list) / len(roc_list)\n",
    "        \n",
    "    elif no_classes == 2 :\n",
    "        quality_metrics['roc_auc_score'] = roc_auc_score(df=sf_df, \n",
    "                                                        y_true_col_names=true_cn, \n",
    "                                                        y_score_col_names=pred_cn ,average=\"macro\").tolist()\n",
    "    else:\n",
    "        quality_metrics['roc_auc_score'] = None\n",
    "\n",
    "    print(quality_metrics)\n",
    "    quality_metrics['gini'] = round((2*quality_metrics['roc_auc_score'])-1, 3) if quality_metrics['roc_auc_score'] else None\n",
    "\n",
    "    return quality_metrics\n",
    "\n",
    "def get_class_representation(df,target_column,prediction_column,drift_configs):\n",
    "    class_count_dict = {}\n",
    "    mapping_data = {index:col for index,col in enumerate(drift_configs['predict_probability_columns'])}\n",
    "    temp_target_df  = df.group_by(col(target_column)).count()\n",
    "    class_count_dict[drift_configs['target_column']] = {mapping_data[int(row[target_column])]:row['COUNT'] for row in temp_target_df.collect()}\n",
    "    temp_prediction_df  = df.group_by(col(prediction_column)).count()\n",
    "    class_count_dict[drift_configs['prediction_column']] = {mapping_data[int(row[prediction_column])]:row['COUNT'] for row in temp_prediction_df.collect()}\n",
    "    return class_count_dict\n",
    "\n",
    "\n",
    "\n",
    "def execute_classification_drift(drift_configs,\n",
    "                                 sf_current,\n",
    "                                 sf_reference):\n",
    "    \n",
    "    #################### Classification Drift Metrics #############################\n",
    "    classification_quality_metrics = {}\n",
    "    \n",
    "    if not is_numeric_col(sf_current,drift_configs['target_column']):\n",
    "        mapped_target_col_name = drift_configs['target_column'] + '_NUMERIC'\n",
    "        sf_current,mapped_target_col_name_cur = map_to_numeric_col(sf_current,\n",
    "                                        drift_configs['target_column'],\n",
    "                                        drift_configs['predict_probability_columns'],\n",
    "                                        mapped_target_col_name)\n",
    "        sf_reference,mapped_target_col_name_ref = map_to_numeric_col(sf_reference,\n",
    "                                        drift_configs['target_column'],\n",
    "                                        drift_configs['predict_probability_columns'],\n",
    "                                        mapped_target_col_name)\n",
    "        drift_configs['categorical_target_col'] = drift_configs['target_column'] \n",
    "        drift_configs['numeric_target_col'] = mapped_target_col_name_ref\n",
    "    else:\n",
    "        drift_configs['numeric_target_col'] = drift_configs['target_column']\n",
    "\n",
    "\n",
    "    if not is_numeric_col(sf_current,drift_configs['prediction_column']):\n",
    "        mapped_prediction_col_name = drift_configs['prediction_column'] + '_NUMERIC'\n",
    "        sf_current,mapped_target_col_name_cur = map_to_numeric_col(sf_current,\n",
    "                                        drift_configs['prediction_column'],\n",
    "                                        drift_configs['predict_probability_columns'],\n",
    "                                        mapped_prediction_col_name)\n",
    "        sf_reference,mapped_target_col_name_ref = map_to_numeric_col(sf_reference,\n",
    "                                        drift_configs['prediction_column'],\n",
    "                                        drift_configs['predict_probability_columns'],\n",
    "                                        mapped_prediction_col_name)\n",
    "        drift_configs['categorical_prediction_col'] = drift_configs['prediction_column']\n",
    "        drift_configs['numeric_prediction_col'] = mapped_target_col_name_ref\n",
    "    else:\n",
    "        drift_configs['numeric_prediction_col'] = drift_configs['prediction_column']\n",
    "\n",
    "        \n",
    "    metrics = []\n",
    "    numeric_target_col = drift_configs['numeric_target_col']\n",
    "    numeric_prediction_col = drift_configs['numeric_prediction_col']\n",
    "\n",
    "    ## Performance metrics\n",
    "    classification_quality_metrics['current'] = get_classification_metrics(sf_current,numeric_target_col,numeric_prediction_col,drift_configs)\n",
    "    classification_quality_metrics['reference'] = get_classification_metrics(sf_reference,numeric_target_col,numeric_prediction_col,drift_configs)\n",
    "    metrics.append({\n",
    "        \"classification_quality_metrics\" : classification_quality_metrics\n",
    "    })\n",
    "\n",
    "\n",
    "    ## Class Representation\n",
    "    class_representation = {}\n",
    "    class_representation['current'] = get_class_representation(sf_current,numeric_target_col,numeric_prediction_col,drift_configs)\n",
    "    class_representation['reference'] = get_class_representation(sf_reference,numeric_target_col,numeric_prediction_col,drift_configs)\n",
    "    metrics.append({\n",
    "        \"class_representation\" : class_representation\n",
    "    })\n",
    "\n",
    "\n",
    "    ## Confusion Matrix\n",
    "    current_confusion_matrix = confusion_matrix(df=sf_current, y_true_col_name=numeric_target_col, y_pred_col_name=numeric_prediction_col).tolist()\n",
    "    reference_confusion_matrix = confusion_matrix(df=sf_reference, y_true_col_name=numeric_target_col, y_pred_col_name=numeric_prediction_col).tolist()\n",
    "    metrics.append({\n",
    "        \"confusion_matrix\" : {'current':current_confusion_matrix,'reference':reference_confusion_matrix}\n",
    "    })\n",
    "\n",
    "    ## Quality Metrics by class\n",
    "    quality_metrics_by_class = {}\n",
    "    current_class_metrics = {} ; reference_class_metrics = {}\n",
    "    \n",
    "    for i,class_name in enumerate(drift_configs['predict_probability_columns']):\n",
    "        cu_class_metrics = {} \n",
    "        cu_tp = current_confusion_matrix[i][i]\n",
    "        cu_fp = sum([row[i] for row in current_confusion_matrix])-cu_tp\n",
    "        cu_fn = sum(current_confusion_matrix[i])-cu_tp\n",
    "        cu_tn = sf_current.count() - cu_tp - cu_fp - cu_fn\n",
    "        cu_class_metrics['precision_score'] = cu_tp/(cu_tp+cu_fp) if (cu_tp+cu_fp) > 0 else 0\n",
    "        cu_class_metrics['recall_score'] = cu_tp/(cu_tp+cu_fn) if (cu_tp+cu_fn) > 0 else 0\n",
    "        cu_class_metrics['f1_score'] = 2*(cu_class_metrics['precision_score']*cu_class_metrics['recall_score'])/(cu_class_metrics['precision_score']+cu_class_metrics['recall_score']) if (cu_class_metrics['precision_score']+cu_class_metrics['recall_score']) > 0 else 0\n",
    "        cu_class_metrics['accuracy_score'] = (cu_tp+cu_tn)/(cu_tp+cu_fp+cu_fn+cu_tn)\n",
    "        current_class_metrics[class_name] = cu_class_metrics\n",
    "\n",
    "        re_class_metrics = {}\n",
    "        re_tp = reference_confusion_matrix[i][i]\n",
    "        re_fp = sum([row[i] for row in reference_confusion_matrix])-re_tp\n",
    "        re_fn = sum(reference_confusion_matrix[i])-re_tp\n",
    "        re_tn = sf_reference.count() - re_tp - re_fp - re_fn\n",
    "        re_class_metrics['precision_score'] = re_tp/(re_tp+re_fp) if (re_tp+re_fp) > 0 else 0\n",
    "        re_class_metrics['recall_score'] = re_tp/(re_tp+re_fn) if (re_tp+re_fn) > 0 else 0\n",
    "        re_class_metrics['f1_score'] = 2*(re_class_metrics['precision_score']*re_class_metrics['recall_score'])/(re_class_metrics['precision_score']+re_class_metrics['recall_score']) if (re_class_metrics['precision_score']+re_class_metrics['recall_score']) > 0 else 0\n",
    "        re_class_metrics['accuracy_score'] = (re_tp+re_tn)/(re_tp+re_fp+re_fn+re_tn)\n",
    "        reference_class_metrics[class_name] = re_class_metrics\n",
    "    \n",
    "    quality_metrics_by_class['current'] = current_class_metrics\n",
    "    quality_metrics_by_class['reference'] = reference_class_metrics\n",
    "    metrics.append({\n",
    "        \"quality_metrics_by_class\" : quality_metrics_by_class}\n",
    "        )\n",
    "\n",
    "    return {\n",
    "        \"metrics\" : metrics\n",
    "    }\n"
   ]
  },
  {
   "cell_type": "code",
   "execution_count": null,
   "id": "740fc316-31f1-4f20-af41-040f72728879",
   "metadata": {},
   "outputs": [],
   "source": []
  },
  {
   "cell_type": "code",
   "execution_count": null,
   "id": "f0469793-0212-4e57-b251-2c1f2b5826cf",
   "metadata": {},
   "outputs": [],
   "source": []
  },
  {
   "cell_type": "code",
   "execution_count": null,
   "id": "482eb2c5-8df2-48df-9365-00f434883c91",
   "metadata": {},
   "outputs": [],
   "source": []
  },
  {
   "cell_type": "code",
   "execution_count": null,
   "id": "c3f44c7e-83c6-416f-a0cf-56073481cba8",
   "metadata": {},
   "outputs": [],
   "source": []
  },
  {
   "cell_type": "code",
   "execution_count": null,
   "id": "a4abd044-63ac-4de4-ba0e-b95856e3ac0a",
   "metadata": {},
   "outputs": [],
   "source": []
  },
  {
   "cell_type": "code",
   "execution_count": null,
   "id": "a5829b66-54f6-4af3-9aff-85350833a8f3",
   "metadata": {},
   "outputs": [],
   "source": []
  },
  {
   "cell_type": "code",
   "execution_count": null,
   "id": "e8539265-e5f0-428d-a83a-7dc9597cad36",
   "metadata": {},
   "outputs": [],
   "source": []
  },
  {
   "cell_type": "code",
   "execution_count": 200,
   "id": "a7d01a78-19cc-4c19-97a0-fa0f9c236046",
   "metadata": {},
   "outputs": [
    {
     "data": {
      "text/plain": [
       "['low', 'medium', 'high']"
      ]
     },
     "execution_count": 200,
     "metadata": {},
     "output_type": "execute_result"
    }
   ],
   "source": [
    "[row['SALARY'] for row  in input_data_frame.select(col('SALARY')).distinct().collect()]"
   ]
  },
  {
   "cell_type": "code",
   "execution_count": 201,
   "id": "f356750a-c200-4ba3-830d-3f4e1f0b17cb",
   "metadata": {},
   "outputs": [
    {
     "data": {
      "text/plain": [
       "['0.0', '1.0', '2.0']"
      ]
     },
     "execution_count": 201,
     "metadata": {},
     "output_type": "execute_result"
    }
   ],
   "source": [
    "[col_name.replace('PREDICT_PROBA_', '').replace(\"'\",\"\").replace('\"','') for col_name in column_names if 'PREDICT_PROBA_' in col_name]"
   ]
  },
  {
   "cell_type": "code",
   "execution_count": 42,
   "id": "4f41424a-f7f9-45c7-b7bc-6c5bfa4c6cc5",
   "metadata": {},
   "outputs": [],
   "source": [
    "from snowflake.snowpark.functions import col, try_cast, when, lit\n",
    "def map_to_numeric_col(df, col_name, columns_list, mapped_col_name):\n",
    "    columns_map = {col: index for index, col in enumerate(columns_list)}\n",
    "    colum_categories = [row[col_name] for row in df.select(col(col_name)).distinct().collect()]\n",
    "    \n",
    "    if set(colum_categories) == set(columns_map.keys()):\n",
    "        print('matching columns')\n",
    "        mapped_col = col(col_name)\n",
    "        for category, value in columns_map.items():\n",
    "            mapped_col = when(col(col_name) == category, lit(value).cast('FLOAT')).otherwise(mapped_col)\n",
    "        df = df.with_column(mapped_col_name, mapped_col)\n",
    "    else:\n",
    "        temp_cols = [col_name.replace('PREDICT_PROBA_', '').replace(\"'\", \"\").replace('\"', '') for col_name in columns_list if 'PREDICT_PROBA_' in col_name]\n",
    "        if set(colum_categories) == set(temp_cols):\n",
    "            print('additional tasks')\n",
    "            print(temp_cols)\n",
    "            mapped_col = col(col_name)\n",
    "            # df.show()\n",
    "            for category, value in columns_map.items():\n",
    "                mapped_col = when(col(col_name) == category, lit(value).cast('FLOAT')).otherwise(mapped_col)\n",
    "                print(mapped_col,dir(mapped_col))\n",
    "            df = df.with_column(mapped_col_name, mapped_col).collect()\n",
    "            df.show()\n",
    "        else:\n",
    "            raise Exception(\"Predict probability column names are not matching with the values of target/prediction columns in the dataset\")\n",
    "        \n",
    "    return df"
   ]
  },
  {
   "cell_type": "code",
   "execution_count": null,
   "id": "535b1ec4-0636-448c-b621-72937be6be37",
   "metadata": {},
   "outputs": [],
   "source": []
  },
  {
   "cell_type": "code",
   "execution_count": null,
   "id": "bef63592-1a96-41d3-8558-1aad76709b1f",
   "metadata": {},
   "outputs": [],
   "source": []
  },
  {
   "cell_type": "code",
   "execution_count": null,
   "id": "0a9276e9-010d-443d-bd54-49da9b618d92",
   "metadata": {},
   "outputs": [],
   "source": []
  },
  {
   "cell_type": "code",
   "execution_count": 254,
   "id": "8963a989-a8fd-4e23-b6e3-acd9228d7902",
   "metadata": {},
   "outputs": [],
   "source": [
    "input_df = map_to_numeric_col(df,col_name,columns_list,mapped_col_name)"
   ]
  },
  {
   "cell_type": "code",
   "execution_count": 264,
   "id": "b3e331c7-7116-4df1-b5ee-fd7cf6799b1a",
   "metadata": {},
   "outputs": [
    {
     "data": {
      "text/plain": [
       "<snowflake.snowpark.dataframe.DataFrame at 0x7fd77dcc6460>"
      ]
     },
     "execution_count": 264,
     "metadata": {},
     "output_type": "execute_result"
    }
   ],
   "source": [
    "input_df.select(input_df[mapped_col_name])"
   ]
  },
  {
   "cell_type": "code",
   "execution_count": null,
   "id": "fb871bd8-a828-46ce-a396-21dd1b2b2853",
   "metadata": {},
   "outputs": [],
   "source": []
  },
  {
   "cell_type": "code",
   "execution_count": 170,
   "id": "ccdb91e6-f9c4-4e1d-bf88-cc9ffb14e9a6",
   "metadata": {},
   "outputs": [],
   "source": [
    "test_df = prob_snow_df.to_pandas()"
   ]
  },
  {
   "cell_type": "code",
   "execution_count": 171,
   "id": "b47cfb81-27fe-4fdd-9c79-42b37bc0005c",
   "metadata": {},
   "outputs": [
    {
     "data": {
      "text/html": [
       "<div>\n",
       "<style scoped>\n",
       "    .dataframe tbody tr th:only-of-type {\n",
       "        vertical-align: middle;\n",
       "    }\n",
       "\n",
       "    .dataframe tbody tr th {\n",
       "        vertical-align: top;\n",
       "    }\n",
       "\n",
       "    .dataframe thead th {\n",
       "        text-align: right;\n",
       "    }\n",
       "</style>\n",
       "<table border=\"1\" class=\"dataframe\">\n",
       "  <thead>\n",
       "    <tr style=\"text-align: right;\">\n",
       "      <th></th>\n",
       "      <th>SALARY</th>\n",
       "      <th>DEPARTMENT</th>\n",
       "      <th>SATISFACTION_LEVEL</th>\n",
       "      <th>LAST_EVALUATION</th>\n",
       "      <th>NUMBER_PROJECT</th>\n",
       "      <th>AVERAGE_MONTLY_HOURS</th>\n",
       "      <th>TIME_SPEND_COMPANY</th>\n",
       "      <th>WORK_ACCIDENT</th>\n",
       "      <th>LEFT</th>\n",
       "      <th>PROMOTION_LAST_5YEARS</th>\n",
       "      <th>\"PREDICT_PROBA_0.0\"</th>\n",
       "      <th>\"PREDICT_PROBA_1.0\"</th>\n",
       "      <th>\"PREDICT_PROBA_2.0\"</th>\n",
       "    </tr>\n",
       "  </thead>\n",
       "  <tbody>\n",
       "    <tr>\n",
       "      <th>0</th>\n",
       "      <td>1.0</td>\n",
       "      <td>7.0</td>\n",
       "      <td>0.10</td>\n",
       "      <td>0.77</td>\n",
       "      <td>6</td>\n",
       "      <td>247</td>\n",
       "      <td>4</td>\n",
       "      <td>0</td>\n",
       "      <td>1</td>\n",
       "      <td>0</td>\n",
       "      <td>0.001736</td>\n",
       "      <td>0.768049</td>\n",
       "      <td>0.230215</td>\n",
       "    </tr>\n",
       "    <tr>\n",
       "      <th>1</th>\n",
       "      <td>1.0</td>\n",
       "      <td>8.0</td>\n",
       "      <td>0.43</td>\n",
       "      <td>0.47</td>\n",
       "      <td>2</td>\n",
       "      <td>147</td>\n",
       "      <td>3</td>\n",
       "      <td>0</td>\n",
       "      <td>1</td>\n",
       "      <td>0</td>\n",
       "      <td>0.005127</td>\n",
       "      <td>0.585659</td>\n",
       "      <td>0.409214</td>\n",
       "    </tr>\n",
       "    <tr>\n",
       "      <th>2</th>\n",
       "      <td>1.0</td>\n",
       "      <td>2.0</td>\n",
       "      <td>0.39</td>\n",
       "      <td>0.56</td>\n",
       "      <td>2</td>\n",
       "      <td>142</td>\n",
       "      <td>3</td>\n",
       "      <td>0</td>\n",
       "      <td>1</td>\n",
       "      <td>0</td>\n",
       "      <td>0.007157</td>\n",
       "      <td>0.449269</td>\n",
       "      <td>0.543574</td>\n",
       "    </tr>\n",
       "    <tr>\n",
       "      <th>3</th>\n",
       "      <td>2.0</td>\n",
       "      <td>7.0</td>\n",
       "      <td>0.36</td>\n",
       "      <td>0.52</td>\n",
       "      <td>2</td>\n",
       "      <td>147</td>\n",
       "      <td>3</td>\n",
       "      <td>0</td>\n",
       "      <td>1</td>\n",
       "      <td>0</td>\n",
       "      <td>0.013509</td>\n",
       "      <td>0.411396</td>\n",
       "      <td>0.575095</td>\n",
       "    </tr>\n",
       "    <tr>\n",
       "      <th>4</th>\n",
       "      <td>1.0</td>\n",
       "      <td>8.0</td>\n",
       "      <td>0.70</td>\n",
       "      <td>0.89</td>\n",
       "      <td>3</td>\n",
       "      <td>183</td>\n",
       "      <td>5</td>\n",
       "      <td>0</td>\n",
       "      <td>1</td>\n",
       "      <td>0</td>\n",
       "      <td>0.005062</td>\n",
       "      <td>0.879325</td>\n",
       "      <td>0.115613</td>\n",
       "    </tr>\n",
       "  </tbody>\n",
       "</table>\n",
       "</div>"
      ],
      "text/plain": [
       "   SALARY  DEPARTMENT  SATISFACTION_LEVEL  LAST_EVALUATION  NUMBER_PROJECT  \\\n",
       "0     1.0         7.0                0.10             0.77               6   \n",
       "1     1.0         8.0                0.43             0.47               2   \n",
       "2     1.0         2.0                0.39             0.56               2   \n",
       "3     2.0         7.0                0.36             0.52               2   \n",
       "4     1.0         8.0                0.70             0.89               3   \n",
       "\n",
       "   AVERAGE_MONTLY_HOURS  TIME_SPEND_COMPANY  WORK_ACCIDENT  LEFT  \\\n",
       "0                   247                   4              0     1   \n",
       "1                   147                   3              0     1   \n",
       "2                   142                   3              0     1   \n",
       "3                   147                   3              0     1   \n",
       "4                   183                   5              0     1   \n",
       "\n",
       "   PROMOTION_LAST_5YEARS  \"PREDICT_PROBA_0.0\"  \"PREDICT_PROBA_1.0\"  \\\n",
       "0                      0             0.001736             0.768049   \n",
       "1                      0             0.005127             0.585659   \n",
       "2                      0             0.007157             0.449269   \n",
       "3                      0             0.013509             0.411396   \n",
       "4                      0             0.005062             0.879325   \n",
       "\n",
       "   \"PREDICT_PROBA_2.0\"  \n",
       "0             0.230215  \n",
       "1             0.409214  \n",
       "2             0.543574  \n",
       "3             0.575095  \n",
       "4             0.115613  "
      ]
     },
     "execution_count": 171,
     "metadata": {},
     "output_type": "execute_result"
    }
   ],
   "source": [
    "test_df.head()"
   ]
  },
  {
   "cell_type": "code",
   "execution_count": 18,
   "id": "072a85e6-cfc7-4065-a524-b23d2cc1da23",
   "metadata": {},
   "outputs": [
    {
     "data": {
      "text/plain": [
       "array([1., 2., 0.])"
      ]
     },
     "execution_count": 18,
     "metadata": {},
     "output_type": "execute_result"
    }
   ],
   "source": [
    "test_df['SALARY'].unique()"
   ]
  },
  {
   "cell_type": "code",
   "execution_count": 19,
   "id": "6b4788d4-c89e-4aa4-8e93-d7d513ad5e02",
   "metadata": {
    "scrolled": true
   },
   "outputs": [
    {
     "data": {
      "text/plain": [
       "Index(['SALARY', 'DEPARTMENT', 'SATISFACTION_LEVEL', 'LAST_EVALUATION',\n",
       "       'NUMBER_PROJECT', 'AVERAGE_MONTLY_HOURS', 'TIME_SPEND_COMPANY',\n",
       "       'WORK_ACCIDENT', 'LEFT', 'PROMOTION_LAST_5YEARS', '\"PREDICT_PROBA_0.0\"',\n",
       "       '\"PREDICT_PROBA_1.0\"', '\"PREDICT_PROBA_2.0\"'],\n",
       "      dtype='object')"
      ]
     },
     "execution_count": 19,
     "metadata": {},
     "output_type": "execute_result"
    }
   ],
   "source": [
    "test_df.columns"
   ]
  },
  {
   "cell_type": "code",
   "execution_count": null,
   "id": "eff13580-7b1b-4ea1-9730-b869835c21ef",
   "metadata": {},
   "outputs": [],
   "source": []
  },
  {
   "cell_type": "code",
   "execution_count": 21,
   "id": "dde85dc6-8fe8-45b4-8853-97547b958b91",
   "metadata": {},
   "outputs": [],
   "source": [
    "# dir(pipeline)"
   ]
  },
  {
   "cell_type": "code",
   "execution_count": 53,
   "id": "da616592-84e6-4628-938d-7eada3958451",
   "metadata": {},
   "outputs": [],
   "source": [
    "df = df.drop(['Unnamed: 0','DEPARTMENT'],axis=1).dropna()"
   ]
  },
  {
   "cell_type": "code",
   "execution_count": null,
   "id": "6b4020ed-c73f-49bb-ae1c-7aa08991d260",
   "metadata": {},
   "outputs": [],
   "source": []
  },
  {
   "cell_type": "code",
   "execution_count": 61,
   "id": "43e6057f-69c4-4b23-a2d0-d9ffd0430ff9",
   "metadata": {},
   "outputs": [
    {
     "ename": "ModuleNotFoundError",
     "evalue": "No module named 'snowflake.ensemble'",
     "output_type": "error",
     "traceback": [
      "\u001b[0;31m---------------------------------------------------------------------------\u001b[0m",
      "\u001b[0;31mModuleNotFoundError\u001b[0m                       Traceback (most recent call last)",
      "Cell \u001b[0;32mIn[61], line 1\u001b[0m\n\u001b[0;32m----> 1\u001b[0m \u001b[38;5;28;01mfrom\u001b[39;00m \u001b[38;5;21;01msnowflake\u001b[39;00m\u001b[38;5;21;01m.\u001b[39;00m\u001b[38;5;21;01mensemble\u001b[39;00m\u001b[38;5;21;01m.\u001b[39;00m\u001b[38;5;21;01m_forest\u001b[39;00m \u001b[38;5;28;01mimport\u001b[39;00m RandomForestClassifier\n\u001b[1;32m      2\u001b[0m \u001b[38;5;28;01mfrom\u001b[39;00m \u001b[38;5;21;01msklearn\u001b[39;00m\u001b[38;5;21;01m.\u001b[39;00m\u001b[38;5;21;01mmodel_selection\u001b[39;00m \u001b[38;5;28;01mimport\u001b[39;00m train_test_split\n",
      "\u001b[0;31mModuleNotFoundError\u001b[0m: No module named 'snowflake.ensemble'"
     ]
    }
   ],
   "source": [
    "from snowflake.ensemble._forest import RandomForestClassifier\n",
    "from sklearn.model_selection import train_test_split"
   ]
  },
  {
   "cell_type": "code",
   "execution_count": 55,
   "id": "821e0c76-5d94-4198-9c50-299e635bebe6",
   "metadata": {},
   "outputs": [],
   "source": [
    "model = RandomForestClassifier()\n",
    "x_train,x_test,y_train,y_test = train_test_split(df.drop('SALARY',axis=1),df['SALARY'])"
   ]
  },
  {
   "cell_type": "code",
   "execution_count": 56,
   "id": "c41af501-e217-4ef8-811a-4bcd8aa95a19",
   "metadata": {},
   "outputs": [
    {
     "data": {
      "text/plain": [
       "Index(['SATISFACTION_LEVEL', 'LAST_EVALUATION', 'NUMBER_PROJECT',\n",
       "       'AVERAGE_MONTLY_HOURS', 'TIME_SPEND_COMPANY', 'WORK_ACCIDENT', 'LEFT',\n",
       "       'PROMOTION_LAST_5YEARS'],\n",
       "      dtype='object')"
      ]
     },
     "execution_count": 56,
     "metadata": {},
     "output_type": "execute_result"
    }
   ],
   "source": [
    "x_train.columns"
   ]
  },
  {
   "cell_type": "code",
   "execution_count": 57,
   "id": "5fd13fd4-58f5-4d18-abb9-bd00f93604dc",
   "metadata": {},
   "outputs": [
    {
     "data": {
      "text/html": [
       "<div>\n",
       "<style scoped>\n",
       "    .dataframe tbody tr th:only-of-type {\n",
       "        vertical-align: middle;\n",
       "    }\n",
       "\n",
       "    .dataframe tbody tr th {\n",
       "        vertical-align: top;\n",
       "    }\n",
       "\n",
       "    .dataframe thead th {\n",
       "        text-align: right;\n",
       "    }\n",
       "</style>\n",
       "<table border=\"1\" class=\"dataframe\">\n",
       "  <thead>\n",
       "    <tr style=\"text-align: right;\">\n",
       "      <th></th>\n",
       "      <th>SATISFACTION_LEVEL</th>\n",
       "      <th>LAST_EVALUATION</th>\n",
       "      <th>NUMBER_PROJECT</th>\n",
       "      <th>AVERAGE_MONTLY_HOURS</th>\n",
       "      <th>TIME_SPEND_COMPANY</th>\n",
       "      <th>WORK_ACCIDENT</th>\n",
       "      <th>LEFT</th>\n",
       "      <th>PROMOTION_LAST_5YEARS</th>\n",
       "    </tr>\n",
       "  </thead>\n",
       "  <tbody>\n",
       "    <tr>\n",
       "      <th>2692</th>\n",
       "      <td>0.68</td>\n",
       "      <td>0.51</td>\n",
       "      <td>4</td>\n",
       "      <td>157</td>\n",
       "      <td>3</td>\n",
       "      <td>0</td>\n",
       "      <td>0</td>\n",
       "      <td>0</td>\n",
       "    </tr>\n",
       "    <tr>\n",
       "      <th>13580</th>\n",
       "      <td>0.86</td>\n",
       "      <td>0.84</td>\n",
       "      <td>3</td>\n",
       "      <td>177</td>\n",
       "      <td>3</td>\n",
       "      <td>0</td>\n",
       "      <td>0</td>\n",
       "      <td>0</td>\n",
       "    </tr>\n",
       "    <tr>\n",
       "      <th>7448</th>\n",
       "      <td>0.55</td>\n",
       "      <td>0.98</td>\n",
       "      <td>4</td>\n",
       "      <td>137</td>\n",
       "      <td>2</td>\n",
       "      <td>0</td>\n",
       "      <td>0</td>\n",
       "      <td>0</td>\n",
       "    </tr>\n",
       "    <tr>\n",
       "      <th>3409</th>\n",
       "      <td>0.58</td>\n",
       "      <td>0.86</td>\n",
       "      <td>5</td>\n",
       "      <td>206</td>\n",
       "      <td>3</td>\n",
       "      <td>0</td>\n",
       "      <td>0</td>\n",
       "      <td>0</td>\n",
       "    </tr>\n",
       "    <tr>\n",
       "      <th>570</th>\n",
       "      <td>0.44</td>\n",
       "      <td>0.52</td>\n",
       "      <td>2</td>\n",
       "      <td>137</td>\n",
       "      <td>3</td>\n",
       "      <td>0</td>\n",
       "      <td>1</td>\n",
       "      <td>0</td>\n",
       "    </tr>\n",
       "  </tbody>\n",
       "</table>\n",
       "</div>"
      ],
      "text/plain": [
       "       SATISFACTION_LEVEL  LAST_EVALUATION  NUMBER_PROJECT  \\\n",
       "2692                 0.68             0.51               4   \n",
       "13580                0.86             0.84               3   \n",
       "7448                 0.55             0.98               4   \n",
       "3409                 0.58             0.86               5   \n",
       "570                  0.44             0.52               2   \n",
       "\n",
       "       AVERAGE_MONTLY_HOURS  TIME_SPEND_COMPANY  WORK_ACCIDENT  LEFT  \\\n",
       "2692                    157                   3              0     0   \n",
       "13580                   177                   3              0     0   \n",
       "7448                    137                   2              0     0   \n",
       "3409                    206                   3              0     0   \n",
       "570                     137                   3              0     1   \n",
       "\n",
       "       PROMOTION_LAST_5YEARS  \n",
       "2692                       0  \n",
       "13580                      0  \n",
       "7448                       0  \n",
       "3409                       0  \n",
       "570                        0  "
      ]
     },
     "execution_count": 57,
     "metadata": {},
     "output_type": "execute_result"
    }
   ],
   "source": [
    "x_train.head()"
   ]
  },
  {
   "cell_type": "code",
   "execution_count": 58,
   "id": "28630ffd-e360-46f8-85ba-e39368e197d2",
   "metadata": {},
   "outputs": [
    {
     "data": {
      "text/html": [
       "<style>#sk-container-id-1 {color: black;}#sk-container-id-1 pre{padding: 0;}#sk-container-id-1 div.sk-toggleable {background-color: white;}#sk-container-id-1 label.sk-toggleable__label {cursor: pointer;display: block;width: 100%;margin-bottom: 0;padding: 0.3em;box-sizing: border-box;text-align: center;}#sk-container-id-1 label.sk-toggleable__label-arrow:before {content: \"▸\";float: left;margin-right: 0.25em;color: #696969;}#sk-container-id-1 label.sk-toggleable__label-arrow:hover:before {color: black;}#sk-container-id-1 div.sk-estimator:hover label.sk-toggleable__label-arrow:before {color: black;}#sk-container-id-1 div.sk-toggleable__content {max-height: 0;max-width: 0;overflow: hidden;text-align: left;background-color: #f0f8ff;}#sk-container-id-1 div.sk-toggleable__content pre {margin: 0.2em;color: black;border-radius: 0.25em;background-color: #f0f8ff;}#sk-container-id-1 input.sk-toggleable__control:checked~div.sk-toggleable__content {max-height: 200px;max-width: 100%;overflow: auto;}#sk-container-id-1 input.sk-toggleable__control:checked~label.sk-toggleable__label-arrow:before {content: \"▾\";}#sk-container-id-1 div.sk-estimator input.sk-toggleable__control:checked~label.sk-toggleable__label {background-color: #d4ebff;}#sk-container-id-1 div.sk-label input.sk-toggleable__control:checked~label.sk-toggleable__label {background-color: #d4ebff;}#sk-container-id-1 input.sk-hidden--visually {border: 0;clip: rect(1px 1px 1px 1px);clip: rect(1px, 1px, 1px, 1px);height: 1px;margin: -1px;overflow: hidden;padding: 0;position: absolute;width: 1px;}#sk-container-id-1 div.sk-estimator {font-family: monospace;background-color: #f0f8ff;border: 1px dotted black;border-radius: 0.25em;box-sizing: border-box;margin-bottom: 0.5em;}#sk-container-id-1 div.sk-estimator:hover {background-color: #d4ebff;}#sk-container-id-1 div.sk-parallel-item::after {content: \"\";width: 100%;border-bottom: 1px solid gray;flex-grow: 1;}#sk-container-id-1 div.sk-label:hover label.sk-toggleable__label {background-color: #d4ebff;}#sk-container-id-1 div.sk-serial::before {content: \"\";position: absolute;border-left: 1px solid gray;box-sizing: border-box;top: 0;bottom: 0;left: 50%;z-index: 0;}#sk-container-id-1 div.sk-serial {display: flex;flex-direction: column;align-items: center;background-color: white;padding-right: 0.2em;padding-left: 0.2em;position: relative;}#sk-container-id-1 div.sk-item {position: relative;z-index: 1;}#sk-container-id-1 div.sk-parallel {display: flex;align-items: stretch;justify-content: center;background-color: white;position: relative;}#sk-container-id-1 div.sk-item::before, #sk-container-id-1 div.sk-parallel-item::before {content: \"\";position: absolute;border-left: 1px solid gray;box-sizing: border-box;top: 0;bottom: 0;left: 50%;z-index: -1;}#sk-container-id-1 div.sk-parallel-item {display: flex;flex-direction: column;z-index: 1;position: relative;background-color: white;}#sk-container-id-1 div.sk-parallel-item:first-child::after {align-self: flex-end;width: 50%;}#sk-container-id-1 div.sk-parallel-item:last-child::after {align-self: flex-start;width: 50%;}#sk-container-id-1 div.sk-parallel-item:only-child::after {width: 0;}#sk-container-id-1 div.sk-dashed-wrapped {border: 1px dashed gray;margin: 0 0.4em 0.5em 0.4em;box-sizing: border-box;padding-bottom: 0.4em;background-color: white;}#sk-container-id-1 div.sk-label label {font-family: monospace;font-weight: bold;display: inline-block;line-height: 1.2em;}#sk-container-id-1 div.sk-label-container {text-align: center;}#sk-container-id-1 div.sk-container {/* jupyter's `normalize.less` sets `[hidden] { display: none; }` but bootstrap.min.css set `[hidden] { display: none !important; }` so we also need the `!important` here to be able to override the default hidden behavior on the sphinx rendered scikit-learn.org. See: https://github.com/scikit-learn/scikit-learn/issues/21755 */display: inline-block !important;position: relative;}#sk-container-id-1 div.sk-text-repr-fallback {display: none;}</style><div id=\"sk-container-id-1\" class=\"sk-top-container\"><div class=\"sk-text-repr-fallback\"><pre>RandomForestClassifier()</pre><b>In a Jupyter environment, please rerun this cell to show the HTML representation or trust the notebook. <br />On GitHub, the HTML representation is unable to render, please try loading this page with nbviewer.org.</b></div><div class=\"sk-container\" hidden><div class=\"sk-item\"><div class=\"sk-estimator sk-toggleable\"><input class=\"sk-toggleable__control sk-hidden--visually\" id=\"sk-estimator-id-1\" type=\"checkbox\" checked><label for=\"sk-estimator-id-1\" class=\"sk-toggleable__label sk-toggleable__label-arrow\">RandomForestClassifier</label><div class=\"sk-toggleable__content\"><pre>RandomForestClassifier()</pre></div></div></div></div></div>"
      ],
      "text/plain": [
       "RandomForestClassifier()"
      ]
     },
     "execution_count": 58,
     "metadata": {},
     "output_type": "execute_result"
    }
   ],
   "source": [
    "model.fit(x_train,y_train)"
   ]
  },
  {
   "cell_type": "code",
   "execution_count": 60,
   "id": "23a6d19c-6018-4db7-acee-0bcfce60dbab",
   "metadata": {},
   "outputs": [],
   "source": [
    "# model.predict_proba(x_test)"
   ]
  },
  {
   "cell_type": "code",
   "execution_count": null,
   "id": "659c4286-571f-4fdf-9ea6-0cda4501cb3f",
   "metadata": {},
   "outputs": [],
   "source": []
  },
  {
   "cell_type": "code",
   "execution_count": null,
   "id": "ac086288-bb95-4246-ae82-54b7698d9e00",
   "metadata": {},
   "outputs": [],
   "source": []
  },
  {
   "cell_type": "code",
   "execution_count": null,
   "id": "31579ba2-fdd6-4506-8af1-65b74e569b72",
   "metadata": {},
   "outputs": [],
   "source": []
  },
  {
   "cell_type": "code",
   "execution_count": null,
   "id": "f53c389c-1c44-46af-8cab-468ff72a7c19",
   "metadata": {},
   "outputs": [],
   "source": []
  },
  {
   "cell_type": "code",
   "execution_count": null,
   "id": "e5888645-da6a-4e2c-9b61-1926b6e48797",
   "metadata": {},
   "outputs": [],
   "source": []
  },
  {
   "cell_type": "code",
   "execution_count": 46,
   "id": "1cc192e6",
   "metadata": {
    "scrolled": true
   },
   "outputs": [
    {
     "name": "stderr",
     "output_type": "stream",
     "text": [
      "WARNING:snowflake.snowpark._internal.udf_utils:Got error object of type 'NoneType' has no len() when trying to read default values from function: <class 'snowflake.ml.modeling.metrics.classification._register_confusion_matrix_computer.<locals>.ConfusionMatrixComputer'>. Proceeding without creating optional arguments\n",
      "WARNING:snowflake.snowpark._internal.udf_utils:Got error object of type 'NoneType' has no len() when trying to read default values from function: <class 'snowflake.ml.modeling.metrics.metrics_utils.register_accumulator_udtf.<locals>.Accumulator'>. Proceeding without creating optional arguments\n"
     ]
    },
    {
     "name": "stdout",
     "output_type": "stream",
     "text": [
      "Calculating build time metrics\n",
      "\n",
      "Progress: ██████████████                                                         20.0%\n",
      "Calculating build time metrics\n",
      "\n",
      "Progress: ████████████████████████████                                           40.0%\n"
     ]
    },
    {
     "name": "stderr",
     "output_type": "stream",
     "text": [
      "WARNING:snowflake.snowpark._internal.udf_utils:Got error object of type 'NoneType' has no len() when trying to read default values from function: <class 'snowflake.ml.modeling.metrics.classification._register_multilabel_confusion_matrix_computer.<locals>.MultilabelConfusionMatrixComputer'>. Proceeding without creating optional arguments\n",
      "WARNING:snowflake.snowpark.session:The version of package 'scikit-learn' in the local environment is 1.3.2, which does not fit the criteria for the requirement 'scikit-learn<1.4'. Your UDF might not work when the package version is different between the server and your local environment.\n",
      "WARNING:snowflake.snowpark._internal.udf_utils:Got error object of type 'NoneType' has no len() when trying to read default values from function: <class 'snowflake.ml.modeling.metrics.classification._register_multilabel_confusion_matrix_computer.<locals>.MultilabelConfusionMatrixComputer'>. Proceeding without creating optional arguments\n",
      "WARNING:snowflake.snowpark.session:The version of package 'scikit-learn' in the local environment is 1.3.2, which does not fit the criteria for the requirement 'scikit-learn<1.4'. Your UDF might not work when the package version is different between the server and your local environment.\n",
      "WARNING:snowflake.snowpark._internal.udf_utils:Got error object of type 'NoneType' has no len() when trying to read default values from function: <class 'snowflake.ml.modeling.metrics.classification._register_multilabel_confusion_matrix_computer.<locals>.MultilabelConfusionMatrixComputer'>. Proceeding without creating optional arguments\n",
      "WARNING:snowflake.snowpark.session:The version of package 'scikit-learn' in the local environment is 1.3.2, which does not fit the criteria for the requirement 'scikit-learn<1.4'. Your UDF might not work when the package version is different between the server and your local environment.\n"
     ]
    },
    {
     "name": "stdout",
     "output_type": "stream",
     "text": [
      "Calculating build time metrics\n",
      "\n",
      "Progress: ██████████████████████████████████████████                             60.0%\n",
      "Calculating build time metrics\n",
      "\n",
      "Progress: ████████████████████████████████████████████████████████               80.0%\n",
      "Calculating build time metrics\n",
      "\n",
      "Progress: ██████████████████████████████████████████████████████████████████████ 100.0%\n"
     ]
    },
    {
     "data": {
      "text/plain": [
       "\"Model 'MODEL_8D3FB8A6_A886_4236_9B35_73EB1303C4BF_FDC_TESTMODE02092024' registered successfully.\""
      ]
     },
     "execution_count": 46,
     "metadata": {},
     "output_type": "execute_result"
    }
   ],
   "source": [
    "from fosforml import register_model\n",
    "\n",
    "register_model(\n",
    "  model_obj=pipeline,\n",
    "  session=session,\n",
    "  name=\"Testmode02092024\",\n",
    "  snowflake_df=pred_snow_df,\n",
    "  dataset_name=\"HR_CHURN\",\n",
    "  dataset_source=\"Dataset\",\n",
    "  source=\"Notebook\",\n",
    "  description=\"This is a Snowflake model\",\n",
    "  flavour=\"snowflake\",\n",
    "  model_type=\"classification\",\n",
    "  conda_dependencies=[\"scikit-learn==1.3.2\"]\n",
    ")"
   ]
  },
  {
   "cell_type": "code",
   "execution_count": null,
   "id": "c2efda67-cf02-4fb6-b958-084e8a79c0f0",
   "metadata": {},
   "outputs": [],
   "source": []
  },
  {
   "cell_type": "code",
   "execution_count": null,
   "id": "ea906b84-9728-49df-8348-16c8515aa016",
   "metadata": {},
   "outputs": [],
   "source": []
  },
  {
   "cell_type": "code",
   "execution_count": null,
   "id": "58ede7e3-d30a-4bdf-a71e-d443b73e5bdd",
   "metadata": {},
   "outputs": [],
   "source": []
  },
  {
   "cell_type": "code",
   "execution_count": null,
   "id": "c70abba0-f796-45c6-a3a7-df73fce8f281",
   "metadata": {},
   "outputs": [],
   "source": []
  },
  {
   "cell_type": "code",
   "execution_count": null,
   "id": "e90e0d85-bf9a-411e-8b9e-d6ea725fc312",
   "metadata": {},
   "outputs": [],
   "source": []
  },
  {
   "cell_type": "code",
   "execution_count": 54,
   "id": "5b7351e6",
   "metadata": {},
   "outputs": [],
   "source": [
    "model_obj = model_registry.get_model(model_name=\"TestModel\")"
   ]
  },
  {
   "cell_type": "code",
   "execution_count": 55,
   "id": "00d3bff0",
   "metadata": {},
   "outputs": [],
   "source": [
    "model = model_obj.version(version_name=\"v1\")"
   ]
  },
  {
   "cell_type": "code",
   "execution_count": 58,
   "id": "ed2011c4",
   "metadata": {},
   "outputs": [],
   "source": [
    "inptu_df ,test_df = session.table(\"HR_CHURN\").randomSplit([0.75, 0.25])"
   ]
  },
  {
   "cell_type": "code",
   "execution_count": 59,
   "id": "4fb0ba75",
   "metadata": {},
   "outputs": [],
   "source": [
    "test_df = apply_label_encoding(test_df)"
   ]
  },
  {
   "cell_type": "code",
   "execution_count": 75,
   "id": "0ac7db79",
   "metadata": {},
   "outputs": [],
   "source": [
    "test_df_pandas = test_df.to_pandas()"
   ]
  },
  {
   "cell_type": "code",
   "execution_count": 76,
   "id": "25f9706d",
   "metadata": {},
   "outputs": [
    {
     "name": "stdout",
     "output_type": "stream",
     "text": [
      "-------------------------------------------------------------------------------------------------------------------------------------------------------------------------------------------------------------\n",
      "|\"SALARY\"  |\"DEPARTMENT\"  |\"Unnamed: 0\"  |\"SATISFACTION_LEVEL\"  |\"LAST_EVALUATION\"  |\"NUMBER_PROJECT\"  |\"AVERAGE_MONTLY_HOURS\"  |\"TIME_SPEND_COMPANY\"  |\"WORK_ACCIDENT\"  |\"LEFT\"  |\"PROMOTION_LAST_5YEARS\"  |\n",
      "-------------------------------------------------------------------------------------------------------------------------------------------------------------------------------------------------------------\n",
      "|2.0       |7.0           |1             |0.8                   |0.86               |5                 |262                     |6                     |0                |1       |0                        |\n",
      "|1.0       |7.0           |13            |0.41                  |0.55               |2                 |148                     |3                     |0                |1       |0                        |\n",
      "|1.0       |7.0           |18            |0.45                  |0.51               |2                 |160                     |3                     |1                |1       |1                        |\n",
      "|1.0       |7.0           |19            |0.76                  |0.89               |5                 |262                     |5                     |0                |1       |0                        |\n",
      "|1.0       |7.0           |25            |0.89                  |0.92               |5                 |242                     |5                     |0                |1       |0                        |\n",
      "|1.0       |2.0           |28            |0.41                  |0.46               |2                 |128                     |3                     |0                |1       |0                        |\n",
      "|1.0       |2.0           |30            |0.09                  |0.62               |6                 |294                     |4                     |0                |1       |0                        |\n",
      "|1.0       |3.0           |34            |0.84                  |0.87               |4                 |246                     |6                     |0                |1       |0                        |\n",
      "|1.0       |9.0           |38            |0.11                  |0.89               |6                 |306                     |4                     |0                |1       |0                        |\n",
      "|1.0       |9.0           |42            |0.4                   |0.46               |2                 |127                     |3                     |0                |1       |0                        |\n",
      "-------------------------------------------------------------------------------------------------------------------------------------------------------------------------------------------------------------\n",
      "\n"
     ]
    }
   ],
   "source": [
    "session.write_pandas(test_df_pandas,table_name=\"TEST_DATA_HR\",overwrite=True).show()"
   ]
  },
  {
   "cell_type": "code",
   "execution_count": 80,
   "id": "3bf2d1db",
   "metadata": {},
   "outputs": [],
   "source": [
    "test_df_fetch = session.table(\"TEST_DATA_HR\")"
   ]
  },
  {
   "cell_type": "code",
   "execution_count": 81,
   "id": "0a3c6340",
   "metadata": {},
   "outputs": [
    {
     "name": "stdout",
     "output_type": "stream",
     "text": [
      "-------------------------------------------------------------------------------------------------------------------------------------------------------------------------------------------------------------\n",
      "|\"SALARY\"  |\"DEPARTMENT\"  |\"Unnamed: 0\"  |\"SATISFACTION_LEVEL\"  |\"LAST_EVALUATION\"  |\"NUMBER_PROJECT\"  |\"AVERAGE_MONTLY_HOURS\"  |\"TIME_SPEND_COMPANY\"  |\"WORK_ACCIDENT\"  |\"LEFT\"  |\"PROMOTION_LAST_5YEARS\"  |\n",
      "-------------------------------------------------------------------------------------------------------------------------------------------------------------------------------------------------------------\n",
      "|2.0       |7.0           |1             |0.8                   |0.86               |5                 |262                     |6                     |0                |1       |0                        |\n",
      "|1.0       |7.0           |13            |0.41                  |0.55               |2                 |148                     |3                     |0                |1       |0                        |\n",
      "|1.0       |7.0           |18            |0.45                  |0.51               |2                 |160                     |3                     |1                |1       |1                        |\n",
      "|1.0       |7.0           |19            |0.76                  |0.89               |5                 |262                     |5                     |0                |1       |0                        |\n",
      "|1.0       |7.0           |25            |0.89                  |0.92               |5                 |242                     |5                     |0                |1       |0                        |\n",
      "|1.0       |2.0           |28            |0.41                  |0.46               |2                 |128                     |3                     |0                |1       |0                        |\n",
      "|1.0       |2.0           |30            |0.09                  |0.62               |6                 |294                     |4                     |0                |1       |0                        |\n",
      "|1.0       |3.0           |34            |0.84                  |0.87               |4                 |246                     |6                     |0                |1       |0                        |\n",
      "|1.0       |9.0           |38            |0.11                  |0.89               |6                 |306                     |4                     |0                |1       |0                        |\n",
      "|1.0       |9.0           |42            |0.4                   |0.46               |2                 |127                     |3                     |0                |1       |0                        |\n",
      "-------------------------------------------------------------------------------------------------------------------------------------------------------------------------------------------------------------\n",
      "\n"
     ]
    }
   ],
   "source": [
    "test_df_fetch.show()"
   ]
  },
  {
   "cell_type": "code",
   "execution_count": null,
   "id": "5e14bd13",
   "metadata": {},
   "outputs": [],
   "source": []
  },
  {
   "cell_type": "code",
   "execution_count": null,
   "id": "fa0a6cb7",
   "metadata": {},
   "outputs": [],
   "source": []
  },
  {
   "cell_type": "code",
   "execution_count": null,
   "id": "8243cf00",
   "metadata": {},
   "outputs": [],
   "source": []
  },
  {
   "cell_type": "code",
   "execution_count": 82,
   "id": "2117fc9d",
   "metadata": {},
   "outputs": [
    {
     "data": {
      "text/html": [
       "<div>\n",
       "<style scoped>\n",
       "    .dataframe tbody tr th:only-of-type {\n",
       "        vertical-align: middle;\n",
       "    }\n",
       "\n",
       "    .dataframe tbody tr th {\n",
       "        vertical-align: top;\n",
       "    }\n",
       "\n",
       "    .dataframe thead th {\n",
       "        text-align: right;\n",
       "    }\n",
       "</style>\n",
       "<table border=\"1\" class=\"dataframe\">\n",
       "  <thead>\n",
       "    <tr style=\"text-align: right;\">\n",
       "      <th></th>\n",
       "      <th>SALARY</th>\n",
       "      <th>DEPARTMENT</th>\n",
       "      <th>Unnamed: 0</th>\n",
       "      <th>SATISFACTION_LEVEL</th>\n",
       "      <th>LAST_EVALUATION</th>\n",
       "      <th>NUMBER_PROJECT</th>\n",
       "      <th>AVERAGE_MONTLY_HOURS</th>\n",
       "      <th>TIME_SPEND_COMPANY</th>\n",
       "      <th>WORK_ACCIDENT</th>\n",
       "      <th>LEFT</th>\n",
       "      <th>PROMOTION_LAST_5YEARS</th>\n",
       "      <th>OUTPUT_SALARY</th>\n",
       "    </tr>\n",
       "  </thead>\n",
       "  <tbody>\n",
       "    <tr>\n",
       "      <th>0</th>\n",
       "      <td>1.0</td>\n",
       "      <td>3.0</td>\n",
       "      <td>34</td>\n",
       "      <td>0.84</td>\n",
       "      <td>0.87</td>\n",
       "      <td>4</td>\n",
       "      <td>246</td>\n",
       "      <td>6</td>\n",
       "      <td>0</td>\n",
       "      <td>1</td>\n",
       "      <td>0</td>\n",
       "      <td>1.0</td>\n",
       "    </tr>\n",
       "    <tr>\n",
       "      <th>1</th>\n",
       "      <td>2.0</td>\n",
       "      <td>6.0</td>\n",
       "      <td>66</td>\n",
       "      <td>0.43</td>\n",
       "      <td>0.54</td>\n",
       "      <td>2</td>\n",
       "      <td>153</td>\n",
       "      <td>3</td>\n",
       "      <td>0</td>\n",
       "      <td>1</td>\n",
       "      <td>0</td>\n",
       "      <td>2.0</td>\n",
       "    </tr>\n",
       "    <tr>\n",
       "      <th>2</th>\n",
       "      <td>1.0</td>\n",
       "      <td>7.0</td>\n",
       "      <td>94</td>\n",
       "      <td>0.09</td>\n",
       "      <td>0.83</td>\n",
       "      <td>6</td>\n",
       "      <td>255</td>\n",
       "      <td>4</td>\n",
       "      <td>0</td>\n",
       "      <td>1</td>\n",
       "      <td>0</td>\n",
       "      <td>1.0</td>\n",
       "    </tr>\n",
       "    <tr>\n",
       "      <th>3</th>\n",
       "      <td>1.0</td>\n",
       "      <td>8.0</td>\n",
       "      <td>130</td>\n",
       "      <td>0.10</td>\n",
       "      <td>0.83</td>\n",
       "      <td>6</td>\n",
       "      <td>292</td>\n",
       "      <td>4</td>\n",
       "      <td>0</td>\n",
       "      <td>1</td>\n",
       "      <td>0</td>\n",
       "      <td>1.0</td>\n",
       "    </tr>\n",
       "    <tr>\n",
       "      <th>4</th>\n",
       "      <td>1.0</td>\n",
       "      <td>7.0</td>\n",
       "      <td>163</td>\n",
       "      <td>0.79</td>\n",
       "      <td>0.89</td>\n",
       "      <td>5</td>\n",
       "      <td>239</td>\n",
       "      <td>5</td>\n",
       "      <td>0</td>\n",
       "      <td>1</td>\n",
       "      <td>0</td>\n",
       "      <td>1.0</td>\n",
       "    </tr>\n",
       "    <tr>\n",
       "      <th>...</th>\n",
       "      <td>...</td>\n",
       "      <td>...</td>\n",
       "      <td>...</td>\n",
       "      <td>...</td>\n",
       "      <td>...</td>\n",
       "      <td>...</td>\n",
       "      <td>...</td>\n",
       "      <td>...</td>\n",
       "      <td>...</td>\n",
       "      <td>...</td>\n",
       "      <td>...</td>\n",
       "      <td>...</td>\n",
       "    </tr>\n",
       "    <tr>\n",
       "      <th>7447</th>\n",
       "      <td>2.0</td>\n",
       "      <td>5.0</td>\n",
       "      <td>14821</td>\n",
       "      <td>0.09</td>\n",
       "      <td>0.95</td>\n",
       "      <td>7</td>\n",
       "      <td>256</td>\n",
       "      <td>4</td>\n",
       "      <td>0</td>\n",
       "      <td>1</td>\n",
       "      <td>0</td>\n",
       "      <td>2.0</td>\n",
       "    </tr>\n",
       "    <tr>\n",
       "      <th>7448</th>\n",
       "      <td>2.0</td>\n",
       "      <td>9.0</td>\n",
       "      <td>14859</td>\n",
       "      <td>0.45</td>\n",
       "      <td>0.54</td>\n",
       "      <td>2</td>\n",
       "      <td>129</td>\n",
       "      <td>3</td>\n",
       "      <td>0</td>\n",
       "      <td>1</td>\n",
       "      <td>0</td>\n",
       "      <td>2.0</td>\n",
       "    </tr>\n",
       "    <tr>\n",
       "      <th>7449</th>\n",
       "      <td>1.0</td>\n",
       "      <td>7.0</td>\n",
       "      <td>14888</td>\n",
       "      <td>0.39</td>\n",
       "      <td>0.49</td>\n",
       "      <td>2</td>\n",
       "      <td>142</td>\n",
       "      <td>3</td>\n",
       "      <td>0</td>\n",
       "      <td>1</td>\n",
       "      <td>0</td>\n",
       "      <td>1.0</td>\n",
       "    </tr>\n",
       "    <tr>\n",
       "      <th>7450</th>\n",
       "      <td>2.0</td>\n",
       "      <td>7.0</td>\n",
       "      <td>14945</td>\n",
       "      <td>0.14</td>\n",
       "      <td>0.75</td>\n",
       "      <td>4</td>\n",
       "      <td>277</td>\n",
       "      <td>5</td>\n",
       "      <td>1</td>\n",
       "      <td>1</td>\n",
       "      <td>0</td>\n",
       "      <td>1.0</td>\n",
       "    </tr>\n",
       "    <tr>\n",
       "      <th>7451</th>\n",
       "      <td>2.0</td>\n",
       "      <td>2.0</td>\n",
       "      <td>14974</td>\n",
       "      <td>0.36</td>\n",
       "      <td>0.54</td>\n",
       "      <td>2</td>\n",
       "      <td>153</td>\n",
       "      <td>3</td>\n",
       "      <td>0</td>\n",
       "      <td>1</td>\n",
       "      <td>0</td>\n",
       "      <td>2.0</td>\n",
       "    </tr>\n",
       "  </tbody>\n",
       "</table>\n",
       "<p>7452 rows × 12 columns</p>\n",
       "</div>"
      ],
      "text/plain": [
       "      SALARY  DEPARTMENT  Unnamed: 0  SATISFACTION_LEVEL  LAST_EVALUATION  \\\n",
       "0        1.0         3.0          34                0.84             0.87   \n",
       "1        2.0         6.0          66                0.43             0.54   \n",
       "2        1.0         7.0          94                0.09             0.83   \n",
       "3        1.0         8.0         130                0.10             0.83   \n",
       "4        1.0         7.0         163                0.79             0.89   \n",
       "...      ...         ...         ...                 ...              ...   \n",
       "7447     2.0         5.0       14821                0.09             0.95   \n",
       "7448     2.0         9.0       14859                0.45             0.54   \n",
       "7449     1.0         7.0       14888                0.39             0.49   \n",
       "7450     2.0         7.0       14945                0.14             0.75   \n",
       "7451     2.0         2.0       14974                0.36             0.54   \n",
       "\n",
       "      NUMBER_PROJECT  AVERAGE_MONTLY_HOURS  TIME_SPEND_COMPANY  WORK_ACCIDENT  \\\n",
       "0                  4                   246                   6              0   \n",
       "1                  2                   153                   3              0   \n",
       "2                  6                   255                   4              0   \n",
       "3                  6                   292                   4              0   \n",
       "4                  5                   239                   5              0   \n",
       "...              ...                   ...                 ...            ...   \n",
       "7447               7                   256                   4              0   \n",
       "7448               2                   129                   3              0   \n",
       "7449               2                   142                   3              0   \n",
       "7450               4                   277                   5              1   \n",
       "7451               2                   153                   3              0   \n",
       "\n",
       "      LEFT  PROMOTION_LAST_5YEARS  OUTPUT_SALARY  \n",
       "0        1                      0            1.0  \n",
       "1        1                      0            2.0  \n",
       "2        1                      0            1.0  \n",
       "3        1                      0            1.0  \n",
       "4        1                      0            1.0  \n",
       "...    ...                    ...            ...  \n",
       "7447     1                      0            2.0  \n",
       "7448     1                      0            2.0  \n",
       "7449     1                      0            1.0  \n",
       "7450     1                      0            1.0  \n",
       "7451     1                      0            2.0  \n",
       "\n",
       "[7452 rows x 12 columns]"
      ]
     },
     "execution_count": 82,
     "metadata": {},
     "output_type": "execute_result"
    }
   ],
   "source": [
    "model.run(test_df_fetch, function_name=\"predict\").to_pandas()"
   ]
  },
  {
   "cell_type": "code",
   "execution_count": null,
   "id": "9f604b25",
   "metadata": {},
   "outputs": [],
   "source": []
  },
  {
   "cell_type": "code",
   "execution_count": null,
   "id": "90556e8d",
   "metadata": {},
   "outputs": [],
   "source": []
  },
  {
   "cell_type": "code",
   "execution_count": null,
   "id": "5abae063",
   "metadata": {},
   "outputs": [],
   "source": []
  },
  {
   "cell_type": "code",
   "execution_count": null,
   "id": "0493a161",
   "metadata": {},
   "outputs": [],
   "source": []
  },
  {
   "cell_type": "code",
   "execution_count": null,
   "id": "cf512a51",
   "metadata": {},
   "outputs": [],
   "source": [
    "register_model(\n",
    "  model_obj=pipeline,\n",
    "  session=session,\n",
    "  snowflake_df=pred_snow_df,\n",
    "  name=\"HR_Churn_model\",\n",
    "  description=\"This is a test model\",\n",
    "  flavour=\"snowflake\",\n",
    "  dataset_name=\"Hr_churn\",\n",
    "  datasource_name=\"Hr_churn\",\n",
    "  model_type=\"classification\",\n",
    "  conda_dependencies=[\"scikit-learn==1.3.2\"],\n",
    "  source=\"Notebook\"\n",
    ")"
   ]
  },
  {
   "cell_type": "code",
   "execution_count": null,
   "id": "d151bb10",
   "metadata": {},
   "outputs": [],
   "source": []
  },
  {
   "cell_type": "code",
   "execution_count": null,
   "id": "4255d32d",
   "metadata": {},
   "outputs": [],
   "source": []
  }
 ],
 "metadata": {
  "kernelspec": {
   "display_name": "Python 3 (ipykernel)",
   "language": "python",
   "name": "python3"
  },
  "language_info": {
   "codemirror_mode": {
    "name": "ipython",
    "version": 3
   },
   "file_extension": ".py",
   "mimetype": "text/x-python",
   "name": "python",
   "nbconvert_exporter": "python",
   "pygments_lexer": "ipython3",
   "version": "3.9.19"
  }
 },
 "nbformat": 4,
 "nbformat_minor": 5
}

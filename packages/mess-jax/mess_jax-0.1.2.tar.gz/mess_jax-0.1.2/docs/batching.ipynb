{
  "cells": [
    {
      "cell_type": "markdown",
      "metadata": {
        "id": "heJBXjlM5u4d"
      },
      "source": [
        "# Batching\n",
        "\n",
        "Training neural networks over batches of data is an essential component of efficiently\n",
        "utilising massively parallel hardware accelerators. We can recast a standard electronic\n",
        "minimisation problem as a batched one by using the JAX vectorising map\n",
        "[aka jax.vmap](https://jax.readthedocs.io/en/latest/_autosummary/jax.vmap.html#jax-vmap).\n",
        "By doing this we can parallelise the electronic structure optimisation over multiple\n",
        "conformations of the same molecule.  Just like in training neural networks, this will\n",
        "allow for more efficient utilisation of the accelerator which unlocks\n",
        "exploring the\n",
        "[potential energy surfaces](https://en.wikipedia.org/wiki/Potential_energy_surface)\n",
        "using quantum-mechanical simulations.\n",
        "\n",
        "We demonstrate this idea by calculating the molecular Hydrogen dissociation curve using\n",
        "a batch of hydrogen molecules where the bond length (H-H distance) is varied.  To setup\n",
        "the batch we build a `Hamiltonian` for each bond length and stack the built modules to\n",
        "create a batched-Hamiltonian.  This example uses the `sto-3g` basis set and the simple\n",
        "local density approximation of density functional theory but this batching formulation isn't\n",
        "limited to these choices for how the Hamiltonian is represented.\n",
        "\n",
        ":::{note}\n",
        "The following code cell will install MESS into the Google Colab runtime.\n",
        "Select the 🚀 in the toolbar above to try this out!\n",
        ":::"
      ]
    },
    {
      "cell_type": "code",
      "execution_count": null,
      "metadata": {
        "colab": {
          "base_uri": "https://localhost:8080/"
        },
        "id": "T36emVKN5u4f",
        "outputId": "59faa045-366f-40e5-cb87-835710a24506",
        "tags": [
          "hide-cell"
        ]
      },
      "outputs": [],
      "source": [
        "import sys\n",
        "\n",
        "if 'google.colab' in sys.modules:\n",
        "    !pip install git+https://github.com/valence-labs/mess.git\n"
      ]
    },
    {
      "cell_type": "code",
      "execution_count": 3,
      "metadata": {
        "id": "SO_reL0J5u4f",
        "tags": [
          "hide-cell"
        ]
      },
      "outputs": [],
      "source": [
        "import jax\n",
        "import jax.numpy as jnp\n",
        "import numpy as np\n",
        "import optax\n",
        "import seaborn as sns\n",
        "from tqdm.notebook import tqdm\n",
        "\n",
        "from mess import Hamiltonian, basisset\n",
        "from mess.structure import Structure, nuclear_energy\n",
        "\n",
        "sns.set_theme(style=\"whitegrid\")"
      ]
    },
    {
      "cell_type": "code",
      "execution_count": 4,
      "metadata": {
        "id": "DW8PTjUV5u4g"
      },
      "outputs": [],
      "source": [
        "def h2_hamiltonian(r: float, basis_name: str = \"sto-3g\", xc_method=\"lda\"):\n",
        "    mol = Structure(\n",
        "        atomic_number=np.array([1, 1]),\n",
        "        position=np.array([[0.0, 0.0, 0.0], [r, 0.0, 0.0]]),\n",
        "    )\n",
        "    basis = basisset(mol, basis_name=basis_name)\n",
        "    return Hamiltonian(basis, xc_method=xc_method)\n",
        "\n",
        "\n",
        "num_confs = 64\n",
        "rs = np.linspace(0.6, 10, num_confs)\n",
        "H = [h2_hamiltonian(r) for r in rs]\n",
        "num_orbitals = H[0].basis.num_orbitals\n",
        "H = jax.tree.map(lambda *xs: jnp.stack(xs), *H)"
      ]
    },
    {
      "cell_type": "markdown",
      "metadata": {
        "id": "PCJU9aUZ5u4g"
      },
      "source": [
        "Next is where the magic happens using the vectorising transformation from JAX.  \n",
        "The `energy` function evaluates the energy of a single `Hamiltonian` for the unconstrained\n",
        "trial matrix $Z$.  The `@jax.vmap` converts this simple function to work on the batched\n",
        "Hamiltonian we constructed earlier.  For an extra performance boost we use the\n",
        "[jax.jit](https://jax.readthedocs.io/en/latest/_autosummary/jax.jit.html#jax-jit)\n",
        "function transformation to compile this function."
      ]
    },
    {
      "cell_type": "code",
      "execution_count": 5,
      "metadata": {
        "id": "fathV1mX5u4g"
      },
      "outputs": [],
      "source": [
        "@jax.jit\n",
        "@jax.vmap\n",
        "def energy(Z, H):\n",
        "    C = H.orthonormalise(Z)\n",
        "    P = H.basis.density_matrix(C)\n",
        "    return H(P)"
      ]
    },
    {
      "cell_type": "markdown",
      "metadata": {
        "id": "bBR3UoGl5u4h"
      },
      "source": [
        "Next we setup an initial guess and a gradient descent optimiser\n",
        "([adam](https://optax.readthedocs.io/en/latest/api/optimizers.html#optax.adam) from the optax library)\n",
        "that will solve the batched energy minimisation problem.\n",
        "\n",
        "The initial guess is somewhat arbitrary and there are certainly better methods that one\n",
        "could use for initialisation."
      ]
    },
    {
      "cell_type": "code",
      "execution_count": 6,
      "metadata": {
        "id": "IYxZ_pSW5u4h"
      },
      "outputs": [],
      "source": [
        "Z = jnp.tile(jnp.eye(num_orbitals), (num_confs, 1, 1))\n",
        "optimiser = optax.adam(learning_rate=0.1)\n",
        "state = optimiser.init(Z)"
      ]
    },
    {
      "cell_type": "markdown",
      "metadata": {
        "id": "wlfrg3_E5u4h"
      },
      "source": [
        "Finally we are ready to run the optimisation.  We define a simple loss function that\n",
        "simply takes the sum over the energy for each molecular conformation in the batch.\n",
        "In simple terms, the optimisation will follow the gradient to make this sum as small as\n",
        "possible.  We use the transformation\n",
        "[jax.value_and_grad](https://jax.readthedocs.io/en/latest/_autosummary/jax.value_and_grad.html)\n",
        "as a function decorator on this loss function to evaluate the loss and the corresponding\n",
        "gradient.  Note that the gradient is computed using automatic differentiation."
      ]
    },
    {
      "cell_type": "code",
      "execution_count": 7,
      "metadata": {
        "colab": {
          "base_uri": "https://localhost:8080/",
          "height": 49,
          "referenced_widgets": [
            "5ababf5717a549dc863348050f74c1f6",
            "b5338eaae29d4e1aadbc9a9134ad68d4",
            "54407ee1c19b42f6b657a9efa3cb4865",
            "7b1d2cd1741849d3a893adb1daa2dda3",
            "5751062bfa9e412488c6737d0bb8f0af",
            "e850c38a03494ae0adb59cf9b46ce032",
            "dd786da37bf644eda8fed98a45eb542d",
            "ae081d5f46e24d2399b3605d49395a4e",
            "f4b476b1a61d47a3b522dcbfeef40d71",
            "872620e1c557417da9ae41c71c4ac591",
            "60b9c5965cba421e931e9e6398600c3c"
          ]
        },
        "id": "gHrwOzIk5u4h",
        "outputId": "4632c7b9-f141-455d-ba70-eeefd9d2795b"
      },
      "outputs": [
        {
          "data": {
            "application/vnd.jupyter.widget-view+json": {
              "model_id": "5ababf5717a549dc863348050f74c1f6",
              "version_major": 2,
              "version_minor": 0
            },
            "text/plain": [
              "  0%|          | 0/128 [00:00<?, ?it/s]"
            ]
          },
          "metadata": {},
          "output_type": "display_data"
        }
      ],
      "source": [
        "@jax.value_and_grad\n",
        "def loss_fn(z, h):\n",
        "    return jnp.sum(energy(z, h))\n",
        "\n",
        "\n",
        "history = []\n",
        "\n",
        "for _ in (bar := tqdm(range(128))):\n",
        "    loss, grads = loss_fn(Z, H)\n",
        "    updates, state = optimiser.update(grads, state)\n",
        "    Z = optax.apply_updates(Z, updates)\n",
        "    history.append(loss)\n",
        "    bar.set_description(f\"Loss {loss:0.06f}\")"
      ]
    },
    {
      "cell_type": "markdown",
      "metadata": {
        "id": "qSNVTsiE5u4i"
      },
      "source": [
        "As sanity check we plot the loss to see if there is any funny business to investigate"
      ]
    },
    {
      "cell_type": "code",
      "execution_count": 8,
      "metadata": {
        "colab": {
          "base_uri": "https://localhost:8080/",
          "height": 458
        },
        "id": "59E1Oq1S5u4i",
        "outputId": "491f4824-dced-4b1b-8b99-2fa7973eb2b9"
      },
      "outputs": [
        {
          "data": {
            "image/png": "[encoded data removed]",
            "text/plain": [
              "<Figure size 640x480 with 1 Axes>"
            ]
          },
          "metadata": {},
          "output_type": "display_data"
        }
      ],
      "source": [
        "history = jnp.stack(history)\n",
        "ax = sns.lineplot(history)\n",
        "ax.set_xlabel(\"Iteration\")\n",
        "ax.set_ylabel(\"Batched Loss (Hartree)\");"
      ]
    },
    {
      "cell_type": "markdown",
      "metadata": {
        "id": "fR9Wupzf5u4i"
      },
      "source": [
        "The loss is decreasing so looks good!\n",
        "\n",
        "Finally we can evaluate the total energy by once again using our now good friend the\n",
        "vectorising map to compute the `nuclear_energy` for each conformation.  This is added\n",
        "to the electronic energy we minimised above.  Finally we can plot the dissociation\n",
        "curve which looks like something you can find in your nearest chemistry textbook."
      ]
    },
    {
      "cell_type": "code",
      "execution_count": 9,
      "metadata": {
        "colab": {
          "base_uri": "https://localhost:8080/",
          "height": 462
        },
        "id": "z5iXpTTI5u4i",
        "outputId": "16d150cd-69dd-40f1-bde4-2c1490ab33ef"
      },
      "outputs": [
        {
          "data": {
            "image/png": "[encoded data removed]",
            "text/plain": [
              "<Figure size 640x480 with 1 Axes>"
            ]
          },
          "metadata": {},
          "output_type": "display_data"
        }
      ],
      "source": [
        "E_n = jax.vmap(nuclear_energy)(H.basis.structure)\n",
        "E_total = energy(Z, H) + E_n\n",
        "\n",
        "ax = sns.lineplot(x=rs, y=E_total)\n",
        "ax.set_xlabel(\"$H_2$ bond length (a.u.)\")\n",
        "ax.set_ylabel(\"Total Energy (Hartree)\");"
      ]
    }
  ],
  "metadata": {
    "accelerator": "GPU",
    "colab": {
      "gpuType": "A100",
      "machine_shape": "hm",
      "provenance": []
    },
    "kernelspec": {
      "display_name": "Python 3",
      "name": "python3"
    },
    "language_info": {
      "codemirror_mode": {
        "name": "ipython",
        "version": 3
      },
      "file_extension": ".py",
      "mimetype": "text/x-python",
      "name": "python",
      "nbconvert_exporter": "python",
      "pygments_lexer": "ipython3",
      "version": "3.10.13"
    },
    "widgets": {
      "application/vnd.jupyter.widget-state+json": {
        "54407ee1c19b42f6b657a9efa3cb4865": {
          "model_module": "@jupyter-widgets/controls",
          "model_module_version": "1.5.0",
          "model_name": "FloatProgressModel",
          "state": {
            "_dom_classes": [],
            "_model_module": "@jupyter-widgets/controls",
            "_model_module_version": "1.5.0",
            "_model_name": "FloatProgressModel",
            "_view_count": null,
            "_view_module": "@jupyter-widgets/controls",
            "_view_module_version": "1.5.0",
            "_view_name": "ProgressView",
            "bar_style": "success",
            "description": "",
            "description_tooltip": null,
            "layout": "IPY_MODEL_ae081d5f46e24d2399b3605d49395a4e",
            "max": 128,
            "min": 0,
            "orientation": "horizontal",
            "style": "IPY_MODEL_f4b476b1a61d47a3b522dcbfeef40d71",
            "value": 128
          }
        },
        "5751062bfa9e412488c6737d0bb8f0af": {
          "model_module": "@jupyter-widgets/base",
          "model_module_version": "1.2.0",
          "model_name": "LayoutModel",
          "state": {
            "_model_module": "@jupyter-widgets/base",
            "_model_module_version": "1.2.0",
            "_model_name": "LayoutModel",
            "_view_count": null,
            "_view_module": "@jupyter-widgets/base",
            "_view_module_version": "1.2.0",
            "_view_name": "LayoutView",
            "align_content": null,
            "align_items": null,
            "align_self": null,
            "border": null,
            "bottom": null,
            "display": null,
            "flex": null,
            "flex_flow": null,
            "grid_area": null,
            "grid_auto_columns": null,
            "grid_auto_flow": null,
            "grid_auto_rows": null,
            "grid_column": null,
            "grid_gap": null,
            "grid_row": null,
            "grid_template_areas": null,
            "grid_template_columns": null,
            "grid_template_rows": null,
            "height": null,
            "justify_content": null,
            "justify_items": null,
            "left": null,
            "margin": null,
            "max_height": null,
            "max_width": null,
            "min_height": null,
            "min_width": null,
            "object_fit": null,
            "object_position": null,
            "order": null,
            "overflow": null,
            "overflow_x": null,
            "overflow_y": null,
            "padding": null,
            "right": null,
            "top": null,
            "visibility": null,
            "width": null
          }
        },
        "5ababf5717a549dc863348050f74c1f6": {
          "model_module": "@jupyter-widgets/controls",
          "model_module_version": "1.5.0",
          "model_name": "HBoxModel",
          "state": {
            "_dom_classes": [],
            "_model_module": "@jupyter-widgets/controls",
            "_model_module_version": "1.5.0",
            "_model_name": "HBoxModel",
            "_view_count": null,
            "_view_module": "@jupyter-widgets/controls",
            "_view_module_version": "1.5.0",
            "_view_name": "HBoxView",
            "box_style": "",
            "children": [
              "IPY_MODEL_b5338eaae29d4e1aadbc9a9134ad68d4",
              "IPY_MODEL_54407ee1c19b42f6b657a9efa3cb4865",
              "IPY_MODEL_7b1d2cd1741849d3a893adb1daa2dda3"
            ],
            "layout": "IPY_MODEL_5751062bfa9e412488c6737d0bb8f0af"
          }
        },
        "60b9c5965cba421e931e9e6398600c3c": {
          "model_module": "@jupyter-widgets/controls",
          "model_module_version": "1.5.0",
          "model_name": "DescriptionStyleModel",
          "state": {
            "_model_module": "@jupyter-widgets/controls",
            "_model_module_version": "1.5.0",
            "_model_name": "DescriptionStyleModel",
            "_view_count": null,
            "_view_module": "@jupyter-widgets/base",
            "_view_module_version": "1.2.0",
            "_view_name": "StyleView",
            "description_width": ""
          }
        },
        "7b1d2cd1741849d3a893adb1daa2dda3": {
          "model_module": "@jupyter-widgets/controls",
          "model_module_version": "1.5.0",
          "model_name": "HTMLModel",
          "state": {
            "_dom_classes": [],
            "_model_module": "@jupyter-widgets/controls",
            "_model_module_version": "1.5.0",
            "_model_name": "HTMLModel",
            "_view_count": null,
            "_view_module": "@jupyter-widgets/controls",
            "_view_module_version": "1.5.0",
            "_view_name": "HTMLView",
            "description": "",
            "description_tooltip": null,
            "layout": "IPY_MODEL_872620e1c557417da9ae41c71c4ac591",
            "placeholder": "​",
            "style": "IPY_MODEL_60b9c5965cba421e931e9e6398600c3c",
            "value": " 128/128 [00:03&lt;00:00, 76.15it/s]"
          }
        },
        "872620e1c557417da9ae41c71c4ac591": {
          "model_module": "@jupyter-widgets/base",
          "model_module_version": "1.2.0",
          "model_name": "LayoutModel",
          "state": {
            "_model_module": "@jupyter-widgets/base",
            "_model_module_version": "1.2.0",
            "_model_name": "LayoutModel",
            "_view_count": null,
            "_view_module": "@jupyter-widgets/base",
            "_view_module_version": "1.2.0",
            "_view_name": "LayoutView",
            "align_content": null,
            "align_items": null,
            "align_self": null,
            "border": null,
            "bottom": null,
            "display": null,
            "flex": null,
            "flex_flow": null,
            "grid_area": null,
            "grid_auto_columns": null,
            "grid_auto_flow": null,
            "grid_auto_rows": null,
            "grid_column": null,
            "grid_gap": null,
            "grid_row": null,
            "grid_template_areas": null,
            "grid_template_columns": null,
            "grid_template_rows": null,
            "height": null,
            "justify_content": null,
            "justify_items": null,
            "left": null,
            "margin": null,
            "max_height": null,
            "max_width": null,
            "min_height": null,
            "min_width": null,
            "object_fit": null,
            "object_position": null,
            "order": null,
            "overflow": null,
            "overflow_x": null,
            "overflow_y": null,
            "padding": null,
            "right": null,
            "top": null,
            "visibility": null,
            "width": null
          }
        },
        "ae081d5f46e24d2399b3605d49395a4e": {
          "model_module": "@jupyter-widgets/base",
          "model_module_version": "1.2.0",
          "model_name": "LayoutModel",
          "state": {
            "_model_module": "@jupyter-widgets/base",
            "_model_module_version": "1.2.0",
            "_model_name": "LayoutModel",
            "_view_count": null,
            "_view_module": "@jupyter-widgets/base",
            "_view_module_version": "1.2.0",
            "_view_name": "LayoutView",
            "align_content": null,
            "align_items": null,
            "align_self": null,
            "border": null,
            "bottom": null,
            "display": null,
            "flex": null,
            "flex_flow": null,
            "grid_area": null,
            "grid_auto_columns": null,
            "grid_auto_flow": null,
            "grid_auto_rows": null,
            "grid_column": null,
            "grid_gap": null,
            "grid_row": null,
            "grid_template_areas": null,
            "grid_template_columns": null,
            "grid_template_rows": null,
            "height": null,
            "justify_content": null,
            "justify_items": null,
            "left": null,
            "margin": null,
            "max_height": null,
            "max_width": null,
            "min_height": null,
            "min_width": null,
            "object_fit": null,
            "object_position": null,
            "order": null,
            "overflow": null,
            "overflow_x": null,
            "overflow_y": null,
            "padding": null,
            "right": null,
            "top": null,
            "visibility": null,
            "width": null
          }
        },
        "b5338eaae29d4e1aadbc9a9134ad68d4": {
          "model_module": "@jupyter-widgets/controls",
          "model_module_version": "1.5.0",
          "model_name": "HTMLModel",
          "state": {
            "_dom_classes": [],
            "_model_module": "@jupyter-widgets/controls",
            "_model_module_version": "1.5.0",
            "_model_name": "HTMLModel",
            "_view_count": null,
            "_view_module": "@jupyter-widgets/controls",
            "_view_module_version": "1.5.0",
            "_view_name": "HTMLView",
            "description": "",
            "description_tooltip": null,
            "layout": "IPY_MODEL_e850c38a03494ae0adb59cf9b46ce032",
            "placeholder": "​",
            "style": "IPY_MODEL_dd786da37bf644eda8fed98a45eb542d",
            "value": "Loss -77.213536: 100%"
          }
        },
        "dd786da37bf644eda8fed98a45eb542d": {
          "model_module": "@jupyter-widgets/controls",
          "model_module_version": "1.5.0",
          "model_name": "DescriptionStyleModel",
          "state": {
            "_model_module": "@jupyter-widgets/controls",
            "_model_module_version": "1.5.0",
            "_model_name": "DescriptionStyleModel",
            "_view_count": null,
            "_view_module": "@jupyter-widgets/base",
            "_view_module_version": "1.2.0",
            "_view_name": "StyleView",
            "description_width": ""
          }
        },
        "e850c38a03494ae0adb59cf9b46ce032": {
          "model_module": "@jupyter-widgets/base",
          "model_module_version": "1.2.0",
          "model_name": "LayoutModel",
          "state": {
            "_model_module": "@jupyter-widgets/base",
            "_model_module_version": "1.2.0",
            "_model_name": "LayoutModel",
            "_view_count": null,
            "_view_module": "@jupyter-widgets/base",
            "_view_module_version": "1.2.0",
            "_view_name": "LayoutView",
            "align_content": null,
            "align_items": null,
            "align_self": null,
            "border": null,
            "bottom": null,
            "display": null,
            "flex": null,
            "flex_flow": null,
            "grid_area": null,
            "grid_auto_columns": null,
            "grid_auto_flow": null,
            "grid_auto_rows": null,
            "grid_column": null,
            "grid_gap": null,
            "grid_row": null,
            "grid_template_areas": null,
            "grid_template_columns": null,
            "grid_template_rows": null,
            "height": null,
            "justify_content": null,
            "justify_items": null,
            "left": null,
            "margin": null,
            "max_height": null,
            "max_width": null,
            "min_height": null,
            "min_width": null,
            "object_fit": null,
            "object_position": null,
            "order": null,
            "overflow": null,
            "overflow_x": null,
            "overflow_y": null,
            "padding": null,
            "right": null,
            "top": null,
            "visibility": null,
            "width": null
          }
        },
        "f4b476b1a61d47a3b522dcbfeef40d71": {
          "model_module": "@jupyter-widgets/controls",
          "model_module_version": "1.5.0",
          "model_name": "ProgressStyleModel",
          "state": {
            "_model_module": "@jupyter-widgets/controls",
            "_model_module_version": "1.5.0",
            "_model_name": "ProgressStyleModel",
            "_view_count": null,
            "_view_module": "@jupyter-widgets/base",
            "_view_module_version": "1.2.0",
            "_view_name": "StyleView",
            "bar_color": null,
            "description_width": ""
          }
        }
      }
    }
  },
  "nbformat": 4,
  "nbformat_minor": 0
}

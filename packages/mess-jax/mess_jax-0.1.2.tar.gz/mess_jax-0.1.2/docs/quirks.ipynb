{
 "cells": [
  {
   "cell_type": "markdown",
   "metadata": {},
   "source": [
    "# Quirks and Features to be Aware of \n",
    "\n",
    "This project uses \n",
    "[JAX](https://jax.readthedocs.io/en/latest/) to support both rapid\n",
    "prototyping and efficient hardware accelerated simulations.  \n",
    "\n",
    "MESS makes use of a number of JAX ecosystem projects:\n",
    "* [equinox](https://docs.kidger.site/equinox/)\n",
    "* [optax](https://optax.readthedocs.io/en/latest/)\n",
    "* [optimistix](https://docs.kidger.site/optimistix/)\n",
    "\n",
    "These projects were initially designed with neural networks in mind but we have found\n",
    "their abstractions are easily adapted and reused in quantum chemistry simulations. \n",
    "\n",
    "## JIT Compilation Cache\n",
    "\n",
    "We use\n",
    "[Just In Time compilation](https://jax.readthedocs.io/en/latest/jax-101/02-jitting.html)\n",
    "from JAX throughout MESS.  JAX supports a persistent compilation cache which can allow\n",
    "MESS to reuse previously compiled programs to save a bit of simulation startup time.\n",
    "By default the cache will be stored in `~/.cache/mess` and can be customised\n",
    "by setting the `MESS_CACHE_DIR` environment variable.\n",
    "\n",
    "\n",
    "## Floating Point Precision\n",
    "\n",
    "Standalone [JAX uses single-precision](https://jax.readthedocs.io/en/latest/notebooks/Common_Gotchas_in_JAX.html#double-64bit-precision) floating point numbers by default as opposed to the widely\n",
    "used double-precision format used in scientific simulations. MESS will default to using\n",
    "double-precision and this behaviour can be customised in a number of ways:  \n",
    "\n",
    "* setting the environment variable `MESS_ENABLE_FP64=0` before starting the main \n",
    "python process\n",
    "* using the context manager [jax.experimental.disable_x64](https://jax.readthedocs.io/en/latest/_autosummary/jax.experimental.disable_x64.html)\n",
    "\n",
    "These methods can be used to investigate mixed-precision electronic structure \n",
    "simulations."
   ]
  }
 ],
 "metadata": {
  "kernelspec": {
   "display_name": "jax",
   "language": "python",
   "name": "python3"
  },
  "language_info": {
   "codemirror_mode": {
    "name": "ipython",
    "version": 3
   },
   "file_extension": ".py",
   "mimetype": "text/x-python",
   "name": "python",
   "nbconvert_exporter": "python",
   "pygments_lexer": "ipython3",
   "version": "3.10.13"
  }
 },
 "nbformat": 4,
 "nbformat_minor": 2
}
